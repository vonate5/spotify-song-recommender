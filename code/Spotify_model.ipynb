{
 "cells": [
  {
   "cell_type": "markdown",
   "id": "2b3d9b3c",
   "metadata": {},
   "source": [
    "# PROJECT SPECIFICATIONS\n",
    "\n",
    "Create a song recommender based on the features of the songs in Spotify.\n",
    "\n",
    "Deppending on that, the model will recommend you back a similar song to you\n",
    "\n",
    "Enjoy it!"
   ]
  },
  {
   "cell_type": "markdown",
   "id": "3f2757a1",
   "metadata": {},
   "source": [
    "# TOP100 PLAYLIST"
   ]
  },
  {
   "cell_type": "markdown",
   "id": "880c2cd3",
   "metadata": {},
   "source": [
    "## From a URL create a Dataframe"
   ]
  },
  {
   "cell_type": "code",
   "execution_count": 1,
   "id": "444745d6",
   "metadata": {},
   "outputs": [],
   "source": [
    "import pandas as pd\n",
    "from bs4 import BeautifulSoup\n",
    "import re\n",
    "import requests\n",
    "from tqdm.notebook import tqdm\n",
    "import random"
   ]
  },
  {
   "cell_type": "code",
   "execution_count": 2,
   "id": "627f3588",
   "metadata": {},
   "outputs": [],
   "source": [
    "url = \"https://www.billboard.com/charts/hot-100/\""
   ]
  },
  {
   "cell_type": "code",
   "execution_count": 3,
   "id": "b0af26b7",
   "metadata": {},
   "outputs": [],
   "source": [
    "top100 = requests.get(url)"
   ]
  },
  {
   "cell_type": "code",
   "execution_count": 4,
   "id": "ebc7cd9b",
   "metadata": {},
   "outputs": [
    {
     "data": {
      "text/plain": [
       "200"
      ]
     },
     "execution_count": 4,
     "metadata": {},
     "output_type": "execute_result"
    }
   ],
   "source": [
    "top100.status_code"
   ]
  },
  {
   "cell_type": "markdown",
   "id": "6f45ba7f",
   "metadata": {},
   "source": [
    "## Search for the songs in the URL"
   ]
  },
  {
   "cell_type": "code",
   "execution_count": 5,
   "id": "7eeefbf1",
   "metadata": {},
   "outputs": [],
   "source": [
    "soup=BeautifulSoup(top100.content,'html.parser')"
   ]
  },
  {
   "cell_type": "code",
   "execution_count": 6,
   "id": "1df54b59",
   "metadata": {},
   "outputs": [
    {
     "data": {
      "text/plain": [
       "'\\nEasy On Me\\n'"
      ]
     },
     "execution_count": 6,
     "metadata": {},
     "output_type": "execute_result"
    }
   ],
   "source": [
    "soup.select('h3.c-title.a-no-trucate')[0].text"
   ]
  },
  {
   "cell_type": "code",
   "execution_count": 7,
   "id": "2119faf1",
   "metadata": {},
   "outputs": [],
   "source": [
    "top100=len(soup.select('h3.c-title.a-no-trucate'))"
   ]
  },
  {
   "cell_type": "code",
   "execution_count": 8,
   "id": "65e66515",
   "metadata": {},
   "outputs": [
    {
     "data": {
      "text/plain": [
       "100"
      ]
     },
     "execution_count": 8,
     "metadata": {},
     "output_type": "execute_result"
    }
   ],
   "source": [
    "top100"
   ]
  },
  {
   "cell_type": "code",
   "execution_count": 9,
   "id": "81fd0bf2",
   "metadata": {},
   "outputs": [],
   "source": [
    "index = soup.select('h3.c-title.a-no-trucate')[0].get_text(strip=True)"
   ]
  },
  {
   "cell_type": "code",
   "execution_count": 10,
   "id": "85116bdc",
   "metadata": {},
   "outputs": [
    {
     "data": {
      "text/plain": [
       "'Easy On Me'"
      ]
     },
     "execution_count": 10,
     "metadata": {},
     "output_type": "execute_result"
    }
   ],
   "source": [
    "index"
   ]
  },
  {
   "cell_type": "markdown",
   "id": "d2eda3d3",
   "metadata": {},
   "source": [
    "## Search for the artists in the URL"
   ]
  },
  {
   "cell_type": "code",
   "execution_count": 11,
   "id": "d534481b",
   "metadata": {},
   "outputs": [
    {
     "data": {
      "text/plain": [
       "'Adele'"
      ]
     },
     "execution_count": 11,
     "metadata": {},
     "output_type": "execute_result"
    }
   ],
   "source": [
    "soup.select('span.c-label.a-no-trucate')[0].get_text(strip=True)"
   ]
  },
  {
   "cell_type": "code",
   "execution_count": 12,
   "id": "e80758eb",
   "metadata": {},
   "outputs": [
    {
     "data": {
      "text/plain": [
       "'The Weeknd'"
      ]
     },
     "execution_count": 12,
     "metadata": {},
     "output_type": "execute_result"
    }
   ],
   "source": [
    "soup.select('span.c-label.a-no-trucate')[99].get_text(strip=True)"
   ]
  },
  {
   "cell_type": "markdown",
   "id": "1675510f",
   "metadata": {},
   "source": [
    "## Create a DataFrame"
   ]
  },
  {
   "cell_type": "code",
   "execution_count": 13,
   "id": "513ca28d",
   "metadata": {},
   "outputs": [],
   "source": [
    "title = []\n",
    "artist = []"
   ]
  },
  {
   "cell_type": "code",
   "execution_count": 14,
   "id": "52027921",
   "metadata": {},
   "outputs": [
    {
     "data": {
      "application/vnd.jupyter.widget-view+json": {
       "model_id": "380965e873a14dd7adae21a610ba6bc4",
       "version_major": 2,
       "version_minor": 0
      },
      "text/plain": [
       "  0%|          | 0/100 [00:00<?, ?it/s]"
      ]
     },
     "metadata": {},
     "output_type": "display_data"
    }
   ],
   "source": [
    "for i in tqdm(range(top100)):\n",
    "    title.append(soup.select('h3.c-title.a-no-trucate')[i].get_text(strip=True))\n",
    "    artist.append(soup.select('span.c-label.a-no-trucate')[i].get_text(strip=True))"
   ]
  },
  {
   "cell_type": "code",
   "execution_count": 15,
   "id": "325b53c6",
   "metadata": {},
   "outputs": [],
   "source": [
    "songs_top100=pd.DataFrame({'Title':title,'Artist':artist})"
   ]
  },
  {
   "cell_type": "code",
   "execution_count": 16,
   "id": "51971a1a",
   "metadata": {},
   "outputs": [
    {
     "data": {
      "text/html": [
       "<div>\n",
       "<style scoped>\n",
       "    .dataframe tbody tr th:only-of-type {\n",
       "        vertical-align: middle;\n",
       "    }\n",
       "\n",
       "    .dataframe tbody tr th {\n",
       "        vertical-align: top;\n",
       "    }\n",
       "\n",
       "    .dataframe thead th {\n",
       "        text-align: right;\n",
       "    }\n",
       "</style>\n",
       "<table border=\"1\" class=\"dataframe\">\n",
       "  <thead>\n",
       "    <tr style=\"text-align: right;\">\n",
       "      <th></th>\n",
       "      <th>Title</th>\n",
       "      <th>Artist</th>\n",
       "    </tr>\n",
       "  </thead>\n",
       "  <tbody>\n",
       "    <tr>\n",
       "      <th>0</th>\n",
       "      <td>Easy On Me</td>\n",
       "      <td>Adele</td>\n",
       "    </tr>\n",
       "    <tr>\n",
       "      <th>1</th>\n",
       "      <td>Stay</td>\n",
       "      <td>The Kid LAROI &amp; Justin Bieber</td>\n",
       "    </tr>\n",
       "    <tr>\n",
       "      <th>2</th>\n",
       "      <td>Industry Baby</td>\n",
       "      <td>Lil Nas X &amp; Jack Harlow</td>\n",
       "    </tr>\n",
       "    <tr>\n",
       "      <th>3</th>\n",
       "      <td>All Too Well (Taylor's Version)</td>\n",
       "      <td>Taylor Swift</td>\n",
       "    </tr>\n",
       "    <tr>\n",
       "      <th>4</th>\n",
       "      <td>Oh My God</td>\n",
       "      <td>Adele</td>\n",
       "    </tr>\n",
       "    <tr>\n",
       "      <th>...</th>\n",
       "      <td>...</td>\n",
       "      <td>...</td>\n",
       "    </tr>\n",
       "    <tr>\n",
       "      <th>95</th>\n",
       "      <td>Too Easy</td>\n",
       "      <td>Gunna &amp; Future</td>\n",
       "    </tr>\n",
       "    <tr>\n",
       "      <th>96</th>\n",
       "      <td>Escape Plan</td>\n",
       "      <td>Travis Scott</td>\n",
       "    </tr>\n",
       "    <tr>\n",
       "      <th>97</th>\n",
       "      <td>Who's In Your Head</td>\n",
       "      <td>Jonas Brothers</td>\n",
       "    </tr>\n",
       "    <tr>\n",
       "      <th>98</th>\n",
       "      <td>Jugaste y Sufri</td>\n",
       "      <td>Eslabon Armado Featuring DannyLux</td>\n",
       "    </tr>\n",
       "    <tr>\n",
       "      <th>99</th>\n",
       "      <td>Take My Breath</td>\n",
       "      <td>The Weeknd</td>\n",
       "    </tr>\n",
       "  </tbody>\n",
       "</table>\n",
       "<p>100 rows × 2 columns</p>\n",
       "</div>"
      ],
      "text/plain": [
       "                              Title                             Artist\n",
       "0                        Easy On Me                              Adele\n",
       "1                              Stay      The Kid LAROI & Justin Bieber\n",
       "2                     Industry Baby            Lil Nas X & Jack Harlow\n",
       "3   All Too Well (Taylor's Version)                       Taylor Swift\n",
       "4                         Oh My God                              Adele\n",
       "..                              ...                                ...\n",
       "95                         Too Easy                     Gunna & Future\n",
       "96                      Escape Plan                       Travis Scott\n",
       "97               Who's In Your Head                     Jonas Brothers\n",
       "98                  Jugaste y Sufri  Eslabon Armado Featuring DannyLux\n",
       "99                   Take My Breath                         The Weeknd\n",
       "\n",
       "[100 rows x 2 columns]"
      ]
     },
     "execution_count": 16,
     "metadata": {},
     "output_type": "execute_result"
    }
   ],
   "source": [
    "songs_top100"
   ]
  },
  {
   "cell_type": "code",
   "execution_count": 17,
   "id": "d24c733a",
   "metadata": {},
   "outputs": [
    {
     "data": {
      "text/html": [
       "<div>\n",
       "<style scoped>\n",
       "    .dataframe tbody tr th:only-of-type {\n",
       "        vertical-align: middle;\n",
       "    }\n",
       "\n",
       "    .dataframe tbody tr th {\n",
       "        vertical-align: top;\n",
       "    }\n",
       "\n",
       "    .dataframe thead th {\n",
       "        text-align: right;\n",
       "    }\n",
       "</style>\n",
       "<table border=\"1\" class=\"dataframe\">\n",
       "  <thead>\n",
       "    <tr style=\"text-align: right;\">\n",
       "      <th></th>\n",
       "      <th>Title</th>\n",
       "      <th>Artist</th>\n",
       "    </tr>\n",
       "  </thead>\n",
       "  <tbody>\n",
       "    <tr>\n",
       "      <th>92</th>\n",
       "      <td>Volvi</td>\n",
       "      <td>Aventura x Bad Bunny</td>\n",
       "    </tr>\n",
       "    <tr>\n",
       "      <th>93</th>\n",
       "      <td>Maybach</td>\n",
       "      <td>42 Dugg Featuring Future</td>\n",
       "    </tr>\n",
       "    <tr>\n",
       "      <th>94</th>\n",
       "      <td>Baddest</td>\n",
       "      <td>Yung Bleu, Chris Brown &amp; 2 Chainz</td>\n",
       "    </tr>\n",
       "    <tr>\n",
       "      <th>95</th>\n",
       "      <td>Too Easy</td>\n",
       "      <td>Gunna &amp; Future</td>\n",
       "    </tr>\n",
       "    <tr>\n",
       "      <th>96</th>\n",
       "      <td>Escape Plan</td>\n",
       "      <td>Travis Scott</td>\n",
       "    </tr>\n",
       "    <tr>\n",
       "      <th>97</th>\n",
       "      <td>Who's In Your Head</td>\n",
       "      <td>Jonas Brothers</td>\n",
       "    </tr>\n",
       "    <tr>\n",
       "      <th>98</th>\n",
       "      <td>Jugaste y Sufri</td>\n",
       "      <td>Eslabon Armado Featuring DannyLux</td>\n",
       "    </tr>\n",
       "    <tr>\n",
       "      <th>99</th>\n",
       "      <td>Take My Breath</td>\n",
       "      <td>The Weeknd</td>\n",
       "    </tr>\n",
       "  </tbody>\n",
       "</table>\n",
       "</div>"
      ],
      "text/plain": [
       "                 Title                             Artist\n",
       "92               Volvi               Aventura x Bad Bunny\n",
       "93             Maybach           42 Dugg Featuring Future\n",
       "94             Baddest  Yung Bleu, Chris Brown & 2 Chainz\n",
       "95            Too Easy                     Gunna & Future\n",
       "96         Escape Plan                       Travis Scott\n",
       "97  Who's In Your Head                     Jonas Brothers\n",
       "98     Jugaste y Sufri  Eslabon Armado Featuring DannyLux\n",
       "99      Take My Breath                         The Weeknd"
      ]
     },
     "execution_count": 17,
     "metadata": {},
     "output_type": "execute_result"
    }
   ],
   "source": [
    "songs_top100[92:]"
   ]
  },
  {
   "cell_type": "markdown",
   "id": "cf9e7d25",
   "metadata": {},
   "source": [
    "## Create a prototype where:\n",
    "- The user can ask for one song and see if its in the playlist Top hot 100 songs\n",
    "- Returns a new song if the first one is in the playlist"
   ]
  },
  {
   "cell_type": "code",
   "execution_count": 18,
   "id": "55c9909e",
   "metadata": {},
   "outputs": [
    {
     "name": "stdout",
     "output_type": "stream",
     "text": [
      "Give us a song name to get a recommendation!: stay\n"
     ]
    }
   ],
   "source": [
    "song= input(\"Give us a song name to get a recommendation!: \")"
   ]
  },
  {
   "cell_type": "code",
   "execution_count": 19,
   "id": "203da336",
   "metadata": {},
   "outputs": [],
   "source": [
    "check = songs_top100[songs_top100['Title'].str.lower().str.replace(\" \",\" \").str.contains(song)]"
   ]
  },
  {
   "cell_type": "code",
   "execution_count": 20,
   "id": "448da2f6",
   "metadata": {},
   "outputs": [],
   "source": [
    "index = check.index.tolist()"
   ]
  },
  {
   "cell_type": "code",
   "execution_count": 21,
   "id": "9cde5981",
   "metadata": {},
   "outputs": [],
   "source": [
    "def recommendation_engine():\n",
    "    recommendation_engine()"
   ]
  },
  {
   "cell_type": "code",
   "execution_count": 22,
   "id": "74505150",
   "metadata": {},
   "outputs": [
    {
     "name": "stdout",
     "output_type": "stream",
     "text": [
      "Give us a song name to get a recommendation!: stay\n",
      "Do you mean Stay by The Kid LAROI & Justin Bieber?yes\n",
      "Nice! This is a hot song! You might also like Rockin' Around The Christmas Tree by Brenda Lee\n"
     ]
    }
   ],
   "source": [
    "song= input(\"Give us a song name to get a recommendation!: \")\n",
    "\n",
    "check = songs_top100[songs_top100['Title'].str.lower().str.replace(\" \",\" \").str.contains(song)]\n",
    "index = check.index.tolist()\n",
    "\n",
    "if len(index) == 0:\n",
    "    print(\"This song is not on the Top 100 hot playlist! \")\n",
    "else:\n",
    "    answer = input(\"Do you mean \" + songs_top100.Title[index].values[0] + \" by \" + songs_top100.Artist[index].values[0] + \"?\")\n",
    "\n",
    "    if answer.lower() == 'yes':\n",
    "        suggestion = songs_top100.sample().index.tolist()\n",
    "        print(\"Nice! This is a hot song! You might also like \" + songs_top100['Title'][suggestion].item() + \" by \" + songs_top100['Artist'][suggestion].item())\n",
    "\n",
    "    else:\n",
    "        print(\"that song is not in the playlist, try another song!\")\n",
    "    \n",
    "    "
   ]
  },
  {
   "cell_type": "markdown",
   "id": "1bf7d31e",
   "metadata": {},
   "source": [
    "# IMPORT SPOTIFY PLAYLISTS"
   ]
  },
  {
   "cell_type": "code",
   "execution_count": 23,
   "id": "4e14ba66",
   "metadata": {},
   "outputs": [],
   "source": [
    "import spotipy\n",
    "from spotipy.oauth2 import SpotifyClientCredentials"
   ]
  },
  {
   "cell_type": "markdown",
   "id": "55637038",
   "metadata": {},
   "source": [
    "### Credentials"
   ]
  },
  {
   "cell_type": "code",
   "execution_count": 24,
   "id": "a48e7eb1",
   "metadata": {},
   "outputs": [
    {
     "name": "stdout",
     "output_type": "stream",
     "text": [
      "client_id?········\n",
      "client_secret?········\n"
     ]
    }
   ],
   "source": [
    "import getpass\n",
    "\n",
    "client_id=str(getpass.getpass('client_id?'))\n",
    "client_secret=str(getpass.getpass('client_secret?'))"
   ]
  },
  {
   "cell_type": "code",
   "execution_count": 25,
   "id": "4c341d69",
   "metadata": {},
   "outputs": [],
   "source": [
    "# embedding our getpass credentials in the access key\n",
    "\n",
    "sp= spotipy.Spotify(auth_manager=SpotifyClientCredentials(client_id=client_id, client_secret=client_secret))"
   ]
  },
  {
   "cell_type": "markdown",
   "id": "735e7ab8",
   "metadata": {},
   "source": [
    "## Import playlists by genre POP\n",
    "- I will first import a POP playlist"
   ]
  },
  {
   "cell_type": "code",
   "execution_count": 26,
   "id": "17ed1421",
   "metadata": {},
   "outputs": [],
   "source": [
    "## https://open.spotify.com/playlist/37i9dQZF1DX1ngEVM0lKrb?si=332a03edd1db4135\n",
    "## 37i9dQZF1DX1ngEVM0lKrb"
   ]
  },
  {
   "cell_type": "code",
   "execution_count": 27,
   "id": "8bc53433",
   "metadata": {},
   "outputs": [],
   "source": [
    "pop_playlist = sp.user_playlist_tracks(\"Sarah Eringaard\", \"1HWoagBCUTlqigP88enL5r\")"
   ]
  },
  {
   "cell_type": "raw",
   "id": "ea5078f1",
   "metadata": {},
   "source": [
    "pop_playlist"
   ]
  },
  {
   "cell_type": "code",
   "execution_count": 28,
   "id": "bc900bcd",
   "metadata": {},
   "outputs": [
    {
     "data": {
      "text/plain": [
       "dict_keys(['href', 'items', 'limit', 'next', 'offset', 'previous', 'total'])"
      ]
     },
     "execution_count": 28,
     "metadata": {},
     "output_type": "execute_result"
    }
   ],
   "source": [
    "pop_playlist.keys()"
   ]
  },
  {
   "cell_type": "raw",
   "id": "a1d48fe5",
   "metadata": {},
   "source": [
    "pop_playlist['items'][3]"
   ]
  },
  {
   "cell_type": "code",
   "execution_count": 29,
   "id": "061ca757",
   "metadata": {},
   "outputs": [
    {
     "data": {
      "text/plain": [
       "100"
      ]
     },
     "execution_count": 29,
     "metadata": {},
     "output_type": "execute_result"
    }
   ],
   "source": [
    "len(pop_playlist['items'])"
   ]
  },
  {
   "cell_type": "code",
   "execution_count": 30,
   "id": "62ae49d1",
   "metadata": {},
   "outputs": [],
   "source": [
    "def get_playlist_tracks(user_id, playlist_id):\n",
    "    results=sp.user_playlist_tracks(user_id, playlist_id)\n",
    "    tracks=results['items']\n",
    "    while results['next']:\n",
    "        results= sp.next(results)\n",
    "        tracks.extend(results['items'])\n",
    "    return tracks"
   ]
  },
  {
   "cell_type": "code",
   "execution_count": 31,
   "id": "8c647e35",
   "metadata": {},
   "outputs": [],
   "source": [
    "results2=get_playlist_tracks(\"Sarah Eringaard\", \"1HWoagBCUTlqigP88enL5r\")"
   ]
  },
  {
   "cell_type": "code",
   "execution_count": 32,
   "id": "a74e7713",
   "metadata": {},
   "outputs": [
    {
     "data": {
      "text/plain": [
       "473"
      ]
     },
     "execution_count": 32,
     "metadata": {},
     "output_type": "execute_result"
    }
   ],
   "source": [
    "len(results2)"
   ]
  },
  {
   "cell_type": "code",
   "execution_count": 33,
   "id": "a37320f7",
   "metadata": {},
   "outputs": [
    {
     "data": {
      "text/plain": [
       "dict_keys(['album', 'artists', 'available_markets', 'disc_number', 'duration_ms', 'episode', 'explicit', 'external_ids', 'external_urls', 'href', 'id', 'is_local', 'name', 'popularity', 'preview_url', 'track', 'track_number', 'type', 'uri'])"
      ]
     },
     "execution_count": 33,
     "metadata": {},
     "output_type": "execute_result"
    }
   ],
   "source": [
    "results2[0]['track'].keys()"
   ]
  },
  {
   "cell_type": "code",
   "execution_count": 34,
   "id": "5b790b34",
   "metadata": {},
   "outputs": [
    {
     "data": {
      "text/plain": [
       "['spotify:track', '04aAxqtGp5pv12UXAg4pkq']"
      ]
     },
     "execution_count": 34,
     "metadata": {},
     "output_type": "execute_result"
    }
   ],
   "source": [
    "results2[0]['track'][\"uri\"].rsplit(':',1)"
   ]
  },
  {
   "cell_type": "code",
   "execution_count": 35,
   "id": "58169277",
   "metadata": {},
   "outputs": [
    {
     "data": {
      "text/plain": [
       "dict_keys(['external_urls', 'href', 'id', 'name', 'type', 'uri'])"
      ]
     },
     "execution_count": 35,
     "metadata": {},
     "output_type": "execute_result"
    }
   ],
   "source": [
    "results2[0]['track'][\"artists\"][0].keys()"
   ]
  },
  {
   "cell_type": "code",
   "execution_count": 36,
   "id": "9d674cc7",
   "metadata": {},
   "outputs": [],
   "source": [
    "song_name=[]\n",
    "song_URI=[]\n",
    "song_ID=[]\n",
    "song_artist=[]\n",
    "playlist=results2"
   ]
  },
  {
   "cell_type": "code",
   "execution_count": 37,
   "id": "e656fcea",
   "metadata": {},
   "outputs": [],
   "source": [
    "for r in results2:\n",
    "    song_URI.append(r[\"track\"][\"uri\"])"
   ]
  },
  {
   "cell_type": "code",
   "execution_count": 38,
   "id": "f97ee549",
   "metadata": {},
   "outputs": [],
   "source": [
    "for r in results2: \n",
    "    song_ID.append(r[\"track\"][\"id\"])"
   ]
  },
  {
   "cell_type": "code",
   "execution_count": 39,
   "id": "b16cb9e3",
   "metadata": {},
   "outputs": [],
   "source": [
    "for r in results2: \n",
    "    song_name.append(r[\"track\"][\"name\"])"
   ]
  },
  {
   "cell_type": "code",
   "execution_count": 40,
   "id": "f2d8db9f",
   "metadata": {},
   "outputs": [],
   "source": [
    "for r in results2: \n",
    "    song_artist.append(r[\"track\"][\"artists\"][0][\"name\"])"
   ]
  },
  {
   "cell_type": "code",
   "execution_count": 41,
   "id": "f09fadaf",
   "metadata": {},
   "outputs": [],
   "source": [
    "import pandas as pd"
   ]
  },
  {
   "cell_type": "code",
   "execution_count": 42,
   "id": "6ea0069a",
   "metadata": {},
   "outputs": [],
   "source": [
    "playlist_pop_info=pd.DataFrame({\"song_name\":song_name,\"song_ID\":song_ID,\"song_artist\":song_artist})\n"
   ]
  },
  {
   "cell_type": "code",
   "execution_count": 43,
   "id": "b99fbe10",
   "metadata": {},
   "outputs": [
    {
     "data": {
      "text/html": [
       "<div>\n",
       "<style scoped>\n",
       "    .dataframe tbody tr th:only-of-type {\n",
       "        vertical-align: middle;\n",
       "    }\n",
       "\n",
       "    .dataframe tbody tr th {\n",
       "        vertical-align: top;\n",
       "    }\n",
       "\n",
       "    .dataframe thead th {\n",
       "        text-align: right;\n",
       "    }\n",
       "</style>\n",
       "<table border=\"1\" class=\"dataframe\">\n",
       "  <thead>\n",
       "    <tr style=\"text-align: right;\">\n",
       "      <th></th>\n",
       "      <th>song_name</th>\n",
       "      <th>song_ID</th>\n",
       "      <th>song_artist</th>\n",
       "    </tr>\n",
       "  </thead>\n",
       "  <tbody>\n",
       "    <tr>\n",
       "      <th>0</th>\n",
       "      <td>Centuries</td>\n",
       "      <td>04aAxqtGp5pv12UXAg4pkq</td>\n",
       "      <td>Fall Out Boy</td>\n",
       "    </tr>\n",
       "    <tr>\n",
       "      <th>1</th>\n",
       "      <td>Counting Stars</td>\n",
       "      <td>6sy3LkhNFjJWlaeSMNwQ62</td>\n",
       "      <td>OneRepublic</td>\n",
       "    </tr>\n",
       "    <tr>\n",
       "      <th>2</th>\n",
       "      <td>Animals</td>\n",
       "      <td>16pwlVsypm4aDKMhXdOuXg</td>\n",
       "      <td>Maroon 5</td>\n",
       "    </tr>\n",
       "    <tr>\n",
       "      <th>3</th>\n",
       "      <td>Take Me to Church</td>\n",
       "      <td>0aOluBqXYd0rFSCsgDyAWX</td>\n",
       "      <td>Hozier</td>\n",
       "    </tr>\n",
       "    <tr>\n",
       "      <th>4</th>\n",
       "      <td>Rude</td>\n",
       "      <td>6RtPijgfPKROxEzTHNRiDp</td>\n",
       "      <td>MAGIC!</td>\n",
       "    </tr>\n",
       "    <tr>\n",
       "      <th>...</th>\n",
       "      <td>...</td>\n",
       "      <td>...</td>\n",
       "      <td>...</td>\n",
       "    </tr>\n",
       "    <tr>\n",
       "      <th>468</th>\n",
       "      <td>Jenny</td>\n",
       "      <td>2rpVmxAGGc18wpBREaoE0R</td>\n",
       "      <td>Studio Killers</td>\n",
       "    </tr>\n",
       "    <tr>\n",
       "      <th>469</th>\n",
       "      <td>I'm Gonna Be (500 Miles)</td>\n",
       "      <td>66S14BkJDxgkYxLl5DCqOz</td>\n",
       "      <td>The Proclaimers</td>\n",
       "    </tr>\n",
       "    <tr>\n",
       "      <th>470</th>\n",
       "      <td>My Humps</td>\n",
       "      <td>19JdbdEwQI7bCxefMokZO8</td>\n",
       "      <td>Black Eyed Peas</td>\n",
       "    </tr>\n",
       "    <tr>\n",
       "      <th>471</th>\n",
       "      <td>I Just Wanna Run</td>\n",
       "      <td>3WLLJzllBEgPiSA0qd3BN3</td>\n",
       "      <td>The Downtown Fiction</td>\n",
       "    </tr>\n",
       "    <tr>\n",
       "      <th>472</th>\n",
       "      <td>Dream On</td>\n",
       "      <td>5MxNLUsfh7uzROypsoO5qe</td>\n",
       "      <td>Aerosmith</td>\n",
       "    </tr>\n",
       "  </tbody>\n",
       "</table>\n",
       "<p>473 rows × 3 columns</p>\n",
       "</div>"
      ],
      "text/plain": [
       "                    song_name                 song_ID           song_artist\n",
       "0                   Centuries  04aAxqtGp5pv12UXAg4pkq          Fall Out Boy\n",
       "1              Counting Stars  6sy3LkhNFjJWlaeSMNwQ62           OneRepublic\n",
       "2                     Animals  16pwlVsypm4aDKMhXdOuXg              Maroon 5\n",
       "3           Take Me to Church  0aOluBqXYd0rFSCsgDyAWX                Hozier\n",
       "4                        Rude  6RtPijgfPKROxEzTHNRiDp                MAGIC!\n",
       "..                        ...                     ...                   ...\n",
       "468                     Jenny  2rpVmxAGGc18wpBREaoE0R        Studio Killers\n",
       "469  I'm Gonna Be (500 Miles)  66S14BkJDxgkYxLl5DCqOz       The Proclaimers\n",
       "470                  My Humps  19JdbdEwQI7bCxefMokZO8       Black Eyed Peas\n",
       "471          I Just Wanna Run  3WLLJzllBEgPiSA0qd3BN3  The Downtown Fiction\n",
       "472                  Dream On  5MxNLUsfh7uzROypsoO5qe             Aerosmith\n",
       "\n",
       "[473 rows x 3 columns]"
      ]
     },
     "execution_count": 43,
     "metadata": {},
     "output_type": "execute_result"
    }
   ],
   "source": [
    "playlist_pop_info"
   ]
  },
  {
   "cell_type": "markdown",
   "id": "eab120a5",
   "metadata": {},
   "source": [
    "### Add a new column for genre in playlist_pop_info"
   ]
  },
  {
   "cell_type": "code",
   "execution_count": 44,
   "id": "bbc64b0a",
   "metadata": {},
   "outputs": [],
   "source": [
    "playlist_pop_info.insert(3, 'Genre', 'Pop') "
   ]
  },
  {
   "cell_type": "code",
   "execution_count": 45,
   "id": "dc88eabf",
   "metadata": {},
   "outputs": [
    {
     "data": {
      "text/html": [
       "<div>\n",
       "<style scoped>\n",
       "    .dataframe tbody tr th:only-of-type {\n",
       "        vertical-align: middle;\n",
       "    }\n",
       "\n",
       "    .dataframe tbody tr th {\n",
       "        vertical-align: top;\n",
       "    }\n",
       "\n",
       "    .dataframe thead th {\n",
       "        text-align: right;\n",
       "    }\n",
       "</style>\n",
       "<table border=\"1\" class=\"dataframe\">\n",
       "  <thead>\n",
       "    <tr style=\"text-align: right;\">\n",
       "      <th></th>\n",
       "      <th>song_name</th>\n",
       "      <th>song_ID</th>\n",
       "      <th>song_artist</th>\n",
       "      <th>Genre</th>\n",
       "    </tr>\n",
       "  </thead>\n",
       "  <tbody>\n",
       "    <tr>\n",
       "      <th>0</th>\n",
       "      <td>Centuries</td>\n",
       "      <td>04aAxqtGp5pv12UXAg4pkq</td>\n",
       "      <td>Fall Out Boy</td>\n",
       "      <td>Pop</td>\n",
       "    </tr>\n",
       "    <tr>\n",
       "      <th>1</th>\n",
       "      <td>Counting Stars</td>\n",
       "      <td>6sy3LkhNFjJWlaeSMNwQ62</td>\n",
       "      <td>OneRepublic</td>\n",
       "      <td>Pop</td>\n",
       "    </tr>\n",
       "    <tr>\n",
       "      <th>2</th>\n",
       "      <td>Animals</td>\n",
       "      <td>16pwlVsypm4aDKMhXdOuXg</td>\n",
       "      <td>Maroon 5</td>\n",
       "      <td>Pop</td>\n",
       "    </tr>\n",
       "    <tr>\n",
       "      <th>3</th>\n",
       "      <td>Take Me to Church</td>\n",
       "      <td>0aOluBqXYd0rFSCsgDyAWX</td>\n",
       "      <td>Hozier</td>\n",
       "      <td>Pop</td>\n",
       "    </tr>\n",
       "    <tr>\n",
       "      <th>4</th>\n",
       "      <td>Rude</td>\n",
       "      <td>6RtPijgfPKROxEzTHNRiDp</td>\n",
       "      <td>MAGIC!</td>\n",
       "      <td>Pop</td>\n",
       "    </tr>\n",
       "    <tr>\n",
       "      <th>...</th>\n",
       "      <td>...</td>\n",
       "      <td>...</td>\n",
       "      <td>...</td>\n",
       "      <td>...</td>\n",
       "    </tr>\n",
       "    <tr>\n",
       "      <th>468</th>\n",
       "      <td>Jenny</td>\n",
       "      <td>2rpVmxAGGc18wpBREaoE0R</td>\n",
       "      <td>Studio Killers</td>\n",
       "      <td>Pop</td>\n",
       "    </tr>\n",
       "    <tr>\n",
       "      <th>469</th>\n",
       "      <td>I'm Gonna Be (500 Miles)</td>\n",
       "      <td>66S14BkJDxgkYxLl5DCqOz</td>\n",
       "      <td>The Proclaimers</td>\n",
       "      <td>Pop</td>\n",
       "    </tr>\n",
       "    <tr>\n",
       "      <th>470</th>\n",
       "      <td>My Humps</td>\n",
       "      <td>19JdbdEwQI7bCxefMokZO8</td>\n",
       "      <td>Black Eyed Peas</td>\n",
       "      <td>Pop</td>\n",
       "    </tr>\n",
       "    <tr>\n",
       "      <th>471</th>\n",
       "      <td>I Just Wanna Run</td>\n",
       "      <td>3WLLJzllBEgPiSA0qd3BN3</td>\n",
       "      <td>The Downtown Fiction</td>\n",
       "      <td>Pop</td>\n",
       "    </tr>\n",
       "    <tr>\n",
       "      <th>472</th>\n",
       "      <td>Dream On</td>\n",
       "      <td>5MxNLUsfh7uzROypsoO5qe</td>\n",
       "      <td>Aerosmith</td>\n",
       "      <td>Pop</td>\n",
       "    </tr>\n",
       "  </tbody>\n",
       "</table>\n",
       "<p>473 rows × 4 columns</p>\n",
       "</div>"
      ],
      "text/plain": [
       "                    song_name                 song_ID           song_artist  \\\n",
       "0                   Centuries  04aAxqtGp5pv12UXAg4pkq          Fall Out Boy   \n",
       "1              Counting Stars  6sy3LkhNFjJWlaeSMNwQ62           OneRepublic   \n",
       "2                     Animals  16pwlVsypm4aDKMhXdOuXg              Maroon 5   \n",
       "3           Take Me to Church  0aOluBqXYd0rFSCsgDyAWX                Hozier   \n",
       "4                        Rude  6RtPijgfPKROxEzTHNRiDp                MAGIC!   \n",
       "..                        ...                     ...                   ...   \n",
       "468                     Jenny  2rpVmxAGGc18wpBREaoE0R        Studio Killers   \n",
       "469  I'm Gonna Be (500 Miles)  66S14BkJDxgkYxLl5DCqOz       The Proclaimers   \n",
       "470                  My Humps  19JdbdEwQI7bCxefMokZO8       Black Eyed Peas   \n",
       "471          I Just Wanna Run  3WLLJzllBEgPiSA0qd3BN3  The Downtown Fiction   \n",
       "472                  Dream On  5MxNLUsfh7uzROypsoO5qe             Aerosmith   \n",
       "\n",
       "    Genre  \n",
       "0     Pop  \n",
       "1     Pop  \n",
       "2     Pop  \n",
       "3     Pop  \n",
       "4     Pop  \n",
       "..    ...  \n",
       "468   Pop  \n",
       "469   Pop  \n",
       "470   Pop  \n",
       "471   Pop  \n",
       "472   Pop  \n",
       "\n",
       "[473 rows x 4 columns]"
      ]
     },
     "execution_count": 45,
     "metadata": {},
     "output_type": "execute_result"
    }
   ],
   "source": [
    "playlist_pop_info"
   ]
  },
  {
   "cell_type": "markdown",
   "id": "6cc84bf3",
   "metadata": {},
   "source": [
    "## Import playlists by genre INDIE\n",
    "- I will import now a INDIE playlist"
   ]
  },
  {
   "cell_type": "code",
   "execution_count": 46,
   "id": "a728e24a",
   "metadata": {},
   "outputs": [],
   "source": [
    "## https://open.spotify.com/playlist/7lnCgcTxLTTcOqvgoS80sC?si=923d97089cf041ea\n",
    "## oceanify"
   ]
  },
  {
   "cell_type": "code",
   "execution_count": 47,
   "id": "955e6e36",
   "metadata": {},
   "outputs": [],
   "source": [
    "indie_playlist = sp.user_playlist_tracks(\"oceanify\", \"7lnCgcTxLTTcOqvgoS80sC\")"
   ]
  },
  {
   "cell_type": "raw",
   "id": "587c86a6",
   "metadata": {},
   "source": [
    "indie_playlist"
   ]
  },
  {
   "cell_type": "code",
   "execution_count": 48,
   "id": "83149cfd",
   "metadata": {},
   "outputs": [
    {
     "data": {
      "text/plain": [
       "dict_keys(['href', 'items', 'limit', 'next', 'offset', 'previous', 'total'])"
      ]
     },
     "execution_count": 48,
     "metadata": {},
     "output_type": "execute_result"
    }
   ],
   "source": [
    "indie_playlist.keys()"
   ]
  },
  {
   "cell_type": "raw",
   "id": "5018912b",
   "metadata": {},
   "source": [
    "indie_playlist['items'][3]"
   ]
  },
  {
   "cell_type": "code",
   "execution_count": 49,
   "id": "1875f0c7",
   "metadata": {},
   "outputs": [
    {
     "data": {
      "text/plain": [
       "100"
      ]
     },
     "execution_count": 49,
     "metadata": {},
     "output_type": "execute_result"
    }
   ],
   "source": [
    "len(indie_playlist['items'])"
   ]
  },
  {
   "cell_type": "code",
   "execution_count": 50,
   "id": "b1e43b81",
   "metadata": {},
   "outputs": [],
   "source": [
    "def get_playlist_tracks1(user_id, playlist_id):\n",
    "    results=sp.user_playlist_tracks(user_id, playlist_id)\n",
    "    tracks=results['items']\n",
    "    while results['next']:\n",
    "        results= sp.next(results)\n",
    "        tracks.extend(results['items'])\n",
    "    return tracks"
   ]
  },
  {
   "cell_type": "code",
   "execution_count": 51,
   "id": "d1b72873",
   "metadata": {},
   "outputs": [],
   "source": [
    "results3=get_playlist_tracks1(\"oceanify\", \"7lnCgcTxLTTcOqvgoS80sC\")"
   ]
  },
  {
   "cell_type": "code",
   "execution_count": 52,
   "id": "8a72c687",
   "metadata": {},
   "outputs": [
    {
     "data": {
      "text/plain": [
       "170"
      ]
     },
     "execution_count": 52,
     "metadata": {},
     "output_type": "execute_result"
    }
   ],
   "source": [
    "len(results3)"
   ]
  },
  {
   "cell_type": "code",
   "execution_count": 53,
   "id": "a62a4b45",
   "metadata": {},
   "outputs": [
    {
     "data": {
      "text/plain": [
       "dict_keys(['album', 'artists', 'available_markets', 'disc_number', 'duration_ms', 'episode', 'explicit', 'external_ids', 'external_urls', 'href', 'id', 'is_local', 'name', 'popularity', 'preview_url', 'track', 'track_number', 'type', 'uri'])"
      ]
     },
     "execution_count": 53,
     "metadata": {},
     "output_type": "execute_result"
    }
   ],
   "source": [
    "results3[0]['track'].keys()"
   ]
  },
  {
   "cell_type": "code",
   "execution_count": 54,
   "id": "80d2b897",
   "metadata": {},
   "outputs": [
    {
     "data": {
      "text/plain": [
       "['spotify:track', '3Wrjm47oTz2sjIgck11l5e']"
      ]
     },
     "execution_count": 54,
     "metadata": {},
     "output_type": "execute_result"
    }
   ],
   "source": [
    "results3[0]['track'][\"uri\"].rsplit(':',1)"
   ]
  },
  {
   "cell_type": "code",
   "execution_count": 55,
   "id": "9f3cb986",
   "metadata": {},
   "outputs": [
    {
     "data": {
      "text/plain": [
       "dict_keys(['external_urls', 'href', 'id', 'name', 'type', 'uri'])"
      ]
     },
     "execution_count": 55,
     "metadata": {},
     "output_type": "execute_result"
    }
   ],
   "source": [
    "results3[0]['track'][\"artists\"][0].keys()"
   ]
  },
  {
   "cell_type": "code",
   "execution_count": 56,
   "id": "5ad27e7b",
   "metadata": {},
   "outputs": [],
   "source": [
    "song_name=[]\n",
    "song_URI=[]\n",
    "song_ID=[]\n",
    "song_artist=[]\n",
    "playlist=results3"
   ]
  },
  {
   "cell_type": "code",
   "execution_count": 57,
   "id": "f07b550f",
   "metadata": {},
   "outputs": [],
   "source": [
    "for r in results3:\n",
    "    song_URI.append(r[\"track\"][\"uri\"])\n",
    "    \n",
    "for r in results3: \n",
    "    song_ID.append(r[\"track\"][\"id\"])\n",
    "    \n",
    "for r in results3: \n",
    "    song_name.append(r[\"track\"][\"name\"])\n",
    "    \n",
    "for r in results3: \n",
    "    song_artist.append(r[\"track\"][\"artists\"][0][\"name\"])"
   ]
  },
  {
   "cell_type": "code",
   "execution_count": 58,
   "id": "9114f63e",
   "metadata": {},
   "outputs": [],
   "source": [
    "playlist_indie_info=pd.DataFrame({\"song_name\":song_name,\"song_ID\":song_ID,\"song_artist\":song_artist})\n"
   ]
  },
  {
   "cell_type": "code",
   "execution_count": 59,
   "id": "da49d3ca",
   "metadata": {},
   "outputs": [
    {
     "data": {
      "text/html": [
       "<div>\n",
       "<style scoped>\n",
       "    .dataframe tbody tr th:only-of-type {\n",
       "        vertical-align: middle;\n",
       "    }\n",
       "\n",
       "    .dataframe tbody tr th {\n",
       "        vertical-align: top;\n",
       "    }\n",
       "\n",
       "    .dataframe thead th {\n",
       "        text-align: right;\n",
       "    }\n",
       "</style>\n",
       "<table border=\"1\" class=\"dataframe\">\n",
       "  <thead>\n",
       "    <tr style=\"text-align: right;\">\n",
       "      <th></th>\n",
       "      <th>song_name</th>\n",
       "      <th>song_ID</th>\n",
       "      <th>song_artist</th>\n",
       "    </tr>\n",
       "  </thead>\n",
       "  <tbody>\n",
       "    <tr>\n",
       "      <th>0</th>\n",
       "      <td>Beggin'</td>\n",
       "      <td>3Wrjm47oTz2sjIgck11l5e</td>\n",
       "      <td>Måneskin</td>\n",
       "    </tr>\n",
       "    <tr>\n",
       "      <th>1</th>\n",
       "      <td>The Less I Know The Better</td>\n",
       "      <td>4g3Ax56IslQkI6XVfYKVc5</td>\n",
       "      <td>Tame Impala</td>\n",
       "    </tr>\n",
       "    <tr>\n",
       "      <th>2</th>\n",
       "      <td>Mr. Brightside</td>\n",
       "      <td>3n3Ppam7vgaVa1iaRUc9Lp</td>\n",
       "      <td>The Killers</td>\n",
       "    </tr>\n",
       "    <tr>\n",
       "      <th>3</th>\n",
       "      <td>Boys Don't Cry</td>\n",
       "      <td>1QFh8OH1e78dGd3VyJZCAC</td>\n",
       "      <td>The Cure</td>\n",
       "    </tr>\n",
       "    <tr>\n",
       "      <th>4</th>\n",
       "      <td>wake me up</td>\n",
       "      <td>1H6A86dQ7BMdbxofxpQvcK</td>\n",
       "      <td>Ruby</td>\n",
       "    </tr>\n",
       "    <tr>\n",
       "      <th>...</th>\n",
       "      <td>...</td>\n",
       "      <td>...</td>\n",
       "      <td>...</td>\n",
       "    </tr>\n",
       "    <tr>\n",
       "      <th>165</th>\n",
       "      <td>Maybe - Extended Version</td>\n",
       "      <td>5M9FFdvLfKPkORIRERHzKY</td>\n",
       "      <td>Elizabeth Cuite</td>\n",
       "    </tr>\n",
       "    <tr>\n",
       "      <th>166</th>\n",
       "      <td>Deja Vu</td>\n",
       "      <td>5PWT6FhFPn2E5dv5tUuqNE</td>\n",
       "      <td>Luvlee</td>\n",
       "    </tr>\n",
       "    <tr>\n",
       "      <th>167</th>\n",
       "      <td>One in a Million</td>\n",
       "      <td>0B2gr2o765XiWU6dGKmktU</td>\n",
       "      <td>Will Whisson</td>\n",
       "    </tr>\n",
       "    <tr>\n",
       "      <th>168</th>\n",
       "      <td>Comin’ Home (Stewart Sullivan Mix)</td>\n",
       "      <td>49FulGQwWUrWVVB69TfHAr</td>\n",
       "      <td>Dominoe</td>\n",
       "    </tr>\n",
       "    <tr>\n",
       "      <th>169</th>\n",
       "      <td>What Are You Afraid of?</td>\n",
       "      <td>3p02WDxfbVpTRVe1PmAMJL</td>\n",
       "      <td>Chxrlotte</td>\n",
       "    </tr>\n",
       "  </tbody>\n",
       "</table>\n",
       "<p>170 rows × 3 columns</p>\n",
       "</div>"
      ],
      "text/plain": [
       "                              song_name                 song_ID  \\\n",
       "0                               Beggin'  3Wrjm47oTz2sjIgck11l5e   \n",
       "1            The Less I Know The Better  4g3Ax56IslQkI6XVfYKVc5   \n",
       "2                        Mr. Brightside  3n3Ppam7vgaVa1iaRUc9Lp   \n",
       "3                        Boys Don't Cry  1QFh8OH1e78dGd3VyJZCAC   \n",
       "4                            wake me up  1H6A86dQ7BMdbxofxpQvcK   \n",
       "..                                  ...                     ...   \n",
       "165            Maybe - Extended Version  5M9FFdvLfKPkORIRERHzKY   \n",
       "166                             Deja Vu  5PWT6FhFPn2E5dv5tUuqNE   \n",
       "167                    One in a Million  0B2gr2o765XiWU6dGKmktU   \n",
       "168  Comin’ Home (Stewart Sullivan Mix)  49FulGQwWUrWVVB69TfHAr   \n",
       "169             What Are You Afraid of?  3p02WDxfbVpTRVe1PmAMJL   \n",
       "\n",
       "         song_artist  \n",
       "0           Måneskin  \n",
       "1        Tame Impala  \n",
       "2        The Killers  \n",
       "3           The Cure  \n",
       "4               Ruby  \n",
       "..               ...  \n",
       "165  Elizabeth Cuite  \n",
       "166           Luvlee  \n",
       "167     Will Whisson  \n",
       "168          Dominoe  \n",
       "169        Chxrlotte  \n",
       "\n",
       "[170 rows x 3 columns]"
      ]
     },
     "execution_count": 59,
     "metadata": {},
     "output_type": "execute_result"
    }
   ],
   "source": [
    "playlist_indie_info"
   ]
  },
  {
   "cell_type": "markdown",
   "id": "d9c023ac",
   "metadata": {},
   "source": [
    "### Add a new column for genre in playlist_indie_info"
   ]
  },
  {
   "cell_type": "code",
   "execution_count": 60,
   "id": "789e6230",
   "metadata": {},
   "outputs": [],
   "source": [
    "playlist_indie_info.insert(3, 'Genre', 'Indie') "
   ]
  },
  {
   "cell_type": "code",
   "execution_count": 61,
   "id": "19afae06",
   "metadata": {
    "scrolled": true
   },
   "outputs": [
    {
     "data": {
      "text/html": [
       "<div>\n",
       "<style scoped>\n",
       "    .dataframe tbody tr th:only-of-type {\n",
       "        vertical-align: middle;\n",
       "    }\n",
       "\n",
       "    .dataframe tbody tr th {\n",
       "        vertical-align: top;\n",
       "    }\n",
       "\n",
       "    .dataframe thead th {\n",
       "        text-align: right;\n",
       "    }\n",
       "</style>\n",
       "<table border=\"1\" class=\"dataframe\">\n",
       "  <thead>\n",
       "    <tr style=\"text-align: right;\">\n",
       "      <th></th>\n",
       "      <th>song_name</th>\n",
       "      <th>song_ID</th>\n",
       "      <th>song_artist</th>\n",
       "      <th>Genre</th>\n",
       "    </tr>\n",
       "  </thead>\n",
       "  <tbody>\n",
       "    <tr>\n",
       "      <th>0</th>\n",
       "      <td>Beggin'</td>\n",
       "      <td>3Wrjm47oTz2sjIgck11l5e</td>\n",
       "      <td>Måneskin</td>\n",
       "      <td>Indie</td>\n",
       "    </tr>\n",
       "    <tr>\n",
       "      <th>1</th>\n",
       "      <td>The Less I Know The Better</td>\n",
       "      <td>4g3Ax56IslQkI6XVfYKVc5</td>\n",
       "      <td>Tame Impala</td>\n",
       "      <td>Indie</td>\n",
       "    </tr>\n",
       "    <tr>\n",
       "      <th>2</th>\n",
       "      <td>Mr. Brightside</td>\n",
       "      <td>3n3Ppam7vgaVa1iaRUc9Lp</td>\n",
       "      <td>The Killers</td>\n",
       "      <td>Indie</td>\n",
       "    </tr>\n",
       "    <tr>\n",
       "      <th>3</th>\n",
       "      <td>Boys Don't Cry</td>\n",
       "      <td>1QFh8OH1e78dGd3VyJZCAC</td>\n",
       "      <td>The Cure</td>\n",
       "      <td>Indie</td>\n",
       "    </tr>\n",
       "    <tr>\n",
       "      <th>4</th>\n",
       "      <td>wake me up</td>\n",
       "      <td>1H6A86dQ7BMdbxofxpQvcK</td>\n",
       "      <td>Ruby</td>\n",
       "      <td>Indie</td>\n",
       "    </tr>\n",
       "    <tr>\n",
       "      <th>...</th>\n",
       "      <td>...</td>\n",
       "      <td>...</td>\n",
       "      <td>...</td>\n",
       "      <td>...</td>\n",
       "    </tr>\n",
       "    <tr>\n",
       "      <th>165</th>\n",
       "      <td>Maybe - Extended Version</td>\n",
       "      <td>5M9FFdvLfKPkORIRERHzKY</td>\n",
       "      <td>Elizabeth Cuite</td>\n",
       "      <td>Indie</td>\n",
       "    </tr>\n",
       "    <tr>\n",
       "      <th>166</th>\n",
       "      <td>Deja Vu</td>\n",
       "      <td>5PWT6FhFPn2E5dv5tUuqNE</td>\n",
       "      <td>Luvlee</td>\n",
       "      <td>Indie</td>\n",
       "    </tr>\n",
       "    <tr>\n",
       "      <th>167</th>\n",
       "      <td>One in a Million</td>\n",
       "      <td>0B2gr2o765XiWU6dGKmktU</td>\n",
       "      <td>Will Whisson</td>\n",
       "      <td>Indie</td>\n",
       "    </tr>\n",
       "    <tr>\n",
       "      <th>168</th>\n",
       "      <td>Comin’ Home (Stewart Sullivan Mix)</td>\n",
       "      <td>49FulGQwWUrWVVB69TfHAr</td>\n",
       "      <td>Dominoe</td>\n",
       "      <td>Indie</td>\n",
       "    </tr>\n",
       "    <tr>\n",
       "      <th>169</th>\n",
       "      <td>What Are You Afraid of?</td>\n",
       "      <td>3p02WDxfbVpTRVe1PmAMJL</td>\n",
       "      <td>Chxrlotte</td>\n",
       "      <td>Indie</td>\n",
       "    </tr>\n",
       "  </tbody>\n",
       "</table>\n",
       "<p>170 rows × 4 columns</p>\n",
       "</div>"
      ],
      "text/plain": [
       "                              song_name                 song_ID  \\\n",
       "0                               Beggin'  3Wrjm47oTz2sjIgck11l5e   \n",
       "1            The Less I Know The Better  4g3Ax56IslQkI6XVfYKVc5   \n",
       "2                        Mr. Brightside  3n3Ppam7vgaVa1iaRUc9Lp   \n",
       "3                        Boys Don't Cry  1QFh8OH1e78dGd3VyJZCAC   \n",
       "4                            wake me up  1H6A86dQ7BMdbxofxpQvcK   \n",
       "..                                  ...                     ...   \n",
       "165            Maybe - Extended Version  5M9FFdvLfKPkORIRERHzKY   \n",
       "166                             Deja Vu  5PWT6FhFPn2E5dv5tUuqNE   \n",
       "167                    One in a Million  0B2gr2o765XiWU6dGKmktU   \n",
       "168  Comin’ Home (Stewart Sullivan Mix)  49FulGQwWUrWVVB69TfHAr   \n",
       "169             What Are You Afraid of?  3p02WDxfbVpTRVe1PmAMJL   \n",
       "\n",
       "         song_artist  Genre  \n",
       "0           Måneskin  Indie  \n",
       "1        Tame Impala  Indie  \n",
       "2        The Killers  Indie  \n",
       "3           The Cure  Indie  \n",
       "4               Ruby  Indie  \n",
       "..               ...    ...  \n",
       "165  Elizabeth Cuite  Indie  \n",
       "166           Luvlee  Indie  \n",
       "167     Will Whisson  Indie  \n",
       "168          Dominoe  Indie  \n",
       "169        Chxrlotte  Indie  \n",
       "\n",
       "[170 rows x 4 columns]"
      ]
     },
     "execution_count": 61,
     "metadata": {},
     "output_type": "execute_result"
    }
   ],
   "source": [
    "playlist_indie_info"
   ]
  },
  {
   "cell_type": "markdown",
   "id": "3d8ffd54",
   "metadata": {},
   "source": [
    "## Import playlists by genre ROCK\n",
    "- I will import now a ROCK playlist"
   ]
  },
  {
   "cell_type": "code",
   "execution_count": 62,
   "id": "af04ae64",
   "metadata": {},
   "outputs": [],
   "source": [
    "## https://open.spotify.com/playlist/37i9dQZF1DWXRqgorJj26U?si=6870797da01948f7\n",
    "## Spotify"
   ]
  },
  {
   "cell_type": "code",
   "execution_count": 63,
   "id": "d37546bb",
   "metadata": {},
   "outputs": [],
   "source": [
    "rock_playlist = sp.user_playlist_tracks(\"Spotify\", \"37i9dQZF1DWXRqgorJj26U\")"
   ]
  },
  {
   "cell_type": "raw",
   "id": "a3536018",
   "metadata": {},
   "source": [
    "rock_playlist"
   ]
  },
  {
   "cell_type": "code",
   "execution_count": 64,
   "id": "0db7d4b1",
   "metadata": {},
   "outputs": [
    {
     "data": {
      "text/plain": [
       "dict_keys(['href', 'items', 'limit', 'next', 'offset', 'previous', 'total'])"
      ]
     },
     "execution_count": 64,
     "metadata": {},
     "output_type": "execute_result"
    }
   ],
   "source": [
    "rock_playlist.keys()"
   ]
  },
  {
   "cell_type": "raw",
   "id": "ec602b9e",
   "metadata": {},
   "source": [
    "rock_playlist['items'][3]"
   ]
  },
  {
   "cell_type": "code",
   "execution_count": 65,
   "id": "ae3b7fd7",
   "metadata": {},
   "outputs": [
    {
     "data": {
      "text/plain": [
       "100"
      ]
     },
     "execution_count": 65,
     "metadata": {},
     "output_type": "execute_result"
    }
   ],
   "source": [
    "len(rock_playlist['items'])"
   ]
  },
  {
   "cell_type": "code",
   "execution_count": 66,
   "id": "adacbf28",
   "metadata": {},
   "outputs": [],
   "source": [
    "def get_playlist_tracks2(user_id, playlist_id):\n",
    "    results=sp.user_playlist_tracks(user_id, playlist_id)\n",
    "    tracks=results['items']\n",
    "    while results['next']:\n",
    "        results= sp.next(results)\n",
    "        tracks.extend(results['items'])\n",
    "    return tracks"
   ]
  },
  {
   "cell_type": "code",
   "execution_count": 67,
   "id": "9f72dd81",
   "metadata": {},
   "outputs": [],
   "source": [
    "results4=get_playlist_tracks2(\"Spotify\", \"37i9dQZF1DWXRqgorJj26U\")"
   ]
  },
  {
   "cell_type": "code",
   "execution_count": 68,
   "id": "800d77db",
   "metadata": {},
   "outputs": [
    {
     "data": {
      "text/plain": [
       "166"
      ]
     },
     "execution_count": 68,
     "metadata": {},
     "output_type": "execute_result"
    }
   ],
   "source": [
    "len(results4)"
   ]
  },
  {
   "cell_type": "code",
   "execution_count": 69,
   "id": "1a09568a",
   "metadata": {},
   "outputs": [
    {
     "data": {
      "text/plain": [
       "dict_keys(['album', 'artists', 'available_markets', 'disc_number', 'duration_ms', 'episode', 'explicit', 'external_ids', 'external_urls', 'href', 'id', 'is_local', 'name', 'popularity', 'preview_url', 'track', 'track_number', 'type', 'uri'])"
      ]
     },
     "execution_count": 69,
     "metadata": {},
     "output_type": "execute_result"
    }
   ],
   "source": [
    "results4[0]['track'].keys()"
   ]
  },
  {
   "cell_type": "code",
   "execution_count": 70,
   "id": "dbe22dae",
   "metadata": {},
   "outputs": [
    {
     "data": {
      "text/plain": [
       "['spotify:track', '57JVGBtBLCfHw2muk5416J']"
      ]
     },
     "execution_count": 70,
     "metadata": {},
     "output_type": "execute_result"
    }
   ],
   "source": [
    "results4[0]['track'][\"uri\"].rsplit(':',1)"
   ]
  },
  {
   "cell_type": "code",
   "execution_count": 71,
   "id": "5469f82d",
   "metadata": {},
   "outputs": [
    {
     "data": {
      "text/plain": [
       "dict_keys(['external_urls', 'href', 'id', 'name', 'type', 'uri'])"
      ]
     },
     "execution_count": 71,
     "metadata": {},
     "output_type": "execute_result"
    }
   ],
   "source": [
    "results4[0]['track'][\"artists\"][0].keys()"
   ]
  },
  {
   "cell_type": "code",
   "execution_count": 72,
   "id": "c0a9175d",
   "metadata": {},
   "outputs": [],
   "source": [
    "song_name=[]\n",
    "song_URI=[]\n",
    "song_ID=[]\n",
    "song_artist=[]\n",
    "playlist=results4"
   ]
  },
  {
   "cell_type": "code",
   "execution_count": 73,
   "id": "83e2680e",
   "metadata": {},
   "outputs": [],
   "source": [
    "for r in results4:\n",
    "    song_URI.append(r[\"track\"][\"uri\"])\n",
    "    \n",
    "for r in results4: \n",
    "    song_ID.append(r[\"track\"][\"id\"])\n",
    "    \n",
    "for r in results4: \n",
    "    song_name.append(r[\"track\"][\"name\"])\n",
    "    \n",
    "for r in results4: \n",
    "    song_artist.append(r[\"track\"][\"artists\"][0][\"name\"])"
   ]
  },
  {
   "cell_type": "code",
   "execution_count": 74,
   "id": "ff724820",
   "metadata": {},
   "outputs": [],
   "source": [
    "playlist_rock_info=pd.DataFrame({\"song_name\":song_name,\"song_ID\":song_ID,\"song_artist\":song_artist})"
   ]
  },
  {
   "cell_type": "code",
   "execution_count": 75,
   "id": "4c2f1022",
   "metadata": {},
   "outputs": [
    {
     "data": {
      "text/html": [
       "<div>\n",
       "<style scoped>\n",
       "    .dataframe tbody tr th:only-of-type {\n",
       "        vertical-align: middle;\n",
       "    }\n",
       "\n",
       "    .dataframe tbody tr th {\n",
       "        vertical-align: top;\n",
       "    }\n",
       "\n",
       "    .dataframe thead th {\n",
       "        text-align: right;\n",
       "    }\n",
       "</style>\n",
       "<table border=\"1\" class=\"dataframe\">\n",
       "  <thead>\n",
       "    <tr style=\"text-align: right;\">\n",
       "      <th></th>\n",
       "      <th>song_name</th>\n",
       "      <th>song_ID</th>\n",
       "      <th>song_artist</th>\n",
       "    </tr>\n",
       "  </thead>\n",
       "  <tbody>\n",
       "    <tr>\n",
       "      <th>0</th>\n",
       "      <td>Another One Bites The Dust - Remastered 2011</td>\n",
       "      <td>57JVGBtBLCfHw2muk5416J</td>\n",
       "      <td>Queen</td>\n",
       "    </tr>\n",
       "    <tr>\n",
       "      <th>1</th>\n",
       "      <td>Paradise City</td>\n",
       "      <td>3YBZIN3rekqsKxbJc9FZko</td>\n",
       "      <td>Guns N' Roses</td>\n",
       "    </tr>\n",
       "    <tr>\n",
       "      <th>2</th>\n",
       "      <td>Black Dog - Remaster</td>\n",
       "      <td>3qT4bUD1MaWpGrTwcvguhb</td>\n",
       "      <td>Led Zeppelin</td>\n",
       "    </tr>\n",
       "    <tr>\n",
       "      <th>3</th>\n",
       "      <td>Highway to Hell</td>\n",
       "      <td>2zYzyRzz6pRmhPzyfMEC8s</td>\n",
       "      <td>AC/DC</td>\n",
       "    </tr>\n",
       "    <tr>\n",
       "      <th>4</th>\n",
       "      <td>Dream On</td>\n",
       "      <td>5MxNLUsfh7uzROypsoO5qe</td>\n",
       "      <td>Aerosmith</td>\n",
       "    </tr>\n",
       "    <tr>\n",
       "      <th>...</th>\n",
       "      <td>...</td>\n",
       "      <td>...</td>\n",
       "      <td>...</td>\n",
       "    </tr>\n",
       "    <tr>\n",
       "      <th>161</th>\n",
       "      <td>Ramble On - 1990 Remaster</td>\n",
       "      <td>3MODES4TNtygekLl146Dxd</td>\n",
       "      <td>Led Zeppelin</td>\n",
       "    </tr>\n",
       "    <tr>\n",
       "      <th>162</th>\n",
       "      <td>Crazy On You</td>\n",
       "      <td>5zH710lFSLtkHbMkslLDjR</td>\n",
       "      <td>Heart</td>\n",
       "    </tr>\n",
       "    <tr>\n",
       "      <th>163</th>\n",
       "      <td>Foreplay / Long Time</td>\n",
       "      <td>5UYPZZDQfpCE7A0FDDqv4k</td>\n",
       "      <td>Boston</td>\n",
       "    </tr>\n",
       "    <tr>\n",
       "      <th>164</th>\n",
       "      <td>My Generation - Mono Version</td>\n",
       "      <td>45s88Xopo6KvHc0PQ05aGg</td>\n",
       "      <td>The Who</td>\n",
       "    </tr>\n",
       "    <tr>\n",
       "      <th>165</th>\n",
       "      <td>Light My Fire</td>\n",
       "      <td>5uvosCdMlFdTXhoazkTI5R</td>\n",
       "      <td>The Doors</td>\n",
       "    </tr>\n",
       "  </tbody>\n",
       "</table>\n",
       "<p>166 rows × 3 columns</p>\n",
       "</div>"
      ],
      "text/plain": [
       "                                        song_name                 song_ID  \\\n",
       "0    Another One Bites The Dust - Remastered 2011  57JVGBtBLCfHw2muk5416J   \n",
       "1                                   Paradise City  3YBZIN3rekqsKxbJc9FZko   \n",
       "2                            Black Dog - Remaster  3qT4bUD1MaWpGrTwcvguhb   \n",
       "3                                 Highway to Hell  2zYzyRzz6pRmhPzyfMEC8s   \n",
       "4                                        Dream On  5MxNLUsfh7uzROypsoO5qe   \n",
       "..                                            ...                     ...   \n",
       "161                     Ramble On - 1990 Remaster  3MODES4TNtygekLl146Dxd   \n",
       "162                                  Crazy On You  5zH710lFSLtkHbMkslLDjR   \n",
       "163                          Foreplay / Long Time  5UYPZZDQfpCE7A0FDDqv4k   \n",
       "164                  My Generation - Mono Version  45s88Xopo6KvHc0PQ05aGg   \n",
       "165                                 Light My Fire  5uvosCdMlFdTXhoazkTI5R   \n",
       "\n",
       "       song_artist  \n",
       "0            Queen  \n",
       "1    Guns N' Roses  \n",
       "2     Led Zeppelin  \n",
       "3            AC/DC  \n",
       "4        Aerosmith  \n",
       "..             ...  \n",
       "161   Led Zeppelin  \n",
       "162          Heart  \n",
       "163         Boston  \n",
       "164        The Who  \n",
       "165      The Doors  \n",
       "\n",
       "[166 rows x 3 columns]"
      ]
     },
     "execution_count": 75,
     "metadata": {},
     "output_type": "execute_result"
    }
   ],
   "source": [
    "playlist_rock_info"
   ]
  },
  {
   "cell_type": "markdown",
   "id": "feb4e871",
   "metadata": {},
   "source": [
    "### Add a new column for genre in playlist_rock_info"
   ]
  },
  {
   "cell_type": "code",
   "execution_count": 76,
   "id": "71158b48",
   "metadata": {},
   "outputs": [],
   "source": [
    "playlist_rock_info.insert(3, 'Genre', 'Rock') "
   ]
  },
  {
   "cell_type": "code",
   "execution_count": 77,
   "id": "9be13217",
   "metadata": {},
   "outputs": [
    {
     "data": {
      "text/html": [
       "<div>\n",
       "<style scoped>\n",
       "    .dataframe tbody tr th:only-of-type {\n",
       "        vertical-align: middle;\n",
       "    }\n",
       "\n",
       "    .dataframe tbody tr th {\n",
       "        vertical-align: top;\n",
       "    }\n",
       "\n",
       "    .dataframe thead th {\n",
       "        text-align: right;\n",
       "    }\n",
       "</style>\n",
       "<table border=\"1\" class=\"dataframe\">\n",
       "  <thead>\n",
       "    <tr style=\"text-align: right;\">\n",
       "      <th></th>\n",
       "      <th>song_name</th>\n",
       "      <th>song_ID</th>\n",
       "      <th>song_artist</th>\n",
       "      <th>Genre</th>\n",
       "    </tr>\n",
       "  </thead>\n",
       "  <tbody>\n",
       "    <tr>\n",
       "      <th>0</th>\n",
       "      <td>Another One Bites The Dust - Remastered 2011</td>\n",
       "      <td>57JVGBtBLCfHw2muk5416J</td>\n",
       "      <td>Queen</td>\n",
       "      <td>Rock</td>\n",
       "    </tr>\n",
       "    <tr>\n",
       "      <th>1</th>\n",
       "      <td>Paradise City</td>\n",
       "      <td>3YBZIN3rekqsKxbJc9FZko</td>\n",
       "      <td>Guns N' Roses</td>\n",
       "      <td>Rock</td>\n",
       "    </tr>\n",
       "    <tr>\n",
       "      <th>2</th>\n",
       "      <td>Black Dog - Remaster</td>\n",
       "      <td>3qT4bUD1MaWpGrTwcvguhb</td>\n",
       "      <td>Led Zeppelin</td>\n",
       "      <td>Rock</td>\n",
       "    </tr>\n",
       "    <tr>\n",
       "      <th>3</th>\n",
       "      <td>Highway to Hell</td>\n",
       "      <td>2zYzyRzz6pRmhPzyfMEC8s</td>\n",
       "      <td>AC/DC</td>\n",
       "      <td>Rock</td>\n",
       "    </tr>\n",
       "    <tr>\n",
       "      <th>4</th>\n",
       "      <td>Dream On</td>\n",
       "      <td>5MxNLUsfh7uzROypsoO5qe</td>\n",
       "      <td>Aerosmith</td>\n",
       "      <td>Rock</td>\n",
       "    </tr>\n",
       "    <tr>\n",
       "      <th>...</th>\n",
       "      <td>...</td>\n",
       "      <td>...</td>\n",
       "      <td>...</td>\n",
       "      <td>...</td>\n",
       "    </tr>\n",
       "    <tr>\n",
       "      <th>161</th>\n",
       "      <td>Ramble On - 1990 Remaster</td>\n",
       "      <td>3MODES4TNtygekLl146Dxd</td>\n",
       "      <td>Led Zeppelin</td>\n",
       "      <td>Rock</td>\n",
       "    </tr>\n",
       "    <tr>\n",
       "      <th>162</th>\n",
       "      <td>Crazy On You</td>\n",
       "      <td>5zH710lFSLtkHbMkslLDjR</td>\n",
       "      <td>Heart</td>\n",
       "      <td>Rock</td>\n",
       "    </tr>\n",
       "    <tr>\n",
       "      <th>163</th>\n",
       "      <td>Foreplay / Long Time</td>\n",
       "      <td>5UYPZZDQfpCE7A0FDDqv4k</td>\n",
       "      <td>Boston</td>\n",
       "      <td>Rock</td>\n",
       "    </tr>\n",
       "    <tr>\n",
       "      <th>164</th>\n",
       "      <td>My Generation - Mono Version</td>\n",
       "      <td>45s88Xopo6KvHc0PQ05aGg</td>\n",
       "      <td>The Who</td>\n",
       "      <td>Rock</td>\n",
       "    </tr>\n",
       "    <tr>\n",
       "      <th>165</th>\n",
       "      <td>Light My Fire</td>\n",
       "      <td>5uvosCdMlFdTXhoazkTI5R</td>\n",
       "      <td>The Doors</td>\n",
       "      <td>Rock</td>\n",
       "    </tr>\n",
       "  </tbody>\n",
       "</table>\n",
       "<p>166 rows × 4 columns</p>\n",
       "</div>"
      ],
      "text/plain": [
       "                                        song_name                 song_ID  \\\n",
       "0    Another One Bites The Dust - Remastered 2011  57JVGBtBLCfHw2muk5416J   \n",
       "1                                   Paradise City  3YBZIN3rekqsKxbJc9FZko   \n",
       "2                            Black Dog - Remaster  3qT4bUD1MaWpGrTwcvguhb   \n",
       "3                                 Highway to Hell  2zYzyRzz6pRmhPzyfMEC8s   \n",
       "4                                        Dream On  5MxNLUsfh7uzROypsoO5qe   \n",
       "..                                            ...                     ...   \n",
       "161                     Ramble On - 1990 Remaster  3MODES4TNtygekLl146Dxd   \n",
       "162                                  Crazy On You  5zH710lFSLtkHbMkslLDjR   \n",
       "163                          Foreplay / Long Time  5UYPZZDQfpCE7A0FDDqv4k   \n",
       "164                  My Generation - Mono Version  45s88Xopo6KvHc0PQ05aGg   \n",
       "165                                 Light My Fire  5uvosCdMlFdTXhoazkTI5R   \n",
       "\n",
       "       song_artist Genre  \n",
       "0            Queen  Rock  \n",
       "1    Guns N' Roses  Rock  \n",
       "2     Led Zeppelin  Rock  \n",
       "3            AC/DC  Rock  \n",
       "4        Aerosmith  Rock  \n",
       "..             ...   ...  \n",
       "161   Led Zeppelin  Rock  \n",
       "162          Heart  Rock  \n",
       "163         Boston  Rock  \n",
       "164        The Who  Rock  \n",
       "165      The Doors  Rock  \n",
       "\n",
       "[166 rows x 4 columns]"
      ]
     },
     "execution_count": 77,
     "metadata": {},
     "output_type": "execute_result"
    }
   ],
   "source": [
    "playlist_rock_info"
   ]
  },
  {
   "cell_type": "markdown",
   "id": "f3ba6a2c",
   "metadata": {},
   "source": [
    "## Import playlists by genre TROPICAL HOUSE\n",
    "- I will import now a TROPICAL HOUSE playlist"
   ]
  },
  {
   "cell_type": "code",
   "execution_count": 78,
   "id": "fb793d0c",
   "metadata": {},
   "outputs": [],
   "source": [
    "## https://open.spotify.com/playlist/37i9dQZF1DX0AMssoUKCz7?si=8509345b0f7b4117\n",
    "## Spotify"
   ]
  },
  {
   "cell_type": "code",
   "execution_count": 79,
   "id": "e8b046ba",
   "metadata": {},
   "outputs": [],
   "source": [
    "tropical_playlist = sp.user_playlist_tracks(\"Spotify\", \"37i9dQZF1DX0AMssoUKCz7\")"
   ]
  },
  {
   "cell_type": "raw",
   "id": "f785f7fb",
   "metadata": {},
   "source": [
    "tropical_playlist"
   ]
  },
  {
   "cell_type": "code",
   "execution_count": 80,
   "id": "58ab4603",
   "metadata": {},
   "outputs": [
    {
     "data": {
      "text/plain": [
       "dict_keys(['href', 'items', 'limit', 'next', 'offset', 'previous', 'total'])"
      ]
     },
     "execution_count": 80,
     "metadata": {},
     "output_type": "execute_result"
    }
   ],
   "source": [
    "tropical_playlist.keys()"
   ]
  },
  {
   "cell_type": "raw",
   "id": "fcc5deb3",
   "metadata": {},
   "source": [
    "tropical_playlist['items'][3]"
   ]
  },
  {
   "cell_type": "code",
   "execution_count": 81,
   "id": "d8149f09",
   "metadata": {},
   "outputs": [
    {
     "data": {
      "text/plain": [
       "100"
      ]
     },
     "execution_count": 81,
     "metadata": {},
     "output_type": "execute_result"
    }
   ],
   "source": [
    "len(tropical_playlist['items'])"
   ]
  },
  {
   "cell_type": "code",
   "execution_count": 82,
   "id": "dbcaa063",
   "metadata": {},
   "outputs": [],
   "source": [
    "def get_playlist_tracks3(user_id, playlist_id):\n",
    "    results=sp.user_playlist_tracks(user_id, playlist_id)\n",
    "    tracks=results['items']\n",
    "    while results['next']:\n",
    "        results= sp.next(results)\n",
    "        tracks.extend(results['items'])\n",
    "    return tracks"
   ]
  },
  {
   "cell_type": "code",
   "execution_count": 83,
   "id": "0379932d",
   "metadata": {},
   "outputs": [],
   "source": [
    "results5=get_playlist_tracks3(\"Spotify\", \"37i9dQZF1DX0AMssoUKCz7\")"
   ]
  },
  {
   "cell_type": "code",
   "execution_count": 84,
   "id": "63352cc9",
   "metadata": {},
   "outputs": [
    {
     "data": {
      "text/plain": [
       "200"
      ]
     },
     "execution_count": 84,
     "metadata": {},
     "output_type": "execute_result"
    }
   ],
   "source": [
    "len(results5)"
   ]
  },
  {
   "cell_type": "code",
   "execution_count": 85,
   "id": "4cf0886d",
   "metadata": {},
   "outputs": [
    {
     "data": {
      "text/plain": [
       "dict_keys(['album', 'artists', 'available_markets', 'disc_number', 'duration_ms', 'episode', 'explicit', 'external_ids', 'external_urls', 'href', 'id', 'is_local', 'name', 'popularity', 'preview_url', 'track', 'track_number', 'type', 'uri'])"
      ]
     },
     "execution_count": 85,
     "metadata": {},
     "output_type": "execute_result"
    }
   ],
   "source": [
    "results5[0]['track'].keys()"
   ]
  },
  {
   "cell_type": "code",
   "execution_count": 86,
   "id": "ee62491d",
   "metadata": {},
   "outputs": [
    {
     "data": {
      "text/plain": [
       "['spotify:track', '4C020pCjavabKAGmjZZRmh']"
      ]
     },
     "execution_count": 86,
     "metadata": {},
     "output_type": "execute_result"
    }
   ],
   "source": [
    "results5[0]['track'][\"uri\"].rsplit(':',1)"
   ]
  },
  {
   "cell_type": "code",
   "execution_count": 87,
   "id": "4e63a7b3",
   "metadata": {},
   "outputs": [
    {
     "data": {
      "text/plain": [
       "dict_keys(['external_urls', 'href', 'id', 'name', 'type', 'uri'])"
      ]
     },
     "execution_count": 87,
     "metadata": {},
     "output_type": "execute_result"
    }
   ],
   "source": [
    "results5[0]['track'][\"artists\"][0].keys()"
   ]
  },
  {
   "cell_type": "code",
   "execution_count": 88,
   "id": "edd1b7ab",
   "metadata": {},
   "outputs": [],
   "source": [
    "song_name=[]\n",
    "song_URI=[]\n",
    "song_ID=[]\n",
    "song_artist=[]\n",
    "playlist=results5"
   ]
  },
  {
   "cell_type": "code",
   "execution_count": 89,
   "id": "7fd61ec8",
   "metadata": {},
   "outputs": [],
   "source": [
    "for r in results5:\n",
    "    song_URI.append(r[\"track\"][\"uri\"])\n",
    "    \n",
    "for r in results5: \n",
    "    song_ID.append(r[\"track\"][\"id\"])\n",
    "    \n",
    "for r in results5: \n",
    "    song_name.append(r[\"track\"][\"name\"])\n",
    "    \n",
    "for r in results5: \n",
    "    song_artist.append(r[\"track\"][\"artists\"][0][\"name\"])"
   ]
  },
  {
   "cell_type": "code",
   "execution_count": 90,
   "id": "c3a4c669",
   "metadata": {},
   "outputs": [],
   "source": [
    "playlist_tropical_info=pd.DataFrame({\"song_name\":song_name,\"song_ID\":song_ID,\"song_artist\":song_artist})"
   ]
  },
  {
   "cell_type": "code",
   "execution_count": 91,
   "id": "95bd60a6",
   "metadata": {},
   "outputs": [
    {
     "data": {
      "text/html": [
       "<div>\n",
       "<style scoped>\n",
       "    .dataframe tbody tr th:only-of-type {\n",
       "        vertical-align: middle;\n",
       "    }\n",
       "\n",
       "    .dataframe tbody tr th {\n",
       "        vertical-align: top;\n",
       "    }\n",
       "\n",
       "    .dataframe thead th {\n",
       "        text-align: right;\n",
       "    }\n",
       "</style>\n",
       "<table border=\"1\" class=\"dataframe\">\n",
       "  <thead>\n",
       "    <tr style=\"text-align: right;\">\n",
       "      <th></th>\n",
       "      <th>song_name</th>\n",
       "      <th>song_ID</th>\n",
       "      <th>song_artist</th>\n",
       "    </tr>\n",
       "  </thead>\n",
       "  <tbody>\n",
       "    <tr>\n",
       "      <th>0</th>\n",
       "      <td>Ride</td>\n",
       "      <td>4C020pCjavabKAGmjZZRmh</td>\n",
       "      <td>Madism</td>\n",
       "    </tr>\n",
       "    <tr>\n",
       "      <th>1</th>\n",
       "      <td>Tear Me Down (feat. Philip Rustad)</td>\n",
       "      <td>71UYuIZf0TeXAjyy72COVr</td>\n",
       "      <td>Davai</td>\n",
       "    </tr>\n",
       "    <tr>\n",
       "      <th>2</th>\n",
       "      <td>Summer Feeling</td>\n",
       "      <td>793OuR8rJ0zpVp708ONAxO</td>\n",
       "      <td>Matoma</td>\n",
       "    </tr>\n",
       "    <tr>\n",
       "      <th>3</th>\n",
       "      <td>The Best Days (feat. Tabitha)</td>\n",
       "      <td>140XpWSdJ0jZEbLj9iVnPA</td>\n",
       "      <td>Sam Feldt</td>\n",
       "    </tr>\n",
       "    <tr>\n",
       "      <th>4</th>\n",
       "      <td>Call On Me (feat. Georgia Ku)</td>\n",
       "      <td>3pBv3LfvfPft2TqHleqKHo</td>\n",
       "      <td>Sam Feldt</td>\n",
       "    </tr>\n",
       "    <tr>\n",
       "      <th>...</th>\n",
       "      <td>...</td>\n",
       "      <td>...</td>\n",
       "      <td>...</td>\n",
       "    </tr>\n",
       "    <tr>\n",
       "      <th>195</th>\n",
       "      <td>Cold Ain't For Me</td>\n",
       "      <td>43NJeiVFjYj6RtvAKWLnDo</td>\n",
       "      <td>Oceans</td>\n",
       "    </tr>\n",
       "    <tr>\n",
       "      <th>196</th>\n",
       "      <td>Somebody Else</td>\n",
       "      <td>6UW9S0skvWZ9PUvLti7aZP</td>\n",
       "      <td>Zonoma</td>\n",
       "    </tr>\n",
       "    <tr>\n",
       "      <th>197</th>\n",
       "      <td>Bring Me Down (ft. Bright Sparks)</td>\n",
       "      <td>1VPRoO8oPV8dIW47js8EA0</td>\n",
       "      <td>TV Noise</td>\n",
       "    </tr>\n",
       "    <tr>\n",
       "      <th>198</th>\n",
       "      <td>If You're Hearing This</td>\n",
       "      <td>1aJ1xeEQ1ivKGnTeuYolJk</td>\n",
       "      <td>Hook N Sling</td>\n",
       "    </tr>\n",
       "    <tr>\n",
       "      <th>199</th>\n",
       "      <td>Fade Away</td>\n",
       "      <td>1oLxfF4dmgoKunk9LCQBCX</td>\n",
       "      <td>Sam Feldt</td>\n",
       "    </tr>\n",
       "  </tbody>\n",
       "</table>\n",
       "<p>200 rows × 3 columns</p>\n",
       "</div>"
      ],
      "text/plain": [
       "                              song_name                 song_ID   song_artist\n",
       "0                                  Ride  4C020pCjavabKAGmjZZRmh        Madism\n",
       "1    Tear Me Down (feat. Philip Rustad)  71UYuIZf0TeXAjyy72COVr         Davai\n",
       "2                        Summer Feeling  793OuR8rJ0zpVp708ONAxO        Matoma\n",
       "3         The Best Days (feat. Tabitha)  140XpWSdJ0jZEbLj9iVnPA     Sam Feldt\n",
       "4         Call On Me (feat. Georgia Ku)  3pBv3LfvfPft2TqHleqKHo     Sam Feldt\n",
       "..                                  ...                     ...           ...\n",
       "195                   Cold Ain't For Me  43NJeiVFjYj6RtvAKWLnDo        Oceans\n",
       "196                       Somebody Else  6UW9S0skvWZ9PUvLti7aZP        Zonoma\n",
       "197   Bring Me Down (ft. Bright Sparks)  1VPRoO8oPV8dIW47js8EA0      TV Noise\n",
       "198              If You're Hearing This  1aJ1xeEQ1ivKGnTeuYolJk  Hook N Sling\n",
       "199                           Fade Away  1oLxfF4dmgoKunk9LCQBCX     Sam Feldt\n",
       "\n",
       "[200 rows x 3 columns]"
      ]
     },
     "execution_count": 91,
     "metadata": {},
     "output_type": "execute_result"
    }
   ],
   "source": [
    "playlist_tropical_info"
   ]
  },
  {
   "cell_type": "markdown",
   "id": "3f233933",
   "metadata": {},
   "source": [
    "### Add a new column for genre in playlist_tropical_info"
   ]
  },
  {
   "cell_type": "code",
   "execution_count": 92,
   "id": "ea4d0ff2",
   "metadata": {
    "scrolled": true
   },
   "outputs": [],
   "source": [
    "playlist_tropical_info.insert(3, 'Genre', 'Tropical') "
   ]
  },
  {
   "cell_type": "code",
   "execution_count": 93,
   "id": "75c1ef74",
   "metadata": {},
   "outputs": [
    {
     "data": {
      "text/html": [
       "<div>\n",
       "<style scoped>\n",
       "    .dataframe tbody tr th:only-of-type {\n",
       "        vertical-align: middle;\n",
       "    }\n",
       "\n",
       "    .dataframe tbody tr th {\n",
       "        vertical-align: top;\n",
       "    }\n",
       "\n",
       "    .dataframe thead th {\n",
       "        text-align: right;\n",
       "    }\n",
       "</style>\n",
       "<table border=\"1\" class=\"dataframe\">\n",
       "  <thead>\n",
       "    <tr style=\"text-align: right;\">\n",
       "      <th></th>\n",
       "      <th>song_name</th>\n",
       "      <th>song_ID</th>\n",
       "      <th>song_artist</th>\n",
       "      <th>Genre</th>\n",
       "    </tr>\n",
       "  </thead>\n",
       "  <tbody>\n",
       "    <tr>\n",
       "      <th>0</th>\n",
       "      <td>Ride</td>\n",
       "      <td>4C020pCjavabKAGmjZZRmh</td>\n",
       "      <td>Madism</td>\n",
       "      <td>Tropical</td>\n",
       "    </tr>\n",
       "    <tr>\n",
       "      <th>1</th>\n",
       "      <td>Tear Me Down (feat. Philip Rustad)</td>\n",
       "      <td>71UYuIZf0TeXAjyy72COVr</td>\n",
       "      <td>Davai</td>\n",
       "      <td>Tropical</td>\n",
       "    </tr>\n",
       "    <tr>\n",
       "      <th>2</th>\n",
       "      <td>Summer Feeling</td>\n",
       "      <td>793OuR8rJ0zpVp708ONAxO</td>\n",
       "      <td>Matoma</td>\n",
       "      <td>Tropical</td>\n",
       "    </tr>\n",
       "    <tr>\n",
       "      <th>3</th>\n",
       "      <td>The Best Days (feat. Tabitha)</td>\n",
       "      <td>140XpWSdJ0jZEbLj9iVnPA</td>\n",
       "      <td>Sam Feldt</td>\n",
       "      <td>Tropical</td>\n",
       "    </tr>\n",
       "    <tr>\n",
       "      <th>4</th>\n",
       "      <td>Call On Me (feat. Georgia Ku)</td>\n",
       "      <td>3pBv3LfvfPft2TqHleqKHo</td>\n",
       "      <td>Sam Feldt</td>\n",
       "      <td>Tropical</td>\n",
       "    </tr>\n",
       "    <tr>\n",
       "      <th>...</th>\n",
       "      <td>...</td>\n",
       "      <td>...</td>\n",
       "      <td>...</td>\n",
       "      <td>...</td>\n",
       "    </tr>\n",
       "    <tr>\n",
       "      <th>195</th>\n",
       "      <td>Cold Ain't For Me</td>\n",
       "      <td>43NJeiVFjYj6RtvAKWLnDo</td>\n",
       "      <td>Oceans</td>\n",
       "      <td>Tropical</td>\n",
       "    </tr>\n",
       "    <tr>\n",
       "      <th>196</th>\n",
       "      <td>Somebody Else</td>\n",
       "      <td>6UW9S0skvWZ9PUvLti7aZP</td>\n",
       "      <td>Zonoma</td>\n",
       "      <td>Tropical</td>\n",
       "    </tr>\n",
       "    <tr>\n",
       "      <th>197</th>\n",
       "      <td>Bring Me Down (ft. Bright Sparks)</td>\n",
       "      <td>1VPRoO8oPV8dIW47js8EA0</td>\n",
       "      <td>TV Noise</td>\n",
       "      <td>Tropical</td>\n",
       "    </tr>\n",
       "    <tr>\n",
       "      <th>198</th>\n",
       "      <td>If You're Hearing This</td>\n",
       "      <td>1aJ1xeEQ1ivKGnTeuYolJk</td>\n",
       "      <td>Hook N Sling</td>\n",
       "      <td>Tropical</td>\n",
       "    </tr>\n",
       "    <tr>\n",
       "      <th>199</th>\n",
       "      <td>Fade Away</td>\n",
       "      <td>1oLxfF4dmgoKunk9LCQBCX</td>\n",
       "      <td>Sam Feldt</td>\n",
       "      <td>Tropical</td>\n",
       "    </tr>\n",
       "  </tbody>\n",
       "</table>\n",
       "<p>200 rows × 4 columns</p>\n",
       "</div>"
      ],
      "text/plain": [
       "                              song_name                 song_ID   song_artist  \\\n",
       "0                                  Ride  4C020pCjavabKAGmjZZRmh        Madism   \n",
       "1    Tear Me Down (feat. Philip Rustad)  71UYuIZf0TeXAjyy72COVr         Davai   \n",
       "2                        Summer Feeling  793OuR8rJ0zpVp708ONAxO        Matoma   \n",
       "3         The Best Days (feat. Tabitha)  140XpWSdJ0jZEbLj9iVnPA     Sam Feldt   \n",
       "4         Call On Me (feat. Georgia Ku)  3pBv3LfvfPft2TqHleqKHo     Sam Feldt   \n",
       "..                                  ...                     ...           ...   \n",
       "195                   Cold Ain't For Me  43NJeiVFjYj6RtvAKWLnDo        Oceans   \n",
       "196                       Somebody Else  6UW9S0skvWZ9PUvLti7aZP        Zonoma   \n",
       "197   Bring Me Down (ft. Bright Sparks)  1VPRoO8oPV8dIW47js8EA0      TV Noise   \n",
       "198              If You're Hearing This  1aJ1xeEQ1ivKGnTeuYolJk  Hook N Sling   \n",
       "199                           Fade Away  1oLxfF4dmgoKunk9LCQBCX     Sam Feldt   \n",
       "\n",
       "        Genre  \n",
       "0    Tropical  \n",
       "1    Tropical  \n",
       "2    Tropical  \n",
       "3    Tropical  \n",
       "4    Tropical  \n",
       "..        ...  \n",
       "195  Tropical  \n",
       "196  Tropical  \n",
       "197  Tropical  \n",
       "198  Tropical  \n",
       "199  Tropical  \n",
       "\n",
       "[200 rows x 4 columns]"
      ]
     },
     "execution_count": 93,
     "metadata": {},
     "output_type": "execute_result"
    }
   ],
   "source": [
    "playlist_tropical_info"
   ]
  },
  {
   "cell_type": "markdown",
   "id": "25fea039",
   "metadata": {},
   "source": [
    "## Import playlists by genre HIPHOP\n",
    "- I will import now a HIPHOP playlist"
   ]
  },
  {
   "cell_type": "code",
   "execution_count": 94,
   "id": "b1363e55",
   "metadata": {},
   "outputs": [],
   "source": [
    "## https://open.spotify.com/playlist/33I6RpefRQcRh69xEczaKT?si=8bc85c31fb894e45\n",
    "## Leon Bouw"
   ]
  },
  {
   "cell_type": "code",
   "execution_count": 95,
   "id": "73ad238f",
   "metadata": {},
   "outputs": [],
   "source": [
    "hiphop_playlist = sp.user_playlist_tracks(\"Leon Bouw\", \"33I6RpefRQcRh69xEczaKT\")"
   ]
  },
  {
   "cell_type": "raw",
   "id": "673756bd",
   "metadata": {},
   "source": [
    "hiphop_playlist"
   ]
  },
  {
   "cell_type": "code",
   "execution_count": 96,
   "id": "4d9032aa",
   "metadata": {},
   "outputs": [
    {
     "data": {
      "text/plain": [
       "dict_keys(['href', 'items', 'limit', 'next', 'offset', 'previous', 'total'])"
      ]
     },
     "execution_count": 96,
     "metadata": {},
     "output_type": "execute_result"
    }
   ],
   "source": [
    "hiphop_playlist.keys()"
   ]
  },
  {
   "cell_type": "raw",
   "id": "2f7ff329",
   "metadata": {},
   "source": [
    "hiphop_playlist['items'][3]"
   ]
  },
  {
   "cell_type": "code",
   "execution_count": 97,
   "id": "e7c0461a",
   "metadata": {},
   "outputs": [
    {
     "data": {
      "text/plain": [
       "100"
      ]
     },
     "execution_count": 97,
     "metadata": {},
     "output_type": "execute_result"
    }
   ],
   "source": [
    "len(hiphop_playlist['items'])"
   ]
  },
  {
   "cell_type": "code",
   "execution_count": 98,
   "id": "ae294836",
   "metadata": {},
   "outputs": [],
   "source": [
    "def get_playlist_tracks4(user_id, playlist_id):\n",
    "    results=sp.user_playlist_tracks(user_id, playlist_id)\n",
    "    tracks=results['items']\n",
    "    while results['next']:\n",
    "        results= sp.next(results)\n",
    "        tracks.extend(results['items'])\n",
    "    return tracks"
   ]
  },
  {
   "cell_type": "code",
   "execution_count": 99,
   "id": "9ca45f55",
   "metadata": {},
   "outputs": [],
   "source": [
    "results6=get_playlist_tracks3(\"Leon Bouw\", \"33I6RpefRQcRh69xEczaKT\")"
   ]
  },
  {
   "cell_type": "code",
   "execution_count": 100,
   "id": "1284e656",
   "metadata": {},
   "outputs": [
    {
     "data": {
      "text/plain": [
       "265"
      ]
     },
     "execution_count": 100,
     "metadata": {},
     "output_type": "execute_result"
    }
   ],
   "source": [
    "len(results6)"
   ]
  },
  {
   "cell_type": "code",
   "execution_count": 101,
   "id": "e10cd8f3",
   "metadata": {},
   "outputs": [
    {
     "data": {
      "text/plain": [
       "dict_keys(['album', 'artists', 'available_markets', 'disc_number', 'duration_ms', 'episode', 'explicit', 'external_ids', 'external_urls', 'href', 'id', 'is_local', 'name', 'popularity', 'preview_url', 'track', 'track_number', 'type', 'uri'])"
      ]
     },
     "execution_count": 101,
     "metadata": {},
     "output_type": "execute_result"
    }
   ],
   "source": [
    "results6[0]['track'].keys()"
   ]
  },
  {
   "cell_type": "code",
   "execution_count": 102,
   "id": "9187164e",
   "metadata": {},
   "outputs": [
    {
     "data": {
      "text/plain": [
       "['spotify:track', '1YrHyDbH17btvI2rFTkbCQ']"
      ]
     },
     "execution_count": 102,
     "metadata": {},
     "output_type": "execute_result"
    }
   ],
   "source": [
    "results6[0]['track'][\"uri\"].rsplit(':',1)"
   ]
  },
  {
   "cell_type": "code",
   "execution_count": 103,
   "id": "637494e9",
   "metadata": {},
   "outputs": [],
   "source": [
    "song_name=[]\n",
    "song_URI=[]\n",
    "song_ID=[]\n",
    "song_artist=[]\n",
    "playlist=results6"
   ]
  },
  {
   "cell_type": "code",
   "execution_count": 104,
   "id": "4b27121c",
   "metadata": {},
   "outputs": [],
   "source": [
    "for r in results6:\n",
    "    song_URI.append(r[\"track\"][\"uri\"])\n",
    "    \n",
    "for r in results6: \n",
    "    song_ID.append(r[\"track\"][\"id\"])\n",
    "    \n",
    "for r in results6: \n",
    "    song_name.append(r[\"track\"][\"name\"])\n",
    "    \n",
    "for r in results6: \n",
    "    song_artist.append(r[\"track\"][\"artists\"][0][\"name\"])"
   ]
  },
  {
   "cell_type": "code",
   "execution_count": 105,
   "id": "f19eedc9",
   "metadata": {},
   "outputs": [],
   "source": [
    "playlist_hiphop_info=pd.DataFrame({\"song_name\":song_name,\"song_ID\":song_ID,\"song_artist\":song_artist})"
   ]
  },
  {
   "cell_type": "code",
   "execution_count": 106,
   "id": "a3ceaba7",
   "metadata": {},
   "outputs": [
    {
     "data": {
      "text/html": [
       "<div>\n",
       "<style scoped>\n",
       "    .dataframe tbody tr th:only-of-type {\n",
       "        vertical-align: middle;\n",
       "    }\n",
       "\n",
       "    .dataframe tbody tr th {\n",
       "        vertical-align: top;\n",
       "    }\n",
       "\n",
       "    .dataframe thead th {\n",
       "        text-align: right;\n",
       "    }\n",
       "</style>\n",
       "<table border=\"1\" class=\"dataframe\">\n",
       "  <thead>\n",
       "    <tr style=\"text-align: right;\">\n",
       "      <th></th>\n",
       "      <th>song_name</th>\n",
       "      <th>song_ID</th>\n",
       "      <th>song_artist</th>\n",
       "    </tr>\n",
       "  </thead>\n",
       "  <tbody>\n",
       "    <tr>\n",
       "      <th>0</th>\n",
       "      <td>Bitch Please</td>\n",
       "      <td>1YrHyDbH17btvI2rFTkbCQ</td>\n",
       "      <td>Snoop Dogg</td>\n",
       "    </tr>\n",
       "    <tr>\n",
       "      <th>1</th>\n",
       "      <td>How We Do</td>\n",
       "      <td>6mZcNu9i8uhOYMiEAyEx81</td>\n",
       "      <td>The Game</td>\n",
       "    </tr>\n",
       "    <tr>\n",
       "      <th>2</th>\n",
       "      <td>No Hands (feat. Roscoe Dash &amp; Wale)</td>\n",
       "      <td>6GgPsuz0HEO0nrO2T0QhDv</td>\n",
       "      <td>Waka Flocka Flame</td>\n",
       "    </tr>\n",
       "    <tr>\n",
       "      <th>3</th>\n",
       "      <td>Gorgeous</td>\n",
       "      <td>1yhQGEykn7ZTNLwcIjOAwZ</td>\n",
       "      <td>Kanye West</td>\n",
       "    </tr>\n",
       "    <tr>\n",
       "      <th>4</th>\n",
       "      <td>99 Problems</td>\n",
       "      <td>4HsL5A46wa0O2jQ0ngj3H7</td>\n",
       "      <td>JAY-Z</td>\n",
       "    </tr>\n",
       "    <tr>\n",
       "      <th>...</th>\n",
       "      <td>...</td>\n",
       "      <td>...</td>\n",
       "      <td>...</td>\n",
       "    </tr>\n",
       "    <tr>\n",
       "      <th>260</th>\n",
       "      <td>Yo Sassy Ways</td>\n",
       "      <td>0J1siBLQBHYgYKeFgu7RAY</td>\n",
       "      <td>Warren G</td>\n",
       "    </tr>\n",
       "    <tr>\n",
       "      <th>261</th>\n",
       "      <td>Cisco Kid</td>\n",
       "      <td>0CJ3Y3V6UQn5X7IjXDO3IO</td>\n",
       "      <td>Redman</td>\n",
       "    </tr>\n",
       "    <tr>\n",
       "      <th>262</th>\n",
       "      <td>Woah! - Radio Mix</td>\n",
       "      <td>5fZjSIReYPJIPwpvrsyW3o</td>\n",
       "      <td>Black Rob</td>\n",
       "    </tr>\n",
       "    <tr>\n",
       "      <th>263</th>\n",
       "      <td>I Don't Wanna Care Right Now (feat. MDMA)</td>\n",
       "      <td>5yhXLtQL9waNMjgkl8MsMP</td>\n",
       "      <td>Lupe Fiasco</td>\n",
       "    </tr>\n",
       "    <tr>\n",
       "      <th>264</th>\n",
       "      <td>The Potion</td>\n",
       "      <td>4zXMw51RgLPRE3vPDuqBvt</td>\n",
       "      <td>Ludacris</td>\n",
       "    </tr>\n",
       "  </tbody>\n",
       "</table>\n",
       "<p>265 rows × 3 columns</p>\n",
       "</div>"
      ],
      "text/plain": [
       "                                     song_name                 song_ID  \\\n",
       "0                                 Bitch Please  1YrHyDbH17btvI2rFTkbCQ   \n",
       "1                                    How We Do  6mZcNu9i8uhOYMiEAyEx81   \n",
       "2          No Hands (feat. Roscoe Dash & Wale)  6GgPsuz0HEO0nrO2T0QhDv   \n",
       "3                                     Gorgeous  1yhQGEykn7ZTNLwcIjOAwZ   \n",
       "4                                  99 Problems  4HsL5A46wa0O2jQ0ngj3H7   \n",
       "..                                         ...                     ...   \n",
       "260                              Yo Sassy Ways  0J1siBLQBHYgYKeFgu7RAY   \n",
       "261                                  Cisco Kid  0CJ3Y3V6UQn5X7IjXDO3IO   \n",
       "262                          Woah! - Radio Mix  5fZjSIReYPJIPwpvrsyW3o   \n",
       "263  I Don't Wanna Care Right Now (feat. MDMA)  5yhXLtQL9waNMjgkl8MsMP   \n",
       "264                                 The Potion  4zXMw51RgLPRE3vPDuqBvt   \n",
       "\n",
       "           song_artist  \n",
       "0           Snoop Dogg  \n",
       "1             The Game  \n",
       "2    Waka Flocka Flame  \n",
       "3           Kanye West  \n",
       "4                JAY-Z  \n",
       "..                 ...  \n",
       "260           Warren G  \n",
       "261             Redman  \n",
       "262          Black Rob  \n",
       "263        Lupe Fiasco  \n",
       "264           Ludacris  \n",
       "\n",
       "[265 rows x 3 columns]"
      ]
     },
     "execution_count": 106,
     "metadata": {},
     "output_type": "execute_result"
    }
   ],
   "source": [
    "playlist_hiphop_info"
   ]
  },
  {
   "cell_type": "markdown",
   "id": "6188ef8b",
   "metadata": {},
   "source": [
    "### Add a new column for genre in playlist_hiphop_info"
   ]
  },
  {
   "cell_type": "code",
   "execution_count": 107,
   "id": "a1e78025",
   "metadata": {},
   "outputs": [],
   "source": [
    "playlist_hiphop_info.insert(3, 'Genre', 'HipHop') "
   ]
  },
  {
   "cell_type": "code",
   "execution_count": 108,
   "id": "4d7d12be",
   "metadata": {},
   "outputs": [
    {
     "data": {
      "text/html": [
       "<div>\n",
       "<style scoped>\n",
       "    .dataframe tbody tr th:only-of-type {\n",
       "        vertical-align: middle;\n",
       "    }\n",
       "\n",
       "    .dataframe tbody tr th {\n",
       "        vertical-align: top;\n",
       "    }\n",
       "\n",
       "    .dataframe thead th {\n",
       "        text-align: right;\n",
       "    }\n",
       "</style>\n",
       "<table border=\"1\" class=\"dataframe\">\n",
       "  <thead>\n",
       "    <tr style=\"text-align: right;\">\n",
       "      <th></th>\n",
       "      <th>song_name</th>\n",
       "      <th>song_ID</th>\n",
       "      <th>song_artist</th>\n",
       "      <th>Genre</th>\n",
       "    </tr>\n",
       "  </thead>\n",
       "  <tbody>\n",
       "    <tr>\n",
       "      <th>0</th>\n",
       "      <td>Bitch Please</td>\n",
       "      <td>1YrHyDbH17btvI2rFTkbCQ</td>\n",
       "      <td>Snoop Dogg</td>\n",
       "      <td>HipHop</td>\n",
       "    </tr>\n",
       "    <tr>\n",
       "      <th>1</th>\n",
       "      <td>How We Do</td>\n",
       "      <td>6mZcNu9i8uhOYMiEAyEx81</td>\n",
       "      <td>The Game</td>\n",
       "      <td>HipHop</td>\n",
       "    </tr>\n",
       "    <tr>\n",
       "      <th>2</th>\n",
       "      <td>No Hands (feat. Roscoe Dash &amp; Wale)</td>\n",
       "      <td>6GgPsuz0HEO0nrO2T0QhDv</td>\n",
       "      <td>Waka Flocka Flame</td>\n",
       "      <td>HipHop</td>\n",
       "    </tr>\n",
       "    <tr>\n",
       "      <th>3</th>\n",
       "      <td>Gorgeous</td>\n",
       "      <td>1yhQGEykn7ZTNLwcIjOAwZ</td>\n",
       "      <td>Kanye West</td>\n",
       "      <td>HipHop</td>\n",
       "    </tr>\n",
       "    <tr>\n",
       "      <th>4</th>\n",
       "      <td>99 Problems</td>\n",
       "      <td>4HsL5A46wa0O2jQ0ngj3H7</td>\n",
       "      <td>JAY-Z</td>\n",
       "      <td>HipHop</td>\n",
       "    </tr>\n",
       "    <tr>\n",
       "      <th>...</th>\n",
       "      <td>...</td>\n",
       "      <td>...</td>\n",
       "      <td>...</td>\n",
       "      <td>...</td>\n",
       "    </tr>\n",
       "    <tr>\n",
       "      <th>260</th>\n",
       "      <td>Yo Sassy Ways</td>\n",
       "      <td>0J1siBLQBHYgYKeFgu7RAY</td>\n",
       "      <td>Warren G</td>\n",
       "      <td>HipHop</td>\n",
       "    </tr>\n",
       "    <tr>\n",
       "      <th>261</th>\n",
       "      <td>Cisco Kid</td>\n",
       "      <td>0CJ3Y3V6UQn5X7IjXDO3IO</td>\n",
       "      <td>Redman</td>\n",
       "      <td>HipHop</td>\n",
       "    </tr>\n",
       "    <tr>\n",
       "      <th>262</th>\n",
       "      <td>Woah! - Radio Mix</td>\n",
       "      <td>5fZjSIReYPJIPwpvrsyW3o</td>\n",
       "      <td>Black Rob</td>\n",
       "      <td>HipHop</td>\n",
       "    </tr>\n",
       "    <tr>\n",
       "      <th>263</th>\n",
       "      <td>I Don't Wanna Care Right Now (feat. MDMA)</td>\n",
       "      <td>5yhXLtQL9waNMjgkl8MsMP</td>\n",
       "      <td>Lupe Fiasco</td>\n",
       "      <td>HipHop</td>\n",
       "    </tr>\n",
       "    <tr>\n",
       "      <th>264</th>\n",
       "      <td>The Potion</td>\n",
       "      <td>4zXMw51RgLPRE3vPDuqBvt</td>\n",
       "      <td>Ludacris</td>\n",
       "      <td>HipHop</td>\n",
       "    </tr>\n",
       "  </tbody>\n",
       "</table>\n",
       "<p>265 rows × 4 columns</p>\n",
       "</div>"
      ],
      "text/plain": [
       "                                     song_name                 song_ID  \\\n",
       "0                                 Bitch Please  1YrHyDbH17btvI2rFTkbCQ   \n",
       "1                                    How We Do  6mZcNu9i8uhOYMiEAyEx81   \n",
       "2          No Hands (feat. Roscoe Dash & Wale)  6GgPsuz0HEO0nrO2T0QhDv   \n",
       "3                                     Gorgeous  1yhQGEykn7ZTNLwcIjOAwZ   \n",
       "4                                  99 Problems  4HsL5A46wa0O2jQ0ngj3H7   \n",
       "..                                         ...                     ...   \n",
       "260                              Yo Sassy Ways  0J1siBLQBHYgYKeFgu7RAY   \n",
       "261                                  Cisco Kid  0CJ3Y3V6UQn5X7IjXDO3IO   \n",
       "262                          Woah! - Radio Mix  5fZjSIReYPJIPwpvrsyW3o   \n",
       "263  I Don't Wanna Care Right Now (feat. MDMA)  5yhXLtQL9waNMjgkl8MsMP   \n",
       "264                                 The Potion  4zXMw51RgLPRE3vPDuqBvt   \n",
       "\n",
       "           song_artist   Genre  \n",
       "0           Snoop Dogg  HipHop  \n",
       "1             The Game  HipHop  \n",
       "2    Waka Flocka Flame  HipHop  \n",
       "3           Kanye West  HipHop  \n",
       "4                JAY-Z  HipHop  \n",
       "..                 ...     ...  \n",
       "260           Warren G  HipHop  \n",
       "261             Redman  HipHop  \n",
       "262          Black Rob  HipHop  \n",
       "263        Lupe Fiasco  HipHop  \n",
       "264           Ludacris  HipHop  \n",
       "\n",
       "[265 rows x 4 columns]"
      ]
     },
     "execution_count": 108,
     "metadata": {},
     "output_type": "execute_result"
    }
   ],
   "source": [
    "playlist_hiphop_info"
   ]
  },
  {
   "cell_type": "markdown",
   "id": "239707da",
   "metadata": {},
   "source": [
    "## Import playlists by genre LATIN\n",
    "- I will import now a LATIN playlist"
   ]
  },
  {
   "cell_type": "code",
   "execution_count": 109,
   "id": "8e1ab6fc",
   "metadata": {},
   "outputs": [],
   "source": [
    "## https://open.spotify.com/playlist/4DLmZ0UM8TH0UXRfI0Mvu6?si=138328e1e1b44091\n",
    "## MiKeL"
   ]
  },
  {
   "cell_type": "code",
   "execution_count": 110,
   "id": "0f5071fa",
   "metadata": {},
   "outputs": [],
   "source": [
    "latin_playlist = sp.user_playlist_tracks(\"MiKeL\", \"4DLmZ0UM8TH0UXRfI0Mvu6\")"
   ]
  },
  {
   "cell_type": "raw",
   "id": "385755ae",
   "metadata": {},
   "source": [
    "latin_playlist"
   ]
  },
  {
   "cell_type": "code",
   "execution_count": 111,
   "id": "75993d80",
   "metadata": {},
   "outputs": [
    {
     "data": {
      "text/plain": [
       "dict_keys(['href', 'items', 'limit', 'next', 'offset', 'previous', 'total'])"
      ]
     },
     "execution_count": 111,
     "metadata": {},
     "output_type": "execute_result"
    }
   ],
   "source": [
    "latin_playlist.keys()"
   ]
  },
  {
   "cell_type": "raw",
   "id": "82f9e83d",
   "metadata": {},
   "source": [
    "latin_playlist['items'][3]"
   ]
  },
  {
   "cell_type": "code",
   "execution_count": 112,
   "id": "c0ee3722",
   "metadata": {},
   "outputs": [
    {
     "data": {
      "text/plain": [
       "100"
      ]
     },
     "execution_count": 112,
     "metadata": {},
     "output_type": "execute_result"
    }
   ],
   "source": [
    "len(latin_playlist['items'])"
   ]
  },
  {
   "cell_type": "code",
   "execution_count": 113,
   "id": "08f4d245",
   "metadata": {},
   "outputs": [],
   "source": [
    "def get_playlist_tracks5(user_id, playlist_id):\n",
    "    results=sp.user_playlist_tracks(user_id, playlist_id)\n",
    "    tracks=results['items']\n",
    "    while results['next']:\n",
    "        results= sp.next(results)\n",
    "        tracks.extend(results['items'])\n",
    "    return tracks"
   ]
  },
  {
   "cell_type": "code",
   "execution_count": 114,
   "id": "226ad822",
   "metadata": {},
   "outputs": [],
   "source": [
    "results7=get_playlist_tracks5(\"MiKeL\", \"4DLmZ0UM8TH0UXRfI0Mvu6\")"
   ]
  },
  {
   "cell_type": "code",
   "execution_count": 115,
   "id": "b78a5213",
   "metadata": {},
   "outputs": [
    {
     "data": {
      "text/plain": [
       "271"
      ]
     },
     "execution_count": 115,
     "metadata": {},
     "output_type": "execute_result"
    }
   ],
   "source": [
    "len(results7)"
   ]
  },
  {
   "cell_type": "code",
   "execution_count": 116,
   "id": "4b8eab8f",
   "metadata": {},
   "outputs": [
    {
     "data": {
      "text/plain": [
       "dict_keys(['album', 'artists', 'available_markets', 'disc_number', 'duration_ms', 'episode', 'explicit', 'external_ids', 'external_urls', 'href', 'id', 'is_local', 'name', 'popularity', 'preview_url', 'track', 'track_number', 'type', 'uri'])"
      ]
     },
     "execution_count": 116,
     "metadata": {},
     "output_type": "execute_result"
    }
   ],
   "source": [
    "results7[0]['track'].keys()"
   ]
  },
  {
   "cell_type": "code",
   "execution_count": 117,
   "id": "30e75bec",
   "metadata": {},
   "outputs": [
    {
     "data": {
      "text/plain": [
       "['spotify:track', '1ZcrHpBbILPNfhBtPhQVHh']"
      ]
     },
     "execution_count": 117,
     "metadata": {},
     "output_type": "execute_result"
    }
   ],
   "source": [
    "results7[0]['track'][\"uri\"].rsplit(':',1)"
   ]
  },
  {
   "cell_type": "code",
   "execution_count": 118,
   "id": "dfb872a3",
   "metadata": {},
   "outputs": [],
   "source": [
    "song_name=[]\n",
    "song_URI=[]\n",
    "song_ID=[]\n",
    "song_artist=[]\n",
    "playlist=results7"
   ]
  },
  {
   "cell_type": "code",
   "execution_count": 119,
   "id": "1a787208",
   "metadata": {},
   "outputs": [],
   "source": [
    "for r in results7:\n",
    "    song_URI.append(r[\"track\"][\"uri\"])\n",
    "    \n",
    "for r in results7: \n",
    "    song_ID.append(r[\"track\"][\"id\"])\n",
    "    \n",
    "for r in results7: \n",
    "    song_name.append(r[\"track\"][\"name\"])\n",
    "    \n",
    "for r in results7: \n",
    "    song_artist.append(r[\"track\"][\"artists\"][0][\"name\"])"
   ]
  },
  {
   "cell_type": "code",
   "execution_count": 120,
   "id": "b23b733c",
   "metadata": {},
   "outputs": [],
   "source": [
    "playlist_latin_info=pd.DataFrame({\"song_name\":song_name,\"song_ID\":song_ID,\"song_artist\":song_artist})"
   ]
  },
  {
   "cell_type": "code",
   "execution_count": 121,
   "id": "31dcf10f",
   "metadata": {},
   "outputs": [
    {
     "data": {
      "text/html": [
       "<div>\n",
       "<style scoped>\n",
       "    .dataframe tbody tr th:only-of-type {\n",
       "        vertical-align: middle;\n",
       "    }\n",
       "\n",
       "    .dataframe tbody tr th {\n",
       "        vertical-align: top;\n",
       "    }\n",
       "\n",
       "    .dataframe thead th {\n",
       "        text-align: right;\n",
       "    }\n",
       "</style>\n",
       "<table border=\"1\" class=\"dataframe\">\n",
       "  <thead>\n",
       "    <tr style=\"text-align: right;\">\n",
       "      <th></th>\n",
       "      <th>song_name</th>\n",
       "      <th>song_ID</th>\n",
       "      <th>song_artist</th>\n",
       "    </tr>\n",
       "  </thead>\n",
       "  <tbody>\n",
       "    <tr>\n",
       "      <th>0</th>\n",
       "      <td>Se Menea</td>\n",
       "      <td>1ZcrHpBbILPNfhBtPhQVHh</td>\n",
       "      <td>Don Omar</td>\n",
       "    </tr>\n",
       "    <tr>\n",
       "      <th>1</th>\n",
       "      <td>Una Vaina Loca</td>\n",
       "      <td>2qEoAz0i6yEz5dPggABcLH</td>\n",
       "      <td>Fuego</td>\n",
       "    </tr>\n",
       "    <tr>\n",
       "      <th>2</th>\n",
       "      <td>Señor Juez</td>\n",
       "      <td>2PH533J1xudlfZ5GaHAdVX</td>\n",
       "      <td>Ozuna</td>\n",
       "    </tr>\n",
       "    <tr>\n",
       "      <th>3</th>\n",
       "      <td>Ella - Remix</td>\n",
       "      <td>7iHHlCbsFou5DZSW5HCPfs</td>\n",
       "      <td>Boza</td>\n",
       "    </tr>\n",
       "    <tr>\n",
       "      <th>4</th>\n",
       "      <td>Unfollow</td>\n",
       "      <td>6GsD646HrIDJJpzoY9T1Rt</td>\n",
       "      <td>Duki</td>\n",
       "    </tr>\n",
       "    <tr>\n",
       "      <th>...</th>\n",
       "      <td>...</td>\n",
       "      <td>...</td>\n",
       "      <td>...</td>\n",
       "    </tr>\n",
       "    <tr>\n",
       "      <th>266</th>\n",
       "      <td>Ay Vamos</td>\n",
       "      <td>6Ges5C2IE738iJh4HyQizQ</td>\n",
       "      <td>J Balvin</td>\n",
       "    </tr>\n",
       "    <tr>\n",
       "      <th>267</th>\n",
       "      <td>Love Not War (The Tampa Beat)</td>\n",
       "      <td>4Lt6GXGzYsa1tgkv3nGSTm</td>\n",
       "      <td>Jason Derulo</td>\n",
       "    </tr>\n",
       "    <tr>\n",
       "      <th>268</th>\n",
       "      <td>BICHOTA</td>\n",
       "      <td>7vrJn5hDSXRmdXoR30KgF1</td>\n",
       "      <td>KAROL G</td>\n",
       "    </tr>\n",
       "    <tr>\n",
       "      <th>269</th>\n",
       "      <td>Hey DJ</td>\n",
       "      <td>1XgpK29CGGjZnxPYkiRbh4</td>\n",
       "      <td>CNCO</td>\n",
       "    </tr>\n",
       "    <tr>\n",
       "      <th>270</th>\n",
       "      <td>Danza Kuduro</td>\n",
       "      <td>4sCSUQnWQ6HJsOMjfPicdn</td>\n",
       "      <td>Don Omar</td>\n",
       "    </tr>\n",
       "  </tbody>\n",
       "</table>\n",
       "<p>271 rows × 3 columns</p>\n",
       "</div>"
      ],
      "text/plain": [
       "                         song_name                 song_ID   song_artist\n",
       "0                         Se Menea  1ZcrHpBbILPNfhBtPhQVHh      Don Omar\n",
       "1                   Una Vaina Loca  2qEoAz0i6yEz5dPggABcLH         Fuego\n",
       "2                       Señor Juez  2PH533J1xudlfZ5GaHAdVX         Ozuna\n",
       "3                     Ella - Remix  7iHHlCbsFou5DZSW5HCPfs          Boza\n",
       "4                         Unfollow  6GsD646HrIDJJpzoY9T1Rt          Duki\n",
       "..                             ...                     ...           ...\n",
       "266                       Ay Vamos  6Ges5C2IE738iJh4HyQizQ      J Balvin\n",
       "267  Love Not War (The Tampa Beat)  4Lt6GXGzYsa1tgkv3nGSTm  Jason Derulo\n",
       "268                        BICHOTA  7vrJn5hDSXRmdXoR30KgF1       KAROL G\n",
       "269                         Hey DJ  1XgpK29CGGjZnxPYkiRbh4          CNCO\n",
       "270                   Danza Kuduro  4sCSUQnWQ6HJsOMjfPicdn      Don Omar\n",
       "\n",
       "[271 rows x 3 columns]"
      ]
     },
     "execution_count": 121,
     "metadata": {},
     "output_type": "execute_result"
    }
   ],
   "source": [
    "playlist_latin_info"
   ]
  },
  {
   "cell_type": "markdown",
   "id": "c52c72a9",
   "metadata": {},
   "source": [
    "### Add a new column for genre in playlist_latin_info"
   ]
  },
  {
   "cell_type": "code",
   "execution_count": 122,
   "id": "5b8560c3",
   "metadata": {},
   "outputs": [],
   "source": [
    "playlist_latin_info.insert(3, 'Genre', 'Latin') "
   ]
  },
  {
   "cell_type": "code",
   "execution_count": 123,
   "id": "5b46c8db",
   "metadata": {},
   "outputs": [
    {
     "data": {
      "text/html": [
       "<div>\n",
       "<style scoped>\n",
       "    .dataframe tbody tr th:only-of-type {\n",
       "        vertical-align: middle;\n",
       "    }\n",
       "\n",
       "    .dataframe tbody tr th {\n",
       "        vertical-align: top;\n",
       "    }\n",
       "\n",
       "    .dataframe thead th {\n",
       "        text-align: right;\n",
       "    }\n",
       "</style>\n",
       "<table border=\"1\" class=\"dataframe\">\n",
       "  <thead>\n",
       "    <tr style=\"text-align: right;\">\n",
       "      <th></th>\n",
       "      <th>song_name</th>\n",
       "      <th>song_ID</th>\n",
       "      <th>song_artist</th>\n",
       "      <th>Genre</th>\n",
       "    </tr>\n",
       "  </thead>\n",
       "  <tbody>\n",
       "    <tr>\n",
       "      <th>0</th>\n",
       "      <td>Se Menea</td>\n",
       "      <td>1ZcrHpBbILPNfhBtPhQVHh</td>\n",
       "      <td>Don Omar</td>\n",
       "      <td>Latin</td>\n",
       "    </tr>\n",
       "    <tr>\n",
       "      <th>1</th>\n",
       "      <td>Una Vaina Loca</td>\n",
       "      <td>2qEoAz0i6yEz5dPggABcLH</td>\n",
       "      <td>Fuego</td>\n",
       "      <td>Latin</td>\n",
       "    </tr>\n",
       "    <tr>\n",
       "      <th>2</th>\n",
       "      <td>Señor Juez</td>\n",
       "      <td>2PH533J1xudlfZ5GaHAdVX</td>\n",
       "      <td>Ozuna</td>\n",
       "      <td>Latin</td>\n",
       "    </tr>\n",
       "    <tr>\n",
       "      <th>3</th>\n",
       "      <td>Ella - Remix</td>\n",
       "      <td>7iHHlCbsFou5DZSW5HCPfs</td>\n",
       "      <td>Boza</td>\n",
       "      <td>Latin</td>\n",
       "    </tr>\n",
       "    <tr>\n",
       "      <th>4</th>\n",
       "      <td>Unfollow</td>\n",
       "      <td>6GsD646HrIDJJpzoY9T1Rt</td>\n",
       "      <td>Duki</td>\n",
       "      <td>Latin</td>\n",
       "    </tr>\n",
       "    <tr>\n",
       "      <th>...</th>\n",
       "      <td>...</td>\n",
       "      <td>...</td>\n",
       "      <td>...</td>\n",
       "      <td>...</td>\n",
       "    </tr>\n",
       "    <tr>\n",
       "      <th>266</th>\n",
       "      <td>Ay Vamos</td>\n",
       "      <td>6Ges5C2IE738iJh4HyQizQ</td>\n",
       "      <td>J Balvin</td>\n",
       "      <td>Latin</td>\n",
       "    </tr>\n",
       "    <tr>\n",
       "      <th>267</th>\n",
       "      <td>Love Not War (The Tampa Beat)</td>\n",
       "      <td>4Lt6GXGzYsa1tgkv3nGSTm</td>\n",
       "      <td>Jason Derulo</td>\n",
       "      <td>Latin</td>\n",
       "    </tr>\n",
       "    <tr>\n",
       "      <th>268</th>\n",
       "      <td>BICHOTA</td>\n",
       "      <td>7vrJn5hDSXRmdXoR30KgF1</td>\n",
       "      <td>KAROL G</td>\n",
       "      <td>Latin</td>\n",
       "    </tr>\n",
       "    <tr>\n",
       "      <th>269</th>\n",
       "      <td>Hey DJ</td>\n",
       "      <td>1XgpK29CGGjZnxPYkiRbh4</td>\n",
       "      <td>CNCO</td>\n",
       "      <td>Latin</td>\n",
       "    </tr>\n",
       "    <tr>\n",
       "      <th>270</th>\n",
       "      <td>Danza Kuduro</td>\n",
       "      <td>4sCSUQnWQ6HJsOMjfPicdn</td>\n",
       "      <td>Don Omar</td>\n",
       "      <td>Latin</td>\n",
       "    </tr>\n",
       "  </tbody>\n",
       "</table>\n",
       "<p>271 rows × 4 columns</p>\n",
       "</div>"
      ],
      "text/plain": [
       "                         song_name                 song_ID   song_artist  \\\n",
       "0                         Se Menea  1ZcrHpBbILPNfhBtPhQVHh      Don Omar   \n",
       "1                   Una Vaina Loca  2qEoAz0i6yEz5dPggABcLH         Fuego   \n",
       "2                       Señor Juez  2PH533J1xudlfZ5GaHAdVX         Ozuna   \n",
       "3                     Ella - Remix  7iHHlCbsFou5DZSW5HCPfs          Boza   \n",
       "4                         Unfollow  6GsD646HrIDJJpzoY9T1Rt          Duki   \n",
       "..                             ...                     ...           ...   \n",
       "266                       Ay Vamos  6Ges5C2IE738iJh4HyQizQ      J Balvin   \n",
       "267  Love Not War (The Tampa Beat)  4Lt6GXGzYsa1tgkv3nGSTm  Jason Derulo   \n",
       "268                        BICHOTA  7vrJn5hDSXRmdXoR30KgF1       KAROL G   \n",
       "269                         Hey DJ  1XgpK29CGGjZnxPYkiRbh4          CNCO   \n",
       "270                   Danza Kuduro  4sCSUQnWQ6HJsOMjfPicdn      Don Omar   \n",
       "\n",
       "     Genre  \n",
       "0    Latin  \n",
       "1    Latin  \n",
       "2    Latin  \n",
       "3    Latin  \n",
       "4    Latin  \n",
       "..     ...  \n",
       "266  Latin  \n",
       "267  Latin  \n",
       "268  Latin  \n",
       "269  Latin  \n",
       "270  Latin  \n",
       "\n",
       "[271 rows x 4 columns]"
      ]
     },
     "execution_count": 123,
     "metadata": {},
     "output_type": "execute_result"
    }
   ],
   "source": [
    "playlist_latin_info"
   ]
  },
  {
   "cell_type": "markdown",
   "id": "00f1c978",
   "metadata": {},
   "source": [
    "## Import playlists by genre SPANISH\n",
    "- I will import now a SPANISH playlist"
   ]
  },
  {
   "cell_type": "code",
   "execution_count": 124,
   "id": "69cf548b",
   "metadata": {},
   "outputs": [],
   "source": [
    "## https://open.spotify.com/playlist/1oUJ31mriViDmfMliMXRRZ?si=c25b5ae7a9d546cb\n",
    "## Gr Fausto"
   ]
  },
  {
   "cell_type": "code",
   "execution_count": 125,
   "id": "41a9eab6",
   "metadata": {},
   "outputs": [],
   "source": [
    "spanish_playlist = sp.user_playlist_tracks(\"Gr Fausto\", \"1oUJ31mriViDmfMliMXRRZ\")"
   ]
  },
  {
   "cell_type": "raw",
   "id": "1a12e7e4",
   "metadata": {},
   "source": [
    "spanish_playlist"
   ]
  },
  {
   "cell_type": "code",
   "execution_count": 126,
   "id": "5cd6fe29",
   "metadata": {},
   "outputs": [
    {
     "data": {
      "text/plain": [
       "dict_keys(['href', 'items', 'limit', 'next', 'offset', 'previous', 'total'])"
      ]
     },
     "execution_count": 126,
     "metadata": {},
     "output_type": "execute_result"
    }
   ],
   "source": [
    "spanish_playlist.keys()"
   ]
  },
  {
   "cell_type": "raw",
   "id": "68026ee1",
   "metadata": {},
   "source": [
    "spanish_playlist['items'][3]"
   ]
  },
  {
   "cell_type": "code",
   "execution_count": 127,
   "id": "0d51db41",
   "metadata": {},
   "outputs": [
    {
     "data": {
      "text/plain": [
       "100"
      ]
     },
     "execution_count": 127,
     "metadata": {},
     "output_type": "execute_result"
    }
   ],
   "source": [
    "len(spanish_playlist['items'])"
   ]
  },
  {
   "cell_type": "code",
   "execution_count": 128,
   "id": "5fbd2d74",
   "metadata": {},
   "outputs": [],
   "source": [
    "def get_playlist_tracks6(user_id, playlist_id):\n",
    "    results=sp.user_playlist_tracks(user_id, playlist_id)\n",
    "    tracks=results['items']\n",
    "    while results['next']:\n",
    "        results= sp.next(results)\n",
    "        tracks.extend(results['items'])\n",
    "    return tracks"
   ]
  },
  {
   "cell_type": "code",
   "execution_count": 129,
   "id": "224b8af4",
   "metadata": {},
   "outputs": [],
   "source": [
    "results8=get_playlist_tracks6(\"Gr Fausto\", \"1oUJ31mriViDmfMliMXRRZ\")"
   ]
  },
  {
   "cell_type": "code",
   "execution_count": 130,
   "id": "3a3fe8d3",
   "metadata": {},
   "outputs": [
    {
     "data": {
      "text/plain": [
       "597"
      ]
     },
     "execution_count": 130,
     "metadata": {},
     "output_type": "execute_result"
    }
   ],
   "source": [
    "len(results8)"
   ]
  },
  {
   "cell_type": "code",
   "execution_count": 131,
   "id": "6e1bd310",
   "metadata": {},
   "outputs": [
    {
     "data": {
      "text/plain": [
       "dict_keys(['album', 'artists', 'available_markets', 'disc_number', 'duration_ms', 'episode', 'explicit', 'external_ids', 'external_urls', 'href', 'id', 'is_local', 'name', 'popularity', 'preview_url', 'track', 'track_number', 'type', 'uri'])"
      ]
     },
     "execution_count": 131,
     "metadata": {},
     "output_type": "execute_result"
    }
   ],
   "source": [
    "results8[0]['track'].keys()"
   ]
  },
  {
   "cell_type": "code",
   "execution_count": 132,
   "id": "d4ac76d0",
   "metadata": {},
   "outputs": [
    {
     "data": {
      "text/plain": [
       "['spotify:track', '3v1dCP3hk2djfWryqfp7sx']"
      ]
     },
     "execution_count": 132,
     "metadata": {},
     "output_type": "execute_result"
    }
   ],
   "source": [
    "results8[0]['track'][\"uri\"].rsplit(':',1)"
   ]
  },
  {
   "cell_type": "code",
   "execution_count": 133,
   "id": "7a443cf3",
   "metadata": {},
   "outputs": [],
   "source": [
    "song_name=[]\n",
    "song_URI=[]\n",
    "song_ID=[]\n",
    "song_artist=[]\n",
    "playlist=results8"
   ]
  },
  {
   "cell_type": "code",
   "execution_count": 134,
   "id": "426619f2",
   "metadata": {},
   "outputs": [],
   "source": [
    "for r in results8:\n",
    "    song_URI.append(r[\"track\"][\"uri\"])\n",
    "    \n",
    "for r in results8: \n",
    "    song_ID.append(r[\"track\"][\"id\"])\n",
    "    \n",
    "for r in results8: \n",
    "    song_name.append(r[\"track\"][\"name\"])\n",
    "    \n",
    "for r in results8: \n",
    "    song_artist.append(r[\"track\"][\"artists\"][0][\"name\"])"
   ]
  },
  {
   "cell_type": "code",
   "execution_count": 135,
   "id": "3890a1e0",
   "metadata": {},
   "outputs": [],
   "source": [
    "playlist_spanish_info=pd.DataFrame({\"song_name\":song_name,\"song_ID\":song_ID,\"song_artist\":song_artist})"
   ]
  },
  {
   "cell_type": "code",
   "execution_count": 136,
   "id": "2fa797f5",
   "metadata": {},
   "outputs": [
    {
     "data": {
      "text/html": [
       "<div>\n",
       "<style scoped>\n",
       "    .dataframe tbody tr th:only-of-type {\n",
       "        vertical-align: middle;\n",
       "    }\n",
       "\n",
       "    .dataframe tbody tr th {\n",
       "        vertical-align: top;\n",
       "    }\n",
       "\n",
       "    .dataframe thead th {\n",
       "        text-align: right;\n",
       "    }\n",
       "</style>\n",
       "<table border=\"1\" class=\"dataframe\">\n",
       "  <thead>\n",
       "    <tr style=\"text-align: right;\">\n",
       "      <th></th>\n",
       "      <th>song_name</th>\n",
       "      <th>song_ID</th>\n",
       "      <th>song_artist</th>\n",
       "    </tr>\n",
       "  </thead>\n",
       "  <tbody>\n",
       "    <tr>\n",
       "      <th>0</th>\n",
       "      <td>Caminando por la vida</td>\n",
       "      <td>3v1dCP3hk2djfWryqfp7sx</td>\n",
       "      <td>Melendi</td>\n",
       "    </tr>\n",
       "    <tr>\n",
       "      <th>1</th>\n",
       "      <td>Soldadito marinero</td>\n",
       "      <td>0eVborSuxUeSg0meWYd9dZ</td>\n",
       "      <td>Fito y Fitipaldis</td>\n",
       "    </tr>\n",
       "    <tr>\n",
       "      <th>2</th>\n",
       "      <td>Walter Palmeras</td>\n",
       "      <td>58UxBSr2y1b7gun2Vjt8dg</td>\n",
       "      <td>Taburete</td>\n",
       "    </tr>\n",
       "    <tr>\n",
       "      <th>3</th>\n",
       "      <td>Caminito A Motel</td>\n",
       "      <td>3VptrSkImJN0c5KCEBHE65</td>\n",
       "      <td>Taburete</td>\n",
       "    </tr>\n",
       "    <tr>\n",
       "      <th>4</th>\n",
       "      <td>Amos del Piano Bar</td>\n",
       "      <td>5wnIjet6vh2BaIX2gl4Mgz</td>\n",
       "      <td>Taburete</td>\n",
       "    </tr>\n",
       "    <tr>\n",
       "      <th>...</th>\n",
       "      <td>...</td>\n",
       "      <td>...</td>\n",
       "      <td>...</td>\n",
       "    </tr>\n",
       "    <tr>\n",
       "      <th>592</th>\n",
       "      <td>Cuando Brille el Sol (with Manuel Espana)</td>\n",
       "      <td>2T0hFOkypPat3w4K5mc7fc</td>\n",
       "      <td>Melocos</td>\n",
       "    </tr>\n",
       "    <tr>\n",
       "      <th>593</th>\n",
       "      <td>Yo no te pido la luna</td>\n",
       "      <td>1hI1st8dvPmr1S55XDkavG</td>\n",
       "      <td>Sergio Dalma</td>\n",
       "    </tr>\n",
       "    <tr>\n",
       "      <th>594</th>\n",
       "      <td>A Mi Manera</td>\n",
       "      <td>5yY2UPVQ9EBKBXh2dGtU6U</td>\n",
       "      <td>Siempre Asi</td>\n",
       "    </tr>\n",
       "    <tr>\n",
       "      <th>595</th>\n",
       "      <td>Sopa fría</td>\n",
       "      <td>1zLJEnxuZBgPbwMrDMiZAf</td>\n",
       "      <td>M-Clan</td>\n",
       "    </tr>\n",
       "    <tr>\n",
       "      <th>596</th>\n",
       "      <td>La Ciudad</td>\n",
       "      <td>7gG0XWjEAStM49hdEYsySn</td>\n",
       "      <td>Club 28</td>\n",
       "    </tr>\n",
       "  </tbody>\n",
       "</table>\n",
       "<p>597 rows × 3 columns</p>\n",
       "</div>"
      ],
      "text/plain": [
       "                                     song_name                 song_ID  \\\n",
       "0                        Caminando por la vida  3v1dCP3hk2djfWryqfp7sx   \n",
       "1                           Soldadito marinero  0eVborSuxUeSg0meWYd9dZ   \n",
       "2                              Walter Palmeras  58UxBSr2y1b7gun2Vjt8dg   \n",
       "3                             Caminito A Motel  3VptrSkImJN0c5KCEBHE65   \n",
       "4                           Amos del Piano Bar  5wnIjet6vh2BaIX2gl4Mgz   \n",
       "..                                         ...                     ...   \n",
       "592  Cuando Brille el Sol (with Manuel Espana)  2T0hFOkypPat3w4K5mc7fc   \n",
       "593                      Yo no te pido la luna  1hI1st8dvPmr1S55XDkavG   \n",
       "594                                A Mi Manera  5yY2UPVQ9EBKBXh2dGtU6U   \n",
       "595                                  Sopa fría  1zLJEnxuZBgPbwMrDMiZAf   \n",
       "596                                  La Ciudad  7gG0XWjEAStM49hdEYsySn   \n",
       "\n",
       "           song_artist  \n",
       "0              Melendi  \n",
       "1    Fito y Fitipaldis  \n",
       "2             Taburete  \n",
       "3             Taburete  \n",
       "4             Taburete  \n",
       "..                 ...  \n",
       "592            Melocos  \n",
       "593       Sergio Dalma  \n",
       "594        Siempre Asi  \n",
       "595             M-Clan  \n",
       "596            Club 28  \n",
       "\n",
       "[597 rows x 3 columns]"
      ]
     },
     "execution_count": 136,
     "metadata": {},
     "output_type": "execute_result"
    }
   ],
   "source": [
    "playlist_spanish_info"
   ]
  },
  {
   "cell_type": "markdown",
   "id": "16982d58",
   "metadata": {},
   "source": [
    "### Add a new column for genre in playlist_spanish_info"
   ]
  },
  {
   "cell_type": "code",
   "execution_count": 137,
   "id": "c889bfad",
   "metadata": {},
   "outputs": [],
   "source": [
    "playlist_spanish_info.insert(3, 'Genre', 'Spanish') "
   ]
  },
  {
   "cell_type": "code",
   "execution_count": 138,
   "id": "a4f40504",
   "metadata": {},
   "outputs": [
    {
     "data": {
      "text/html": [
       "<div>\n",
       "<style scoped>\n",
       "    .dataframe tbody tr th:only-of-type {\n",
       "        vertical-align: middle;\n",
       "    }\n",
       "\n",
       "    .dataframe tbody tr th {\n",
       "        vertical-align: top;\n",
       "    }\n",
       "\n",
       "    .dataframe thead th {\n",
       "        text-align: right;\n",
       "    }\n",
       "</style>\n",
       "<table border=\"1\" class=\"dataframe\">\n",
       "  <thead>\n",
       "    <tr style=\"text-align: right;\">\n",
       "      <th></th>\n",
       "      <th>song_name</th>\n",
       "      <th>song_ID</th>\n",
       "      <th>song_artist</th>\n",
       "      <th>Genre</th>\n",
       "    </tr>\n",
       "  </thead>\n",
       "  <tbody>\n",
       "    <tr>\n",
       "      <th>0</th>\n",
       "      <td>Caminando por la vida</td>\n",
       "      <td>3v1dCP3hk2djfWryqfp7sx</td>\n",
       "      <td>Melendi</td>\n",
       "      <td>Spanish</td>\n",
       "    </tr>\n",
       "    <tr>\n",
       "      <th>1</th>\n",
       "      <td>Soldadito marinero</td>\n",
       "      <td>0eVborSuxUeSg0meWYd9dZ</td>\n",
       "      <td>Fito y Fitipaldis</td>\n",
       "      <td>Spanish</td>\n",
       "    </tr>\n",
       "    <tr>\n",
       "      <th>2</th>\n",
       "      <td>Walter Palmeras</td>\n",
       "      <td>58UxBSr2y1b7gun2Vjt8dg</td>\n",
       "      <td>Taburete</td>\n",
       "      <td>Spanish</td>\n",
       "    </tr>\n",
       "    <tr>\n",
       "      <th>3</th>\n",
       "      <td>Caminito A Motel</td>\n",
       "      <td>3VptrSkImJN0c5KCEBHE65</td>\n",
       "      <td>Taburete</td>\n",
       "      <td>Spanish</td>\n",
       "    </tr>\n",
       "    <tr>\n",
       "      <th>4</th>\n",
       "      <td>Amos del Piano Bar</td>\n",
       "      <td>5wnIjet6vh2BaIX2gl4Mgz</td>\n",
       "      <td>Taburete</td>\n",
       "      <td>Spanish</td>\n",
       "    </tr>\n",
       "    <tr>\n",
       "      <th>...</th>\n",
       "      <td>...</td>\n",
       "      <td>...</td>\n",
       "      <td>...</td>\n",
       "      <td>...</td>\n",
       "    </tr>\n",
       "    <tr>\n",
       "      <th>592</th>\n",
       "      <td>Cuando Brille el Sol (with Manuel Espana)</td>\n",
       "      <td>2T0hFOkypPat3w4K5mc7fc</td>\n",
       "      <td>Melocos</td>\n",
       "      <td>Spanish</td>\n",
       "    </tr>\n",
       "    <tr>\n",
       "      <th>593</th>\n",
       "      <td>Yo no te pido la luna</td>\n",
       "      <td>1hI1st8dvPmr1S55XDkavG</td>\n",
       "      <td>Sergio Dalma</td>\n",
       "      <td>Spanish</td>\n",
       "    </tr>\n",
       "    <tr>\n",
       "      <th>594</th>\n",
       "      <td>A Mi Manera</td>\n",
       "      <td>5yY2UPVQ9EBKBXh2dGtU6U</td>\n",
       "      <td>Siempre Asi</td>\n",
       "      <td>Spanish</td>\n",
       "    </tr>\n",
       "    <tr>\n",
       "      <th>595</th>\n",
       "      <td>Sopa fría</td>\n",
       "      <td>1zLJEnxuZBgPbwMrDMiZAf</td>\n",
       "      <td>M-Clan</td>\n",
       "      <td>Spanish</td>\n",
       "    </tr>\n",
       "    <tr>\n",
       "      <th>596</th>\n",
       "      <td>La Ciudad</td>\n",
       "      <td>7gG0XWjEAStM49hdEYsySn</td>\n",
       "      <td>Club 28</td>\n",
       "      <td>Spanish</td>\n",
       "    </tr>\n",
       "  </tbody>\n",
       "</table>\n",
       "<p>597 rows × 4 columns</p>\n",
       "</div>"
      ],
      "text/plain": [
       "                                     song_name                 song_ID  \\\n",
       "0                        Caminando por la vida  3v1dCP3hk2djfWryqfp7sx   \n",
       "1                           Soldadito marinero  0eVborSuxUeSg0meWYd9dZ   \n",
       "2                              Walter Palmeras  58UxBSr2y1b7gun2Vjt8dg   \n",
       "3                             Caminito A Motel  3VptrSkImJN0c5KCEBHE65   \n",
       "4                           Amos del Piano Bar  5wnIjet6vh2BaIX2gl4Mgz   \n",
       "..                                         ...                     ...   \n",
       "592  Cuando Brille el Sol (with Manuel Espana)  2T0hFOkypPat3w4K5mc7fc   \n",
       "593                      Yo no te pido la luna  1hI1st8dvPmr1S55XDkavG   \n",
       "594                                A Mi Manera  5yY2UPVQ9EBKBXh2dGtU6U   \n",
       "595                                  Sopa fría  1zLJEnxuZBgPbwMrDMiZAf   \n",
       "596                                  La Ciudad  7gG0XWjEAStM49hdEYsySn   \n",
       "\n",
       "           song_artist    Genre  \n",
       "0              Melendi  Spanish  \n",
       "1    Fito y Fitipaldis  Spanish  \n",
       "2             Taburete  Spanish  \n",
       "3             Taburete  Spanish  \n",
       "4             Taburete  Spanish  \n",
       "..                 ...      ...  \n",
       "592            Melocos  Spanish  \n",
       "593       Sergio Dalma  Spanish  \n",
       "594        Siempre Asi  Spanish  \n",
       "595             M-Clan  Spanish  \n",
       "596            Club 28  Spanish  \n",
       "\n",
       "[597 rows x 4 columns]"
      ]
     },
     "execution_count": 138,
     "metadata": {},
     "output_type": "execute_result"
    }
   ],
   "source": [
    "playlist_spanish_info"
   ]
  },
  {
   "cell_type": "markdown",
   "id": "d001544d",
   "metadata": {},
   "source": [
    "## Import playlists by genre JAZZ\n",
    "- I will import now a JAZZ playlist"
   ]
  },
  {
   "cell_type": "code",
   "execution_count": 139,
   "id": "55a8a604",
   "metadata": {},
   "outputs": [],
   "source": [
    "## https://open.spotify.com/playlist/37i9dQZF1DX0SM0LYsmbMT?si=a455c71c0ea24707\n",
    "## Spotify"
   ]
  },
  {
   "cell_type": "code",
   "execution_count": 140,
   "id": "64a83dd0",
   "metadata": {},
   "outputs": [],
   "source": [
    "jazz_playlist = sp.user_playlist_tracks(\"Spotify\", \"37i9dQZF1DX0SM0LYsmbMT\")"
   ]
  },
  {
   "cell_type": "raw",
   "id": "03221488",
   "metadata": {},
   "source": [
    "jazz_playlist"
   ]
  },
  {
   "cell_type": "code",
   "execution_count": 141,
   "id": "c59eae29",
   "metadata": {},
   "outputs": [
    {
     "data": {
      "text/plain": [
       "dict_keys(['href', 'items', 'limit', 'next', 'offset', 'previous', 'total'])"
      ]
     },
     "execution_count": 141,
     "metadata": {},
     "output_type": "execute_result"
    }
   ],
   "source": [
    "jazz_playlist.keys()"
   ]
  },
  {
   "cell_type": "raw",
   "id": "f2cd65d9",
   "metadata": {},
   "source": [
    "jazz_playlist['items'][3]"
   ]
  },
  {
   "cell_type": "code",
   "execution_count": 142,
   "id": "f54dc05a",
   "metadata": {},
   "outputs": [
    {
     "data": {
      "text/plain": [
       "100"
      ]
     },
     "execution_count": 142,
     "metadata": {},
     "output_type": "execute_result"
    }
   ],
   "source": [
    "len(jazz_playlist['items'])"
   ]
  },
  {
   "cell_type": "code",
   "execution_count": 143,
   "id": "cdb30ed4",
   "metadata": {},
   "outputs": [],
   "source": [
    "def get_playlist_tracks7(user_id, playlist_id):\n",
    "    results=sp.user_playlist_tracks(user_id, playlist_id)\n",
    "    tracks=results['items']\n",
    "    while results['next']:\n",
    "        results= sp.next(results)\n",
    "        tracks.extend(results['items'])\n",
    "    return tracks"
   ]
  },
  {
   "cell_type": "code",
   "execution_count": 144,
   "id": "d59f0454",
   "metadata": {},
   "outputs": [],
   "source": [
    "results9=get_playlist_tracks7(\"Spotify\", \"37i9dQZF1DX0SM0LYsmbMT\")"
   ]
  },
  {
   "cell_type": "code",
   "execution_count": 145,
   "id": "802d7751",
   "metadata": {},
   "outputs": [
    {
     "data": {
      "text/plain": [
       "300"
      ]
     },
     "execution_count": 145,
     "metadata": {},
     "output_type": "execute_result"
    }
   ],
   "source": [
    "len(results9)"
   ]
  },
  {
   "cell_type": "code",
   "execution_count": 146,
   "id": "2c947c8a",
   "metadata": {},
   "outputs": [
    {
     "data": {
      "text/plain": [
       "dict_keys(['album', 'artists', 'available_markets', 'disc_number', 'duration_ms', 'episode', 'explicit', 'external_ids', 'external_urls', 'href', 'id', 'is_local', 'name', 'popularity', 'preview_url', 'track', 'track_number', 'type', 'uri'])"
      ]
     },
     "execution_count": 146,
     "metadata": {},
     "output_type": "execute_result"
    }
   ],
   "source": [
    "results9[0]['track'].keys()"
   ]
  },
  {
   "cell_type": "code",
   "execution_count": 147,
   "id": "f320f69c",
   "metadata": {},
   "outputs": [
    {
     "data": {
      "text/plain": [
       "['spotify:track', '68XSHyQQlIhs6ytuHIr6Uo']"
      ]
     },
     "execution_count": 147,
     "metadata": {},
     "output_type": "execute_result"
    }
   ],
   "source": [
    "results9[0]['track'][\"uri\"].rsplit(':',1)"
   ]
  },
  {
   "cell_type": "code",
   "execution_count": 148,
   "id": "df0bf336",
   "metadata": {},
   "outputs": [],
   "source": [
    "song_name=[]\n",
    "song_URI=[]\n",
    "song_ID=[]\n",
    "song_artist=[]\n",
    "playlist=results9"
   ]
  },
  {
   "cell_type": "code",
   "execution_count": 149,
   "id": "0cb6aeb1",
   "metadata": {},
   "outputs": [],
   "source": [
    "for r in results9:\n",
    "    song_URI.append(r[\"track\"][\"uri\"])\n",
    "    \n",
    "for r in results9: \n",
    "    song_ID.append(r[\"track\"][\"id\"])\n",
    "    \n",
    "for r in results9: \n",
    "    song_name.append(r[\"track\"][\"name\"])\n",
    "    \n",
    "for r in results9: \n",
    "    song_artist.append(r[\"track\"][\"artists\"][0][\"name\"])"
   ]
  },
  {
   "cell_type": "code",
   "execution_count": 150,
   "id": "47dc7a6c",
   "metadata": {},
   "outputs": [],
   "source": [
    "playlist_jazz_info=pd.DataFrame({\"song_name\":song_name,\"song_ID\":song_ID,\"song_artist\":song_artist})"
   ]
  },
  {
   "cell_type": "code",
   "execution_count": 151,
   "id": "6ba9bba5",
   "metadata": {},
   "outputs": [
    {
     "data": {
      "text/html": [
       "<div>\n",
       "<style scoped>\n",
       "    .dataframe tbody tr th:only-of-type {\n",
       "        vertical-align: middle;\n",
       "    }\n",
       "\n",
       "    .dataframe tbody tr th {\n",
       "        vertical-align: top;\n",
       "    }\n",
       "\n",
       "    .dataframe thead th {\n",
       "        text-align: right;\n",
       "    }\n",
       "</style>\n",
       "<table border=\"1\" class=\"dataframe\">\n",
       "  <thead>\n",
       "    <tr style=\"text-align: right;\">\n",
       "      <th></th>\n",
       "      <th>song_name</th>\n",
       "      <th>song_ID</th>\n",
       "      <th>song_artist</th>\n",
       "    </tr>\n",
       "  </thead>\n",
       "  <tbody>\n",
       "    <tr>\n",
       "      <th>0</th>\n",
       "      <td>Memories</td>\n",
       "      <td>68XSHyQQlIhs6ytuHIr6Uo</td>\n",
       "      <td>Mr. Käfer</td>\n",
       "    </tr>\n",
       "    <tr>\n",
       "      <th>1</th>\n",
       "      <td>Jazz takes on</td>\n",
       "      <td>0hGJGP8A9wX1FC1tAOjJ3k</td>\n",
       "      <td>CrazyJaZz</td>\n",
       "    </tr>\n",
       "    <tr>\n",
       "      <th>2</th>\n",
       "      <td>Bubbles</td>\n",
       "      <td>3ocMyz1hZX5pl87L4xgadr</td>\n",
       "      <td>Glimlip</td>\n",
       "    </tr>\n",
       "    <tr>\n",
       "      <th>3</th>\n",
       "      <td>Soulsearching</td>\n",
       "      <td>7bKVWzUXNgcEdi32sECdD1</td>\n",
       "      <td>Hoffy Beats</td>\n",
       "    </tr>\n",
       "    <tr>\n",
       "      <th>4</th>\n",
       "      <td>Sad Emoji</td>\n",
       "      <td>1biA4kEJ8M2tPrWfwy9uID</td>\n",
       "      <td>Katashi Kaitō</td>\n",
       "    </tr>\n",
       "    <tr>\n",
       "      <th>...</th>\n",
       "      <td>...</td>\n",
       "      <td>...</td>\n",
       "      <td>...</td>\n",
       "    </tr>\n",
       "    <tr>\n",
       "      <th>295</th>\n",
       "      <td>Yellow Napkins</td>\n",
       "      <td>72AJ5sfLfwtKHiQnUeB7rV</td>\n",
       "      <td>JAY VANILLA</td>\n",
       "    </tr>\n",
       "    <tr>\n",
       "      <th>296</th>\n",
       "      <td>ST13</td>\n",
       "      <td>43got7b21DC6igGK9P2oHu</td>\n",
       "      <td>Jazzy James</td>\n",
       "    </tr>\n",
       "    <tr>\n",
       "      <th>297</th>\n",
       "      <td>Travelling Partners</td>\n",
       "      <td>4T2j9dqwHFtSO0XHmKxeif</td>\n",
       "      <td>ØDYSSEE</td>\n",
       "    </tr>\n",
       "    <tr>\n",
       "      <th>298</th>\n",
       "      <td>Sea Sky</td>\n",
       "      <td>3UujQFUxSAftqnTbRgP7vv</td>\n",
       "      <td>Fed Nance</td>\n",
       "    </tr>\n",
       "    <tr>\n",
       "      <th>299</th>\n",
       "      <td>New music</td>\n",
       "      <td>3etlIf9k54KXj8fgY1NQtD</td>\n",
       "      <td>Don Philippe</td>\n",
       "    </tr>\n",
       "  </tbody>\n",
       "</table>\n",
       "<p>300 rows × 3 columns</p>\n",
       "</div>"
      ],
      "text/plain": [
       "               song_name                 song_ID    song_artist\n",
       "0               Memories  68XSHyQQlIhs6ytuHIr6Uo      Mr. Käfer\n",
       "1          Jazz takes on  0hGJGP8A9wX1FC1tAOjJ3k      CrazyJaZz\n",
       "2                Bubbles  3ocMyz1hZX5pl87L4xgadr        Glimlip\n",
       "3          Soulsearching  7bKVWzUXNgcEdi32sECdD1    Hoffy Beats\n",
       "4              Sad Emoji  1biA4kEJ8M2tPrWfwy9uID  Katashi Kaitō\n",
       "..                   ...                     ...            ...\n",
       "295       Yellow Napkins  72AJ5sfLfwtKHiQnUeB7rV    JAY VANILLA\n",
       "296                 ST13  43got7b21DC6igGK9P2oHu    Jazzy James\n",
       "297  Travelling Partners  4T2j9dqwHFtSO0XHmKxeif        ØDYSSEE\n",
       "298              Sea Sky  3UujQFUxSAftqnTbRgP7vv      Fed Nance\n",
       "299            New music  3etlIf9k54KXj8fgY1NQtD   Don Philippe\n",
       "\n",
       "[300 rows x 3 columns]"
      ]
     },
     "execution_count": 151,
     "metadata": {},
     "output_type": "execute_result"
    }
   ],
   "source": [
    "playlist_jazz_info"
   ]
  },
  {
   "cell_type": "markdown",
   "id": "0d38700b",
   "metadata": {},
   "source": [
    "### Add a new column for genre in playlist_spanish_info"
   ]
  },
  {
   "cell_type": "code",
   "execution_count": 152,
   "id": "0c795b02",
   "metadata": {},
   "outputs": [],
   "source": [
    "playlist_jazz_info.insert(3, 'Genre', 'Jazz') "
   ]
  },
  {
   "cell_type": "code",
   "execution_count": 153,
   "id": "268cb333",
   "metadata": {},
   "outputs": [
    {
     "data": {
      "text/html": [
       "<div>\n",
       "<style scoped>\n",
       "    .dataframe tbody tr th:only-of-type {\n",
       "        vertical-align: middle;\n",
       "    }\n",
       "\n",
       "    .dataframe tbody tr th {\n",
       "        vertical-align: top;\n",
       "    }\n",
       "\n",
       "    .dataframe thead th {\n",
       "        text-align: right;\n",
       "    }\n",
       "</style>\n",
       "<table border=\"1\" class=\"dataframe\">\n",
       "  <thead>\n",
       "    <tr style=\"text-align: right;\">\n",
       "      <th></th>\n",
       "      <th>song_name</th>\n",
       "      <th>song_ID</th>\n",
       "      <th>song_artist</th>\n",
       "      <th>Genre</th>\n",
       "    </tr>\n",
       "  </thead>\n",
       "  <tbody>\n",
       "    <tr>\n",
       "      <th>0</th>\n",
       "      <td>Memories</td>\n",
       "      <td>68XSHyQQlIhs6ytuHIr6Uo</td>\n",
       "      <td>Mr. Käfer</td>\n",
       "      <td>Jazz</td>\n",
       "    </tr>\n",
       "    <tr>\n",
       "      <th>1</th>\n",
       "      <td>Jazz takes on</td>\n",
       "      <td>0hGJGP8A9wX1FC1tAOjJ3k</td>\n",
       "      <td>CrazyJaZz</td>\n",
       "      <td>Jazz</td>\n",
       "    </tr>\n",
       "    <tr>\n",
       "      <th>2</th>\n",
       "      <td>Bubbles</td>\n",
       "      <td>3ocMyz1hZX5pl87L4xgadr</td>\n",
       "      <td>Glimlip</td>\n",
       "      <td>Jazz</td>\n",
       "    </tr>\n",
       "    <tr>\n",
       "      <th>3</th>\n",
       "      <td>Soulsearching</td>\n",
       "      <td>7bKVWzUXNgcEdi32sECdD1</td>\n",
       "      <td>Hoffy Beats</td>\n",
       "      <td>Jazz</td>\n",
       "    </tr>\n",
       "    <tr>\n",
       "      <th>4</th>\n",
       "      <td>Sad Emoji</td>\n",
       "      <td>1biA4kEJ8M2tPrWfwy9uID</td>\n",
       "      <td>Katashi Kaitō</td>\n",
       "      <td>Jazz</td>\n",
       "    </tr>\n",
       "    <tr>\n",
       "      <th>...</th>\n",
       "      <td>...</td>\n",
       "      <td>...</td>\n",
       "      <td>...</td>\n",
       "      <td>...</td>\n",
       "    </tr>\n",
       "    <tr>\n",
       "      <th>295</th>\n",
       "      <td>Yellow Napkins</td>\n",
       "      <td>72AJ5sfLfwtKHiQnUeB7rV</td>\n",
       "      <td>JAY VANILLA</td>\n",
       "      <td>Jazz</td>\n",
       "    </tr>\n",
       "    <tr>\n",
       "      <th>296</th>\n",
       "      <td>ST13</td>\n",
       "      <td>43got7b21DC6igGK9P2oHu</td>\n",
       "      <td>Jazzy James</td>\n",
       "      <td>Jazz</td>\n",
       "    </tr>\n",
       "    <tr>\n",
       "      <th>297</th>\n",
       "      <td>Travelling Partners</td>\n",
       "      <td>4T2j9dqwHFtSO0XHmKxeif</td>\n",
       "      <td>ØDYSSEE</td>\n",
       "      <td>Jazz</td>\n",
       "    </tr>\n",
       "    <tr>\n",
       "      <th>298</th>\n",
       "      <td>Sea Sky</td>\n",
       "      <td>3UujQFUxSAftqnTbRgP7vv</td>\n",
       "      <td>Fed Nance</td>\n",
       "      <td>Jazz</td>\n",
       "    </tr>\n",
       "    <tr>\n",
       "      <th>299</th>\n",
       "      <td>New music</td>\n",
       "      <td>3etlIf9k54KXj8fgY1NQtD</td>\n",
       "      <td>Don Philippe</td>\n",
       "      <td>Jazz</td>\n",
       "    </tr>\n",
       "  </tbody>\n",
       "</table>\n",
       "<p>300 rows × 4 columns</p>\n",
       "</div>"
      ],
      "text/plain": [
       "               song_name                 song_ID    song_artist Genre\n",
       "0               Memories  68XSHyQQlIhs6ytuHIr6Uo      Mr. Käfer  Jazz\n",
       "1          Jazz takes on  0hGJGP8A9wX1FC1tAOjJ3k      CrazyJaZz  Jazz\n",
       "2                Bubbles  3ocMyz1hZX5pl87L4xgadr        Glimlip  Jazz\n",
       "3          Soulsearching  7bKVWzUXNgcEdi32sECdD1    Hoffy Beats  Jazz\n",
       "4              Sad Emoji  1biA4kEJ8M2tPrWfwy9uID  Katashi Kaitō  Jazz\n",
       "..                   ...                     ...            ...   ...\n",
       "295       Yellow Napkins  72AJ5sfLfwtKHiQnUeB7rV    JAY VANILLA  Jazz\n",
       "296                 ST13  43got7b21DC6igGK9P2oHu    Jazzy James  Jazz\n",
       "297  Travelling Partners  4T2j9dqwHFtSO0XHmKxeif        ØDYSSEE  Jazz\n",
       "298              Sea Sky  3UujQFUxSAftqnTbRgP7vv      Fed Nance  Jazz\n",
       "299            New music  3etlIf9k54KXj8fgY1NQtD   Don Philippe  Jazz\n",
       "\n",
       "[300 rows x 4 columns]"
      ]
     },
     "execution_count": 153,
     "metadata": {},
     "output_type": "execute_result"
    }
   ],
   "source": [
    "playlist_jazz_info"
   ]
  },
  {
   "cell_type": "markdown",
   "id": "16c0489e",
   "metadata": {},
   "source": [
    "## Import playlists by genre DEEP HOUSE\n",
    "- I will import now a Deep House playlist"
   ]
  },
  {
   "cell_type": "code",
   "execution_count": 154,
   "id": "da54930d",
   "metadata": {},
   "outputs": [],
   "source": [
    "## https://open.spotify.com/playlist/37i9dQZF1DX2TRYkJECvfC?si=e54832a9a20e4451\n",
    "## Spotify"
   ]
  },
  {
   "cell_type": "code",
   "execution_count": 155,
   "id": "06c3adcf",
   "metadata": {},
   "outputs": [],
   "source": [
    "deep_house_playlist = sp.user_playlist_tracks(\"Spotify\", \"37i9dQZF1DX2TRYkJECvfC\")"
   ]
  },
  {
   "cell_type": "raw",
   "id": "51b3e6cb",
   "metadata": {},
   "source": [
    "deep_house_playlist"
   ]
  },
  {
   "cell_type": "code",
   "execution_count": 156,
   "id": "77857dd3",
   "metadata": {},
   "outputs": [
    {
     "data": {
      "text/plain": [
       "dict_keys(['href', 'items', 'limit', 'next', 'offset', 'previous', 'total'])"
      ]
     },
     "execution_count": 156,
     "metadata": {},
     "output_type": "execute_result"
    }
   ],
   "source": [
    "deep_house_playlist.keys()"
   ]
  },
  {
   "cell_type": "raw",
   "id": "e343a46d",
   "metadata": {},
   "source": [
    "deep_house_playlist['items'][3]"
   ]
  },
  {
   "cell_type": "code",
   "execution_count": 157,
   "id": "f3da2b27",
   "metadata": {},
   "outputs": [
    {
     "data": {
      "text/plain": [
       "100"
      ]
     },
     "execution_count": 157,
     "metadata": {},
     "output_type": "execute_result"
    }
   ],
   "source": [
    "len(deep_house_playlist['items'])"
   ]
  },
  {
   "cell_type": "code",
   "execution_count": 158,
   "id": "5204058a",
   "metadata": {},
   "outputs": [],
   "source": [
    "def get_playlist_tracks8(user_id, playlist_id):\n",
    "    results=sp.user_playlist_tracks(user_id, playlist_id)\n",
    "    tracks=results['items']\n",
    "    while results['next']:\n",
    "        results= sp.next(results)\n",
    "        tracks.extend(results['items'])\n",
    "    return tracks"
   ]
  },
  {
   "cell_type": "code",
   "execution_count": 159,
   "id": "41a6352c",
   "metadata": {},
   "outputs": [],
   "source": [
    "results10=get_playlist_tracks8(\"Spotify\", \"37i9dQZF1DX2TRYkJECvfC\")"
   ]
  },
  {
   "cell_type": "code",
   "execution_count": 160,
   "id": "bb4fa32b",
   "metadata": {},
   "outputs": [
    {
     "data": {
      "text/plain": [
       "200"
      ]
     },
     "execution_count": 160,
     "metadata": {},
     "output_type": "execute_result"
    }
   ],
   "source": [
    "len(results10)"
   ]
  },
  {
   "cell_type": "code",
   "execution_count": 161,
   "id": "df1cf7ad",
   "metadata": {},
   "outputs": [
    {
     "data": {
      "text/plain": [
       "dict_keys(['album', 'artists', 'available_markets', 'disc_number', 'duration_ms', 'episode', 'explicit', 'external_ids', 'external_urls', 'href', 'id', 'is_local', 'name', 'popularity', 'preview_url', 'track', 'track_number', 'type', 'uri'])"
      ]
     },
     "execution_count": 161,
     "metadata": {},
     "output_type": "execute_result"
    }
   ],
   "source": [
    "results10[0]['track'].keys()"
   ]
  },
  {
   "cell_type": "code",
   "execution_count": 162,
   "id": "c79da049",
   "metadata": {},
   "outputs": [],
   "source": [
    "song_name=[]\n",
    "song_URI=[]\n",
    "song_ID=[]\n",
    "song_artist=[]\n",
    "playlist=results10"
   ]
  },
  {
   "cell_type": "code",
   "execution_count": 163,
   "id": "71214e55",
   "metadata": {},
   "outputs": [],
   "source": [
    "for r in results10:\n",
    "    song_URI.append(r[\"track\"][\"uri\"])\n",
    "    \n",
    "for r in results10: \n",
    "    song_ID.append(r[\"track\"][\"id\"])\n",
    "    \n",
    "for r in results10: \n",
    "    song_name.append(r[\"track\"][\"name\"])\n",
    "    \n",
    "for r in results10: \n",
    "    song_artist.append(r[\"track\"][\"artists\"][0][\"name\"])"
   ]
  },
  {
   "cell_type": "code",
   "execution_count": 164,
   "id": "f23219eb",
   "metadata": {},
   "outputs": [],
   "source": [
    "playlist_deep_house_info=pd.DataFrame({\"song_name\":song_name,\"song_ID\":song_ID,\"song_artist\":song_artist})"
   ]
  },
  {
   "cell_type": "code",
   "execution_count": 165,
   "id": "0eca267f",
   "metadata": {},
   "outputs": [
    {
     "data": {
      "text/html": [
       "<div>\n",
       "<style scoped>\n",
       "    .dataframe tbody tr th:only-of-type {\n",
       "        vertical-align: middle;\n",
       "    }\n",
       "\n",
       "    .dataframe tbody tr th {\n",
       "        vertical-align: top;\n",
       "    }\n",
       "\n",
       "    .dataframe thead th {\n",
       "        text-align: right;\n",
       "    }\n",
       "</style>\n",
       "<table border=\"1\" class=\"dataframe\">\n",
       "  <thead>\n",
       "    <tr style=\"text-align: right;\">\n",
       "      <th></th>\n",
       "      <th>song_name</th>\n",
       "      <th>song_ID</th>\n",
       "      <th>song_artist</th>\n",
       "    </tr>\n",
       "  </thead>\n",
       "  <tbody>\n",
       "    <tr>\n",
       "      <th>0</th>\n",
       "      <td>Renaissance</td>\n",
       "      <td>1mqPLbDc8DCRlTuyF26ste</td>\n",
       "      <td>Honeydripper</td>\n",
       "    </tr>\n",
       "    <tr>\n",
       "      <th>1</th>\n",
       "      <td>Erase</td>\n",
       "      <td>1BbXlbs8pWeYI2yGpGhuzA</td>\n",
       "      <td>Ben Böhmer</td>\n",
       "    </tr>\n",
       "    <tr>\n",
       "      <th>2</th>\n",
       "      <td>Waves (feat. Grace Tither)</td>\n",
       "      <td>6ymVxYG0UHqIjXmclbE1cu</td>\n",
       "      <td>BLOND:ISH</td>\n",
       "    </tr>\n",
       "    <tr>\n",
       "      <th>3</th>\n",
       "      <td>2005 NYE</td>\n",
       "      <td>6ezV370O6dVoAf9DtRK4X9</td>\n",
       "      <td>Model Man</td>\n",
       "    </tr>\n",
       "    <tr>\n",
       "      <th>4</th>\n",
       "      <td>Designer Love - Short Version</td>\n",
       "      <td>5NfgFRdfNQ4HFVPGRoVMU6</td>\n",
       "      <td>MARIA Die RUHE</td>\n",
       "    </tr>\n",
       "    <tr>\n",
       "      <th>...</th>\n",
       "      <td>...</td>\n",
       "      <td>...</td>\n",
       "      <td>...</td>\n",
       "    </tr>\n",
       "    <tr>\n",
       "      <th>195</th>\n",
       "      <td>Rain</td>\n",
       "      <td>46wE8zEGsFkXxWmVoDaCI5</td>\n",
       "      <td>Sebjak</td>\n",
       "    </tr>\n",
       "    <tr>\n",
       "      <th>196</th>\n",
       "      <td>Inspired</td>\n",
       "      <td>1Bii3LSvFNeRTrW4s0Kj4m</td>\n",
       "      <td>Junior Sanchez</td>\n",
       "    </tr>\n",
       "    <tr>\n",
       "      <th>197</th>\n",
       "      <td>Letzter</td>\n",
       "      <td>7A75UBKiDVmzvaFkYpnYz4</td>\n",
       "      <td>Edraw</td>\n",
       "    </tr>\n",
       "    <tr>\n",
       "      <th>198</th>\n",
       "      <td>Blue</td>\n",
       "      <td>2C8c1RN9BDuwR7DiIXqYNY</td>\n",
       "      <td>Chris Malinchak</td>\n",
       "    </tr>\n",
       "    <tr>\n",
       "      <th>199</th>\n",
       "      <td>Four Feet</td>\n",
       "      <td>2JebL9WaaUylWLns0SmVuU</td>\n",
       "      <td>Otik</td>\n",
       "    </tr>\n",
       "  </tbody>\n",
       "</table>\n",
       "<p>200 rows × 3 columns</p>\n",
       "</div>"
      ],
      "text/plain": [
       "                         song_name                 song_ID      song_artist\n",
       "0                      Renaissance  1mqPLbDc8DCRlTuyF26ste     Honeydripper\n",
       "1                            Erase  1BbXlbs8pWeYI2yGpGhuzA       Ben Böhmer\n",
       "2       Waves (feat. Grace Tither)  6ymVxYG0UHqIjXmclbE1cu        BLOND:ISH\n",
       "3                         2005 NYE  6ezV370O6dVoAf9DtRK4X9        Model Man\n",
       "4    Designer Love - Short Version  5NfgFRdfNQ4HFVPGRoVMU6   MARIA Die RUHE\n",
       "..                             ...                     ...              ...\n",
       "195                           Rain  46wE8zEGsFkXxWmVoDaCI5           Sebjak\n",
       "196                       Inspired  1Bii3LSvFNeRTrW4s0Kj4m   Junior Sanchez\n",
       "197                        Letzter  7A75UBKiDVmzvaFkYpnYz4            Edraw\n",
       "198                           Blue  2C8c1RN9BDuwR7DiIXqYNY  Chris Malinchak\n",
       "199                      Four Feet  2JebL9WaaUylWLns0SmVuU             Otik\n",
       "\n",
       "[200 rows x 3 columns]"
      ]
     },
     "execution_count": 165,
     "metadata": {},
     "output_type": "execute_result"
    }
   ],
   "source": [
    "playlist_deep_house_info"
   ]
  },
  {
   "cell_type": "markdown",
   "id": "27b3cb3e",
   "metadata": {},
   "source": [
    "### Add a new column for genre in playlist_deep_house_info"
   ]
  },
  {
   "cell_type": "code",
   "execution_count": 166,
   "id": "0aded467",
   "metadata": {},
   "outputs": [],
   "source": [
    "playlist_deep_house_info.insert(3, 'Genre', 'Deep House') "
   ]
  },
  {
   "cell_type": "code",
   "execution_count": 167,
   "id": "87eb1f3b",
   "metadata": {},
   "outputs": [
    {
     "data": {
      "text/html": [
       "<div>\n",
       "<style scoped>\n",
       "    .dataframe tbody tr th:only-of-type {\n",
       "        vertical-align: middle;\n",
       "    }\n",
       "\n",
       "    .dataframe tbody tr th {\n",
       "        vertical-align: top;\n",
       "    }\n",
       "\n",
       "    .dataframe thead th {\n",
       "        text-align: right;\n",
       "    }\n",
       "</style>\n",
       "<table border=\"1\" class=\"dataframe\">\n",
       "  <thead>\n",
       "    <tr style=\"text-align: right;\">\n",
       "      <th></th>\n",
       "      <th>song_name</th>\n",
       "      <th>song_ID</th>\n",
       "      <th>song_artist</th>\n",
       "      <th>Genre</th>\n",
       "    </tr>\n",
       "  </thead>\n",
       "  <tbody>\n",
       "    <tr>\n",
       "      <th>0</th>\n",
       "      <td>Renaissance</td>\n",
       "      <td>1mqPLbDc8DCRlTuyF26ste</td>\n",
       "      <td>Honeydripper</td>\n",
       "      <td>Deep House</td>\n",
       "    </tr>\n",
       "    <tr>\n",
       "      <th>1</th>\n",
       "      <td>Erase</td>\n",
       "      <td>1BbXlbs8pWeYI2yGpGhuzA</td>\n",
       "      <td>Ben Böhmer</td>\n",
       "      <td>Deep House</td>\n",
       "    </tr>\n",
       "    <tr>\n",
       "      <th>2</th>\n",
       "      <td>Waves (feat. Grace Tither)</td>\n",
       "      <td>6ymVxYG0UHqIjXmclbE1cu</td>\n",
       "      <td>BLOND:ISH</td>\n",
       "      <td>Deep House</td>\n",
       "    </tr>\n",
       "    <tr>\n",
       "      <th>3</th>\n",
       "      <td>2005 NYE</td>\n",
       "      <td>6ezV370O6dVoAf9DtRK4X9</td>\n",
       "      <td>Model Man</td>\n",
       "      <td>Deep House</td>\n",
       "    </tr>\n",
       "    <tr>\n",
       "      <th>4</th>\n",
       "      <td>Designer Love - Short Version</td>\n",
       "      <td>5NfgFRdfNQ4HFVPGRoVMU6</td>\n",
       "      <td>MARIA Die RUHE</td>\n",
       "      <td>Deep House</td>\n",
       "    </tr>\n",
       "    <tr>\n",
       "      <th>...</th>\n",
       "      <td>...</td>\n",
       "      <td>...</td>\n",
       "      <td>...</td>\n",
       "      <td>...</td>\n",
       "    </tr>\n",
       "    <tr>\n",
       "      <th>195</th>\n",
       "      <td>Rain</td>\n",
       "      <td>46wE8zEGsFkXxWmVoDaCI5</td>\n",
       "      <td>Sebjak</td>\n",
       "      <td>Deep House</td>\n",
       "    </tr>\n",
       "    <tr>\n",
       "      <th>196</th>\n",
       "      <td>Inspired</td>\n",
       "      <td>1Bii3LSvFNeRTrW4s0Kj4m</td>\n",
       "      <td>Junior Sanchez</td>\n",
       "      <td>Deep House</td>\n",
       "    </tr>\n",
       "    <tr>\n",
       "      <th>197</th>\n",
       "      <td>Letzter</td>\n",
       "      <td>7A75UBKiDVmzvaFkYpnYz4</td>\n",
       "      <td>Edraw</td>\n",
       "      <td>Deep House</td>\n",
       "    </tr>\n",
       "    <tr>\n",
       "      <th>198</th>\n",
       "      <td>Blue</td>\n",
       "      <td>2C8c1RN9BDuwR7DiIXqYNY</td>\n",
       "      <td>Chris Malinchak</td>\n",
       "      <td>Deep House</td>\n",
       "    </tr>\n",
       "    <tr>\n",
       "      <th>199</th>\n",
       "      <td>Four Feet</td>\n",
       "      <td>2JebL9WaaUylWLns0SmVuU</td>\n",
       "      <td>Otik</td>\n",
       "      <td>Deep House</td>\n",
       "    </tr>\n",
       "  </tbody>\n",
       "</table>\n",
       "<p>200 rows × 4 columns</p>\n",
       "</div>"
      ],
      "text/plain": [
       "                         song_name                 song_ID      song_artist  \\\n",
       "0                      Renaissance  1mqPLbDc8DCRlTuyF26ste     Honeydripper   \n",
       "1                            Erase  1BbXlbs8pWeYI2yGpGhuzA       Ben Böhmer   \n",
       "2       Waves (feat. Grace Tither)  6ymVxYG0UHqIjXmclbE1cu        BLOND:ISH   \n",
       "3                         2005 NYE  6ezV370O6dVoAf9DtRK4X9        Model Man   \n",
       "4    Designer Love - Short Version  5NfgFRdfNQ4HFVPGRoVMU6   MARIA Die RUHE   \n",
       "..                             ...                     ...              ...   \n",
       "195                           Rain  46wE8zEGsFkXxWmVoDaCI5           Sebjak   \n",
       "196                       Inspired  1Bii3LSvFNeRTrW4s0Kj4m   Junior Sanchez   \n",
       "197                        Letzter  7A75UBKiDVmzvaFkYpnYz4            Edraw   \n",
       "198                           Blue  2C8c1RN9BDuwR7DiIXqYNY  Chris Malinchak   \n",
       "199                      Four Feet  2JebL9WaaUylWLns0SmVuU             Otik   \n",
       "\n",
       "          Genre  \n",
       "0    Deep House  \n",
       "1    Deep House  \n",
       "2    Deep House  \n",
       "3    Deep House  \n",
       "4    Deep House  \n",
       "..          ...  \n",
       "195  Deep House  \n",
       "196  Deep House  \n",
       "197  Deep House  \n",
       "198  Deep House  \n",
       "199  Deep House  \n",
       "\n",
       "[200 rows x 4 columns]"
      ]
     },
     "execution_count": 167,
     "metadata": {},
     "output_type": "execute_result"
    }
   ],
   "source": [
    "playlist_deep_house_info"
   ]
  },
  {
   "cell_type": "markdown",
   "id": "bef56d7d",
   "metadata": {},
   "source": [
    "## Import playlists by genre DISNEY\n",
    "- I will import now a Disney playlist"
   ]
  },
  {
   "cell_type": "code",
   "execution_count": 168,
   "id": "a0d44524",
   "metadata": {},
   "outputs": [],
   "source": [
    "## https://open.spotify.com/playlist/37i9dQZF1DX8C9xQcOrE6T?si=d2057893dbca4cb2\n",
    "## Spotify"
   ]
  },
  {
   "cell_type": "code",
   "execution_count": 169,
   "id": "dbae26e8",
   "metadata": {},
   "outputs": [],
   "source": [
    "disney_playlist = sp.user_playlist_tracks(\"Spotify\", \"37i9dQZF1DX8C9xQcOrE6T\")"
   ]
  },
  {
   "cell_type": "raw",
   "id": "65f8e210",
   "metadata": {},
   "source": [
    "disney_playlist"
   ]
  },
  {
   "cell_type": "code",
   "execution_count": 170,
   "id": "6cd7b865",
   "metadata": {},
   "outputs": [
    {
     "data": {
      "text/plain": [
       "dict_keys(['href', 'items', 'limit', 'next', 'offset', 'previous', 'total'])"
      ]
     },
     "execution_count": 170,
     "metadata": {},
     "output_type": "execute_result"
    }
   ],
   "source": [
    "disney_playlist.keys()"
   ]
  },
  {
   "cell_type": "raw",
   "id": "0219d5a1",
   "metadata": {},
   "source": [
    "disney_playlist['items'][3]"
   ]
  },
  {
   "cell_type": "code",
   "execution_count": 171,
   "id": "41658842",
   "metadata": {},
   "outputs": [
    {
     "data": {
      "text/plain": [
       "100"
      ]
     },
     "execution_count": 171,
     "metadata": {},
     "output_type": "execute_result"
    }
   ],
   "source": [
    "len(disney_playlist['items'])"
   ]
  },
  {
   "cell_type": "code",
   "execution_count": 172,
   "id": "0077c12d",
   "metadata": {},
   "outputs": [],
   "source": [
    "def get_playlist_tracks9(user_id, playlist_id):\n",
    "    results=sp.user_playlist_tracks(user_id, playlist_id)\n",
    "    tracks=results['items']\n",
    "    while results['next']:\n",
    "        results= sp.next(results)\n",
    "        tracks.extend(results['items'])\n",
    "    return tracks"
   ]
  },
  {
   "cell_type": "code",
   "execution_count": 173,
   "id": "f406b76f",
   "metadata": {},
   "outputs": [],
   "source": [
    "results11=get_playlist_tracks9(\"Spotify\", \"37i9dQZF1DX8C9xQcOrE6T\")"
   ]
  },
  {
   "cell_type": "code",
   "execution_count": 174,
   "id": "c093fb63",
   "metadata": {},
   "outputs": [
    {
     "data": {
      "text/plain": [
       "102"
      ]
     },
     "execution_count": 174,
     "metadata": {},
     "output_type": "execute_result"
    }
   ],
   "source": [
    "len(results11)"
   ]
  },
  {
   "cell_type": "code",
   "execution_count": 175,
   "id": "ee8ece4c",
   "metadata": {},
   "outputs": [
    {
     "data": {
      "text/plain": [
       "dict_keys(['album', 'artists', 'available_markets', 'disc_number', 'duration_ms', 'episode', 'explicit', 'external_ids', 'external_urls', 'href', 'id', 'is_local', 'name', 'popularity', 'preview_url', 'track', 'track_number', 'type', 'uri'])"
      ]
     },
     "execution_count": 175,
     "metadata": {},
     "output_type": "execute_result"
    }
   ],
   "source": [
    "results11[0]['track'].keys()"
   ]
  },
  {
   "cell_type": "code",
   "execution_count": 176,
   "id": "e5dc2980",
   "metadata": {},
   "outputs": [],
   "source": [
    "song_name=[]\n",
    "song_URI=[]\n",
    "song_ID=[]\n",
    "song_artist=[]\n",
    "playlist=results11"
   ]
  },
  {
   "cell_type": "code",
   "execution_count": 177,
   "id": "a7eedc58",
   "metadata": {},
   "outputs": [],
   "source": [
    "for r in results11:\n",
    "    song_URI.append(r[\"track\"][\"uri\"])\n",
    "    \n",
    "for r in results11: \n",
    "    song_ID.append(r[\"track\"][\"id\"])\n",
    "    \n",
    "for r in results11: \n",
    "    song_name.append(r[\"track\"][\"name\"])\n",
    "    \n",
    "for r in results11: \n",
    "    song_artist.append(r[\"track\"][\"artists\"][0][\"name\"])"
   ]
  },
  {
   "cell_type": "code",
   "execution_count": 178,
   "id": "bc6f3b9f",
   "metadata": {},
   "outputs": [],
   "source": [
    "playlist_disney_info=pd.DataFrame({\"song_name\":song_name,\"song_ID\":song_ID,\"song_artist\":song_artist})"
   ]
  },
  {
   "cell_type": "code",
   "execution_count": 179,
   "id": "d3eebbb2",
   "metadata": {},
   "outputs": [
    {
     "data": {
      "text/html": [
       "<div>\n",
       "<style scoped>\n",
       "    .dataframe tbody tr th:only-of-type {\n",
       "        vertical-align: middle;\n",
       "    }\n",
       "\n",
       "    .dataframe tbody tr th {\n",
       "        vertical-align: top;\n",
       "    }\n",
       "\n",
       "    .dataframe thead th {\n",
       "        text-align: right;\n",
       "    }\n",
       "</style>\n",
       "<table border=\"1\" class=\"dataframe\">\n",
       "  <thead>\n",
       "    <tr style=\"text-align: right;\">\n",
       "      <th></th>\n",
       "      <th>song_name</th>\n",
       "      <th>song_ID</th>\n",
       "      <th>song_artist</th>\n",
       "    </tr>\n",
       "  </thead>\n",
       "  <tbody>\n",
       "    <tr>\n",
       "      <th>0</th>\n",
       "      <td>Into the Unknown</td>\n",
       "      <td>3Z0oQ8r78OUaHvGPiDBR3W</td>\n",
       "      <td>Idina Menzel</td>\n",
       "    </tr>\n",
       "    <tr>\n",
       "      <th>1</th>\n",
       "      <td>How Far I'll Go</td>\n",
       "      <td>6mb6lVLNrcUgLnEN8QnDJd</td>\n",
       "      <td>Auli'i Cravalho</td>\n",
       "    </tr>\n",
       "    <tr>\n",
       "      <th>2</th>\n",
       "      <td>Colombia, Mi Encanto</td>\n",
       "      <td>2Q5q1q01KOdHt5fM00WUJ8</td>\n",
       "      <td>Carlos Vives</td>\n",
       "    </tr>\n",
       "    <tr>\n",
       "      <th>3</th>\n",
       "      <td>Un Poco Loco</td>\n",
       "      <td>0OFknyqxmSQ42SoKxWVTok</td>\n",
       "      <td>Anthony Gonzalez</td>\n",
       "    </tr>\n",
       "    <tr>\n",
       "      <th>4</th>\n",
       "      <td>The Family Madrigal</td>\n",
       "      <td>4b1yxSdlumA8N4fEk4UOZp</td>\n",
       "      <td>Stephanie Beatriz</td>\n",
       "    </tr>\n",
       "    <tr>\n",
       "      <th>...</th>\n",
       "      <td>...</td>\n",
       "      <td>...</td>\n",
       "      <td>...</td>\n",
       "    </tr>\n",
       "    <tr>\n",
       "      <th>97</th>\n",
       "      <td>When Can I See You Again? - From \"Wreck-It Ral...</td>\n",
       "      <td>5ZkAx8zjLiSs1nMmBwJoZS</td>\n",
       "      <td>Owl City</td>\n",
       "    </tr>\n",
       "    <tr>\n",
       "      <th>98</th>\n",
       "      <td>Zero</td>\n",
       "      <td>4Bi2qsF5AWin93USPh5fQK</td>\n",
       "      <td>Imagine Dragons</td>\n",
       "    </tr>\n",
       "    <tr>\n",
       "      <th>99</th>\n",
       "      <td>Spirit</td>\n",
       "      <td>38SueFAjT6jtFneyoQamYi</td>\n",
       "      <td>Beyoncé</td>\n",
       "    </tr>\n",
       "    <tr>\n",
       "      <th>100</th>\n",
       "      <td>In This Place</td>\n",
       "      <td>2cOE7d35PyfAh9M7DglPk0</td>\n",
       "      <td>Julia Michaels</td>\n",
       "    </tr>\n",
       "    <tr>\n",
       "      <th>101</th>\n",
       "      <td>A Spoonful of Sugar - From \"Mary Poppins\" / So...</td>\n",
       "      <td>29bQPrp6BT0w3kaXTqIo8A</td>\n",
       "      <td>Julie Andrews</td>\n",
       "    </tr>\n",
       "  </tbody>\n",
       "</table>\n",
       "<p>102 rows × 3 columns</p>\n",
       "</div>"
      ],
      "text/plain": [
       "                                             song_name  \\\n",
       "0                                     Into the Unknown   \n",
       "1                                      How Far I'll Go   \n",
       "2                                 Colombia, Mi Encanto   \n",
       "3                                         Un Poco Loco   \n",
       "4                                  The Family Madrigal   \n",
       "..                                                 ...   \n",
       "97   When Can I See You Again? - From \"Wreck-It Ral...   \n",
       "98                                                Zero   \n",
       "99                                              Spirit   \n",
       "100                                      In This Place   \n",
       "101  A Spoonful of Sugar - From \"Mary Poppins\" / So...   \n",
       "\n",
       "                    song_ID        song_artist  \n",
       "0    3Z0oQ8r78OUaHvGPiDBR3W       Idina Menzel  \n",
       "1    6mb6lVLNrcUgLnEN8QnDJd    Auli'i Cravalho  \n",
       "2    2Q5q1q01KOdHt5fM00WUJ8       Carlos Vives  \n",
       "3    0OFknyqxmSQ42SoKxWVTok   Anthony Gonzalez  \n",
       "4    4b1yxSdlumA8N4fEk4UOZp  Stephanie Beatriz  \n",
       "..                      ...                ...  \n",
       "97   5ZkAx8zjLiSs1nMmBwJoZS           Owl City  \n",
       "98   4Bi2qsF5AWin93USPh5fQK    Imagine Dragons  \n",
       "99   38SueFAjT6jtFneyoQamYi            Beyoncé  \n",
       "100  2cOE7d35PyfAh9M7DglPk0     Julia Michaels  \n",
       "101  29bQPrp6BT0w3kaXTqIo8A      Julie Andrews  \n",
       "\n",
       "[102 rows x 3 columns]"
      ]
     },
     "execution_count": 179,
     "metadata": {},
     "output_type": "execute_result"
    }
   ],
   "source": [
    "playlist_disney_info"
   ]
  },
  {
   "cell_type": "markdown",
   "id": "887776e4",
   "metadata": {},
   "source": [
    "### Add a new column for genre in playlist_disney_info"
   ]
  },
  {
   "cell_type": "code",
   "execution_count": 180,
   "id": "478e741b",
   "metadata": {},
   "outputs": [],
   "source": [
    "playlist_disney_info.insert(3, 'Genre', 'Disney') "
   ]
  },
  {
   "cell_type": "code",
   "execution_count": 181,
   "id": "63f87fa8",
   "metadata": {},
   "outputs": [
    {
     "data": {
      "text/html": [
       "<div>\n",
       "<style scoped>\n",
       "    .dataframe tbody tr th:only-of-type {\n",
       "        vertical-align: middle;\n",
       "    }\n",
       "\n",
       "    .dataframe tbody tr th {\n",
       "        vertical-align: top;\n",
       "    }\n",
       "\n",
       "    .dataframe thead th {\n",
       "        text-align: right;\n",
       "    }\n",
       "</style>\n",
       "<table border=\"1\" class=\"dataframe\">\n",
       "  <thead>\n",
       "    <tr style=\"text-align: right;\">\n",
       "      <th></th>\n",
       "      <th>song_name</th>\n",
       "      <th>song_ID</th>\n",
       "      <th>song_artist</th>\n",
       "      <th>Genre</th>\n",
       "    </tr>\n",
       "  </thead>\n",
       "  <tbody>\n",
       "    <tr>\n",
       "      <th>0</th>\n",
       "      <td>Into the Unknown</td>\n",
       "      <td>3Z0oQ8r78OUaHvGPiDBR3W</td>\n",
       "      <td>Idina Menzel</td>\n",
       "      <td>Disney</td>\n",
       "    </tr>\n",
       "    <tr>\n",
       "      <th>1</th>\n",
       "      <td>How Far I'll Go</td>\n",
       "      <td>6mb6lVLNrcUgLnEN8QnDJd</td>\n",
       "      <td>Auli'i Cravalho</td>\n",
       "      <td>Disney</td>\n",
       "    </tr>\n",
       "    <tr>\n",
       "      <th>2</th>\n",
       "      <td>Colombia, Mi Encanto</td>\n",
       "      <td>2Q5q1q01KOdHt5fM00WUJ8</td>\n",
       "      <td>Carlos Vives</td>\n",
       "      <td>Disney</td>\n",
       "    </tr>\n",
       "    <tr>\n",
       "      <th>3</th>\n",
       "      <td>Un Poco Loco</td>\n",
       "      <td>0OFknyqxmSQ42SoKxWVTok</td>\n",
       "      <td>Anthony Gonzalez</td>\n",
       "      <td>Disney</td>\n",
       "    </tr>\n",
       "    <tr>\n",
       "      <th>4</th>\n",
       "      <td>The Family Madrigal</td>\n",
       "      <td>4b1yxSdlumA8N4fEk4UOZp</td>\n",
       "      <td>Stephanie Beatriz</td>\n",
       "      <td>Disney</td>\n",
       "    </tr>\n",
       "    <tr>\n",
       "      <th>...</th>\n",
       "      <td>...</td>\n",
       "      <td>...</td>\n",
       "      <td>...</td>\n",
       "      <td>...</td>\n",
       "    </tr>\n",
       "    <tr>\n",
       "      <th>97</th>\n",
       "      <td>When Can I See You Again? - From \"Wreck-It Ral...</td>\n",
       "      <td>5ZkAx8zjLiSs1nMmBwJoZS</td>\n",
       "      <td>Owl City</td>\n",
       "      <td>Disney</td>\n",
       "    </tr>\n",
       "    <tr>\n",
       "      <th>98</th>\n",
       "      <td>Zero</td>\n",
       "      <td>4Bi2qsF5AWin93USPh5fQK</td>\n",
       "      <td>Imagine Dragons</td>\n",
       "      <td>Disney</td>\n",
       "    </tr>\n",
       "    <tr>\n",
       "      <th>99</th>\n",
       "      <td>Spirit</td>\n",
       "      <td>38SueFAjT6jtFneyoQamYi</td>\n",
       "      <td>Beyoncé</td>\n",
       "      <td>Disney</td>\n",
       "    </tr>\n",
       "    <tr>\n",
       "      <th>100</th>\n",
       "      <td>In This Place</td>\n",
       "      <td>2cOE7d35PyfAh9M7DglPk0</td>\n",
       "      <td>Julia Michaels</td>\n",
       "      <td>Disney</td>\n",
       "    </tr>\n",
       "    <tr>\n",
       "      <th>101</th>\n",
       "      <td>A Spoonful of Sugar - From \"Mary Poppins\" / So...</td>\n",
       "      <td>29bQPrp6BT0w3kaXTqIo8A</td>\n",
       "      <td>Julie Andrews</td>\n",
       "      <td>Disney</td>\n",
       "    </tr>\n",
       "  </tbody>\n",
       "</table>\n",
       "<p>102 rows × 4 columns</p>\n",
       "</div>"
      ],
      "text/plain": [
       "                                             song_name  \\\n",
       "0                                     Into the Unknown   \n",
       "1                                      How Far I'll Go   \n",
       "2                                 Colombia, Mi Encanto   \n",
       "3                                         Un Poco Loco   \n",
       "4                                  The Family Madrigal   \n",
       "..                                                 ...   \n",
       "97   When Can I See You Again? - From \"Wreck-It Ral...   \n",
       "98                                                Zero   \n",
       "99                                              Spirit   \n",
       "100                                      In This Place   \n",
       "101  A Spoonful of Sugar - From \"Mary Poppins\" / So...   \n",
       "\n",
       "                    song_ID        song_artist   Genre  \n",
       "0    3Z0oQ8r78OUaHvGPiDBR3W       Idina Menzel  Disney  \n",
       "1    6mb6lVLNrcUgLnEN8QnDJd    Auli'i Cravalho  Disney  \n",
       "2    2Q5q1q01KOdHt5fM00WUJ8       Carlos Vives  Disney  \n",
       "3    0OFknyqxmSQ42SoKxWVTok   Anthony Gonzalez  Disney  \n",
       "4    4b1yxSdlumA8N4fEk4UOZp  Stephanie Beatriz  Disney  \n",
       "..                      ...                ...     ...  \n",
       "97   5ZkAx8zjLiSs1nMmBwJoZS           Owl City  Disney  \n",
       "98   4Bi2qsF5AWin93USPh5fQK    Imagine Dragons  Disney  \n",
       "99   38SueFAjT6jtFneyoQamYi            Beyoncé  Disney  \n",
       "100  2cOE7d35PyfAh9M7DglPk0     Julia Michaels  Disney  \n",
       "101  29bQPrp6BT0w3kaXTqIo8A      Julie Andrews  Disney  \n",
       "\n",
       "[102 rows x 4 columns]"
      ]
     },
     "execution_count": 181,
     "metadata": {},
     "output_type": "execute_result"
    }
   ],
   "source": [
    "playlist_disney_info"
   ]
  },
  {
   "cell_type": "markdown",
   "id": "56178041",
   "metadata": {},
   "source": [
    "## Import playlists by genre TECHNO\n",
    "- I will import now a Techno playlist"
   ]
  },
  {
   "cell_type": "code",
   "execution_count": 182,
   "id": "6b3e296b",
   "metadata": {},
   "outputs": [],
   "source": [
    "## https://open.spotify.com/playlist/1ttMvmcjWe9JKZybeYjtnU?si=15ee0122f19449ee\n",
    "## Tunefullymusic"
   ]
  },
  {
   "cell_type": "code",
   "execution_count": 183,
   "id": "69d2b410",
   "metadata": {},
   "outputs": [],
   "source": [
    "techno_playlist = sp.user_playlist_tracks(\"Tunefullymusic\", \"1ttMvmcjWe9JKZybeYjtnU\")"
   ]
  },
  {
   "cell_type": "raw",
   "id": "0ee1782e",
   "metadata": {},
   "source": [
    "techno_playlist"
   ]
  },
  {
   "cell_type": "code",
   "execution_count": 184,
   "id": "d9ca440f",
   "metadata": {},
   "outputs": [
    {
     "data": {
      "text/plain": [
       "dict_keys(['href', 'items', 'limit', 'next', 'offset', 'previous', 'total'])"
      ]
     },
     "execution_count": 184,
     "metadata": {},
     "output_type": "execute_result"
    }
   ],
   "source": [
    "techno_playlist.keys()"
   ]
  },
  {
   "cell_type": "raw",
   "id": "f68d6f41",
   "metadata": {},
   "source": [
    "techno_playlist['items'][3]"
   ]
  },
  {
   "cell_type": "code",
   "execution_count": 185,
   "id": "6476248e",
   "metadata": {},
   "outputs": [
    {
     "data": {
      "text/plain": [
       "100"
      ]
     },
     "execution_count": 185,
     "metadata": {},
     "output_type": "execute_result"
    }
   ],
   "source": [
    "len(techno_playlist['items'])"
   ]
  },
  {
   "cell_type": "code",
   "execution_count": 186,
   "id": "3de515be",
   "metadata": {},
   "outputs": [],
   "source": [
    "def get_playlist_tracks10(user_id, playlist_id):\n",
    "    results=sp.user_playlist_tracks(user_id, playlist_id)\n",
    "    tracks=results['items']\n",
    "    while results['next']:\n",
    "        results= sp.next(results)\n",
    "        tracks.extend(results['items'])\n",
    "    return tracks"
   ]
  },
  {
   "cell_type": "code",
   "execution_count": 187,
   "id": "ac2148c2",
   "metadata": {},
   "outputs": [],
   "source": [
    "results12=get_playlist_tracks10(\"Spotify\", \"1ttMvmcjWe9JKZybeYjtnU\")"
   ]
  },
  {
   "cell_type": "code",
   "execution_count": 188,
   "id": "f2cdbe65",
   "metadata": {},
   "outputs": [
    {
     "data": {
      "text/plain": [
       "1021"
      ]
     },
     "execution_count": 188,
     "metadata": {},
     "output_type": "execute_result"
    }
   ],
   "source": [
    "len(results12)"
   ]
  },
  {
   "cell_type": "code",
   "execution_count": 189,
   "id": "a302c4ab",
   "metadata": {},
   "outputs": [
    {
     "data": {
      "text/plain": [
       "dict_keys(['album', 'artists', 'available_markets', 'disc_number', 'duration_ms', 'episode', 'explicit', 'external_ids', 'external_urls', 'href', 'id', 'is_local', 'name', 'popularity', 'preview_url', 'track', 'track_number', 'type', 'uri'])"
      ]
     },
     "execution_count": 189,
     "metadata": {},
     "output_type": "execute_result"
    }
   ],
   "source": [
    "results12[0]['track'].keys()"
   ]
  },
  {
   "cell_type": "code",
   "execution_count": 190,
   "id": "0984bf8d",
   "metadata": {},
   "outputs": [],
   "source": [
    "song_name=[]\n",
    "song_URI=[]\n",
    "song_ID=[]\n",
    "song_artist=[]\n",
    "playlist=results12"
   ]
  },
  {
   "cell_type": "code",
   "execution_count": 191,
   "id": "46b756e7",
   "metadata": {},
   "outputs": [],
   "source": [
    "for r in results12:\n",
    "    song_URI.append(r[\"track\"][\"uri\"])\n",
    "    \n",
    "for r in results12: \n",
    "    song_ID.append(r[\"track\"][\"id\"])\n",
    "    \n",
    "for r in results12: \n",
    "    song_name.append(r[\"track\"][\"name\"])\n",
    "    \n",
    "for r in results12: \n",
    "    song_artist.append(r[\"track\"][\"artists\"][0][\"name\"])"
   ]
  },
  {
   "cell_type": "code",
   "execution_count": 192,
   "id": "39b5eb04",
   "metadata": {},
   "outputs": [],
   "source": [
    "playlist_techno_info=pd.DataFrame({\"song_name\":song_name,\"song_ID\":song_ID,\"song_artist\":song_artist})"
   ]
  },
  {
   "cell_type": "code",
   "execution_count": 193,
   "id": "fd02108d",
   "metadata": {},
   "outputs": [
    {
     "data": {
      "text/html": [
       "<div>\n",
       "<style scoped>\n",
       "    .dataframe tbody tr th:only-of-type {\n",
       "        vertical-align: middle;\n",
       "    }\n",
       "\n",
       "    .dataframe tbody tr th {\n",
       "        vertical-align: top;\n",
       "    }\n",
       "\n",
       "    .dataframe thead th {\n",
       "        text-align: right;\n",
       "    }\n",
       "</style>\n",
       "<table border=\"1\" class=\"dataframe\">\n",
       "  <thead>\n",
       "    <tr style=\"text-align: right;\">\n",
       "      <th></th>\n",
       "      <th>song_name</th>\n",
       "      <th>song_ID</th>\n",
       "      <th>song_artist</th>\n",
       "    </tr>\n",
       "  </thead>\n",
       "  <tbody>\n",
       "    <tr>\n",
       "      <th>0</th>\n",
       "      <td>Gimme Some</td>\n",
       "      <td>6170lJSBtiM5trzOtHtdD2</td>\n",
       "      <td>Weval</td>\n",
       "    </tr>\n",
       "    <tr>\n",
       "      <th>1</th>\n",
       "      <td>To Let Myself Go</td>\n",
       "      <td>4IQgbTjXZfINWOS5TKL6T0</td>\n",
       "      <td>The Avener</td>\n",
       "    </tr>\n",
       "    <tr>\n",
       "      <th>2</th>\n",
       "      <td>In the Morning</td>\n",
       "      <td>01wpPOPqQ3XyS6hBN00HfK</td>\n",
       "      <td>ZHU</td>\n",
       "    </tr>\n",
       "    <tr>\n",
       "      <th>3</th>\n",
       "      <td>Love Me - 4ЯR &amp; Cutneck Remix</td>\n",
       "      <td>7wBsua0Fr50vOEHzABrlsc</td>\n",
       "      <td>Damian Spider</td>\n",
       "    </tr>\n",
       "    <tr>\n",
       "      <th>4</th>\n",
       "      <td>West Coast</td>\n",
       "      <td>5Y6nVaayzitvsD5F7nr3DV</td>\n",
       "      <td>Lana Del Rey</td>\n",
       "    </tr>\n",
       "    <tr>\n",
       "      <th>...</th>\n",
       "      <td>...</td>\n",
       "      <td>...</td>\n",
       "      <td>...</td>\n",
       "    </tr>\n",
       "    <tr>\n",
       "      <th>1016</th>\n",
       "      <td>Martian</td>\n",
       "      <td>3KaDPp6hfbnL4dAo57PNCI</td>\n",
       "      <td>Colyn</td>\n",
       "    </tr>\n",
       "    <tr>\n",
       "      <th>1017</th>\n",
       "      <td>Mandate - Original Mix</td>\n",
       "      <td>4nSn1svDL1elP43MZuEc0K</td>\n",
       "      <td>D-Formation</td>\n",
       "    </tr>\n",
       "    <tr>\n",
       "      <th>1018</th>\n",
       "      <td>Hunting - Senses of Mind Remix</td>\n",
       "      <td>4M5K6HYMIIoXLutK1v7g7U</td>\n",
       "      <td>Mark Tarmonea</td>\n",
       "    </tr>\n",
       "    <tr>\n",
       "      <th>1019</th>\n",
       "      <td>Evolving Flow</td>\n",
       "      <td>0hUsx4d1Ur32PPQS9CX7yU</td>\n",
       "      <td>Anturage</td>\n",
       "    </tr>\n",
       "    <tr>\n",
       "      <th>1020</th>\n",
       "      <td>Aya</td>\n",
       "      <td>3fDRPg5MmTsr15Fax4bFyN</td>\n",
       "      <td>Stan Kolev</td>\n",
       "    </tr>\n",
       "  </tbody>\n",
       "</table>\n",
       "<p>1021 rows × 3 columns</p>\n",
       "</div>"
      ],
      "text/plain": [
       "                           song_name                 song_ID    song_artist\n",
       "0                         Gimme Some  6170lJSBtiM5trzOtHtdD2          Weval\n",
       "1                   To Let Myself Go  4IQgbTjXZfINWOS5TKL6T0     The Avener\n",
       "2                     In the Morning  01wpPOPqQ3XyS6hBN00HfK            ZHU\n",
       "3      Love Me - 4ЯR & Cutneck Remix  7wBsua0Fr50vOEHzABrlsc  Damian Spider\n",
       "4                         West Coast  5Y6nVaayzitvsD5F7nr3DV   Lana Del Rey\n",
       "...                              ...                     ...            ...\n",
       "1016                         Martian  3KaDPp6hfbnL4dAo57PNCI          Colyn\n",
       "1017          Mandate - Original Mix  4nSn1svDL1elP43MZuEc0K    D-Formation\n",
       "1018  Hunting - Senses of Mind Remix  4M5K6HYMIIoXLutK1v7g7U  Mark Tarmonea\n",
       "1019                   Evolving Flow  0hUsx4d1Ur32PPQS9CX7yU       Anturage\n",
       "1020                             Aya  3fDRPg5MmTsr15Fax4bFyN     Stan Kolev\n",
       "\n",
       "[1021 rows x 3 columns]"
      ]
     },
     "execution_count": 193,
     "metadata": {},
     "output_type": "execute_result"
    }
   ],
   "source": [
    "playlist_techno_info"
   ]
  },
  {
   "cell_type": "markdown",
   "id": "54550f1d",
   "metadata": {},
   "source": [
    "### Add a new column for genre in playlist_techno_info"
   ]
  },
  {
   "cell_type": "code",
   "execution_count": 194,
   "id": "f6740ef5",
   "metadata": {},
   "outputs": [],
   "source": [
    "playlist_techno_info.insert(3, 'Genre', 'Techno') "
   ]
  },
  {
   "cell_type": "code",
   "execution_count": 195,
   "id": "c66f93d3",
   "metadata": {},
   "outputs": [
    {
     "data": {
      "text/html": [
       "<div>\n",
       "<style scoped>\n",
       "    .dataframe tbody tr th:only-of-type {\n",
       "        vertical-align: middle;\n",
       "    }\n",
       "\n",
       "    .dataframe tbody tr th {\n",
       "        vertical-align: top;\n",
       "    }\n",
       "\n",
       "    .dataframe thead th {\n",
       "        text-align: right;\n",
       "    }\n",
       "</style>\n",
       "<table border=\"1\" class=\"dataframe\">\n",
       "  <thead>\n",
       "    <tr style=\"text-align: right;\">\n",
       "      <th></th>\n",
       "      <th>song_name</th>\n",
       "      <th>song_ID</th>\n",
       "      <th>song_artist</th>\n",
       "      <th>Genre</th>\n",
       "    </tr>\n",
       "  </thead>\n",
       "  <tbody>\n",
       "    <tr>\n",
       "      <th>0</th>\n",
       "      <td>Gimme Some</td>\n",
       "      <td>6170lJSBtiM5trzOtHtdD2</td>\n",
       "      <td>Weval</td>\n",
       "      <td>Techno</td>\n",
       "    </tr>\n",
       "    <tr>\n",
       "      <th>1</th>\n",
       "      <td>To Let Myself Go</td>\n",
       "      <td>4IQgbTjXZfINWOS5TKL6T0</td>\n",
       "      <td>The Avener</td>\n",
       "      <td>Techno</td>\n",
       "    </tr>\n",
       "    <tr>\n",
       "      <th>2</th>\n",
       "      <td>In the Morning</td>\n",
       "      <td>01wpPOPqQ3XyS6hBN00HfK</td>\n",
       "      <td>ZHU</td>\n",
       "      <td>Techno</td>\n",
       "    </tr>\n",
       "    <tr>\n",
       "      <th>3</th>\n",
       "      <td>Love Me - 4ЯR &amp; Cutneck Remix</td>\n",
       "      <td>7wBsua0Fr50vOEHzABrlsc</td>\n",
       "      <td>Damian Spider</td>\n",
       "      <td>Techno</td>\n",
       "    </tr>\n",
       "    <tr>\n",
       "      <th>4</th>\n",
       "      <td>West Coast</td>\n",
       "      <td>5Y6nVaayzitvsD5F7nr3DV</td>\n",
       "      <td>Lana Del Rey</td>\n",
       "      <td>Techno</td>\n",
       "    </tr>\n",
       "    <tr>\n",
       "      <th>...</th>\n",
       "      <td>...</td>\n",
       "      <td>...</td>\n",
       "      <td>...</td>\n",
       "      <td>...</td>\n",
       "    </tr>\n",
       "    <tr>\n",
       "      <th>1016</th>\n",
       "      <td>Martian</td>\n",
       "      <td>3KaDPp6hfbnL4dAo57PNCI</td>\n",
       "      <td>Colyn</td>\n",
       "      <td>Techno</td>\n",
       "    </tr>\n",
       "    <tr>\n",
       "      <th>1017</th>\n",
       "      <td>Mandate - Original Mix</td>\n",
       "      <td>4nSn1svDL1elP43MZuEc0K</td>\n",
       "      <td>D-Formation</td>\n",
       "      <td>Techno</td>\n",
       "    </tr>\n",
       "    <tr>\n",
       "      <th>1018</th>\n",
       "      <td>Hunting - Senses of Mind Remix</td>\n",
       "      <td>4M5K6HYMIIoXLutK1v7g7U</td>\n",
       "      <td>Mark Tarmonea</td>\n",
       "      <td>Techno</td>\n",
       "    </tr>\n",
       "    <tr>\n",
       "      <th>1019</th>\n",
       "      <td>Evolving Flow</td>\n",
       "      <td>0hUsx4d1Ur32PPQS9CX7yU</td>\n",
       "      <td>Anturage</td>\n",
       "      <td>Techno</td>\n",
       "    </tr>\n",
       "    <tr>\n",
       "      <th>1020</th>\n",
       "      <td>Aya</td>\n",
       "      <td>3fDRPg5MmTsr15Fax4bFyN</td>\n",
       "      <td>Stan Kolev</td>\n",
       "      <td>Techno</td>\n",
       "    </tr>\n",
       "  </tbody>\n",
       "</table>\n",
       "<p>1021 rows × 4 columns</p>\n",
       "</div>"
      ],
      "text/plain": [
       "                           song_name                 song_ID    song_artist  \\\n",
       "0                         Gimme Some  6170lJSBtiM5trzOtHtdD2          Weval   \n",
       "1                   To Let Myself Go  4IQgbTjXZfINWOS5TKL6T0     The Avener   \n",
       "2                     In the Morning  01wpPOPqQ3XyS6hBN00HfK            ZHU   \n",
       "3      Love Me - 4ЯR & Cutneck Remix  7wBsua0Fr50vOEHzABrlsc  Damian Spider   \n",
       "4                         West Coast  5Y6nVaayzitvsD5F7nr3DV   Lana Del Rey   \n",
       "...                              ...                     ...            ...   \n",
       "1016                         Martian  3KaDPp6hfbnL4dAo57PNCI          Colyn   \n",
       "1017          Mandate - Original Mix  4nSn1svDL1elP43MZuEc0K    D-Formation   \n",
       "1018  Hunting - Senses of Mind Remix  4M5K6HYMIIoXLutK1v7g7U  Mark Tarmonea   \n",
       "1019                   Evolving Flow  0hUsx4d1Ur32PPQS9CX7yU       Anturage   \n",
       "1020                             Aya  3fDRPg5MmTsr15Fax4bFyN     Stan Kolev   \n",
       "\n",
       "       Genre  \n",
       "0     Techno  \n",
       "1     Techno  \n",
       "2     Techno  \n",
       "3     Techno  \n",
       "4     Techno  \n",
       "...      ...  \n",
       "1016  Techno  \n",
       "1017  Techno  \n",
       "1018  Techno  \n",
       "1019  Techno  \n",
       "1020  Techno  \n",
       "\n",
       "[1021 rows x 4 columns]"
      ]
     },
     "execution_count": 195,
     "metadata": {},
     "output_type": "execute_result"
    }
   ],
   "source": [
    "playlist_techno_info"
   ]
  },
  {
   "cell_type": "markdown",
   "id": "c658ae4e",
   "metadata": {},
   "source": [
    "## Import playlists by genre OTHER\n",
    "- I will import now an OTHER playlist"
   ]
  },
  {
   "cell_type": "code",
   "execution_count": 196,
   "id": "49459d4a",
   "metadata": {},
   "outputs": [],
   "source": [
    "## https://open.spotify.com/playlist/32twOqGf8gIswTgzG3IKxP?si=9b49f7964d1149eb\n",
    "## cokieekill"
   ]
  },
  {
   "cell_type": "code",
   "execution_count": 197,
   "id": "ebfa752c",
   "metadata": {},
   "outputs": [],
   "source": [
    "other_playlist = sp.user_playlist_tracks(\"cokieekill\", \"32twOqGf8gIswTgzG3IKxP\")"
   ]
  },
  {
   "cell_type": "raw",
   "id": "e80e93fd",
   "metadata": {},
   "source": [
    "other_playlist"
   ]
  },
  {
   "cell_type": "code",
   "execution_count": 198,
   "id": "2210bc78",
   "metadata": {},
   "outputs": [
    {
     "data": {
      "text/plain": [
       "dict_keys(['href', 'items', 'limit', 'next', 'offset', 'previous', 'total'])"
      ]
     },
     "execution_count": 198,
     "metadata": {},
     "output_type": "execute_result"
    }
   ],
   "source": [
    "other_playlist.keys()"
   ]
  },
  {
   "cell_type": "raw",
   "id": "52f14897",
   "metadata": {},
   "source": [
    "other_playlist['items'][3]"
   ]
  },
  {
   "cell_type": "code",
   "execution_count": 199,
   "id": "78b2c2f4",
   "metadata": {},
   "outputs": [
    {
     "data": {
      "text/plain": [
       "100"
      ]
     },
     "execution_count": 199,
     "metadata": {},
     "output_type": "execute_result"
    }
   ],
   "source": [
    "len(other_playlist['items'])"
   ]
  },
  {
   "cell_type": "code",
   "execution_count": 200,
   "id": "4ee67392",
   "metadata": {},
   "outputs": [],
   "source": [
    "def get_playlist_tracks11(user_id, playlist_id):\n",
    "    results=sp.user_playlist_tracks(user_id, playlist_id)\n",
    "    tracks=results['items']\n",
    "    while results['next']:\n",
    "        results= sp.next(results)\n",
    "        tracks.extend(results['items'])\n",
    "    return tracks"
   ]
  },
  {
   "cell_type": "code",
   "execution_count": 201,
   "id": "6ae86278",
   "metadata": {},
   "outputs": [],
   "source": [
    "results13=get_playlist_tracks11(\"cokieekill\", \"32twOqGf8gIswTgzG3IKxP\")"
   ]
  },
  {
   "cell_type": "code",
   "execution_count": 202,
   "id": "74aa2a92",
   "metadata": {},
   "outputs": [
    {
     "data": {
      "text/plain": [
       "9985"
      ]
     },
     "execution_count": 202,
     "metadata": {},
     "output_type": "execute_result"
    }
   ],
   "source": [
    "len(results13)"
   ]
  },
  {
   "cell_type": "code",
   "execution_count": 203,
   "id": "0b0eff9e",
   "metadata": {},
   "outputs": [
    {
     "data": {
      "text/plain": [
       "dict_keys(['album', 'artists', 'available_markets', 'disc_number', 'duration_ms', 'episode', 'explicit', 'external_ids', 'external_urls', 'href', 'id', 'is_local', 'name', 'popularity', 'preview_url', 'track', 'track_number', 'type', 'uri'])"
      ]
     },
     "execution_count": 203,
     "metadata": {},
     "output_type": "execute_result"
    }
   ],
   "source": [
    "results13[0]['track'].keys()"
   ]
  },
  {
   "cell_type": "code",
   "execution_count": 204,
   "id": "0b5dc53a",
   "metadata": {},
   "outputs": [],
   "source": [
    "song_name=[]\n",
    "song_URI=[]\n",
    "song_ID=[]\n",
    "song_artist=[]\n",
    "playlist=results13"
   ]
  },
  {
   "cell_type": "code",
   "execution_count": 205,
   "id": "a253c72a",
   "metadata": {},
   "outputs": [],
   "source": [
    "for r in results13:\n",
    "    song_URI.append(r[\"track\"][\"uri\"])\n",
    "    \n",
    "for r in results13: \n",
    "    song_ID.append(r[\"track\"][\"id\"])\n",
    "    \n",
    "for r in results13: \n",
    "    song_name.append(r[\"track\"][\"name\"])\n",
    "    \n",
    "for r in results13: \n",
    "    song_artist.append(r[\"track\"][\"artists\"][0][\"name\"])"
   ]
  },
  {
   "cell_type": "code",
   "execution_count": 206,
   "id": "4002271f",
   "metadata": {},
   "outputs": [],
   "source": [
    "playlist_other_info=pd.DataFrame({\"song_name\":song_name,\"song_ID\":song_ID,\"song_artist\":song_artist})"
   ]
  },
  {
   "cell_type": "code",
   "execution_count": 207,
   "id": "bd0d5ea6",
   "metadata": {},
   "outputs": [
    {
     "data": {
      "text/html": [
       "<div>\n",
       "<style scoped>\n",
       "    .dataframe tbody tr th:only-of-type {\n",
       "        vertical-align: middle;\n",
       "    }\n",
       "\n",
       "    .dataframe tbody tr th {\n",
       "        vertical-align: top;\n",
       "    }\n",
       "\n",
       "    .dataframe thead th {\n",
       "        text-align: right;\n",
       "    }\n",
       "</style>\n",
       "<table border=\"1\" class=\"dataframe\">\n",
       "  <thead>\n",
       "    <tr style=\"text-align: right;\">\n",
       "      <th></th>\n",
       "      <th>song_name</th>\n",
       "      <th>song_ID</th>\n",
       "      <th>song_artist</th>\n",
       "    </tr>\n",
       "  </thead>\n",
       "  <tbody>\n",
       "    <tr>\n",
       "      <th>0</th>\n",
       "      <td>Don't Stop Believin'</td>\n",
       "      <td>77NNZQSqzLNqh2A9JhLRkg</td>\n",
       "      <td>Journey</td>\n",
       "    </tr>\n",
       "    <tr>\n",
       "      <th>1</th>\n",
       "      <td>Fix You</td>\n",
       "      <td>7LVHVU3tWfcxj5aiPFEW4Q</td>\n",
       "      <td>Coldplay</td>\n",
       "    </tr>\n",
       "    <tr>\n",
       "      <th>2</th>\n",
       "      <td>The Scientist</td>\n",
       "      <td>75JFxkI2RXiU7L9VXzMkle</td>\n",
       "      <td>Coldplay</td>\n",
       "    </tr>\n",
       "    <tr>\n",
       "      <th>3</th>\n",
       "      <td>Sweet Child O' Mine</td>\n",
       "      <td>1kDYCn9VIDmOIbLZ2Xc7OO</td>\n",
       "      <td>Guns N' Roses</td>\n",
       "    </tr>\n",
       "    <tr>\n",
       "      <th>4</th>\n",
       "      <td>Viva La Vida</td>\n",
       "      <td>1mea3bSkSGXuIRvnydlB5b</td>\n",
       "      <td>Coldplay</td>\n",
       "    </tr>\n",
       "    <tr>\n",
       "      <th>...</th>\n",
       "      <td>...</td>\n",
       "      <td>...</td>\n",
       "      <td>...</td>\n",
       "    </tr>\n",
       "    <tr>\n",
       "      <th>9980</th>\n",
       "      <td>Summer Skin</td>\n",
       "      <td>5vFKQF10Jhyysg3JUbfBUd</td>\n",
       "      <td>Death Cab for Cutie</td>\n",
       "    </tr>\n",
       "    <tr>\n",
       "      <th>9981</th>\n",
       "      <td>Take on Me</td>\n",
       "      <td>6IVJFZI4fejlJ9XTa3CG5G</td>\n",
       "      <td>A1</td>\n",
       "    </tr>\n",
       "    <tr>\n",
       "      <th>9982</th>\n",
       "      <td>Shiver</td>\n",
       "      <td>0Yb0L5qlyMDyAZor9d57iS</td>\n",
       "      <td>Maroon 5</td>\n",
       "    </tr>\n",
       "    <tr>\n",
       "      <th>9983</th>\n",
       "      <td>Matkustaja</td>\n",
       "      <td>5esJb63Nbi1LeG0v4NyKTt</td>\n",
       "      <td>Egotrippi</td>\n",
       "    </tr>\n",
       "    <tr>\n",
       "      <th>9984</th>\n",
       "      <td>Special Needs</td>\n",
       "      <td>63Cg39cB5xAmjObaKPAd9z</td>\n",
       "      <td>Placebo</td>\n",
       "    </tr>\n",
       "  </tbody>\n",
       "</table>\n",
       "<p>9985 rows × 3 columns</p>\n",
       "</div>"
      ],
      "text/plain": [
       "                 song_name                 song_ID          song_artist\n",
       "0     Don't Stop Believin'  77NNZQSqzLNqh2A9JhLRkg              Journey\n",
       "1                  Fix You  7LVHVU3tWfcxj5aiPFEW4Q             Coldplay\n",
       "2            The Scientist  75JFxkI2RXiU7L9VXzMkle             Coldplay\n",
       "3      Sweet Child O' Mine  1kDYCn9VIDmOIbLZ2Xc7OO        Guns N' Roses\n",
       "4             Viva La Vida  1mea3bSkSGXuIRvnydlB5b             Coldplay\n",
       "...                    ...                     ...                  ...\n",
       "9980           Summer Skin  5vFKQF10Jhyysg3JUbfBUd  Death Cab for Cutie\n",
       "9981            Take on Me  6IVJFZI4fejlJ9XTa3CG5G                   A1\n",
       "9982                Shiver  0Yb0L5qlyMDyAZor9d57iS             Maroon 5\n",
       "9983            Matkustaja  5esJb63Nbi1LeG0v4NyKTt            Egotrippi\n",
       "9984         Special Needs  63Cg39cB5xAmjObaKPAd9z              Placebo\n",
       "\n",
       "[9985 rows x 3 columns]"
      ]
     },
     "execution_count": 207,
     "metadata": {},
     "output_type": "execute_result"
    }
   ],
   "source": [
    "playlist_other_info"
   ]
  },
  {
   "cell_type": "markdown",
   "id": "61c8d06b",
   "metadata": {},
   "source": [
    "### Add a new column for genre in playlist_other_info"
   ]
  },
  {
   "cell_type": "code",
   "execution_count": 208,
   "id": "95518735",
   "metadata": {},
   "outputs": [],
   "source": [
    "playlist_other_info.insert(3, 'Genre', 'Other') "
   ]
  },
  {
   "cell_type": "code",
   "execution_count": 209,
   "id": "cc417922",
   "metadata": {},
   "outputs": [
    {
     "data": {
      "text/html": [
       "<div>\n",
       "<style scoped>\n",
       "    .dataframe tbody tr th:only-of-type {\n",
       "        vertical-align: middle;\n",
       "    }\n",
       "\n",
       "    .dataframe tbody tr th {\n",
       "        vertical-align: top;\n",
       "    }\n",
       "\n",
       "    .dataframe thead th {\n",
       "        text-align: right;\n",
       "    }\n",
       "</style>\n",
       "<table border=\"1\" class=\"dataframe\">\n",
       "  <thead>\n",
       "    <tr style=\"text-align: right;\">\n",
       "      <th></th>\n",
       "      <th>song_name</th>\n",
       "      <th>song_ID</th>\n",
       "      <th>song_artist</th>\n",
       "      <th>Genre</th>\n",
       "    </tr>\n",
       "  </thead>\n",
       "  <tbody>\n",
       "    <tr>\n",
       "      <th>0</th>\n",
       "      <td>Don't Stop Believin'</td>\n",
       "      <td>77NNZQSqzLNqh2A9JhLRkg</td>\n",
       "      <td>Journey</td>\n",
       "      <td>Other</td>\n",
       "    </tr>\n",
       "    <tr>\n",
       "      <th>1</th>\n",
       "      <td>Fix You</td>\n",
       "      <td>7LVHVU3tWfcxj5aiPFEW4Q</td>\n",
       "      <td>Coldplay</td>\n",
       "      <td>Other</td>\n",
       "    </tr>\n",
       "    <tr>\n",
       "      <th>2</th>\n",
       "      <td>The Scientist</td>\n",
       "      <td>75JFxkI2RXiU7L9VXzMkle</td>\n",
       "      <td>Coldplay</td>\n",
       "      <td>Other</td>\n",
       "    </tr>\n",
       "    <tr>\n",
       "      <th>3</th>\n",
       "      <td>Sweet Child O' Mine</td>\n",
       "      <td>1kDYCn9VIDmOIbLZ2Xc7OO</td>\n",
       "      <td>Guns N' Roses</td>\n",
       "      <td>Other</td>\n",
       "    </tr>\n",
       "    <tr>\n",
       "      <th>4</th>\n",
       "      <td>Viva La Vida</td>\n",
       "      <td>1mea3bSkSGXuIRvnydlB5b</td>\n",
       "      <td>Coldplay</td>\n",
       "      <td>Other</td>\n",
       "    </tr>\n",
       "    <tr>\n",
       "      <th>...</th>\n",
       "      <td>...</td>\n",
       "      <td>...</td>\n",
       "      <td>...</td>\n",
       "      <td>...</td>\n",
       "    </tr>\n",
       "    <tr>\n",
       "      <th>9980</th>\n",
       "      <td>Summer Skin</td>\n",
       "      <td>5vFKQF10Jhyysg3JUbfBUd</td>\n",
       "      <td>Death Cab for Cutie</td>\n",
       "      <td>Other</td>\n",
       "    </tr>\n",
       "    <tr>\n",
       "      <th>9981</th>\n",
       "      <td>Take on Me</td>\n",
       "      <td>6IVJFZI4fejlJ9XTa3CG5G</td>\n",
       "      <td>A1</td>\n",
       "      <td>Other</td>\n",
       "    </tr>\n",
       "    <tr>\n",
       "      <th>9982</th>\n",
       "      <td>Shiver</td>\n",
       "      <td>0Yb0L5qlyMDyAZor9d57iS</td>\n",
       "      <td>Maroon 5</td>\n",
       "      <td>Other</td>\n",
       "    </tr>\n",
       "    <tr>\n",
       "      <th>9983</th>\n",
       "      <td>Matkustaja</td>\n",
       "      <td>5esJb63Nbi1LeG0v4NyKTt</td>\n",
       "      <td>Egotrippi</td>\n",
       "      <td>Other</td>\n",
       "    </tr>\n",
       "    <tr>\n",
       "      <th>9984</th>\n",
       "      <td>Special Needs</td>\n",
       "      <td>63Cg39cB5xAmjObaKPAd9z</td>\n",
       "      <td>Placebo</td>\n",
       "      <td>Other</td>\n",
       "    </tr>\n",
       "  </tbody>\n",
       "</table>\n",
       "<p>9985 rows × 4 columns</p>\n",
       "</div>"
      ],
      "text/plain": [
       "                 song_name                 song_ID          song_artist  Genre\n",
       "0     Don't Stop Believin'  77NNZQSqzLNqh2A9JhLRkg              Journey  Other\n",
       "1                  Fix You  7LVHVU3tWfcxj5aiPFEW4Q             Coldplay  Other\n",
       "2            The Scientist  75JFxkI2RXiU7L9VXzMkle             Coldplay  Other\n",
       "3      Sweet Child O' Mine  1kDYCn9VIDmOIbLZ2Xc7OO        Guns N' Roses  Other\n",
       "4             Viva La Vida  1mea3bSkSGXuIRvnydlB5b             Coldplay  Other\n",
       "...                    ...                     ...                  ...    ...\n",
       "9980           Summer Skin  5vFKQF10Jhyysg3JUbfBUd  Death Cab for Cutie  Other\n",
       "9981            Take on Me  6IVJFZI4fejlJ9XTa3CG5G                   A1  Other\n",
       "9982                Shiver  0Yb0L5qlyMDyAZor9d57iS             Maroon 5  Other\n",
       "9983            Matkustaja  5esJb63Nbi1LeG0v4NyKTt            Egotrippi  Other\n",
       "9984         Special Needs  63Cg39cB5xAmjObaKPAd9z              Placebo  Other\n",
       "\n",
       "[9985 rows x 4 columns]"
      ]
     },
     "execution_count": 209,
     "metadata": {},
     "output_type": "execute_result"
    }
   ],
   "source": [
    "playlist_other_info"
   ]
  },
  {
   "cell_type": "code",
   "execution_count": null,
   "id": "2070d891",
   "metadata": {},
   "outputs": [],
   "source": []
  },
  {
   "cell_type": "code",
   "execution_count": null,
   "id": "22cbebd8",
   "metadata": {},
   "outputs": [],
   "source": []
  },
  {
   "cell_type": "code",
   "execution_count": null,
   "id": "2dbe19d1",
   "metadata": {},
   "outputs": [],
   "source": []
  },
  {
   "cell_type": "markdown",
   "id": "6482766e",
   "metadata": {},
   "source": [
    "## Joining all the dataframes into 1"
   ]
  },
  {
   "cell_type": "code",
   "execution_count": 210,
   "id": "aab6cfa8",
   "metadata": {},
   "outputs": [],
   "source": [
    "frames=[playlist_indie_info, playlist_pop_info, playlist_rock_info, \n",
    "        playlist_tropical_info, playlist_hiphop_info\n",
    "       ,playlist_latin_info,playlist_spanish_info,\n",
    "       playlist_jazz_info, playlist_deep_house_info,\n",
    "       playlist_disney_info, playlist_techno_info,\n",
    "       playlist_other_info]\n",
    "big_df=pd.concat(frames, axis=0)"
   ]
  },
  {
   "cell_type": "code",
   "execution_count": 211,
   "id": "f38e428f",
   "metadata": {
    "scrolled": true
   },
   "outputs": [
    {
     "data": {
      "text/html": [
       "<div>\n",
       "<style scoped>\n",
       "    .dataframe tbody tr th:only-of-type {\n",
       "        vertical-align: middle;\n",
       "    }\n",
       "\n",
       "    .dataframe tbody tr th {\n",
       "        vertical-align: top;\n",
       "    }\n",
       "\n",
       "    .dataframe thead th {\n",
       "        text-align: right;\n",
       "    }\n",
       "</style>\n",
       "<table border=\"1\" class=\"dataframe\">\n",
       "  <thead>\n",
       "    <tr style=\"text-align: right;\">\n",
       "      <th></th>\n",
       "      <th>song_name</th>\n",
       "      <th>song_ID</th>\n",
       "      <th>song_artist</th>\n",
       "      <th>Genre</th>\n",
       "    </tr>\n",
       "  </thead>\n",
       "  <tbody>\n",
       "    <tr>\n",
       "      <th>0</th>\n",
       "      <td>Beggin'</td>\n",
       "      <td>3Wrjm47oTz2sjIgck11l5e</td>\n",
       "      <td>Måneskin</td>\n",
       "      <td>Indie</td>\n",
       "    </tr>\n",
       "    <tr>\n",
       "      <th>1</th>\n",
       "      <td>The Less I Know The Better</td>\n",
       "      <td>4g3Ax56IslQkI6XVfYKVc5</td>\n",
       "      <td>Tame Impala</td>\n",
       "      <td>Indie</td>\n",
       "    </tr>\n",
       "    <tr>\n",
       "      <th>2</th>\n",
       "      <td>Mr. Brightside</td>\n",
       "      <td>3n3Ppam7vgaVa1iaRUc9Lp</td>\n",
       "      <td>The Killers</td>\n",
       "      <td>Indie</td>\n",
       "    </tr>\n",
       "    <tr>\n",
       "      <th>3</th>\n",
       "      <td>Boys Don't Cry</td>\n",
       "      <td>1QFh8OH1e78dGd3VyJZCAC</td>\n",
       "      <td>The Cure</td>\n",
       "      <td>Indie</td>\n",
       "    </tr>\n",
       "    <tr>\n",
       "      <th>4</th>\n",
       "      <td>wake me up</td>\n",
       "      <td>1H6A86dQ7BMdbxofxpQvcK</td>\n",
       "      <td>Ruby</td>\n",
       "      <td>Indie</td>\n",
       "    </tr>\n",
       "    <tr>\n",
       "      <th>...</th>\n",
       "      <td>...</td>\n",
       "      <td>...</td>\n",
       "      <td>...</td>\n",
       "      <td>...</td>\n",
       "    </tr>\n",
       "    <tr>\n",
       "      <th>9980</th>\n",
       "      <td>Summer Skin</td>\n",
       "      <td>5vFKQF10Jhyysg3JUbfBUd</td>\n",
       "      <td>Death Cab for Cutie</td>\n",
       "      <td>Other</td>\n",
       "    </tr>\n",
       "    <tr>\n",
       "      <th>9981</th>\n",
       "      <td>Take on Me</td>\n",
       "      <td>6IVJFZI4fejlJ9XTa3CG5G</td>\n",
       "      <td>A1</td>\n",
       "      <td>Other</td>\n",
       "    </tr>\n",
       "    <tr>\n",
       "      <th>9982</th>\n",
       "      <td>Shiver</td>\n",
       "      <td>0Yb0L5qlyMDyAZor9d57iS</td>\n",
       "      <td>Maroon 5</td>\n",
       "      <td>Other</td>\n",
       "    </tr>\n",
       "    <tr>\n",
       "      <th>9983</th>\n",
       "      <td>Matkustaja</td>\n",
       "      <td>5esJb63Nbi1LeG0v4NyKTt</td>\n",
       "      <td>Egotrippi</td>\n",
       "      <td>Other</td>\n",
       "    </tr>\n",
       "    <tr>\n",
       "      <th>9984</th>\n",
       "      <td>Special Needs</td>\n",
       "      <td>63Cg39cB5xAmjObaKPAd9z</td>\n",
       "      <td>Placebo</td>\n",
       "      <td>Other</td>\n",
       "    </tr>\n",
       "  </tbody>\n",
       "</table>\n",
       "<p>13750 rows × 4 columns</p>\n",
       "</div>"
      ],
      "text/plain": [
       "                       song_name                 song_ID          song_artist  \\\n",
       "0                        Beggin'  3Wrjm47oTz2sjIgck11l5e             Måneskin   \n",
       "1     The Less I Know The Better  4g3Ax56IslQkI6XVfYKVc5          Tame Impala   \n",
       "2                 Mr. Brightside  3n3Ppam7vgaVa1iaRUc9Lp          The Killers   \n",
       "3                 Boys Don't Cry  1QFh8OH1e78dGd3VyJZCAC             The Cure   \n",
       "4                     wake me up  1H6A86dQ7BMdbxofxpQvcK                 Ruby   \n",
       "...                          ...                     ...                  ...   \n",
       "9980                 Summer Skin  5vFKQF10Jhyysg3JUbfBUd  Death Cab for Cutie   \n",
       "9981                  Take on Me  6IVJFZI4fejlJ9XTa3CG5G                   A1   \n",
       "9982                      Shiver  0Yb0L5qlyMDyAZor9d57iS             Maroon 5   \n",
       "9983                  Matkustaja  5esJb63Nbi1LeG0v4NyKTt            Egotrippi   \n",
       "9984               Special Needs  63Cg39cB5xAmjObaKPAd9z              Placebo   \n",
       "\n",
       "      Genre  \n",
       "0     Indie  \n",
       "1     Indie  \n",
       "2     Indie  \n",
       "3     Indie  \n",
       "4     Indie  \n",
       "...     ...  \n",
       "9980  Other  \n",
       "9981  Other  \n",
       "9982  Other  \n",
       "9983  Other  \n",
       "9984  Other  \n",
       "\n",
       "[13750 rows x 4 columns]"
      ]
     },
     "execution_count": 211,
     "metadata": {},
     "output_type": "execute_result"
    }
   ],
   "source": [
    "big_df"
   ]
  },
  {
   "cell_type": "code",
   "execution_count": 212,
   "id": "3fded78c",
   "metadata": {},
   "outputs": [],
   "source": [
    "## reseting the index so the rows appear correctly\n",
    "\n",
    "big_df.reset_index(drop=True, inplace=True)"
   ]
  },
  {
   "cell_type": "code",
   "execution_count": 213,
   "id": "59d62606",
   "metadata": {
    "scrolled": true
   },
   "outputs": [
    {
     "data": {
      "text/html": [
       "<div>\n",
       "<style scoped>\n",
       "    .dataframe tbody tr th:only-of-type {\n",
       "        vertical-align: middle;\n",
       "    }\n",
       "\n",
       "    .dataframe tbody tr th {\n",
       "        vertical-align: top;\n",
       "    }\n",
       "\n",
       "    .dataframe thead th {\n",
       "        text-align: right;\n",
       "    }\n",
       "</style>\n",
       "<table border=\"1\" class=\"dataframe\">\n",
       "  <thead>\n",
       "    <tr style=\"text-align: right;\">\n",
       "      <th></th>\n",
       "      <th>song_name</th>\n",
       "      <th>song_ID</th>\n",
       "      <th>song_artist</th>\n",
       "      <th>Genre</th>\n",
       "    </tr>\n",
       "  </thead>\n",
       "  <tbody>\n",
       "    <tr>\n",
       "      <th>0</th>\n",
       "      <td>Beggin'</td>\n",
       "      <td>3Wrjm47oTz2sjIgck11l5e</td>\n",
       "      <td>Måneskin</td>\n",
       "      <td>Indie</td>\n",
       "    </tr>\n",
       "    <tr>\n",
       "      <th>1</th>\n",
       "      <td>The Less I Know The Better</td>\n",
       "      <td>4g3Ax56IslQkI6XVfYKVc5</td>\n",
       "      <td>Tame Impala</td>\n",
       "      <td>Indie</td>\n",
       "    </tr>\n",
       "    <tr>\n",
       "      <th>2</th>\n",
       "      <td>Mr. Brightside</td>\n",
       "      <td>3n3Ppam7vgaVa1iaRUc9Lp</td>\n",
       "      <td>The Killers</td>\n",
       "      <td>Indie</td>\n",
       "    </tr>\n",
       "    <tr>\n",
       "      <th>3</th>\n",
       "      <td>Boys Don't Cry</td>\n",
       "      <td>1QFh8OH1e78dGd3VyJZCAC</td>\n",
       "      <td>The Cure</td>\n",
       "      <td>Indie</td>\n",
       "    </tr>\n",
       "    <tr>\n",
       "      <th>4</th>\n",
       "      <td>wake me up</td>\n",
       "      <td>1H6A86dQ7BMdbxofxpQvcK</td>\n",
       "      <td>Ruby</td>\n",
       "      <td>Indie</td>\n",
       "    </tr>\n",
       "    <tr>\n",
       "      <th>...</th>\n",
       "      <td>...</td>\n",
       "      <td>...</td>\n",
       "      <td>...</td>\n",
       "      <td>...</td>\n",
       "    </tr>\n",
       "    <tr>\n",
       "      <th>13745</th>\n",
       "      <td>Summer Skin</td>\n",
       "      <td>5vFKQF10Jhyysg3JUbfBUd</td>\n",
       "      <td>Death Cab for Cutie</td>\n",
       "      <td>Other</td>\n",
       "    </tr>\n",
       "    <tr>\n",
       "      <th>13746</th>\n",
       "      <td>Take on Me</td>\n",
       "      <td>6IVJFZI4fejlJ9XTa3CG5G</td>\n",
       "      <td>A1</td>\n",
       "      <td>Other</td>\n",
       "    </tr>\n",
       "    <tr>\n",
       "      <th>13747</th>\n",
       "      <td>Shiver</td>\n",
       "      <td>0Yb0L5qlyMDyAZor9d57iS</td>\n",
       "      <td>Maroon 5</td>\n",
       "      <td>Other</td>\n",
       "    </tr>\n",
       "    <tr>\n",
       "      <th>13748</th>\n",
       "      <td>Matkustaja</td>\n",
       "      <td>5esJb63Nbi1LeG0v4NyKTt</td>\n",
       "      <td>Egotrippi</td>\n",
       "      <td>Other</td>\n",
       "    </tr>\n",
       "    <tr>\n",
       "      <th>13749</th>\n",
       "      <td>Special Needs</td>\n",
       "      <td>63Cg39cB5xAmjObaKPAd9z</td>\n",
       "      <td>Placebo</td>\n",
       "      <td>Other</td>\n",
       "    </tr>\n",
       "  </tbody>\n",
       "</table>\n",
       "<p>13750 rows × 4 columns</p>\n",
       "</div>"
      ],
      "text/plain": [
       "                        song_name                 song_ID  \\\n",
       "0                         Beggin'  3Wrjm47oTz2sjIgck11l5e   \n",
       "1      The Less I Know The Better  4g3Ax56IslQkI6XVfYKVc5   \n",
       "2                  Mr. Brightside  3n3Ppam7vgaVa1iaRUc9Lp   \n",
       "3                  Boys Don't Cry  1QFh8OH1e78dGd3VyJZCAC   \n",
       "4                      wake me up  1H6A86dQ7BMdbxofxpQvcK   \n",
       "...                           ...                     ...   \n",
       "13745                 Summer Skin  5vFKQF10Jhyysg3JUbfBUd   \n",
       "13746                  Take on Me  6IVJFZI4fejlJ9XTa3CG5G   \n",
       "13747                      Shiver  0Yb0L5qlyMDyAZor9d57iS   \n",
       "13748                  Matkustaja  5esJb63Nbi1LeG0v4NyKTt   \n",
       "13749               Special Needs  63Cg39cB5xAmjObaKPAd9z   \n",
       "\n",
       "               song_artist  Genre  \n",
       "0                 Måneskin  Indie  \n",
       "1              Tame Impala  Indie  \n",
       "2              The Killers  Indie  \n",
       "3                 The Cure  Indie  \n",
       "4                     Ruby  Indie  \n",
       "...                    ...    ...  \n",
       "13745  Death Cab for Cutie  Other  \n",
       "13746                   A1  Other  \n",
       "13747             Maroon 5  Other  \n",
       "13748            Egotrippi  Other  \n",
       "13749              Placebo  Other  \n",
       "\n",
       "[13750 rows x 4 columns]"
      ]
     },
     "execution_count": 213,
     "metadata": {},
     "output_type": "execute_result"
    }
   ],
   "source": [
    "big_df"
   ]
  },
  {
   "cell_type": "code",
   "execution_count": 214,
   "id": "7f75e816",
   "metadata": {},
   "outputs": [
    {
     "name": "stdout",
     "output_type": "stream",
     "text": [
      "<class 'pandas.core.frame.DataFrame'>\n",
      "RangeIndex: 13750 entries, 0 to 13749\n",
      "Data columns (total 4 columns):\n",
      " #   Column       Non-Null Count  Dtype \n",
      "---  ------       --------------  ----- \n",
      " 0   song_name    13750 non-null  object\n",
      " 1   song_ID      13750 non-null  object\n",
      " 2   song_artist  13750 non-null  object\n",
      " 3   Genre        13750 non-null  object\n",
      "dtypes: object(4)\n",
      "memory usage: 429.8+ KB\n"
     ]
    }
   ],
   "source": [
    "big_df.info()"
   ]
  },
  {
   "cell_type": "code",
   "execution_count": null,
   "id": "3d8d7ee2",
   "metadata": {},
   "outputs": [],
   "source": []
  },
  {
   "cell_type": "code",
   "execution_count": null,
   "id": "1ccef749",
   "metadata": {},
   "outputs": [],
   "source": []
  },
  {
   "cell_type": "markdown",
   "id": "c3ea03e9",
   "metadata": {},
   "source": [
    "# AUDIO FEATURES"
   ]
  },
  {
   "cell_type": "code",
   "execution_count": 215,
   "id": "59a6a001",
   "metadata": {},
   "outputs": [],
   "source": [
    "from tqdm.notebook import tqdm"
   ]
  },
  {
   "cell_type": "code",
   "execution_count": 216,
   "id": "5abe88dc",
   "metadata": {},
   "outputs": [
    {
     "data": {
      "application/vnd.jupyter.widget-view+json": {
       "model_id": "6328474daf22435595fdd9d4e3ee168a",
       "version_major": 2,
       "version_minor": 0
      },
      "text/plain": [
       "  0%|          | 0/13750 [00:00<?, ?it/s]"
      ]
     },
     "metadata": {},
     "output_type": "display_data"
    }
   ],
   "source": [
    "feats=[]\n",
    "\n",
    "for song_ID in tqdm(range(len(big_df))):\n",
    "    feats.extend(sp.audio_features(tracks=big_df['song_ID'][song_ID]))"
   ]
  },
  {
   "cell_type": "raw",
   "id": "c317216f",
   "metadata": {},
   "source": [
    "feats"
   ]
  },
  {
   "cell_type": "code",
   "execution_count": 217,
   "id": "868f9390",
   "metadata": {},
   "outputs": [
    {
     "data": {
      "text/plain": [
       "dict_keys(['danceability', 'energy', 'key', 'loudness', 'mode', 'speechiness', 'acousticness', 'instrumentalness', 'liveness', 'valence', 'tempo', 'type', 'id', 'uri', 'track_href', 'analysis_url', 'duration_ms', 'time_signature'])"
      ]
     },
     "execution_count": 217,
     "metadata": {},
     "output_type": "execute_result"
    }
   ],
   "source": [
    "feats[0].keys()"
   ]
  },
  {
   "cell_type": "code",
   "execution_count": 218,
   "id": "e2f88611",
   "metadata": {},
   "outputs": [],
   "source": [
    "feats_df=pd.DataFrame(feats)"
   ]
  },
  {
   "cell_type": "code",
   "execution_count": 219,
   "id": "b716fe2d",
   "metadata": {
    "scrolled": false
   },
   "outputs": [
    {
     "data": {
      "text/html": [
       "<div>\n",
       "<style scoped>\n",
       "    .dataframe tbody tr th:only-of-type {\n",
       "        vertical-align: middle;\n",
       "    }\n",
       "\n",
       "    .dataframe tbody tr th {\n",
       "        vertical-align: top;\n",
       "    }\n",
       "\n",
       "    .dataframe thead th {\n",
       "        text-align: right;\n",
       "    }\n",
       "</style>\n",
       "<table border=\"1\" class=\"dataframe\">\n",
       "  <thead>\n",
       "    <tr style=\"text-align: right;\">\n",
       "      <th></th>\n",
       "      <th>danceability</th>\n",
       "      <th>energy</th>\n",
       "      <th>key</th>\n",
       "      <th>loudness</th>\n",
       "      <th>mode</th>\n",
       "      <th>speechiness</th>\n",
       "      <th>acousticness</th>\n",
       "      <th>instrumentalness</th>\n",
       "      <th>liveness</th>\n",
       "      <th>valence</th>\n",
       "      <th>tempo</th>\n",
       "      <th>type</th>\n",
       "      <th>id</th>\n",
       "      <th>uri</th>\n",
       "      <th>track_href</th>\n",
       "      <th>analysis_url</th>\n",
       "      <th>duration_ms</th>\n",
       "      <th>time_signature</th>\n",
       "    </tr>\n",
       "  </thead>\n",
       "  <tbody>\n",
       "    <tr>\n",
       "      <th>0</th>\n",
       "      <td>0.714</td>\n",
       "      <td>0.800</td>\n",
       "      <td>11</td>\n",
       "      <td>-4.808</td>\n",
       "      <td>0</td>\n",
       "      <td>0.0504</td>\n",
       "      <td>0.127000</td>\n",
       "      <td>0.000000</td>\n",
       "      <td>0.3590</td>\n",
       "      <td>0.5890</td>\n",
       "      <td>134.002</td>\n",
       "      <td>audio_features</td>\n",
       "      <td>3Wrjm47oTz2sjIgck11l5e</td>\n",
       "      <td>spotify:track:3Wrjm47oTz2sjIgck11l5e</td>\n",
       "      <td>https://api.spotify.com/v1/tracks/3Wrjm47oTz2s...</td>\n",
       "      <td>https://api.spotify.com/v1/audio-analysis/3Wrj...</td>\n",
       "      <td>211560</td>\n",
       "      <td>4</td>\n",
       "    </tr>\n",
       "    <tr>\n",
       "      <th>1</th>\n",
       "      <td>0.640</td>\n",
       "      <td>0.755</td>\n",
       "      <td>1</td>\n",
       "      <td>-4.077</td>\n",
       "      <td>0</td>\n",
       "      <td>0.0287</td>\n",
       "      <td>0.013800</td>\n",
       "      <td>0.020800</td>\n",
       "      <td>0.1200</td>\n",
       "      <td>0.7440</td>\n",
       "      <td>116.883</td>\n",
       "      <td>audio_features</td>\n",
       "      <td>4g3Ax56IslQkI6XVfYKVc5</td>\n",
       "      <td>spotify:track:4g3Ax56IslQkI6XVfYKVc5</td>\n",
       "      <td>https://api.spotify.com/v1/tracks/4g3Ax56IslQk...</td>\n",
       "      <td>https://api.spotify.com/v1/audio-analysis/4g3A...</td>\n",
       "      <td>216319</td>\n",
       "      <td>4</td>\n",
       "    </tr>\n",
       "    <tr>\n",
       "      <th>2</th>\n",
       "      <td>0.355</td>\n",
       "      <td>0.918</td>\n",
       "      <td>1</td>\n",
       "      <td>-4.360</td>\n",
       "      <td>1</td>\n",
       "      <td>0.0746</td>\n",
       "      <td>0.001190</td>\n",
       "      <td>0.000000</td>\n",
       "      <td>0.0971</td>\n",
       "      <td>0.2400</td>\n",
       "      <td>148.114</td>\n",
       "      <td>audio_features</td>\n",
       "      <td>3n3Ppam7vgaVa1iaRUc9Lp</td>\n",
       "      <td>spotify:track:3n3Ppam7vgaVa1iaRUc9Lp</td>\n",
       "      <td>https://api.spotify.com/v1/tracks/3n3Ppam7vgaV...</td>\n",
       "      <td>https://api.spotify.com/v1/audio-analysis/3n3P...</td>\n",
       "      <td>222200</td>\n",
       "      <td>4</td>\n",
       "    </tr>\n",
       "    <tr>\n",
       "      <th>3</th>\n",
       "      <td>0.462</td>\n",
       "      <td>0.836</td>\n",
       "      <td>11</td>\n",
       "      <td>-5.766</td>\n",
       "      <td>0</td>\n",
       "      <td>0.0621</td>\n",
       "      <td>0.005170</td>\n",
       "      <td>0.000000</td>\n",
       "      <td>0.1800</td>\n",
       "      <td>0.6710</td>\n",
       "      <td>168.766</td>\n",
       "      <td>audio_features</td>\n",
       "      <td>1QFh8OH1e78dGd3VyJZCAC</td>\n",
       "      <td>spotify:track:1QFh8OH1e78dGd3VyJZCAC</td>\n",
       "      <td>https://api.spotify.com/v1/tracks/1QFh8OH1e78d...</td>\n",
       "      <td>https://api.spotify.com/v1/audio-analysis/1QFh...</td>\n",
       "      <td>155973</td>\n",
       "      <td>4</td>\n",
       "    </tr>\n",
       "    <tr>\n",
       "      <th>4</th>\n",
       "      <td>0.808</td>\n",
       "      <td>0.381</td>\n",
       "      <td>1</td>\n",
       "      <td>-9.758</td>\n",
       "      <td>1</td>\n",
       "      <td>0.0584</td>\n",
       "      <td>0.344000</td>\n",
       "      <td>0.000003</td>\n",
       "      <td>0.1120</td>\n",
       "      <td>0.6870</td>\n",
       "      <td>102.052</td>\n",
       "      <td>audio_features</td>\n",
       "      <td>1H6A86dQ7BMdbxofxpQvcK</td>\n",
       "      <td>spotify:track:1H6A86dQ7BMdbxofxpQvcK</td>\n",
       "      <td>https://api.spotify.com/v1/tracks/1H6A86dQ7BMd...</td>\n",
       "      <td>https://api.spotify.com/v1/audio-analysis/1H6A...</td>\n",
       "      <td>174118</td>\n",
       "      <td>4</td>\n",
       "    </tr>\n",
       "    <tr>\n",
       "      <th>...</th>\n",
       "      <td>...</td>\n",
       "      <td>...</td>\n",
       "      <td>...</td>\n",
       "      <td>...</td>\n",
       "      <td>...</td>\n",
       "      <td>...</td>\n",
       "      <td>...</td>\n",
       "      <td>...</td>\n",
       "      <td>...</td>\n",
       "      <td>...</td>\n",
       "      <td>...</td>\n",
       "      <td>...</td>\n",
       "      <td>...</td>\n",
       "      <td>...</td>\n",
       "      <td>...</td>\n",
       "      <td>...</td>\n",
       "      <td>...</td>\n",
       "      <td>...</td>\n",
       "    </tr>\n",
       "    <tr>\n",
       "      <th>13745</th>\n",
       "      <td>0.615</td>\n",
       "      <td>0.476</td>\n",
       "      <td>2</td>\n",
       "      <td>-12.205</td>\n",
       "      <td>0</td>\n",
       "      <td>0.0337</td>\n",
       "      <td>0.161000</td>\n",
       "      <td>0.033400</td>\n",
       "      <td>0.0946</td>\n",
       "      <td>0.6110</td>\n",
       "      <td>91.584</td>\n",
       "      <td>audio_features</td>\n",
       "      <td>5vFKQF10Jhyysg3JUbfBUd</td>\n",
       "      <td>spotify:track:5vFKQF10Jhyysg3JUbfBUd</td>\n",
       "      <td>https://api.spotify.com/v1/tracks/5vFKQF10Jhyy...</td>\n",
       "      <td>https://api.spotify.com/v1/audio-analysis/5vFK...</td>\n",
       "      <td>194227</td>\n",
       "      <td>4</td>\n",
       "    </tr>\n",
       "    <tr>\n",
       "      <th>13746</th>\n",
       "      <td>0.562</td>\n",
       "      <td>0.931</td>\n",
       "      <td>9</td>\n",
       "      <td>-4.809</td>\n",
       "      <td>1</td>\n",
       "      <td>0.0469</td>\n",
       "      <td>0.085900</td>\n",
       "      <td>0.000002</td>\n",
       "      <td>0.2690</td>\n",
       "      <td>0.5370</td>\n",
       "      <td>165.080</td>\n",
       "      <td>audio_features</td>\n",
       "      <td>6IVJFZI4fejlJ9XTa3CG5G</td>\n",
       "      <td>spotify:track:6IVJFZI4fejlJ9XTa3CG5G</td>\n",
       "      <td>https://api.spotify.com/v1/tracks/6IVJFZI4fejl...</td>\n",
       "      <td>https://api.spotify.com/v1/audio-analysis/6IVJ...</td>\n",
       "      <td>212880</td>\n",
       "      <td>4</td>\n",
       "    </tr>\n",
       "    <tr>\n",
       "      <th>13747</th>\n",
       "      <td>0.620</td>\n",
       "      <td>0.919</td>\n",
       "      <td>0</td>\n",
       "      <td>-4.475</td>\n",
       "      <td>1</td>\n",
       "      <td>0.3570</td>\n",
       "      <td>0.039700</td>\n",
       "      <td>0.000000</td>\n",
       "      <td>0.8510</td>\n",
       "      <td>0.5070</td>\n",
       "      <td>172.021</td>\n",
       "      <td>audio_features</td>\n",
       "      <td>0Yb0L5qlyMDyAZor9d57iS</td>\n",
       "      <td>spotify:track:0Yb0L5qlyMDyAZor9d57iS</td>\n",
       "      <td>https://api.spotify.com/v1/tracks/0Yb0L5qlyMDy...</td>\n",
       "      <td>https://api.spotify.com/v1/audio-analysis/0Yb0...</td>\n",
       "      <td>179773</td>\n",
       "      <td>4</td>\n",
       "    </tr>\n",
       "    <tr>\n",
       "      <th>13748</th>\n",
       "      <td>0.488</td>\n",
       "      <td>0.615</td>\n",
       "      <td>9</td>\n",
       "      <td>-4.377</td>\n",
       "      <td>1</td>\n",
       "      <td>0.0295</td>\n",
       "      <td>0.034000</td>\n",
       "      <td>0.000000</td>\n",
       "      <td>0.2080</td>\n",
       "      <td>0.6860</td>\n",
       "      <td>130.050</td>\n",
       "      <td>audio_features</td>\n",
       "      <td>5esJb63Nbi1LeG0v4NyKTt</td>\n",
       "      <td>spotify:track:5esJb63Nbi1LeG0v4NyKTt</td>\n",
       "      <td>https://api.spotify.com/v1/tracks/5esJb63Nbi1L...</td>\n",
       "      <td>https://api.spotify.com/v1/audio-analysis/5esJ...</td>\n",
       "      <td>241320</td>\n",
       "      <td>4</td>\n",
       "    </tr>\n",
       "    <tr>\n",
       "      <th>13749</th>\n",
       "      <td>0.300</td>\n",
       "      <td>0.564</td>\n",
       "      <td>10</td>\n",
       "      <td>-10.163</td>\n",
       "      <td>0</td>\n",
       "      <td>0.0341</td>\n",
       "      <td>0.000906</td>\n",
       "      <td>0.811000</td>\n",
       "      <td>0.0924</td>\n",
       "      <td>0.0405</td>\n",
       "      <td>177.936</td>\n",
       "      <td>audio_features</td>\n",
       "      <td>63Cg39cB5xAmjObaKPAd9z</td>\n",
       "      <td>spotify:track:63Cg39cB5xAmjObaKPAd9z</td>\n",
       "      <td>https://api.spotify.com/v1/tracks/63Cg39cB5xAm...</td>\n",
       "      <td>https://api.spotify.com/v1/audio-analysis/63Cg...</td>\n",
       "      <td>315987</td>\n",
       "      <td>4</td>\n",
       "    </tr>\n",
       "  </tbody>\n",
       "</table>\n",
       "<p>13750 rows × 18 columns</p>\n",
       "</div>"
      ],
      "text/plain": [
       "       danceability  energy  key  loudness  mode  speechiness  acousticness  \\\n",
       "0             0.714   0.800   11    -4.808     0       0.0504      0.127000   \n",
       "1             0.640   0.755    1    -4.077     0       0.0287      0.013800   \n",
       "2             0.355   0.918    1    -4.360     1       0.0746      0.001190   \n",
       "3             0.462   0.836   11    -5.766     0       0.0621      0.005170   \n",
       "4             0.808   0.381    1    -9.758     1       0.0584      0.344000   \n",
       "...             ...     ...  ...       ...   ...          ...           ...   \n",
       "13745         0.615   0.476    2   -12.205     0       0.0337      0.161000   \n",
       "13746         0.562   0.931    9    -4.809     1       0.0469      0.085900   \n",
       "13747         0.620   0.919    0    -4.475     1       0.3570      0.039700   \n",
       "13748         0.488   0.615    9    -4.377     1       0.0295      0.034000   \n",
       "13749         0.300   0.564   10   -10.163     0       0.0341      0.000906   \n",
       "\n",
       "       instrumentalness  liveness  valence    tempo            type  \\\n",
       "0              0.000000    0.3590   0.5890  134.002  audio_features   \n",
       "1              0.020800    0.1200   0.7440  116.883  audio_features   \n",
       "2              0.000000    0.0971   0.2400  148.114  audio_features   \n",
       "3              0.000000    0.1800   0.6710  168.766  audio_features   \n",
       "4              0.000003    0.1120   0.6870  102.052  audio_features   \n",
       "...                 ...       ...      ...      ...             ...   \n",
       "13745          0.033400    0.0946   0.6110   91.584  audio_features   \n",
       "13746          0.000002    0.2690   0.5370  165.080  audio_features   \n",
       "13747          0.000000    0.8510   0.5070  172.021  audio_features   \n",
       "13748          0.000000    0.2080   0.6860  130.050  audio_features   \n",
       "13749          0.811000    0.0924   0.0405  177.936  audio_features   \n",
       "\n",
       "                           id                                   uri  \\\n",
       "0      3Wrjm47oTz2sjIgck11l5e  spotify:track:3Wrjm47oTz2sjIgck11l5e   \n",
       "1      4g3Ax56IslQkI6XVfYKVc5  spotify:track:4g3Ax56IslQkI6XVfYKVc5   \n",
       "2      3n3Ppam7vgaVa1iaRUc9Lp  spotify:track:3n3Ppam7vgaVa1iaRUc9Lp   \n",
       "3      1QFh8OH1e78dGd3VyJZCAC  spotify:track:1QFh8OH1e78dGd3VyJZCAC   \n",
       "4      1H6A86dQ7BMdbxofxpQvcK  spotify:track:1H6A86dQ7BMdbxofxpQvcK   \n",
       "...                       ...                                   ...   \n",
       "13745  5vFKQF10Jhyysg3JUbfBUd  spotify:track:5vFKQF10Jhyysg3JUbfBUd   \n",
       "13746  6IVJFZI4fejlJ9XTa3CG5G  spotify:track:6IVJFZI4fejlJ9XTa3CG5G   \n",
       "13747  0Yb0L5qlyMDyAZor9d57iS  spotify:track:0Yb0L5qlyMDyAZor9d57iS   \n",
       "13748  5esJb63Nbi1LeG0v4NyKTt  spotify:track:5esJb63Nbi1LeG0v4NyKTt   \n",
       "13749  63Cg39cB5xAmjObaKPAd9z  spotify:track:63Cg39cB5xAmjObaKPAd9z   \n",
       "\n",
       "                                              track_href  \\\n",
       "0      https://api.spotify.com/v1/tracks/3Wrjm47oTz2s...   \n",
       "1      https://api.spotify.com/v1/tracks/4g3Ax56IslQk...   \n",
       "2      https://api.spotify.com/v1/tracks/3n3Ppam7vgaV...   \n",
       "3      https://api.spotify.com/v1/tracks/1QFh8OH1e78d...   \n",
       "4      https://api.spotify.com/v1/tracks/1H6A86dQ7BMd...   \n",
       "...                                                  ...   \n",
       "13745  https://api.spotify.com/v1/tracks/5vFKQF10Jhyy...   \n",
       "13746  https://api.spotify.com/v1/tracks/6IVJFZI4fejl...   \n",
       "13747  https://api.spotify.com/v1/tracks/0Yb0L5qlyMDy...   \n",
       "13748  https://api.spotify.com/v1/tracks/5esJb63Nbi1L...   \n",
       "13749  https://api.spotify.com/v1/tracks/63Cg39cB5xAm...   \n",
       "\n",
       "                                            analysis_url  duration_ms  \\\n",
       "0      https://api.spotify.com/v1/audio-analysis/3Wrj...       211560   \n",
       "1      https://api.spotify.com/v1/audio-analysis/4g3A...       216319   \n",
       "2      https://api.spotify.com/v1/audio-analysis/3n3P...       222200   \n",
       "3      https://api.spotify.com/v1/audio-analysis/1QFh...       155973   \n",
       "4      https://api.spotify.com/v1/audio-analysis/1H6A...       174118   \n",
       "...                                                  ...          ...   \n",
       "13745  https://api.spotify.com/v1/audio-analysis/5vFK...       194227   \n",
       "13746  https://api.spotify.com/v1/audio-analysis/6IVJ...       212880   \n",
       "13747  https://api.spotify.com/v1/audio-analysis/0Yb0...       179773   \n",
       "13748  https://api.spotify.com/v1/audio-analysis/5esJ...       241320   \n",
       "13749  https://api.spotify.com/v1/audio-analysis/63Cg...       315987   \n",
       "\n",
       "       time_signature  \n",
       "0                   4  \n",
       "1                   4  \n",
       "2                   4  \n",
       "3                   4  \n",
       "4                   4  \n",
       "...               ...  \n",
       "13745               4  \n",
       "13746               4  \n",
       "13747               4  \n",
       "13748               4  \n",
       "13749               4  \n",
       "\n",
       "[13750 rows x 18 columns]"
      ]
     },
     "execution_count": 219,
     "metadata": {},
     "output_type": "execute_result"
    }
   ],
   "source": [
    "feats_df"
   ]
  },
  {
   "cell_type": "markdown",
   "id": "cce445ec",
   "metadata": {},
   "source": [
    "### Merge the two dataframes so you have the songs and artists with de features"
   ]
  },
  {
   "cell_type": "code",
   "execution_count": 220,
   "id": "8d2d5242",
   "metadata": {},
   "outputs": [],
   "source": [
    "feats_df['song_name']=big_df['song_name']"
   ]
  },
  {
   "cell_type": "code",
   "execution_count": 221,
   "id": "3d996236",
   "metadata": {},
   "outputs": [],
   "source": [
    "feats_df['song_ID']=big_df['song_ID']"
   ]
  },
  {
   "cell_type": "code",
   "execution_count": 222,
   "id": "21864152",
   "metadata": {},
   "outputs": [],
   "source": [
    "feats_df['song_artist']=big_df['song_artist']"
   ]
  },
  {
   "cell_type": "code",
   "execution_count": 223,
   "id": "54760157",
   "metadata": {},
   "outputs": [],
   "source": [
    "feats_df['Genre']=big_df['Genre']"
   ]
  },
  {
   "cell_type": "code",
   "execution_count": 224,
   "id": "7842c564",
   "metadata": {},
   "outputs": [
    {
     "data": {
      "text/html": [
       "<div>\n",
       "<style scoped>\n",
       "    .dataframe tbody tr th:only-of-type {\n",
       "        vertical-align: middle;\n",
       "    }\n",
       "\n",
       "    .dataframe tbody tr th {\n",
       "        vertical-align: top;\n",
       "    }\n",
       "\n",
       "    .dataframe thead th {\n",
       "        text-align: right;\n",
       "    }\n",
       "</style>\n",
       "<table border=\"1\" class=\"dataframe\">\n",
       "  <thead>\n",
       "    <tr style=\"text-align: right;\">\n",
       "      <th></th>\n",
       "      <th>danceability</th>\n",
       "      <th>energy</th>\n",
       "      <th>key</th>\n",
       "      <th>loudness</th>\n",
       "      <th>mode</th>\n",
       "      <th>speechiness</th>\n",
       "      <th>acousticness</th>\n",
       "      <th>instrumentalness</th>\n",
       "      <th>liveness</th>\n",
       "      <th>valence</th>\n",
       "      <th>...</th>\n",
       "      <th>id</th>\n",
       "      <th>uri</th>\n",
       "      <th>track_href</th>\n",
       "      <th>analysis_url</th>\n",
       "      <th>duration_ms</th>\n",
       "      <th>time_signature</th>\n",
       "      <th>song_name</th>\n",
       "      <th>song_ID</th>\n",
       "      <th>song_artist</th>\n",
       "      <th>Genre</th>\n",
       "    </tr>\n",
       "  </thead>\n",
       "  <tbody>\n",
       "    <tr>\n",
       "      <th>0</th>\n",
       "      <td>0.714</td>\n",
       "      <td>0.800</td>\n",
       "      <td>11</td>\n",
       "      <td>-4.808</td>\n",
       "      <td>0</td>\n",
       "      <td>0.0504</td>\n",
       "      <td>0.127000</td>\n",
       "      <td>0.000000</td>\n",
       "      <td>0.3590</td>\n",
       "      <td>0.5890</td>\n",
       "      <td>...</td>\n",
       "      <td>3Wrjm47oTz2sjIgck11l5e</td>\n",
       "      <td>spotify:track:3Wrjm47oTz2sjIgck11l5e</td>\n",
       "      <td>https://api.spotify.com/v1/tracks/3Wrjm47oTz2s...</td>\n",
       "      <td>https://api.spotify.com/v1/audio-analysis/3Wrj...</td>\n",
       "      <td>211560</td>\n",
       "      <td>4</td>\n",
       "      <td>Beggin'</td>\n",
       "      <td>3Wrjm47oTz2sjIgck11l5e</td>\n",
       "      <td>Måneskin</td>\n",
       "      <td>Indie</td>\n",
       "    </tr>\n",
       "    <tr>\n",
       "      <th>1</th>\n",
       "      <td>0.640</td>\n",
       "      <td>0.755</td>\n",
       "      <td>1</td>\n",
       "      <td>-4.077</td>\n",
       "      <td>0</td>\n",
       "      <td>0.0287</td>\n",
       "      <td>0.013800</td>\n",
       "      <td>0.020800</td>\n",
       "      <td>0.1200</td>\n",
       "      <td>0.7440</td>\n",
       "      <td>...</td>\n",
       "      <td>4g3Ax56IslQkI6XVfYKVc5</td>\n",
       "      <td>spotify:track:4g3Ax56IslQkI6XVfYKVc5</td>\n",
       "      <td>https://api.spotify.com/v1/tracks/4g3Ax56IslQk...</td>\n",
       "      <td>https://api.spotify.com/v1/audio-analysis/4g3A...</td>\n",
       "      <td>216319</td>\n",
       "      <td>4</td>\n",
       "      <td>The Less I Know The Better</td>\n",
       "      <td>4g3Ax56IslQkI6XVfYKVc5</td>\n",
       "      <td>Tame Impala</td>\n",
       "      <td>Indie</td>\n",
       "    </tr>\n",
       "    <tr>\n",
       "      <th>2</th>\n",
       "      <td>0.355</td>\n",
       "      <td>0.918</td>\n",
       "      <td>1</td>\n",
       "      <td>-4.360</td>\n",
       "      <td>1</td>\n",
       "      <td>0.0746</td>\n",
       "      <td>0.001190</td>\n",
       "      <td>0.000000</td>\n",
       "      <td>0.0971</td>\n",
       "      <td>0.2400</td>\n",
       "      <td>...</td>\n",
       "      <td>3n3Ppam7vgaVa1iaRUc9Lp</td>\n",
       "      <td>spotify:track:3n3Ppam7vgaVa1iaRUc9Lp</td>\n",
       "      <td>https://api.spotify.com/v1/tracks/3n3Ppam7vgaV...</td>\n",
       "      <td>https://api.spotify.com/v1/audio-analysis/3n3P...</td>\n",
       "      <td>222200</td>\n",
       "      <td>4</td>\n",
       "      <td>Mr. Brightside</td>\n",
       "      <td>3n3Ppam7vgaVa1iaRUc9Lp</td>\n",
       "      <td>The Killers</td>\n",
       "      <td>Indie</td>\n",
       "    </tr>\n",
       "    <tr>\n",
       "      <th>3</th>\n",
       "      <td>0.462</td>\n",
       "      <td>0.836</td>\n",
       "      <td>11</td>\n",
       "      <td>-5.766</td>\n",
       "      <td>0</td>\n",
       "      <td>0.0621</td>\n",
       "      <td>0.005170</td>\n",
       "      <td>0.000000</td>\n",
       "      <td>0.1800</td>\n",
       "      <td>0.6710</td>\n",
       "      <td>...</td>\n",
       "      <td>1QFh8OH1e78dGd3VyJZCAC</td>\n",
       "      <td>spotify:track:1QFh8OH1e78dGd3VyJZCAC</td>\n",
       "      <td>https://api.spotify.com/v1/tracks/1QFh8OH1e78d...</td>\n",
       "      <td>https://api.spotify.com/v1/audio-analysis/1QFh...</td>\n",
       "      <td>155973</td>\n",
       "      <td>4</td>\n",
       "      <td>Boys Don't Cry</td>\n",
       "      <td>1QFh8OH1e78dGd3VyJZCAC</td>\n",
       "      <td>The Cure</td>\n",
       "      <td>Indie</td>\n",
       "    </tr>\n",
       "    <tr>\n",
       "      <th>4</th>\n",
       "      <td>0.808</td>\n",
       "      <td>0.381</td>\n",
       "      <td>1</td>\n",
       "      <td>-9.758</td>\n",
       "      <td>1</td>\n",
       "      <td>0.0584</td>\n",
       "      <td>0.344000</td>\n",
       "      <td>0.000003</td>\n",
       "      <td>0.1120</td>\n",
       "      <td>0.6870</td>\n",
       "      <td>...</td>\n",
       "      <td>1H6A86dQ7BMdbxofxpQvcK</td>\n",
       "      <td>spotify:track:1H6A86dQ7BMdbxofxpQvcK</td>\n",
       "      <td>https://api.spotify.com/v1/tracks/1H6A86dQ7BMd...</td>\n",
       "      <td>https://api.spotify.com/v1/audio-analysis/1H6A...</td>\n",
       "      <td>174118</td>\n",
       "      <td>4</td>\n",
       "      <td>wake me up</td>\n",
       "      <td>1H6A86dQ7BMdbxofxpQvcK</td>\n",
       "      <td>Ruby</td>\n",
       "      <td>Indie</td>\n",
       "    </tr>\n",
       "    <tr>\n",
       "      <th>...</th>\n",
       "      <td>...</td>\n",
       "      <td>...</td>\n",
       "      <td>...</td>\n",
       "      <td>...</td>\n",
       "      <td>...</td>\n",
       "      <td>...</td>\n",
       "      <td>...</td>\n",
       "      <td>...</td>\n",
       "      <td>...</td>\n",
       "      <td>...</td>\n",
       "      <td>...</td>\n",
       "      <td>...</td>\n",
       "      <td>...</td>\n",
       "      <td>...</td>\n",
       "      <td>...</td>\n",
       "      <td>...</td>\n",
       "      <td>...</td>\n",
       "      <td>...</td>\n",
       "      <td>...</td>\n",
       "      <td>...</td>\n",
       "      <td>...</td>\n",
       "    </tr>\n",
       "    <tr>\n",
       "      <th>13745</th>\n",
       "      <td>0.615</td>\n",
       "      <td>0.476</td>\n",
       "      <td>2</td>\n",
       "      <td>-12.205</td>\n",
       "      <td>0</td>\n",
       "      <td>0.0337</td>\n",
       "      <td>0.161000</td>\n",
       "      <td>0.033400</td>\n",
       "      <td>0.0946</td>\n",
       "      <td>0.6110</td>\n",
       "      <td>...</td>\n",
       "      <td>5vFKQF10Jhyysg3JUbfBUd</td>\n",
       "      <td>spotify:track:5vFKQF10Jhyysg3JUbfBUd</td>\n",
       "      <td>https://api.spotify.com/v1/tracks/5vFKQF10Jhyy...</td>\n",
       "      <td>https://api.spotify.com/v1/audio-analysis/5vFK...</td>\n",
       "      <td>194227</td>\n",
       "      <td>4</td>\n",
       "      <td>Summer Skin</td>\n",
       "      <td>5vFKQF10Jhyysg3JUbfBUd</td>\n",
       "      <td>Death Cab for Cutie</td>\n",
       "      <td>Other</td>\n",
       "    </tr>\n",
       "    <tr>\n",
       "      <th>13746</th>\n",
       "      <td>0.562</td>\n",
       "      <td>0.931</td>\n",
       "      <td>9</td>\n",
       "      <td>-4.809</td>\n",
       "      <td>1</td>\n",
       "      <td>0.0469</td>\n",
       "      <td>0.085900</td>\n",
       "      <td>0.000002</td>\n",
       "      <td>0.2690</td>\n",
       "      <td>0.5370</td>\n",
       "      <td>...</td>\n",
       "      <td>6IVJFZI4fejlJ9XTa3CG5G</td>\n",
       "      <td>spotify:track:6IVJFZI4fejlJ9XTa3CG5G</td>\n",
       "      <td>https://api.spotify.com/v1/tracks/6IVJFZI4fejl...</td>\n",
       "      <td>https://api.spotify.com/v1/audio-analysis/6IVJ...</td>\n",
       "      <td>212880</td>\n",
       "      <td>4</td>\n",
       "      <td>Take on Me</td>\n",
       "      <td>6IVJFZI4fejlJ9XTa3CG5G</td>\n",
       "      <td>A1</td>\n",
       "      <td>Other</td>\n",
       "    </tr>\n",
       "    <tr>\n",
       "      <th>13747</th>\n",
       "      <td>0.620</td>\n",
       "      <td>0.919</td>\n",
       "      <td>0</td>\n",
       "      <td>-4.475</td>\n",
       "      <td>1</td>\n",
       "      <td>0.3570</td>\n",
       "      <td>0.039700</td>\n",
       "      <td>0.000000</td>\n",
       "      <td>0.8510</td>\n",
       "      <td>0.5070</td>\n",
       "      <td>...</td>\n",
       "      <td>0Yb0L5qlyMDyAZor9d57iS</td>\n",
       "      <td>spotify:track:0Yb0L5qlyMDyAZor9d57iS</td>\n",
       "      <td>https://api.spotify.com/v1/tracks/0Yb0L5qlyMDy...</td>\n",
       "      <td>https://api.spotify.com/v1/audio-analysis/0Yb0...</td>\n",
       "      <td>179773</td>\n",
       "      <td>4</td>\n",
       "      <td>Shiver</td>\n",
       "      <td>0Yb0L5qlyMDyAZor9d57iS</td>\n",
       "      <td>Maroon 5</td>\n",
       "      <td>Other</td>\n",
       "    </tr>\n",
       "    <tr>\n",
       "      <th>13748</th>\n",
       "      <td>0.488</td>\n",
       "      <td>0.615</td>\n",
       "      <td>9</td>\n",
       "      <td>-4.377</td>\n",
       "      <td>1</td>\n",
       "      <td>0.0295</td>\n",
       "      <td>0.034000</td>\n",
       "      <td>0.000000</td>\n",
       "      <td>0.2080</td>\n",
       "      <td>0.6860</td>\n",
       "      <td>...</td>\n",
       "      <td>5esJb63Nbi1LeG0v4NyKTt</td>\n",
       "      <td>spotify:track:5esJb63Nbi1LeG0v4NyKTt</td>\n",
       "      <td>https://api.spotify.com/v1/tracks/5esJb63Nbi1L...</td>\n",
       "      <td>https://api.spotify.com/v1/audio-analysis/5esJ...</td>\n",
       "      <td>241320</td>\n",
       "      <td>4</td>\n",
       "      <td>Matkustaja</td>\n",
       "      <td>5esJb63Nbi1LeG0v4NyKTt</td>\n",
       "      <td>Egotrippi</td>\n",
       "      <td>Other</td>\n",
       "    </tr>\n",
       "    <tr>\n",
       "      <th>13749</th>\n",
       "      <td>0.300</td>\n",
       "      <td>0.564</td>\n",
       "      <td>10</td>\n",
       "      <td>-10.163</td>\n",
       "      <td>0</td>\n",
       "      <td>0.0341</td>\n",
       "      <td>0.000906</td>\n",
       "      <td>0.811000</td>\n",
       "      <td>0.0924</td>\n",
       "      <td>0.0405</td>\n",
       "      <td>...</td>\n",
       "      <td>63Cg39cB5xAmjObaKPAd9z</td>\n",
       "      <td>spotify:track:63Cg39cB5xAmjObaKPAd9z</td>\n",
       "      <td>https://api.spotify.com/v1/tracks/63Cg39cB5xAm...</td>\n",
       "      <td>https://api.spotify.com/v1/audio-analysis/63Cg...</td>\n",
       "      <td>315987</td>\n",
       "      <td>4</td>\n",
       "      <td>Special Needs</td>\n",
       "      <td>63Cg39cB5xAmjObaKPAd9z</td>\n",
       "      <td>Placebo</td>\n",
       "      <td>Other</td>\n",
       "    </tr>\n",
       "  </tbody>\n",
       "</table>\n",
       "<p>13750 rows × 22 columns</p>\n",
       "</div>"
      ],
      "text/plain": [
       "       danceability  energy  key  loudness  mode  speechiness  acousticness  \\\n",
       "0             0.714   0.800   11    -4.808     0       0.0504      0.127000   \n",
       "1             0.640   0.755    1    -4.077     0       0.0287      0.013800   \n",
       "2             0.355   0.918    1    -4.360     1       0.0746      0.001190   \n",
       "3             0.462   0.836   11    -5.766     0       0.0621      0.005170   \n",
       "4             0.808   0.381    1    -9.758     1       0.0584      0.344000   \n",
       "...             ...     ...  ...       ...   ...          ...           ...   \n",
       "13745         0.615   0.476    2   -12.205     0       0.0337      0.161000   \n",
       "13746         0.562   0.931    9    -4.809     1       0.0469      0.085900   \n",
       "13747         0.620   0.919    0    -4.475     1       0.3570      0.039700   \n",
       "13748         0.488   0.615    9    -4.377     1       0.0295      0.034000   \n",
       "13749         0.300   0.564   10   -10.163     0       0.0341      0.000906   \n",
       "\n",
       "       instrumentalness  liveness  valence  ...                      id  \\\n",
       "0              0.000000    0.3590   0.5890  ...  3Wrjm47oTz2sjIgck11l5e   \n",
       "1              0.020800    0.1200   0.7440  ...  4g3Ax56IslQkI6XVfYKVc5   \n",
       "2              0.000000    0.0971   0.2400  ...  3n3Ppam7vgaVa1iaRUc9Lp   \n",
       "3              0.000000    0.1800   0.6710  ...  1QFh8OH1e78dGd3VyJZCAC   \n",
       "4              0.000003    0.1120   0.6870  ...  1H6A86dQ7BMdbxofxpQvcK   \n",
       "...                 ...       ...      ...  ...                     ...   \n",
       "13745          0.033400    0.0946   0.6110  ...  5vFKQF10Jhyysg3JUbfBUd   \n",
       "13746          0.000002    0.2690   0.5370  ...  6IVJFZI4fejlJ9XTa3CG5G   \n",
       "13747          0.000000    0.8510   0.5070  ...  0Yb0L5qlyMDyAZor9d57iS   \n",
       "13748          0.000000    0.2080   0.6860  ...  5esJb63Nbi1LeG0v4NyKTt   \n",
       "13749          0.811000    0.0924   0.0405  ...  63Cg39cB5xAmjObaKPAd9z   \n",
       "\n",
       "                                        uri  \\\n",
       "0      spotify:track:3Wrjm47oTz2sjIgck11l5e   \n",
       "1      spotify:track:4g3Ax56IslQkI6XVfYKVc5   \n",
       "2      spotify:track:3n3Ppam7vgaVa1iaRUc9Lp   \n",
       "3      spotify:track:1QFh8OH1e78dGd3VyJZCAC   \n",
       "4      spotify:track:1H6A86dQ7BMdbxofxpQvcK   \n",
       "...                                     ...   \n",
       "13745  spotify:track:5vFKQF10Jhyysg3JUbfBUd   \n",
       "13746  spotify:track:6IVJFZI4fejlJ9XTa3CG5G   \n",
       "13747  spotify:track:0Yb0L5qlyMDyAZor9d57iS   \n",
       "13748  spotify:track:5esJb63Nbi1LeG0v4NyKTt   \n",
       "13749  spotify:track:63Cg39cB5xAmjObaKPAd9z   \n",
       "\n",
       "                                              track_href  \\\n",
       "0      https://api.spotify.com/v1/tracks/3Wrjm47oTz2s...   \n",
       "1      https://api.spotify.com/v1/tracks/4g3Ax56IslQk...   \n",
       "2      https://api.spotify.com/v1/tracks/3n3Ppam7vgaV...   \n",
       "3      https://api.spotify.com/v1/tracks/1QFh8OH1e78d...   \n",
       "4      https://api.spotify.com/v1/tracks/1H6A86dQ7BMd...   \n",
       "...                                                  ...   \n",
       "13745  https://api.spotify.com/v1/tracks/5vFKQF10Jhyy...   \n",
       "13746  https://api.spotify.com/v1/tracks/6IVJFZI4fejl...   \n",
       "13747  https://api.spotify.com/v1/tracks/0Yb0L5qlyMDy...   \n",
       "13748  https://api.spotify.com/v1/tracks/5esJb63Nbi1L...   \n",
       "13749  https://api.spotify.com/v1/tracks/63Cg39cB5xAm...   \n",
       "\n",
       "                                            analysis_url duration_ms  \\\n",
       "0      https://api.spotify.com/v1/audio-analysis/3Wrj...      211560   \n",
       "1      https://api.spotify.com/v1/audio-analysis/4g3A...      216319   \n",
       "2      https://api.spotify.com/v1/audio-analysis/3n3P...      222200   \n",
       "3      https://api.spotify.com/v1/audio-analysis/1QFh...      155973   \n",
       "4      https://api.spotify.com/v1/audio-analysis/1H6A...      174118   \n",
       "...                                                  ...         ...   \n",
       "13745  https://api.spotify.com/v1/audio-analysis/5vFK...      194227   \n",
       "13746  https://api.spotify.com/v1/audio-analysis/6IVJ...      212880   \n",
       "13747  https://api.spotify.com/v1/audio-analysis/0Yb0...      179773   \n",
       "13748  https://api.spotify.com/v1/audio-analysis/5esJ...      241320   \n",
       "13749  https://api.spotify.com/v1/audio-analysis/63Cg...      315987   \n",
       "\n",
       "      time_signature                   song_name                 song_ID  \\\n",
       "0                  4                     Beggin'  3Wrjm47oTz2sjIgck11l5e   \n",
       "1                  4  The Less I Know The Better  4g3Ax56IslQkI6XVfYKVc5   \n",
       "2                  4              Mr. Brightside  3n3Ppam7vgaVa1iaRUc9Lp   \n",
       "3                  4              Boys Don't Cry  1QFh8OH1e78dGd3VyJZCAC   \n",
       "4                  4                  wake me up  1H6A86dQ7BMdbxofxpQvcK   \n",
       "...              ...                         ...                     ...   \n",
       "13745              4                 Summer Skin  5vFKQF10Jhyysg3JUbfBUd   \n",
       "13746              4                  Take on Me  6IVJFZI4fejlJ9XTa3CG5G   \n",
       "13747              4                      Shiver  0Yb0L5qlyMDyAZor9d57iS   \n",
       "13748              4                  Matkustaja  5esJb63Nbi1LeG0v4NyKTt   \n",
       "13749              4               Special Needs  63Cg39cB5xAmjObaKPAd9z   \n",
       "\n",
       "               song_artist  Genre  \n",
       "0                 Måneskin  Indie  \n",
       "1              Tame Impala  Indie  \n",
       "2              The Killers  Indie  \n",
       "3                 The Cure  Indie  \n",
       "4                     Ruby  Indie  \n",
       "...                    ...    ...  \n",
       "13745  Death Cab for Cutie  Other  \n",
       "13746                   A1  Other  \n",
       "13747             Maroon 5  Other  \n",
       "13748            Egotrippi  Other  \n",
       "13749              Placebo  Other  \n",
       "\n",
       "[13750 rows x 22 columns]"
      ]
     },
     "execution_count": 224,
     "metadata": {},
     "output_type": "execute_result"
    }
   ],
   "source": [
    "feats_df"
   ]
  },
  {
   "cell_type": "code",
   "execution_count": 225,
   "id": "8c99bdb2",
   "metadata": {},
   "outputs": [],
   "source": [
    "all_df=feats_df"
   ]
  },
  {
   "cell_type": "code",
   "execution_count": 226,
   "id": "1140233a",
   "metadata": {},
   "outputs": [
    {
     "data": {
      "text/html": [
       "<div>\n",
       "<style scoped>\n",
       "    .dataframe tbody tr th:only-of-type {\n",
       "        vertical-align: middle;\n",
       "    }\n",
       "\n",
       "    .dataframe tbody tr th {\n",
       "        vertical-align: top;\n",
       "    }\n",
       "\n",
       "    .dataframe thead th {\n",
       "        text-align: right;\n",
       "    }\n",
       "</style>\n",
       "<table border=\"1\" class=\"dataframe\">\n",
       "  <thead>\n",
       "    <tr style=\"text-align: right;\">\n",
       "      <th></th>\n",
       "      <th>danceability</th>\n",
       "      <th>energy</th>\n",
       "      <th>key</th>\n",
       "      <th>loudness</th>\n",
       "      <th>mode</th>\n",
       "      <th>speechiness</th>\n",
       "      <th>acousticness</th>\n",
       "      <th>instrumentalness</th>\n",
       "      <th>liveness</th>\n",
       "      <th>valence</th>\n",
       "      <th>...</th>\n",
       "      <th>id</th>\n",
       "      <th>uri</th>\n",
       "      <th>track_href</th>\n",
       "      <th>analysis_url</th>\n",
       "      <th>duration_ms</th>\n",
       "      <th>time_signature</th>\n",
       "      <th>song_name</th>\n",
       "      <th>song_ID</th>\n",
       "      <th>song_artist</th>\n",
       "      <th>Genre</th>\n",
       "    </tr>\n",
       "  </thead>\n",
       "  <tbody>\n",
       "    <tr>\n",
       "      <th>0</th>\n",
       "      <td>0.714</td>\n",
       "      <td>0.800</td>\n",
       "      <td>11</td>\n",
       "      <td>-4.808</td>\n",
       "      <td>0</td>\n",
       "      <td>0.0504</td>\n",
       "      <td>0.127000</td>\n",
       "      <td>0.000000</td>\n",
       "      <td>0.3590</td>\n",
       "      <td>0.5890</td>\n",
       "      <td>...</td>\n",
       "      <td>3Wrjm47oTz2sjIgck11l5e</td>\n",
       "      <td>spotify:track:3Wrjm47oTz2sjIgck11l5e</td>\n",
       "      <td>https://api.spotify.com/v1/tracks/3Wrjm47oTz2s...</td>\n",
       "      <td>https://api.spotify.com/v1/audio-analysis/3Wrj...</td>\n",
       "      <td>211560</td>\n",
       "      <td>4</td>\n",
       "      <td>Beggin'</td>\n",
       "      <td>3Wrjm47oTz2sjIgck11l5e</td>\n",
       "      <td>Måneskin</td>\n",
       "      <td>Indie</td>\n",
       "    </tr>\n",
       "    <tr>\n",
       "      <th>1</th>\n",
       "      <td>0.640</td>\n",
       "      <td>0.755</td>\n",
       "      <td>1</td>\n",
       "      <td>-4.077</td>\n",
       "      <td>0</td>\n",
       "      <td>0.0287</td>\n",
       "      <td>0.013800</td>\n",
       "      <td>0.020800</td>\n",
       "      <td>0.1200</td>\n",
       "      <td>0.7440</td>\n",
       "      <td>...</td>\n",
       "      <td>4g3Ax56IslQkI6XVfYKVc5</td>\n",
       "      <td>spotify:track:4g3Ax56IslQkI6XVfYKVc5</td>\n",
       "      <td>https://api.spotify.com/v1/tracks/4g3Ax56IslQk...</td>\n",
       "      <td>https://api.spotify.com/v1/audio-analysis/4g3A...</td>\n",
       "      <td>216319</td>\n",
       "      <td>4</td>\n",
       "      <td>The Less I Know The Better</td>\n",
       "      <td>4g3Ax56IslQkI6XVfYKVc5</td>\n",
       "      <td>Tame Impala</td>\n",
       "      <td>Indie</td>\n",
       "    </tr>\n",
       "    <tr>\n",
       "      <th>2</th>\n",
       "      <td>0.355</td>\n",
       "      <td>0.918</td>\n",
       "      <td>1</td>\n",
       "      <td>-4.360</td>\n",
       "      <td>1</td>\n",
       "      <td>0.0746</td>\n",
       "      <td>0.001190</td>\n",
       "      <td>0.000000</td>\n",
       "      <td>0.0971</td>\n",
       "      <td>0.2400</td>\n",
       "      <td>...</td>\n",
       "      <td>3n3Ppam7vgaVa1iaRUc9Lp</td>\n",
       "      <td>spotify:track:3n3Ppam7vgaVa1iaRUc9Lp</td>\n",
       "      <td>https://api.spotify.com/v1/tracks/3n3Ppam7vgaV...</td>\n",
       "      <td>https://api.spotify.com/v1/audio-analysis/3n3P...</td>\n",
       "      <td>222200</td>\n",
       "      <td>4</td>\n",
       "      <td>Mr. Brightside</td>\n",
       "      <td>3n3Ppam7vgaVa1iaRUc9Lp</td>\n",
       "      <td>The Killers</td>\n",
       "      <td>Indie</td>\n",
       "    </tr>\n",
       "    <tr>\n",
       "      <th>3</th>\n",
       "      <td>0.462</td>\n",
       "      <td>0.836</td>\n",
       "      <td>11</td>\n",
       "      <td>-5.766</td>\n",
       "      <td>0</td>\n",
       "      <td>0.0621</td>\n",
       "      <td>0.005170</td>\n",
       "      <td>0.000000</td>\n",
       "      <td>0.1800</td>\n",
       "      <td>0.6710</td>\n",
       "      <td>...</td>\n",
       "      <td>1QFh8OH1e78dGd3VyJZCAC</td>\n",
       "      <td>spotify:track:1QFh8OH1e78dGd3VyJZCAC</td>\n",
       "      <td>https://api.spotify.com/v1/tracks/1QFh8OH1e78d...</td>\n",
       "      <td>https://api.spotify.com/v1/audio-analysis/1QFh...</td>\n",
       "      <td>155973</td>\n",
       "      <td>4</td>\n",
       "      <td>Boys Don't Cry</td>\n",
       "      <td>1QFh8OH1e78dGd3VyJZCAC</td>\n",
       "      <td>The Cure</td>\n",
       "      <td>Indie</td>\n",
       "    </tr>\n",
       "    <tr>\n",
       "      <th>4</th>\n",
       "      <td>0.808</td>\n",
       "      <td>0.381</td>\n",
       "      <td>1</td>\n",
       "      <td>-9.758</td>\n",
       "      <td>1</td>\n",
       "      <td>0.0584</td>\n",
       "      <td>0.344000</td>\n",
       "      <td>0.000003</td>\n",
       "      <td>0.1120</td>\n",
       "      <td>0.6870</td>\n",
       "      <td>...</td>\n",
       "      <td>1H6A86dQ7BMdbxofxpQvcK</td>\n",
       "      <td>spotify:track:1H6A86dQ7BMdbxofxpQvcK</td>\n",
       "      <td>https://api.spotify.com/v1/tracks/1H6A86dQ7BMd...</td>\n",
       "      <td>https://api.spotify.com/v1/audio-analysis/1H6A...</td>\n",
       "      <td>174118</td>\n",
       "      <td>4</td>\n",
       "      <td>wake me up</td>\n",
       "      <td>1H6A86dQ7BMdbxofxpQvcK</td>\n",
       "      <td>Ruby</td>\n",
       "      <td>Indie</td>\n",
       "    </tr>\n",
       "    <tr>\n",
       "      <th>...</th>\n",
       "      <td>...</td>\n",
       "      <td>...</td>\n",
       "      <td>...</td>\n",
       "      <td>...</td>\n",
       "      <td>...</td>\n",
       "      <td>...</td>\n",
       "      <td>...</td>\n",
       "      <td>...</td>\n",
       "      <td>...</td>\n",
       "      <td>...</td>\n",
       "      <td>...</td>\n",
       "      <td>...</td>\n",
       "      <td>...</td>\n",
       "      <td>...</td>\n",
       "      <td>...</td>\n",
       "      <td>...</td>\n",
       "      <td>...</td>\n",
       "      <td>...</td>\n",
       "      <td>...</td>\n",
       "      <td>...</td>\n",
       "      <td>...</td>\n",
       "    </tr>\n",
       "    <tr>\n",
       "      <th>13745</th>\n",
       "      <td>0.615</td>\n",
       "      <td>0.476</td>\n",
       "      <td>2</td>\n",
       "      <td>-12.205</td>\n",
       "      <td>0</td>\n",
       "      <td>0.0337</td>\n",
       "      <td>0.161000</td>\n",
       "      <td>0.033400</td>\n",
       "      <td>0.0946</td>\n",
       "      <td>0.6110</td>\n",
       "      <td>...</td>\n",
       "      <td>5vFKQF10Jhyysg3JUbfBUd</td>\n",
       "      <td>spotify:track:5vFKQF10Jhyysg3JUbfBUd</td>\n",
       "      <td>https://api.spotify.com/v1/tracks/5vFKQF10Jhyy...</td>\n",
       "      <td>https://api.spotify.com/v1/audio-analysis/5vFK...</td>\n",
       "      <td>194227</td>\n",
       "      <td>4</td>\n",
       "      <td>Summer Skin</td>\n",
       "      <td>5vFKQF10Jhyysg3JUbfBUd</td>\n",
       "      <td>Death Cab for Cutie</td>\n",
       "      <td>Other</td>\n",
       "    </tr>\n",
       "    <tr>\n",
       "      <th>13746</th>\n",
       "      <td>0.562</td>\n",
       "      <td>0.931</td>\n",
       "      <td>9</td>\n",
       "      <td>-4.809</td>\n",
       "      <td>1</td>\n",
       "      <td>0.0469</td>\n",
       "      <td>0.085900</td>\n",
       "      <td>0.000002</td>\n",
       "      <td>0.2690</td>\n",
       "      <td>0.5370</td>\n",
       "      <td>...</td>\n",
       "      <td>6IVJFZI4fejlJ9XTa3CG5G</td>\n",
       "      <td>spotify:track:6IVJFZI4fejlJ9XTa3CG5G</td>\n",
       "      <td>https://api.spotify.com/v1/tracks/6IVJFZI4fejl...</td>\n",
       "      <td>https://api.spotify.com/v1/audio-analysis/6IVJ...</td>\n",
       "      <td>212880</td>\n",
       "      <td>4</td>\n",
       "      <td>Take on Me</td>\n",
       "      <td>6IVJFZI4fejlJ9XTa3CG5G</td>\n",
       "      <td>A1</td>\n",
       "      <td>Other</td>\n",
       "    </tr>\n",
       "    <tr>\n",
       "      <th>13747</th>\n",
       "      <td>0.620</td>\n",
       "      <td>0.919</td>\n",
       "      <td>0</td>\n",
       "      <td>-4.475</td>\n",
       "      <td>1</td>\n",
       "      <td>0.3570</td>\n",
       "      <td>0.039700</td>\n",
       "      <td>0.000000</td>\n",
       "      <td>0.8510</td>\n",
       "      <td>0.5070</td>\n",
       "      <td>...</td>\n",
       "      <td>0Yb0L5qlyMDyAZor9d57iS</td>\n",
       "      <td>spotify:track:0Yb0L5qlyMDyAZor9d57iS</td>\n",
       "      <td>https://api.spotify.com/v1/tracks/0Yb0L5qlyMDy...</td>\n",
       "      <td>https://api.spotify.com/v1/audio-analysis/0Yb0...</td>\n",
       "      <td>179773</td>\n",
       "      <td>4</td>\n",
       "      <td>Shiver</td>\n",
       "      <td>0Yb0L5qlyMDyAZor9d57iS</td>\n",
       "      <td>Maroon 5</td>\n",
       "      <td>Other</td>\n",
       "    </tr>\n",
       "    <tr>\n",
       "      <th>13748</th>\n",
       "      <td>0.488</td>\n",
       "      <td>0.615</td>\n",
       "      <td>9</td>\n",
       "      <td>-4.377</td>\n",
       "      <td>1</td>\n",
       "      <td>0.0295</td>\n",
       "      <td>0.034000</td>\n",
       "      <td>0.000000</td>\n",
       "      <td>0.2080</td>\n",
       "      <td>0.6860</td>\n",
       "      <td>...</td>\n",
       "      <td>5esJb63Nbi1LeG0v4NyKTt</td>\n",
       "      <td>spotify:track:5esJb63Nbi1LeG0v4NyKTt</td>\n",
       "      <td>https://api.spotify.com/v1/tracks/5esJb63Nbi1L...</td>\n",
       "      <td>https://api.spotify.com/v1/audio-analysis/5esJ...</td>\n",
       "      <td>241320</td>\n",
       "      <td>4</td>\n",
       "      <td>Matkustaja</td>\n",
       "      <td>5esJb63Nbi1LeG0v4NyKTt</td>\n",
       "      <td>Egotrippi</td>\n",
       "      <td>Other</td>\n",
       "    </tr>\n",
       "    <tr>\n",
       "      <th>13749</th>\n",
       "      <td>0.300</td>\n",
       "      <td>0.564</td>\n",
       "      <td>10</td>\n",
       "      <td>-10.163</td>\n",
       "      <td>0</td>\n",
       "      <td>0.0341</td>\n",
       "      <td>0.000906</td>\n",
       "      <td>0.811000</td>\n",
       "      <td>0.0924</td>\n",
       "      <td>0.0405</td>\n",
       "      <td>...</td>\n",
       "      <td>63Cg39cB5xAmjObaKPAd9z</td>\n",
       "      <td>spotify:track:63Cg39cB5xAmjObaKPAd9z</td>\n",
       "      <td>https://api.spotify.com/v1/tracks/63Cg39cB5xAm...</td>\n",
       "      <td>https://api.spotify.com/v1/audio-analysis/63Cg...</td>\n",
       "      <td>315987</td>\n",
       "      <td>4</td>\n",
       "      <td>Special Needs</td>\n",
       "      <td>63Cg39cB5xAmjObaKPAd9z</td>\n",
       "      <td>Placebo</td>\n",
       "      <td>Other</td>\n",
       "    </tr>\n",
       "  </tbody>\n",
       "</table>\n",
       "<p>13750 rows × 22 columns</p>\n",
       "</div>"
      ],
      "text/plain": [
       "       danceability  energy  key  loudness  mode  speechiness  acousticness  \\\n",
       "0             0.714   0.800   11    -4.808     0       0.0504      0.127000   \n",
       "1             0.640   0.755    1    -4.077     0       0.0287      0.013800   \n",
       "2             0.355   0.918    1    -4.360     1       0.0746      0.001190   \n",
       "3             0.462   0.836   11    -5.766     0       0.0621      0.005170   \n",
       "4             0.808   0.381    1    -9.758     1       0.0584      0.344000   \n",
       "...             ...     ...  ...       ...   ...          ...           ...   \n",
       "13745         0.615   0.476    2   -12.205     0       0.0337      0.161000   \n",
       "13746         0.562   0.931    9    -4.809     1       0.0469      0.085900   \n",
       "13747         0.620   0.919    0    -4.475     1       0.3570      0.039700   \n",
       "13748         0.488   0.615    9    -4.377     1       0.0295      0.034000   \n",
       "13749         0.300   0.564   10   -10.163     0       0.0341      0.000906   \n",
       "\n",
       "       instrumentalness  liveness  valence  ...                      id  \\\n",
       "0              0.000000    0.3590   0.5890  ...  3Wrjm47oTz2sjIgck11l5e   \n",
       "1              0.020800    0.1200   0.7440  ...  4g3Ax56IslQkI6XVfYKVc5   \n",
       "2              0.000000    0.0971   0.2400  ...  3n3Ppam7vgaVa1iaRUc9Lp   \n",
       "3              0.000000    0.1800   0.6710  ...  1QFh8OH1e78dGd3VyJZCAC   \n",
       "4              0.000003    0.1120   0.6870  ...  1H6A86dQ7BMdbxofxpQvcK   \n",
       "...                 ...       ...      ...  ...                     ...   \n",
       "13745          0.033400    0.0946   0.6110  ...  5vFKQF10Jhyysg3JUbfBUd   \n",
       "13746          0.000002    0.2690   0.5370  ...  6IVJFZI4fejlJ9XTa3CG5G   \n",
       "13747          0.000000    0.8510   0.5070  ...  0Yb0L5qlyMDyAZor9d57iS   \n",
       "13748          0.000000    0.2080   0.6860  ...  5esJb63Nbi1LeG0v4NyKTt   \n",
       "13749          0.811000    0.0924   0.0405  ...  63Cg39cB5xAmjObaKPAd9z   \n",
       "\n",
       "                                        uri  \\\n",
       "0      spotify:track:3Wrjm47oTz2sjIgck11l5e   \n",
       "1      spotify:track:4g3Ax56IslQkI6XVfYKVc5   \n",
       "2      spotify:track:3n3Ppam7vgaVa1iaRUc9Lp   \n",
       "3      spotify:track:1QFh8OH1e78dGd3VyJZCAC   \n",
       "4      spotify:track:1H6A86dQ7BMdbxofxpQvcK   \n",
       "...                                     ...   \n",
       "13745  spotify:track:5vFKQF10Jhyysg3JUbfBUd   \n",
       "13746  spotify:track:6IVJFZI4fejlJ9XTa3CG5G   \n",
       "13747  spotify:track:0Yb0L5qlyMDyAZor9d57iS   \n",
       "13748  spotify:track:5esJb63Nbi1LeG0v4NyKTt   \n",
       "13749  spotify:track:63Cg39cB5xAmjObaKPAd9z   \n",
       "\n",
       "                                              track_href  \\\n",
       "0      https://api.spotify.com/v1/tracks/3Wrjm47oTz2s...   \n",
       "1      https://api.spotify.com/v1/tracks/4g3Ax56IslQk...   \n",
       "2      https://api.spotify.com/v1/tracks/3n3Ppam7vgaV...   \n",
       "3      https://api.spotify.com/v1/tracks/1QFh8OH1e78d...   \n",
       "4      https://api.spotify.com/v1/tracks/1H6A86dQ7BMd...   \n",
       "...                                                  ...   \n",
       "13745  https://api.spotify.com/v1/tracks/5vFKQF10Jhyy...   \n",
       "13746  https://api.spotify.com/v1/tracks/6IVJFZI4fejl...   \n",
       "13747  https://api.spotify.com/v1/tracks/0Yb0L5qlyMDy...   \n",
       "13748  https://api.spotify.com/v1/tracks/5esJb63Nbi1L...   \n",
       "13749  https://api.spotify.com/v1/tracks/63Cg39cB5xAm...   \n",
       "\n",
       "                                            analysis_url duration_ms  \\\n",
       "0      https://api.spotify.com/v1/audio-analysis/3Wrj...      211560   \n",
       "1      https://api.spotify.com/v1/audio-analysis/4g3A...      216319   \n",
       "2      https://api.spotify.com/v1/audio-analysis/3n3P...      222200   \n",
       "3      https://api.spotify.com/v1/audio-analysis/1QFh...      155973   \n",
       "4      https://api.spotify.com/v1/audio-analysis/1H6A...      174118   \n",
       "...                                                  ...         ...   \n",
       "13745  https://api.spotify.com/v1/audio-analysis/5vFK...      194227   \n",
       "13746  https://api.spotify.com/v1/audio-analysis/6IVJ...      212880   \n",
       "13747  https://api.spotify.com/v1/audio-analysis/0Yb0...      179773   \n",
       "13748  https://api.spotify.com/v1/audio-analysis/5esJ...      241320   \n",
       "13749  https://api.spotify.com/v1/audio-analysis/63Cg...      315987   \n",
       "\n",
       "      time_signature                   song_name                 song_ID  \\\n",
       "0                  4                     Beggin'  3Wrjm47oTz2sjIgck11l5e   \n",
       "1                  4  The Less I Know The Better  4g3Ax56IslQkI6XVfYKVc5   \n",
       "2                  4              Mr. Brightside  3n3Ppam7vgaVa1iaRUc9Lp   \n",
       "3                  4              Boys Don't Cry  1QFh8OH1e78dGd3VyJZCAC   \n",
       "4                  4                  wake me up  1H6A86dQ7BMdbxofxpQvcK   \n",
       "...              ...                         ...                     ...   \n",
       "13745              4                 Summer Skin  5vFKQF10Jhyysg3JUbfBUd   \n",
       "13746              4                  Take on Me  6IVJFZI4fejlJ9XTa3CG5G   \n",
       "13747              4                      Shiver  0Yb0L5qlyMDyAZor9d57iS   \n",
       "13748              4                  Matkustaja  5esJb63Nbi1LeG0v4NyKTt   \n",
       "13749              4               Special Needs  63Cg39cB5xAmjObaKPAd9z   \n",
       "\n",
       "               song_artist  Genre  \n",
       "0                 Måneskin  Indie  \n",
       "1              Tame Impala  Indie  \n",
       "2              The Killers  Indie  \n",
       "3                 The Cure  Indie  \n",
       "4                     Ruby  Indie  \n",
       "...                    ...    ...  \n",
       "13745  Death Cab for Cutie  Other  \n",
       "13746                   A1  Other  \n",
       "13747             Maroon 5  Other  \n",
       "13748            Egotrippi  Other  \n",
       "13749              Placebo  Other  \n",
       "\n",
       "[13750 rows x 22 columns]"
      ]
     },
     "execution_count": 226,
     "metadata": {},
     "output_type": "execute_result"
    }
   ],
   "source": [
    "all_df"
   ]
  },
  {
   "cell_type": "code",
   "execution_count": 227,
   "id": "3377c144",
   "metadata": {},
   "outputs": [],
   "source": [
    "# just to test in scaling so if goes wrong dont miss the original one\n",
    "\n",
    "all_df3=all_df"
   ]
  },
  {
   "cell_type": "code",
   "execution_count": 228,
   "id": "7c83d8a4",
   "metadata": {},
   "outputs": [
    {
     "data": {
      "text/html": [
       "<div>\n",
       "<style scoped>\n",
       "    .dataframe tbody tr th:only-of-type {\n",
       "        vertical-align: middle;\n",
       "    }\n",
       "\n",
       "    .dataframe tbody tr th {\n",
       "        vertical-align: top;\n",
       "    }\n",
       "\n",
       "    .dataframe thead th {\n",
       "        text-align: right;\n",
       "    }\n",
       "</style>\n",
       "<table border=\"1\" class=\"dataframe\">\n",
       "  <thead>\n",
       "    <tr style=\"text-align: right;\">\n",
       "      <th></th>\n",
       "      <th>danceability</th>\n",
       "      <th>energy</th>\n",
       "      <th>key</th>\n",
       "      <th>loudness</th>\n",
       "      <th>mode</th>\n",
       "      <th>speechiness</th>\n",
       "      <th>acousticness</th>\n",
       "      <th>instrumentalness</th>\n",
       "      <th>liveness</th>\n",
       "      <th>valence</th>\n",
       "      <th>...</th>\n",
       "      <th>id</th>\n",
       "      <th>uri</th>\n",
       "      <th>track_href</th>\n",
       "      <th>analysis_url</th>\n",
       "      <th>duration_ms</th>\n",
       "      <th>time_signature</th>\n",
       "      <th>song_name</th>\n",
       "      <th>song_ID</th>\n",
       "      <th>song_artist</th>\n",
       "      <th>Genre</th>\n",
       "    </tr>\n",
       "  </thead>\n",
       "  <tbody>\n",
       "    <tr>\n",
       "      <th>0</th>\n",
       "      <td>0.714</td>\n",
       "      <td>0.800</td>\n",
       "      <td>11</td>\n",
       "      <td>-4.808</td>\n",
       "      <td>0</td>\n",
       "      <td>0.0504</td>\n",
       "      <td>0.127000</td>\n",
       "      <td>0.000000</td>\n",
       "      <td>0.3590</td>\n",
       "      <td>0.5890</td>\n",
       "      <td>...</td>\n",
       "      <td>3Wrjm47oTz2sjIgck11l5e</td>\n",
       "      <td>spotify:track:3Wrjm47oTz2sjIgck11l5e</td>\n",
       "      <td>https://api.spotify.com/v1/tracks/3Wrjm47oTz2s...</td>\n",
       "      <td>https://api.spotify.com/v1/audio-analysis/3Wrj...</td>\n",
       "      <td>211560</td>\n",
       "      <td>4</td>\n",
       "      <td>Beggin'</td>\n",
       "      <td>3Wrjm47oTz2sjIgck11l5e</td>\n",
       "      <td>Måneskin</td>\n",
       "      <td>Indie</td>\n",
       "    </tr>\n",
       "    <tr>\n",
       "      <th>1</th>\n",
       "      <td>0.640</td>\n",
       "      <td>0.755</td>\n",
       "      <td>1</td>\n",
       "      <td>-4.077</td>\n",
       "      <td>0</td>\n",
       "      <td>0.0287</td>\n",
       "      <td>0.013800</td>\n",
       "      <td>0.020800</td>\n",
       "      <td>0.1200</td>\n",
       "      <td>0.7440</td>\n",
       "      <td>...</td>\n",
       "      <td>4g3Ax56IslQkI6XVfYKVc5</td>\n",
       "      <td>spotify:track:4g3Ax56IslQkI6XVfYKVc5</td>\n",
       "      <td>https://api.spotify.com/v1/tracks/4g3Ax56IslQk...</td>\n",
       "      <td>https://api.spotify.com/v1/audio-analysis/4g3A...</td>\n",
       "      <td>216319</td>\n",
       "      <td>4</td>\n",
       "      <td>The Less I Know The Better</td>\n",
       "      <td>4g3Ax56IslQkI6XVfYKVc5</td>\n",
       "      <td>Tame Impala</td>\n",
       "      <td>Indie</td>\n",
       "    </tr>\n",
       "    <tr>\n",
       "      <th>2</th>\n",
       "      <td>0.355</td>\n",
       "      <td>0.918</td>\n",
       "      <td>1</td>\n",
       "      <td>-4.360</td>\n",
       "      <td>1</td>\n",
       "      <td>0.0746</td>\n",
       "      <td>0.001190</td>\n",
       "      <td>0.000000</td>\n",
       "      <td>0.0971</td>\n",
       "      <td>0.2400</td>\n",
       "      <td>...</td>\n",
       "      <td>3n3Ppam7vgaVa1iaRUc9Lp</td>\n",
       "      <td>spotify:track:3n3Ppam7vgaVa1iaRUc9Lp</td>\n",
       "      <td>https://api.spotify.com/v1/tracks/3n3Ppam7vgaV...</td>\n",
       "      <td>https://api.spotify.com/v1/audio-analysis/3n3P...</td>\n",
       "      <td>222200</td>\n",
       "      <td>4</td>\n",
       "      <td>Mr. Brightside</td>\n",
       "      <td>3n3Ppam7vgaVa1iaRUc9Lp</td>\n",
       "      <td>The Killers</td>\n",
       "      <td>Indie</td>\n",
       "    </tr>\n",
       "    <tr>\n",
       "      <th>3</th>\n",
       "      <td>0.462</td>\n",
       "      <td>0.836</td>\n",
       "      <td>11</td>\n",
       "      <td>-5.766</td>\n",
       "      <td>0</td>\n",
       "      <td>0.0621</td>\n",
       "      <td>0.005170</td>\n",
       "      <td>0.000000</td>\n",
       "      <td>0.1800</td>\n",
       "      <td>0.6710</td>\n",
       "      <td>...</td>\n",
       "      <td>1QFh8OH1e78dGd3VyJZCAC</td>\n",
       "      <td>spotify:track:1QFh8OH1e78dGd3VyJZCAC</td>\n",
       "      <td>https://api.spotify.com/v1/tracks/1QFh8OH1e78d...</td>\n",
       "      <td>https://api.spotify.com/v1/audio-analysis/1QFh...</td>\n",
       "      <td>155973</td>\n",
       "      <td>4</td>\n",
       "      <td>Boys Don't Cry</td>\n",
       "      <td>1QFh8OH1e78dGd3VyJZCAC</td>\n",
       "      <td>The Cure</td>\n",
       "      <td>Indie</td>\n",
       "    </tr>\n",
       "    <tr>\n",
       "      <th>4</th>\n",
       "      <td>0.808</td>\n",
       "      <td>0.381</td>\n",
       "      <td>1</td>\n",
       "      <td>-9.758</td>\n",
       "      <td>1</td>\n",
       "      <td>0.0584</td>\n",
       "      <td>0.344000</td>\n",
       "      <td>0.000003</td>\n",
       "      <td>0.1120</td>\n",
       "      <td>0.6870</td>\n",
       "      <td>...</td>\n",
       "      <td>1H6A86dQ7BMdbxofxpQvcK</td>\n",
       "      <td>spotify:track:1H6A86dQ7BMdbxofxpQvcK</td>\n",
       "      <td>https://api.spotify.com/v1/tracks/1H6A86dQ7BMd...</td>\n",
       "      <td>https://api.spotify.com/v1/audio-analysis/1H6A...</td>\n",
       "      <td>174118</td>\n",
       "      <td>4</td>\n",
       "      <td>wake me up</td>\n",
       "      <td>1H6A86dQ7BMdbxofxpQvcK</td>\n",
       "      <td>Ruby</td>\n",
       "      <td>Indie</td>\n",
       "    </tr>\n",
       "    <tr>\n",
       "      <th>...</th>\n",
       "      <td>...</td>\n",
       "      <td>...</td>\n",
       "      <td>...</td>\n",
       "      <td>...</td>\n",
       "      <td>...</td>\n",
       "      <td>...</td>\n",
       "      <td>...</td>\n",
       "      <td>...</td>\n",
       "      <td>...</td>\n",
       "      <td>...</td>\n",
       "      <td>...</td>\n",
       "      <td>...</td>\n",
       "      <td>...</td>\n",
       "      <td>...</td>\n",
       "      <td>...</td>\n",
       "      <td>...</td>\n",
       "      <td>...</td>\n",
       "      <td>...</td>\n",
       "      <td>...</td>\n",
       "      <td>...</td>\n",
       "      <td>...</td>\n",
       "    </tr>\n",
       "    <tr>\n",
       "      <th>13745</th>\n",
       "      <td>0.615</td>\n",
       "      <td>0.476</td>\n",
       "      <td>2</td>\n",
       "      <td>-12.205</td>\n",
       "      <td>0</td>\n",
       "      <td>0.0337</td>\n",
       "      <td>0.161000</td>\n",
       "      <td>0.033400</td>\n",
       "      <td>0.0946</td>\n",
       "      <td>0.6110</td>\n",
       "      <td>...</td>\n",
       "      <td>5vFKQF10Jhyysg3JUbfBUd</td>\n",
       "      <td>spotify:track:5vFKQF10Jhyysg3JUbfBUd</td>\n",
       "      <td>https://api.spotify.com/v1/tracks/5vFKQF10Jhyy...</td>\n",
       "      <td>https://api.spotify.com/v1/audio-analysis/5vFK...</td>\n",
       "      <td>194227</td>\n",
       "      <td>4</td>\n",
       "      <td>Summer Skin</td>\n",
       "      <td>5vFKQF10Jhyysg3JUbfBUd</td>\n",
       "      <td>Death Cab for Cutie</td>\n",
       "      <td>Other</td>\n",
       "    </tr>\n",
       "    <tr>\n",
       "      <th>13746</th>\n",
       "      <td>0.562</td>\n",
       "      <td>0.931</td>\n",
       "      <td>9</td>\n",
       "      <td>-4.809</td>\n",
       "      <td>1</td>\n",
       "      <td>0.0469</td>\n",
       "      <td>0.085900</td>\n",
       "      <td>0.000002</td>\n",
       "      <td>0.2690</td>\n",
       "      <td>0.5370</td>\n",
       "      <td>...</td>\n",
       "      <td>6IVJFZI4fejlJ9XTa3CG5G</td>\n",
       "      <td>spotify:track:6IVJFZI4fejlJ9XTa3CG5G</td>\n",
       "      <td>https://api.spotify.com/v1/tracks/6IVJFZI4fejl...</td>\n",
       "      <td>https://api.spotify.com/v1/audio-analysis/6IVJ...</td>\n",
       "      <td>212880</td>\n",
       "      <td>4</td>\n",
       "      <td>Take on Me</td>\n",
       "      <td>6IVJFZI4fejlJ9XTa3CG5G</td>\n",
       "      <td>A1</td>\n",
       "      <td>Other</td>\n",
       "    </tr>\n",
       "    <tr>\n",
       "      <th>13747</th>\n",
       "      <td>0.620</td>\n",
       "      <td>0.919</td>\n",
       "      <td>0</td>\n",
       "      <td>-4.475</td>\n",
       "      <td>1</td>\n",
       "      <td>0.3570</td>\n",
       "      <td>0.039700</td>\n",
       "      <td>0.000000</td>\n",
       "      <td>0.8510</td>\n",
       "      <td>0.5070</td>\n",
       "      <td>...</td>\n",
       "      <td>0Yb0L5qlyMDyAZor9d57iS</td>\n",
       "      <td>spotify:track:0Yb0L5qlyMDyAZor9d57iS</td>\n",
       "      <td>https://api.spotify.com/v1/tracks/0Yb0L5qlyMDy...</td>\n",
       "      <td>https://api.spotify.com/v1/audio-analysis/0Yb0...</td>\n",
       "      <td>179773</td>\n",
       "      <td>4</td>\n",
       "      <td>Shiver</td>\n",
       "      <td>0Yb0L5qlyMDyAZor9d57iS</td>\n",
       "      <td>Maroon 5</td>\n",
       "      <td>Other</td>\n",
       "    </tr>\n",
       "    <tr>\n",
       "      <th>13748</th>\n",
       "      <td>0.488</td>\n",
       "      <td>0.615</td>\n",
       "      <td>9</td>\n",
       "      <td>-4.377</td>\n",
       "      <td>1</td>\n",
       "      <td>0.0295</td>\n",
       "      <td>0.034000</td>\n",
       "      <td>0.000000</td>\n",
       "      <td>0.2080</td>\n",
       "      <td>0.6860</td>\n",
       "      <td>...</td>\n",
       "      <td>5esJb63Nbi1LeG0v4NyKTt</td>\n",
       "      <td>spotify:track:5esJb63Nbi1LeG0v4NyKTt</td>\n",
       "      <td>https://api.spotify.com/v1/tracks/5esJb63Nbi1L...</td>\n",
       "      <td>https://api.spotify.com/v1/audio-analysis/5esJ...</td>\n",
       "      <td>241320</td>\n",
       "      <td>4</td>\n",
       "      <td>Matkustaja</td>\n",
       "      <td>5esJb63Nbi1LeG0v4NyKTt</td>\n",
       "      <td>Egotrippi</td>\n",
       "      <td>Other</td>\n",
       "    </tr>\n",
       "    <tr>\n",
       "      <th>13749</th>\n",
       "      <td>0.300</td>\n",
       "      <td>0.564</td>\n",
       "      <td>10</td>\n",
       "      <td>-10.163</td>\n",
       "      <td>0</td>\n",
       "      <td>0.0341</td>\n",
       "      <td>0.000906</td>\n",
       "      <td>0.811000</td>\n",
       "      <td>0.0924</td>\n",
       "      <td>0.0405</td>\n",
       "      <td>...</td>\n",
       "      <td>63Cg39cB5xAmjObaKPAd9z</td>\n",
       "      <td>spotify:track:63Cg39cB5xAmjObaKPAd9z</td>\n",
       "      <td>https://api.spotify.com/v1/tracks/63Cg39cB5xAm...</td>\n",
       "      <td>https://api.spotify.com/v1/audio-analysis/63Cg...</td>\n",
       "      <td>315987</td>\n",
       "      <td>4</td>\n",
       "      <td>Special Needs</td>\n",
       "      <td>63Cg39cB5xAmjObaKPAd9z</td>\n",
       "      <td>Placebo</td>\n",
       "      <td>Other</td>\n",
       "    </tr>\n",
       "  </tbody>\n",
       "</table>\n",
       "<p>13750 rows × 22 columns</p>\n",
       "</div>"
      ],
      "text/plain": [
       "       danceability  energy  key  loudness  mode  speechiness  acousticness  \\\n",
       "0             0.714   0.800   11    -4.808     0       0.0504      0.127000   \n",
       "1             0.640   0.755    1    -4.077     0       0.0287      0.013800   \n",
       "2             0.355   0.918    1    -4.360     1       0.0746      0.001190   \n",
       "3             0.462   0.836   11    -5.766     0       0.0621      0.005170   \n",
       "4             0.808   0.381    1    -9.758     1       0.0584      0.344000   \n",
       "...             ...     ...  ...       ...   ...          ...           ...   \n",
       "13745         0.615   0.476    2   -12.205     0       0.0337      0.161000   \n",
       "13746         0.562   0.931    9    -4.809     1       0.0469      0.085900   \n",
       "13747         0.620   0.919    0    -4.475     1       0.3570      0.039700   \n",
       "13748         0.488   0.615    9    -4.377     1       0.0295      0.034000   \n",
       "13749         0.300   0.564   10   -10.163     0       0.0341      0.000906   \n",
       "\n",
       "       instrumentalness  liveness  valence  ...                      id  \\\n",
       "0              0.000000    0.3590   0.5890  ...  3Wrjm47oTz2sjIgck11l5e   \n",
       "1              0.020800    0.1200   0.7440  ...  4g3Ax56IslQkI6XVfYKVc5   \n",
       "2              0.000000    0.0971   0.2400  ...  3n3Ppam7vgaVa1iaRUc9Lp   \n",
       "3              0.000000    0.1800   0.6710  ...  1QFh8OH1e78dGd3VyJZCAC   \n",
       "4              0.000003    0.1120   0.6870  ...  1H6A86dQ7BMdbxofxpQvcK   \n",
       "...                 ...       ...      ...  ...                     ...   \n",
       "13745          0.033400    0.0946   0.6110  ...  5vFKQF10Jhyysg3JUbfBUd   \n",
       "13746          0.000002    0.2690   0.5370  ...  6IVJFZI4fejlJ9XTa3CG5G   \n",
       "13747          0.000000    0.8510   0.5070  ...  0Yb0L5qlyMDyAZor9d57iS   \n",
       "13748          0.000000    0.2080   0.6860  ...  5esJb63Nbi1LeG0v4NyKTt   \n",
       "13749          0.811000    0.0924   0.0405  ...  63Cg39cB5xAmjObaKPAd9z   \n",
       "\n",
       "                                        uri  \\\n",
       "0      spotify:track:3Wrjm47oTz2sjIgck11l5e   \n",
       "1      spotify:track:4g3Ax56IslQkI6XVfYKVc5   \n",
       "2      spotify:track:3n3Ppam7vgaVa1iaRUc9Lp   \n",
       "3      spotify:track:1QFh8OH1e78dGd3VyJZCAC   \n",
       "4      spotify:track:1H6A86dQ7BMdbxofxpQvcK   \n",
       "...                                     ...   \n",
       "13745  spotify:track:5vFKQF10Jhyysg3JUbfBUd   \n",
       "13746  spotify:track:6IVJFZI4fejlJ9XTa3CG5G   \n",
       "13747  spotify:track:0Yb0L5qlyMDyAZor9d57iS   \n",
       "13748  spotify:track:5esJb63Nbi1LeG0v4NyKTt   \n",
       "13749  spotify:track:63Cg39cB5xAmjObaKPAd9z   \n",
       "\n",
       "                                              track_href  \\\n",
       "0      https://api.spotify.com/v1/tracks/3Wrjm47oTz2s...   \n",
       "1      https://api.spotify.com/v1/tracks/4g3Ax56IslQk...   \n",
       "2      https://api.spotify.com/v1/tracks/3n3Ppam7vgaV...   \n",
       "3      https://api.spotify.com/v1/tracks/1QFh8OH1e78d...   \n",
       "4      https://api.spotify.com/v1/tracks/1H6A86dQ7BMd...   \n",
       "...                                                  ...   \n",
       "13745  https://api.spotify.com/v1/tracks/5vFKQF10Jhyy...   \n",
       "13746  https://api.spotify.com/v1/tracks/6IVJFZI4fejl...   \n",
       "13747  https://api.spotify.com/v1/tracks/0Yb0L5qlyMDy...   \n",
       "13748  https://api.spotify.com/v1/tracks/5esJb63Nbi1L...   \n",
       "13749  https://api.spotify.com/v1/tracks/63Cg39cB5xAm...   \n",
       "\n",
       "                                            analysis_url duration_ms  \\\n",
       "0      https://api.spotify.com/v1/audio-analysis/3Wrj...      211560   \n",
       "1      https://api.spotify.com/v1/audio-analysis/4g3A...      216319   \n",
       "2      https://api.spotify.com/v1/audio-analysis/3n3P...      222200   \n",
       "3      https://api.spotify.com/v1/audio-analysis/1QFh...      155973   \n",
       "4      https://api.spotify.com/v1/audio-analysis/1H6A...      174118   \n",
       "...                                                  ...         ...   \n",
       "13745  https://api.spotify.com/v1/audio-analysis/5vFK...      194227   \n",
       "13746  https://api.spotify.com/v1/audio-analysis/6IVJ...      212880   \n",
       "13747  https://api.spotify.com/v1/audio-analysis/0Yb0...      179773   \n",
       "13748  https://api.spotify.com/v1/audio-analysis/5esJ...      241320   \n",
       "13749  https://api.spotify.com/v1/audio-analysis/63Cg...      315987   \n",
       "\n",
       "      time_signature                   song_name                 song_ID  \\\n",
       "0                  4                     Beggin'  3Wrjm47oTz2sjIgck11l5e   \n",
       "1                  4  The Less I Know The Better  4g3Ax56IslQkI6XVfYKVc5   \n",
       "2                  4              Mr. Brightside  3n3Ppam7vgaVa1iaRUc9Lp   \n",
       "3                  4              Boys Don't Cry  1QFh8OH1e78dGd3VyJZCAC   \n",
       "4                  4                  wake me up  1H6A86dQ7BMdbxofxpQvcK   \n",
       "...              ...                         ...                     ...   \n",
       "13745              4                 Summer Skin  5vFKQF10Jhyysg3JUbfBUd   \n",
       "13746              4                  Take on Me  6IVJFZI4fejlJ9XTa3CG5G   \n",
       "13747              4                      Shiver  0Yb0L5qlyMDyAZor9d57iS   \n",
       "13748              4                  Matkustaja  5esJb63Nbi1LeG0v4NyKTt   \n",
       "13749              4               Special Needs  63Cg39cB5xAmjObaKPAd9z   \n",
       "\n",
       "               song_artist  Genre  \n",
       "0                 Måneskin  Indie  \n",
       "1              Tame Impala  Indie  \n",
       "2              The Killers  Indie  \n",
       "3                 The Cure  Indie  \n",
       "4                     Ruby  Indie  \n",
       "...                    ...    ...  \n",
       "13745  Death Cab for Cutie  Other  \n",
       "13746                   A1  Other  \n",
       "13747             Maroon 5  Other  \n",
       "13748            Egotrippi  Other  \n",
       "13749              Placebo  Other  \n",
       "\n",
       "[13750 rows x 22 columns]"
      ]
     },
     "execution_count": 228,
     "metadata": {},
     "output_type": "execute_result"
    }
   ],
   "source": [
    "all_df3"
   ]
  },
  {
   "cell_type": "markdown",
   "id": "9e3d2118",
   "metadata": {},
   "source": [
    "### Cleaning all_df3"
   ]
  },
  {
   "cell_type": "code",
   "execution_count": 229,
   "id": "e6a81a4e",
   "metadata": {},
   "outputs": [],
   "source": [
    "# deleting the categorical colummns instead of song ID\n",
    "all_df_4 = all_df3.drop(['song_name', 'song_ID','song_artist','Genre','type','id', 'uri', 'track_href',\n",
    "                             'analysis_url'], axis=1)"
   ]
  },
  {
   "cell_type": "code",
   "execution_count": 230,
   "id": "e00987a4",
   "metadata": {},
   "outputs": [
    {
     "name": "stdout",
     "output_type": "stream",
     "text": [
      "<class 'pandas.core.frame.DataFrame'>\n",
      "RangeIndex: 13750 entries, 0 to 13749\n",
      "Data columns (total 13 columns):\n",
      " #   Column            Non-Null Count  Dtype  \n",
      "---  ------            --------------  -----  \n",
      " 0   danceability      13750 non-null  float64\n",
      " 1   energy            13750 non-null  float64\n",
      " 2   key               13750 non-null  int64  \n",
      " 3   loudness          13750 non-null  float64\n",
      " 4   mode              13750 non-null  int64  \n",
      " 5   speechiness       13750 non-null  float64\n",
      " 6   acousticness      13750 non-null  float64\n",
      " 7   instrumentalness  13750 non-null  float64\n",
      " 8   liveness          13750 non-null  float64\n",
      " 9   valence           13750 non-null  float64\n",
      " 10  tempo             13750 non-null  float64\n",
      " 11  duration_ms       13750 non-null  int64  \n",
      " 12  time_signature    13750 non-null  int64  \n",
      "dtypes: float64(9), int64(4)\n",
      "memory usage: 1.4 MB\n"
     ]
    }
   ],
   "source": [
    "all_df_4.info()"
   ]
  },
  {
   "cell_type": "code",
   "execution_count": null,
   "id": "e8d40926",
   "metadata": {},
   "outputs": [],
   "source": []
  },
  {
   "cell_type": "code",
   "execution_count": null,
   "id": "8d682795",
   "metadata": {},
   "outputs": [],
   "source": []
  },
  {
   "cell_type": "markdown",
   "id": "ba319df5",
   "metadata": {},
   "source": [
    "# CLUSTERING  1"
   ]
  },
  {
   "cell_type": "code",
   "execution_count": 231,
   "id": "e1933674",
   "metadata": {},
   "outputs": [],
   "source": [
    "import numpy as np \n",
    "import pandas as pd \n",
    "import matplotlib.pyplot as plt \n",
    "import plotly \n",
    "import plotly.graph_objs as go\n",
    "from sklearn.cluster import KMeans \n",
    "from sklearn import datasets "
   ]
  },
  {
   "cell_type": "code",
   "execution_count": 232,
   "id": "8ca39639",
   "metadata": {},
   "outputs": [],
   "source": [
    "kmeans=KMeans(n_clusters=40)\n",
    "#have to set a starting cluster number "
   ]
  },
  {
   "cell_type": "code",
   "execution_count": 233,
   "id": "2b3d156d",
   "metadata": {},
   "outputs": [],
   "source": [
    "cluster=kmeans.fit(all_df_4)"
   ]
  },
  {
   "cell_type": "raw",
   "id": "98653366",
   "metadata": {},
   "source": [
    "# explore the cluster\n",
    "cluster.cluster_centers_"
   ]
  },
  {
   "cell_type": "code",
   "execution_count": 234,
   "id": "299503ba",
   "metadata": {},
   "outputs": [
    {
     "data": {
      "text/plain": [
       "array([ 8,  8, 31, ...,  6,  0,  5], dtype=int32)"
      ]
     },
     "execution_count": 234,
     "metadata": {},
     "output_type": "execute_result"
    }
   ],
   "source": [
    "cluster.labels_"
   ]
  },
  {
   "cell_type": "code",
   "execution_count": 235,
   "id": "58de02a2",
   "metadata": {},
   "outputs": [],
   "source": [
    "#bring cluster into data frame\n",
    "all_df_4_c=all_df_4.copy()\n",
    "all_df_4_c['cluster']=cluster.labels_"
   ]
  },
  {
   "cell_type": "code",
   "execution_count": 236,
   "id": "fbd8dcc5",
   "metadata": {},
   "outputs": [
    {
     "data": {
      "text/html": [
       "<div>\n",
       "<style scoped>\n",
       "    .dataframe tbody tr th:only-of-type {\n",
       "        vertical-align: middle;\n",
       "    }\n",
       "\n",
       "    .dataframe tbody tr th {\n",
       "        vertical-align: top;\n",
       "    }\n",
       "\n",
       "    .dataframe thead th {\n",
       "        text-align: right;\n",
       "    }\n",
       "</style>\n",
       "<table border=\"1\" class=\"dataframe\">\n",
       "  <thead>\n",
       "    <tr style=\"text-align: right;\">\n",
       "      <th></th>\n",
       "      <th>danceability</th>\n",
       "      <th>energy</th>\n",
       "      <th>key</th>\n",
       "      <th>loudness</th>\n",
       "      <th>mode</th>\n",
       "      <th>speechiness</th>\n",
       "      <th>acousticness</th>\n",
       "      <th>instrumentalness</th>\n",
       "      <th>liveness</th>\n",
       "      <th>valence</th>\n",
       "      <th>tempo</th>\n",
       "      <th>duration_ms</th>\n",
       "      <th>time_signature</th>\n",
       "      <th>cluster</th>\n",
       "    </tr>\n",
       "  </thead>\n",
       "  <tbody>\n",
       "    <tr>\n",
       "      <th>0</th>\n",
       "      <td>0.714</td>\n",
       "      <td>0.800</td>\n",
       "      <td>11</td>\n",
       "      <td>-4.808</td>\n",
       "      <td>0</td>\n",
       "      <td>0.0504</td>\n",
       "      <td>0.12700</td>\n",
       "      <td>0.000000</td>\n",
       "      <td>0.3590</td>\n",
       "      <td>0.589</td>\n",
       "      <td>134.002</td>\n",
       "      <td>211560</td>\n",
       "      <td>4</td>\n",
       "      <td>8</td>\n",
       "    </tr>\n",
       "    <tr>\n",
       "      <th>1</th>\n",
       "      <td>0.640</td>\n",
       "      <td>0.755</td>\n",
       "      <td>1</td>\n",
       "      <td>-4.077</td>\n",
       "      <td>0</td>\n",
       "      <td>0.0287</td>\n",
       "      <td>0.01380</td>\n",
       "      <td>0.020800</td>\n",
       "      <td>0.1200</td>\n",
       "      <td>0.744</td>\n",
       "      <td>116.883</td>\n",
       "      <td>216319</td>\n",
       "      <td>4</td>\n",
       "      <td>8</td>\n",
       "    </tr>\n",
       "    <tr>\n",
       "      <th>2</th>\n",
       "      <td>0.355</td>\n",
       "      <td>0.918</td>\n",
       "      <td>1</td>\n",
       "      <td>-4.360</td>\n",
       "      <td>1</td>\n",
       "      <td>0.0746</td>\n",
       "      <td>0.00119</td>\n",
       "      <td>0.000000</td>\n",
       "      <td>0.0971</td>\n",
       "      <td>0.240</td>\n",
       "      <td>148.114</td>\n",
       "      <td>222200</td>\n",
       "      <td>4</td>\n",
       "      <td>31</td>\n",
       "    </tr>\n",
       "    <tr>\n",
       "      <th>3</th>\n",
       "      <td>0.462</td>\n",
       "      <td>0.836</td>\n",
       "      <td>11</td>\n",
       "      <td>-5.766</td>\n",
       "      <td>0</td>\n",
       "      <td>0.0621</td>\n",
       "      <td>0.00517</td>\n",
       "      <td>0.000000</td>\n",
       "      <td>0.1800</td>\n",
       "      <td>0.671</td>\n",
       "      <td>168.766</td>\n",
       "      <td>155973</td>\n",
       "      <td>4</td>\n",
       "      <td>13</td>\n",
       "    </tr>\n",
       "    <tr>\n",
       "      <th>4</th>\n",
       "      <td>0.808</td>\n",
       "      <td>0.381</td>\n",
       "      <td>1</td>\n",
       "      <td>-9.758</td>\n",
       "      <td>1</td>\n",
       "      <td>0.0584</td>\n",
       "      <td>0.34400</td>\n",
       "      <td>0.000003</td>\n",
       "      <td>0.1120</td>\n",
       "      <td>0.687</td>\n",
       "      <td>102.052</td>\n",
       "      <td>174118</td>\n",
       "      <td>4</td>\n",
       "      <td>27</td>\n",
       "    </tr>\n",
       "  </tbody>\n",
       "</table>\n",
       "</div>"
      ],
      "text/plain": [
       "   danceability  energy  key  loudness  mode  speechiness  acousticness  \\\n",
       "0         0.714   0.800   11    -4.808     0       0.0504       0.12700   \n",
       "1         0.640   0.755    1    -4.077     0       0.0287       0.01380   \n",
       "2         0.355   0.918    1    -4.360     1       0.0746       0.00119   \n",
       "3         0.462   0.836   11    -5.766     0       0.0621       0.00517   \n",
       "4         0.808   0.381    1    -9.758     1       0.0584       0.34400   \n",
       "\n",
       "   instrumentalness  liveness  valence    tempo  duration_ms  time_signature  \\\n",
       "0          0.000000    0.3590    0.589  134.002       211560               4   \n",
       "1          0.020800    0.1200    0.744  116.883       216319               4   \n",
       "2          0.000000    0.0971    0.240  148.114       222200               4   \n",
       "3          0.000000    0.1800    0.671  168.766       155973               4   \n",
       "4          0.000003    0.1120    0.687  102.052       174118               4   \n",
       "\n",
       "   cluster  \n",
       "0        8  \n",
       "1        8  \n",
       "2       31  \n",
       "3       13  \n",
       "4       27  "
      ]
     },
     "execution_count": 236,
     "metadata": {},
     "output_type": "execute_result"
    }
   ],
   "source": [
    "all_df_4_c.head()"
   ]
  },
  {
   "cell_type": "markdown",
   "id": "39280459",
   "metadata": {},
   "source": [
    "# SCALING"
   ]
  },
  {
   "cell_type": "code",
   "execution_count": 237,
   "id": "be440280",
   "metadata": {},
   "outputs": [],
   "source": [
    "from sklearn.preprocessing import StandardScaler "
   ]
  },
  {
   "cell_type": "code",
   "execution_count": 238,
   "id": "3c73cbf7",
   "metadata": {},
   "outputs": [],
   "source": [
    "all_df_4_scaled=StandardScaler().fit_transform(all_df_4)"
   ]
  },
  {
   "cell_type": "code",
   "execution_count": 239,
   "id": "68f18b49",
   "metadata": {},
   "outputs": [
    {
     "data": {
      "text/plain": [
       "(13750, 13)"
      ]
     },
     "execution_count": 239,
     "metadata": {},
     "output_type": "execute_result"
    }
   ],
   "source": [
    "all_df_4_scaled.shape"
   ]
  },
  {
   "cell_type": "code",
   "execution_count": 240,
   "id": "beb01eb3",
   "metadata": {},
   "outputs": [],
   "source": [
    "all_df_4_scaled_df=pd.DataFrame(all_df_4_scaled,columns=['danceability','energy','key',\n",
    "                                                         'loudness', 'mode', 'speechiness', 'acousticness', \n",
    "                                                         'instrumentalness', 'liveness', \n",
    "                                                         'valence', 'tempo', 'duration_ms',\n",
    "                                                         'time_signature' ])"
   ]
  },
  {
   "cell_type": "code",
   "execution_count": 241,
   "id": "dfc12cd5",
   "metadata": {},
   "outputs": [
    {
     "data": {
      "text/html": [
       "<div>\n",
       "<style scoped>\n",
       "    .dataframe tbody tr th:only-of-type {\n",
       "        vertical-align: middle;\n",
       "    }\n",
       "\n",
       "    .dataframe tbody tr th {\n",
       "        vertical-align: top;\n",
       "    }\n",
       "\n",
       "    .dataframe thead th {\n",
       "        text-align: right;\n",
       "    }\n",
       "</style>\n",
       "<table border=\"1\" class=\"dataframe\">\n",
       "  <thead>\n",
       "    <tr style=\"text-align: right;\">\n",
       "      <th></th>\n",
       "      <th>danceability</th>\n",
       "      <th>energy</th>\n",
       "      <th>key</th>\n",
       "      <th>loudness</th>\n",
       "      <th>mode</th>\n",
       "      <th>speechiness</th>\n",
       "      <th>acousticness</th>\n",
       "      <th>instrumentalness</th>\n",
       "      <th>liveness</th>\n",
       "      <th>valence</th>\n",
       "      <th>tempo</th>\n",
       "      <th>duration_ms</th>\n",
       "      <th>time_signature</th>\n",
       "    </tr>\n",
       "  </thead>\n",
       "  <tbody>\n",
       "    <tr>\n",
       "      <th>0</th>\n",
       "      <td>0.937363</td>\n",
       "      <td>0.483607</td>\n",
       "      <td>1.614178</td>\n",
       "      <td>0.765359</td>\n",
       "      <td>-1.334808</td>\n",
       "      <td>-0.271161</td>\n",
       "      <td>-0.270325</td>\n",
       "      <td>-0.511245</td>\n",
       "      <td>0.941280</td>\n",
       "      <td>0.412786</td>\n",
       "      <td>0.394407</td>\n",
       "      <td>-0.455977</td>\n",
       "      <td>0.199479</td>\n",
       "    </tr>\n",
       "    <tr>\n",
       "      <th>1</th>\n",
       "      <td>0.492057</td>\n",
       "      <td>0.284638</td>\n",
       "      <td>-1.210433</td>\n",
       "      <td>0.964399</td>\n",
       "      <td>-1.334808</td>\n",
       "      <td>-0.582961</td>\n",
       "      <td>-0.685633</td>\n",
       "      <td>-0.440224</td>\n",
       "      <td>-0.442356</td>\n",
       "      <td>1.029076</td>\n",
       "      <td>-0.216740</td>\n",
       "      <td>-0.401066</td>\n",
       "      <td>0.199479</td>\n",
       "    </tr>\n",
       "    <tr>\n",
       "      <th>2</th>\n",
       "      <td>-1.222975</td>\n",
       "      <td>1.005350</td>\n",
       "      <td>-1.210433</td>\n",
       "      <td>0.887342</td>\n",
       "      <td>0.749172</td>\n",
       "      <td>0.076560</td>\n",
       "      <td>-0.731896</td>\n",
       "      <td>-0.511245</td>\n",
       "      <td>-0.574930</td>\n",
       "      <td>-0.974860</td>\n",
       "      <td>0.898204</td>\n",
       "      <td>-0.333209</td>\n",
       "      <td>0.199479</td>\n",
       "    </tr>\n",
       "    <tr>\n",
       "      <th>3</th>\n",
       "      <td>-0.579086</td>\n",
       "      <td>0.642783</td>\n",
       "      <td>1.614178</td>\n",
       "      <td>0.504510</td>\n",
       "      <td>-1.334808</td>\n",
       "      <td>-0.103048</td>\n",
       "      <td>-0.717295</td>\n",
       "      <td>-0.511245</td>\n",
       "      <td>-0.095000</td>\n",
       "      <td>0.738823</td>\n",
       "      <td>1.635479</td>\n",
       "      <td>-1.097364</td>\n",
       "      <td>0.199479</td>\n",
       "    </tr>\n",
       "    <tr>\n",
       "      <th>4</th>\n",
       "      <td>1.503023</td>\n",
       "      <td>-1.369022</td>\n",
       "      <td>-1.210433</td>\n",
       "      <td>-0.582451</td>\n",
       "      <td>0.749172</td>\n",
       "      <td>-0.156212</td>\n",
       "      <td>0.525804</td>\n",
       "      <td>-0.511233</td>\n",
       "      <td>-0.488670</td>\n",
       "      <td>0.802440</td>\n",
       "      <td>-0.746206</td>\n",
       "      <td>-0.887999</td>\n",
       "      <td>0.199479</td>\n",
       "    </tr>\n",
       "  </tbody>\n",
       "</table>\n",
       "</div>"
      ],
      "text/plain": [
       "   danceability    energy       key  loudness      mode  speechiness  \\\n",
       "0      0.937363  0.483607  1.614178  0.765359 -1.334808    -0.271161   \n",
       "1      0.492057  0.284638 -1.210433  0.964399 -1.334808    -0.582961   \n",
       "2     -1.222975  1.005350 -1.210433  0.887342  0.749172     0.076560   \n",
       "3     -0.579086  0.642783  1.614178  0.504510 -1.334808    -0.103048   \n",
       "4      1.503023 -1.369022 -1.210433 -0.582451  0.749172    -0.156212   \n",
       "\n",
       "   acousticness  instrumentalness  liveness   valence     tempo  duration_ms  \\\n",
       "0     -0.270325         -0.511245  0.941280  0.412786  0.394407    -0.455977   \n",
       "1     -0.685633         -0.440224 -0.442356  1.029076 -0.216740    -0.401066   \n",
       "2     -0.731896         -0.511245 -0.574930 -0.974860  0.898204    -0.333209   \n",
       "3     -0.717295         -0.511245 -0.095000  0.738823  1.635479    -1.097364   \n",
       "4      0.525804         -0.511233 -0.488670  0.802440 -0.746206    -0.887999   \n",
       "\n",
       "   time_signature  \n",
       "0        0.199479  \n",
       "1        0.199479  \n",
       "2        0.199479  \n",
       "3        0.199479  \n",
       "4        0.199479  "
      ]
     },
     "execution_count": 241,
     "metadata": {},
     "output_type": "execute_result"
    }
   ],
   "source": [
    "all_df_4_scaled_df.head()"
   ]
  },
  {
   "cell_type": "code",
   "execution_count": 242,
   "id": "f533b9c6",
   "metadata": {},
   "outputs": [
    {
     "data": {
      "text/html": [
       "<div>\n",
       "<style scoped>\n",
       "    .dataframe tbody tr th:only-of-type {\n",
       "        vertical-align: middle;\n",
       "    }\n",
       "\n",
       "    .dataframe tbody tr th {\n",
       "        vertical-align: top;\n",
       "    }\n",
       "\n",
       "    .dataframe thead th {\n",
       "        text-align: right;\n",
       "    }\n",
       "</style>\n",
       "<table border=\"1\" class=\"dataframe\">\n",
       "  <thead>\n",
       "    <tr style=\"text-align: right;\">\n",
       "      <th></th>\n",
       "      <th>danceability</th>\n",
       "      <th>energy</th>\n",
       "      <th>key</th>\n",
       "      <th>loudness</th>\n",
       "      <th>mode</th>\n",
       "      <th>speechiness</th>\n",
       "      <th>acousticness</th>\n",
       "      <th>instrumentalness</th>\n",
       "      <th>liveness</th>\n",
       "      <th>valence</th>\n",
       "      <th>tempo</th>\n",
       "      <th>duration_ms</th>\n",
       "      <th>time_signature</th>\n",
       "    </tr>\n",
       "  </thead>\n",
       "  <tbody>\n",
       "    <tr>\n",
       "      <th>count</th>\n",
       "      <td>1.375000e+04</td>\n",
       "      <td>1.375000e+04</td>\n",
       "      <td>1.375000e+04</td>\n",
       "      <td>1.375000e+04</td>\n",
       "      <td>1.375000e+04</td>\n",
       "      <td>1.375000e+04</td>\n",
       "      <td>1.375000e+04</td>\n",
       "      <td>1.375000e+04</td>\n",
       "      <td>1.375000e+04</td>\n",
       "      <td>1.375000e+04</td>\n",
       "      <td>1.375000e+04</td>\n",
       "      <td>1.375000e+04</td>\n",
       "      <td>1.375000e+04</td>\n",
       "    </tr>\n",
       "    <tr>\n",
       "      <th>mean</th>\n",
       "      <td>1.292687e-15</td>\n",
       "      <td>3.200511e-16</td>\n",
       "      <td>8.646659e-16</td>\n",
       "      <td>-2.334779e-16</td>\n",
       "      <td>3.666255e-15</td>\n",
       "      <td>-1.222456e-16</td>\n",
       "      <td>-2.250806e-16</td>\n",
       "      <td>-6.653748e-15</td>\n",
       "      <td>-4.036206e-16</td>\n",
       "      <td>-5.227334e-17</td>\n",
       "      <td>1.255400e-16</td>\n",
       "      <td>1.014703e-16</td>\n",
       "      <td>1.462297e-14</td>\n",
       "    </tr>\n",
       "    <tr>\n",
       "      <th>std</th>\n",
       "      <td>1.000036e+00</td>\n",
       "      <td>1.000036e+00</td>\n",
       "      <td>1.000036e+00</td>\n",
       "      <td>1.000036e+00</td>\n",
       "      <td>1.000036e+00</td>\n",
       "      <td>1.000036e+00</td>\n",
       "      <td>1.000036e+00</td>\n",
       "      <td>1.000036e+00</td>\n",
       "      <td>1.000036e+00</td>\n",
       "      <td>1.000036e+00</td>\n",
       "      <td>1.000036e+00</td>\n",
       "      <td>1.000036e+00</td>\n",
       "      <td>1.000036e+00</td>\n",
       "    </tr>\n",
       "    <tr>\n",
       "      <th>min</th>\n",
       "      <td>-2.980131e+00</td>\n",
       "      <td>-3.053544e+00</td>\n",
       "      <td>-1.492894e+00</td>\n",
       "      <td>-7.315511e+00</td>\n",
       "      <td>-1.334808e+00</td>\n",
       "      <td>-6.720469e-01</td>\n",
       "      <td>-7.362623e-01</td>\n",
       "      <td>-5.112447e-01</td>\n",
       "      <td>-1.058334e+00</td>\n",
       "      <td>-1.821364e+00</td>\n",
       "      <td>-2.775389e+00</td>\n",
       "      <td>-2.486428e+00</td>\n",
       "      <td>-1.264756e+01</td>\n",
       "    </tr>\n",
       "    <tr>\n",
       "      <th>25%</th>\n",
       "      <td>-6.934215e-01</td>\n",
       "      <td>-6.659957e-01</td>\n",
       "      <td>-9.279720e-01</td>\n",
       "      <td>-5.523636e-01</td>\n",
       "      <td>-1.334808e+00</td>\n",
       "      <td>-5.082441e-01</td>\n",
       "      <td>-7.203397e-01</td>\n",
       "      <td>-5.112447e-01</td>\n",
       "      <td>-5.944690e-01</td>\n",
       "      <td>-7.999133e-01</td>\n",
       "      <td>-7.500254e-01</td>\n",
       "      <td>-5.838231e-01</td>\n",
       "      <td>1.994794e-01</td>\n",
       "    </tr>\n",
       "    <tr>\n",
       "      <th>50%</th>\n",
       "      <td>4.073253e-02</td>\n",
       "      <td>1.917850e-01</td>\n",
       "      <td>-8.058872e-02</td>\n",
       "      <td>2.092171e-01</td>\n",
       "      <td>7.491716e-01</td>\n",
       "      <td>-3.501889e-01</td>\n",
       "      <td>-5.234721e-01</td>\n",
       "      <td>-5.102955e-01</td>\n",
       "      <td>-4.134095e-01</td>\n",
       "      <td>-3.253302e-02</td>\n",
       "      <td>-3.434903e-02</td>\n",
       "      <td>-1.807456e-01</td>\n",
       "      <td>1.994794e-01</td>\n",
       "    </tr>\n",
       "    <tr>\n",
       "      <th>75%</th>\n",
       "      <td>7.447983e-01</td>\n",
       "      <td>8.329098e-01</td>\n",
       "      <td>7.667946e-01</td>\n",
       "      <td>7.433038e-01</td>\n",
       "      <td>7.491716e-01</td>\n",
       "      <td>4.638622e-02</td>\n",
       "      <td>4.047333e-01</td>\n",
       "      <td>-2.695002e-01</td>\n",
       "      <td>3.218279e-01</td>\n",
       "      <td>7.984643e-01</td>\n",
       "      <td>6.054650e-01</td>\n",
       "      <td>3.394006e-01</td>\n",
       "      <td>1.994794e-01</td>\n",
       "    </tr>\n",
       "    <tr>\n",
       "      <th>max</th>\n",
       "      <td>2.526025e+00</td>\n",
       "      <td>1.363496e+00</td>\n",
       "      <td>1.614178e+00</td>\n",
       "      <td>2.421668e+00</td>\n",
       "      <td>7.491716e-01</td>\n",
       "      <td>1.271236e+01</td>\n",
       "      <td>2.917859e+00</td>\n",
       "      <td>2.858838e+00</td>\n",
       "      <td>4.640624e+00</td>\n",
       "      <td>2.011164e+00</td>\n",
       "      <td>3.464279e+00</td>\n",
       "      <td>1.665951e+01</td>\n",
       "      <td>3.411239e+00</td>\n",
       "    </tr>\n",
       "  </tbody>\n",
       "</table>\n",
       "</div>"
      ],
      "text/plain": [
       "       danceability        energy           key      loudness          mode  \\\n",
       "count  1.375000e+04  1.375000e+04  1.375000e+04  1.375000e+04  1.375000e+04   \n",
       "mean   1.292687e-15  3.200511e-16  8.646659e-16 -2.334779e-16  3.666255e-15   \n",
       "std    1.000036e+00  1.000036e+00  1.000036e+00  1.000036e+00  1.000036e+00   \n",
       "min   -2.980131e+00 -3.053544e+00 -1.492894e+00 -7.315511e+00 -1.334808e+00   \n",
       "25%   -6.934215e-01 -6.659957e-01 -9.279720e-01 -5.523636e-01 -1.334808e+00   \n",
       "50%    4.073253e-02  1.917850e-01 -8.058872e-02  2.092171e-01  7.491716e-01   \n",
       "75%    7.447983e-01  8.329098e-01  7.667946e-01  7.433038e-01  7.491716e-01   \n",
       "max    2.526025e+00  1.363496e+00  1.614178e+00  2.421668e+00  7.491716e-01   \n",
       "\n",
       "        speechiness  acousticness  instrumentalness      liveness  \\\n",
       "count  1.375000e+04  1.375000e+04      1.375000e+04  1.375000e+04   \n",
       "mean  -1.222456e-16 -2.250806e-16     -6.653748e-15 -4.036206e-16   \n",
       "std    1.000036e+00  1.000036e+00      1.000036e+00  1.000036e+00   \n",
       "min   -6.720469e-01 -7.362623e-01     -5.112447e-01 -1.058334e+00   \n",
       "25%   -5.082441e-01 -7.203397e-01     -5.112447e-01 -5.944690e-01   \n",
       "50%   -3.501889e-01 -5.234721e-01     -5.102955e-01 -4.134095e-01   \n",
       "75%    4.638622e-02  4.047333e-01     -2.695002e-01  3.218279e-01   \n",
       "max    1.271236e+01  2.917859e+00      2.858838e+00  4.640624e+00   \n",
       "\n",
       "            valence         tempo   duration_ms  time_signature  \n",
       "count  1.375000e+04  1.375000e+04  1.375000e+04    1.375000e+04  \n",
       "mean  -5.227334e-17  1.255400e-16  1.014703e-16    1.462297e-14  \n",
       "std    1.000036e+00  1.000036e+00  1.000036e+00    1.000036e+00  \n",
       "min   -1.821364e+00 -2.775389e+00 -2.486428e+00   -1.264756e+01  \n",
       "25%   -7.999133e-01 -7.500254e-01 -5.838231e-01    1.994794e-01  \n",
       "50%   -3.253302e-02 -3.434903e-02 -1.807456e-01    1.994794e-01  \n",
       "75%    7.984643e-01  6.054650e-01  3.394006e-01    1.994794e-01  \n",
       "max    2.011164e+00  3.464279e+00  1.665951e+01    3.411239e+00  "
      ]
     },
     "execution_count": 242,
     "metadata": {},
     "output_type": "execute_result"
    }
   ],
   "source": [
    "all_df_4_scaled_df.describe()"
   ]
  },
  {
   "cell_type": "code",
   "execution_count": 243,
   "id": "3a66412d",
   "metadata": {},
   "outputs": [
    {
     "data": {
      "image/png": "[encoded data removed]",
      "text/plain": [
       "<Figure size 1080x1080 with 16 Axes>"
      ]
     },
     "metadata": {
      "needs_background": "light"
     },
     "output_type": "display_data"
    }
   ],
   "source": [
    "all_df_4_scaled_df.hist(bins=15, figsize=(15,15));"
   ]
  },
  {
   "cell_type": "markdown",
   "id": "fc2288df",
   "metadata": {},
   "source": [
    "# FINDING THE OPTIMAL K"
   ]
  },
  {
   "cell_type": "code",
   "execution_count": 244,
   "id": "54eeaf21",
   "metadata": {},
   "outputs": [
    {
     "data": {
      "text/plain": [
       "215198821294.42477"
      ]
     },
     "execution_count": 244,
     "metadata": {},
     "output_type": "execute_result"
    }
   ],
   "source": [
    "kmeans.inertia_"
   ]
  },
  {
   "cell_type": "code",
   "execution_count": 245,
   "id": "b1fef011",
   "metadata": {},
   "outputs": [
    {
     "name": "stdout",
     "output_type": "stream",
     "text": [
      "13373120618713.855\n"
     ]
    }
   ],
   "source": [
    "kmeans=KMeans(n_clusters=5)\n",
    "kmeans.fit(all_df_4)\n",
    "print(kmeans.inertia_)"
   ]
  },
  {
   "cell_type": "code",
   "execution_count": 246,
   "id": "badae2f1",
   "metadata": {},
   "outputs": [],
   "source": [
    "K= range(16,50)"
   ]
  },
  {
   "cell_type": "code",
   "execution_count": 247,
   "id": "3890acb3",
   "metadata": {},
   "outputs": [
    {
     "name": "stdout",
     "output_type": "stream",
     "text": [
      "[1406255321875.5046, 1244939198448.4502, 1119581344320.2976, 1018413122650.9279, 931139360468.0786, 835827743805.1057, 765357218145.1781, 691928789043.6183, 636293081903.8818, 582718276778.7559, 539474585003.77484, 501988836010.61816, 462060476529.05707, 424230344651.1177, 394681616007.8968, 364615875787.8648, 342713028422.61334, 319710291362.78894, 299016651665.44385, 285536978521.3755, 270966073058.41235, 255317418513.03708, 243985670217.67606, 229351366170.38672, 219746215712.65128, 206963222731.80264, 195071880468.0112, 188735852027.8908, 177684837052.55975, 173136421076.54706, 165372997321.40942, 158790751470.15015, 148793235515.918, 145612588709.51746]\n"
     ]
    }
   ],
   "source": [
    "inertia = []\n",
    "for k in K:\n",
    "    kmeans=KMeans(n_clusters=k,random_state=40)\n",
    "    kmeans.fit(all_df_4)\n",
    "    inertia.append(kmeans.inertia_)\n",
    "    \n",
    "print(inertia)"
   ]
  },
  {
   "cell_type": "code",
   "execution_count": 248,
   "id": "25cfa859",
   "metadata": {},
   "outputs": [
    {
     "data": {
      "image/png": "[encoded data removed]",
      "text/plain": [
       "<Figure size 1152x576 with 1 Axes>"
      ]
     },
     "metadata": {
      "needs_background": "light"
     },
     "output_type": "display_data"
    }
   ],
   "source": [
    "# plot the results\n",
    "\n",
    "plt.figure(figsize=(16,8))\n",
    "plt.plot(K, inertia, 'bx-')\n",
    "plt.xlabel('k')\n",
    "plt.ylabel('inertia')\n",
    "plt.xticks(np.arange(min(K),max(K)+1,1.0))\n",
    "plt.title('elbow method, optimal k by inertia');"
   ]
  },
  {
   "cell_type": "markdown",
   "id": "badbfa50",
   "metadata": {},
   "source": [
    "# CLUSTERING  2"
   ]
  },
  {
   "cell_type": "code",
   "execution_count": 249,
   "id": "1daeba23",
   "metadata": {},
   "outputs": [],
   "source": [
    "kmeans=KMeans(n_clusters=28)\n",
    "#have to set a starting cluster number "
   ]
  },
  {
   "cell_type": "code",
   "execution_count": 250,
   "id": "db7d1881",
   "metadata": {},
   "outputs": [],
   "source": [
    "cluster_2=kmeans.fit(all_df_4)"
   ]
  },
  {
   "cell_type": "raw",
   "id": "a95d08e0",
   "metadata": {},
   "source": [
    "# explore the cluster\n",
    "cluster_2.cluster_centers_"
   ]
  },
  {
   "cell_type": "code",
   "execution_count": 251,
   "id": "6b333b96",
   "metadata": {},
   "outputs": [
    {
     "data": {
      "text/plain": [
       "array([ 1,  1,  1, ..., 14,  8, 22], dtype=int32)"
      ]
     },
     "execution_count": 251,
     "metadata": {},
     "output_type": "execute_result"
    }
   ],
   "source": [
    "cluster_2.labels_"
   ]
  },
  {
   "cell_type": "code",
   "execution_count": 252,
   "id": "e321c661",
   "metadata": {},
   "outputs": [],
   "source": [
    "#bring cluster into data frame\n",
    "all_df_4_copy=all_df_4.copy()\n",
    "all_df_4_copy['cluster']=cluster_2.labels_"
   ]
  },
  {
   "cell_type": "code",
   "execution_count": 253,
   "id": "4317561b",
   "metadata": {},
   "outputs": [
    {
     "data": {
      "text/html": [
       "<div>\n",
       "<style scoped>\n",
       "    .dataframe tbody tr th:only-of-type {\n",
       "        vertical-align: middle;\n",
       "    }\n",
       "\n",
       "    .dataframe tbody tr th {\n",
       "        vertical-align: top;\n",
       "    }\n",
       "\n",
       "    .dataframe thead th {\n",
       "        text-align: right;\n",
       "    }\n",
       "</style>\n",
       "<table border=\"1\" class=\"dataframe\">\n",
       "  <thead>\n",
       "    <tr style=\"text-align: right;\">\n",
       "      <th></th>\n",
       "      <th>danceability</th>\n",
       "      <th>energy</th>\n",
       "      <th>key</th>\n",
       "      <th>loudness</th>\n",
       "      <th>mode</th>\n",
       "      <th>speechiness</th>\n",
       "      <th>acousticness</th>\n",
       "      <th>instrumentalness</th>\n",
       "      <th>liveness</th>\n",
       "      <th>valence</th>\n",
       "      <th>tempo</th>\n",
       "      <th>duration_ms</th>\n",
       "      <th>time_signature</th>\n",
       "      <th>cluster</th>\n",
       "    </tr>\n",
       "  </thead>\n",
       "  <tbody>\n",
       "    <tr>\n",
       "      <th>0</th>\n",
       "      <td>0.714</td>\n",
       "      <td>0.800</td>\n",
       "      <td>11</td>\n",
       "      <td>-4.808</td>\n",
       "      <td>0</td>\n",
       "      <td>0.0504</td>\n",
       "      <td>0.12700</td>\n",
       "      <td>0.000000</td>\n",
       "      <td>0.3590</td>\n",
       "      <td>0.589</td>\n",
       "      <td>134.002</td>\n",
       "      <td>211560</td>\n",
       "      <td>4</td>\n",
       "      <td>1</td>\n",
       "    </tr>\n",
       "    <tr>\n",
       "      <th>1</th>\n",
       "      <td>0.640</td>\n",
       "      <td>0.755</td>\n",
       "      <td>1</td>\n",
       "      <td>-4.077</td>\n",
       "      <td>0</td>\n",
       "      <td>0.0287</td>\n",
       "      <td>0.01380</td>\n",
       "      <td>0.020800</td>\n",
       "      <td>0.1200</td>\n",
       "      <td>0.744</td>\n",
       "      <td>116.883</td>\n",
       "      <td>216319</td>\n",
       "      <td>4</td>\n",
       "      <td>1</td>\n",
       "    </tr>\n",
       "    <tr>\n",
       "      <th>2</th>\n",
       "      <td>0.355</td>\n",
       "      <td>0.918</td>\n",
       "      <td>1</td>\n",
       "      <td>-4.360</td>\n",
       "      <td>1</td>\n",
       "      <td>0.0746</td>\n",
       "      <td>0.00119</td>\n",
       "      <td>0.000000</td>\n",
       "      <td>0.0971</td>\n",
       "      <td>0.240</td>\n",
       "      <td>148.114</td>\n",
       "      <td>222200</td>\n",
       "      <td>4</td>\n",
       "      <td>1</td>\n",
       "    </tr>\n",
       "    <tr>\n",
       "      <th>3</th>\n",
       "      <td>0.462</td>\n",
       "      <td>0.836</td>\n",
       "      <td>11</td>\n",
       "      <td>-5.766</td>\n",
       "      <td>0</td>\n",
       "      <td>0.0621</td>\n",
       "      <td>0.00517</td>\n",
       "      <td>0.000000</td>\n",
       "      <td>0.1800</td>\n",
       "      <td>0.671</td>\n",
       "      <td>168.766</td>\n",
       "      <td>155973</td>\n",
       "      <td>4</td>\n",
       "      <td>25</td>\n",
       "    </tr>\n",
       "    <tr>\n",
       "      <th>4</th>\n",
       "      <td>0.808</td>\n",
       "      <td>0.381</td>\n",
       "      <td>1</td>\n",
       "      <td>-9.758</td>\n",
       "      <td>1</td>\n",
       "      <td>0.0584</td>\n",
       "      <td>0.34400</td>\n",
       "      <td>0.000003</td>\n",
       "      <td>0.1120</td>\n",
       "      <td>0.687</td>\n",
       "      <td>102.052</td>\n",
       "      <td>174118</td>\n",
       "      <td>4</td>\n",
       "      <td>14</td>\n",
       "    </tr>\n",
       "  </tbody>\n",
       "</table>\n",
       "</div>"
      ],
      "text/plain": [
       "   danceability  energy  key  loudness  mode  speechiness  acousticness  \\\n",
       "0         0.714   0.800   11    -4.808     0       0.0504       0.12700   \n",
       "1         0.640   0.755    1    -4.077     0       0.0287       0.01380   \n",
       "2         0.355   0.918    1    -4.360     1       0.0746       0.00119   \n",
       "3         0.462   0.836   11    -5.766     0       0.0621       0.00517   \n",
       "4         0.808   0.381    1    -9.758     1       0.0584       0.34400   \n",
       "\n",
       "   instrumentalness  liveness  valence    tempo  duration_ms  time_signature  \\\n",
       "0          0.000000    0.3590    0.589  134.002       211560               4   \n",
       "1          0.020800    0.1200    0.744  116.883       216319               4   \n",
       "2          0.000000    0.0971    0.240  148.114       222200               4   \n",
       "3          0.000000    0.1800    0.671  168.766       155973               4   \n",
       "4          0.000003    0.1120    0.687  102.052       174118               4   \n",
       "\n",
       "   cluster  \n",
       "0        1  \n",
       "1        1  \n",
       "2        1  \n",
       "3       25  \n",
       "4       14  "
      ]
     },
     "execution_count": 253,
     "metadata": {},
     "output_type": "execute_result"
    }
   ],
   "source": [
    "all_df_4_copy.head()"
   ]
  },
  {
   "cell_type": "code",
   "execution_count": 254,
   "id": "a255c4e2",
   "metadata": {},
   "outputs": [
    {
     "data": {
      "text/html": [
       "<div>\n",
       "<style scoped>\n",
       "    .dataframe tbody tr th:only-of-type {\n",
       "        vertical-align: middle;\n",
       "    }\n",
       "\n",
       "    .dataframe tbody tr th {\n",
       "        vertical-align: top;\n",
       "    }\n",
       "\n",
       "    .dataframe thead th {\n",
       "        text-align: right;\n",
       "    }\n",
       "</style>\n",
       "<table border=\"1\" class=\"dataframe\">\n",
       "  <thead>\n",
       "    <tr style=\"text-align: right;\">\n",
       "      <th></th>\n",
       "      <th>danceability</th>\n",
       "      <th>energy</th>\n",
       "      <th>key</th>\n",
       "      <th>loudness</th>\n",
       "      <th>mode</th>\n",
       "      <th>speechiness</th>\n",
       "      <th>acousticness</th>\n",
       "      <th>instrumentalness</th>\n",
       "      <th>liveness</th>\n",
       "      <th>valence</th>\n",
       "      <th>tempo</th>\n",
       "      <th>duration_ms</th>\n",
       "      <th>time_signature</th>\n",
       "      <th>cluster</th>\n",
       "    </tr>\n",
       "  </thead>\n",
       "  <tbody>\n",
       "    <tr>\n",
       "      <th>0</th>\n",
       "      <td>0.714</td>\n",
       "      <td>0.800</td>\n",
       "      <td>11</td>\n",
       "      <td>-4.808</td>\n",
       "      <td>0</td>\n",
       "      <td>0.0504</td>\n",
       "      <td>0.127000</td>\n",
       "      <td>0.000000</td>\n",
       "      <td>0.3590</td>\n",
       "      <td>0.5890</td>\n",
       "      <td>134.002</td>\n",
       "      <td>211560</td>\n",
       "      <td>4</td>\n",
       "      <td>1</td>\n",
       "    </tr>\n",
       "    <tr>\n",
       "      <th>1</th>\n",
       "      <td>0.640</td>\n",
       "      <td>0.755</td>\n",
       "      <td>1</td>\n",
       "      <td>-4.077</td>\n",
       "      <td>0</td>\n",
       "      <td>0.0287</td>\n",
       "      <td>0.013800</td>\n",
       "      <td>0.020800</td>\n",
       "      <td>0.1200</td>\n",
       "      <td>0.7440</td>\n",
       "      <td>116.883</td>\n",
       "      <td>216319</td>\n",
       "      <td>4</td>\n",
       "      <td>1</td>\n",
       "    </tr>\n",
       "    <tr>\n",
       "      <th>2</th>\n",
       "      <td>0.355</td>\n",
       "      <td>0.918</td>\n",
       "      <td>1</td>\n",
       "      <td>-4.360</td>\n",
       "      <td>1</td>\n",
       "      <td>0.0746</td>\n",
       "      <td>0.001190</td>\n",
       "      <td>0.000000</td>\n",
       "      <td>0.0971</td>\n",
       "      <td>0.2400</td>\n",
       "      <td>148.114</td>\n",
       "      <td>222200</td>\n",
       "      <td>4</td>\n",
       "      <td>1</td>\n",
       "    </tr>\n",
       "    <tr>\n",
       "      <th>3</th>\n",
       "      <td>0.462</td>\n",
       "      <td>0.836</td>\n",
       "      <td>11</td>\n",
       "      <td>-5.766</td>\n",
       "      <td>0</td>\n",
       "      <td>0.0621</td>\n",
       "      <td>0.005170</td>\n",
       "      <td>0.000000</td>\n",
       "      <td>0.1800</td>\n",
       "      <td>0.6710</td>\n",
       "      <td>168.766</td>\n",
       "      <td>155973</td>\n",
       "      <td>4</td>\n",
       "      <td>25</td>\n",
       "    </tr>\n",
       "    <tr>\n",
       "      <th>4</th>\n",
       "      <td>0.808</td>\n",
       "      <td>0.381</td>\n",
       "      <td>1</td>\n",
       "      <td>-9.758</td>\n",
       "      <td>1</td>\n",
       "      <td>0.0584</td>\n",
       "      <td>0.344000</td>\n",
       "      <td>0.000003</td>\n",
       "      <td>0.1120</td>\n",
       "      <td>0.6870</td>\n",
       "      <td>102.052</td>\n",
       "      <td>174118</td>\n",
       "      <td>4</td>\n",
       "      <td>14</td>\n",
       "    </tr>\n",
       "    <tr>\n",
       "      <th>...</th>\n",
       "      <td>...</td>\n",
       "      <td>...</td>\n",
       "      <td>...</td>\n",
       "      <td>...</td>\n",
       "      <td>...</td>\n",
       "      <td>...</td>\n",
       "      <td>...</td>\n",
       "      <td>...</td>\n",
       "      <td>...</td>\n",
       "      <td>...</td>\n",
       "      <td>...</td>\n",
       "      <td>...</td>\n",
       "      <td>...</td>\n",
       "      <td>...</td>\n",
       "    </tr>\n",
       "    <tr>\n",
       "      <th>13745</th>\n",
       "      <td>0.615</td>\n",
       "      <td>0.476</td>\n",
       "      <td>2</td>\n",
       "      <td>-12.205</td>\n",
       "      <td>0</td>\n",
       "      <td>0.0337</td>\n",
       "      <td>0.161000</td>\n",
       "      <td>0.033400</td>\n",
       "      <td>0.0946</td>\n",
       "      <td>0.6110</td>\n",
       "      <td>91.584</td>\n",
       "      <td>194227</td>\n",
       "      <td>4</td>\n",
       "      <td>7</td>\n",
       "    </tr>\n",
       "    <tr>\n",
       "      <th>13746</th>\n",
       "      <td>0.562</td>\n",
       "      <td>0.931</td>\n",
       "      <td>9</td>\n",
       "      <td>-4.809</td>\n",
       "      <td>1</td>\n",
       "      <td>0.0469</td>\n",
       "      <td>0.085900</td>\n",
       "      <td>0.000002</td>\n",
       "      <td>0.2690</td>\n",
       "      <td>0.5370</td>\n",
       "      <td>165.080</td>\n",
       "      <td>212880</td>\n",
       "      <td>4</td>\n",
       "      <td>1</td>\n",
       "    </tr>\n",
       "    <tr>\n",
       "      <th>13747</th>\n",
       "      <td>0.620</td>\n",
       "      <td>0.919</td>\n",
       "      <td>0</td>\n",
       "      <td>-4.475</td>\n",
       "      <td>1</td>\n",
       "      <td>0.3570</td>\n",
       "      <td>0.039700</td>\n",
       "      <td>0.000000</td>\n",
       "      <td>0.8510</td>\n",
       "      <td>0.5070</td>\n",
       "      <td>172.021</td>\n",
       "      <td>179773</td>\n",
       "      <td>4</td>\n",
       "      <td>14</td>\n",
       "    </tr>\n",
       "    <tr>\n",
       "      <th>13748</th>\n",
       "      <td>0.488</td>\n",
       "      <td>0.615</td>\n",
       "      <td>9</td>\n",
       "      <td>-4.377</td>\n",
       "      <td>1</td>\n",
       "      <td>0.0295</td>\n",
       "      <td>0.034000</td>\n",
       "      <td>0.000000</td>\n",
       "      <td>0.2080</td>\n",
       "      <td>0.6860</td>\n",
       "      <td>130.050</td>\n",
       "      <td>241320</td>\n",
       "      <td>4</td>\n",
       "      <td>8</td>\n",
       "    </tr>\n",
       "    <tr>\n",
       "      <th>13749</th>\n",
       "      <td>0.300</td>\n",
       "      <td>0.564</td>\n",
       "      <td>10</td>\n",
       "      <td>-10.163</td>\n",
       "      <td>0</td>\n",
       "      <td>0.0341</td>\n",
       "      <td>0.000906</td>\n",
       "      <td>0.811000</td>\n",
       "      <td>0.0924</td>\n",
       "      <td>0.0405</td>\n",
       "      <td>177.936</td>\n",
       "      <td>315987</td>\n",
       "      <td>4</td>\n",
       "      <td>22</td>\n",
       "    </tr>\n",
       "  </tbody>\n",
       "</table>\n",
       "<p>13750 rows × 14 columns</p>\n",
       "</div>"
      ],
      "text/plain": [
       "       danceability  energy  key  loudness  mode  speechiness  acousticness  \\\n",
       "0             0.714   0.800   11    -4.808     0       0.0504      0.127000   \n",
       "1             0.640   0.755    1    -4.077     0       0.0287      0.013800   \n",
       "2             0.355   0.918    1    -4.360     1       0.0746      0.001190   \n",
       "3             0.462   0.836   11    -5.766     0       0.0621      0.005170   \n",
       "4             0.808   0.381    1    -9.758     1       0.0584      0.344000   \n",
       "...             ...     ...  ...       ...   ...          ...           ...   \n",
       "13745         0.615   0.476    2   -12.205     0       0.0337      0.161000   \n",
       "13746         0.562   0.931    9    -4.809     1       0.0469      0.085900   \n",
       "13747         0.620   0.919    0    -4.475     1       0.3570      0.039700   \n",
       "13748         0.488   0.615    9    -4.377     1       0.0295      0.034000   \n",
       "13749         0.300   0.564   10   -10.163     0       0.0341      0.000906   \n",
       "\n",
       "       instrumentalness  liveness  valence    tempo  duration_ms  \\\n",
       "0              0.000000    0.3590   0.5890  134.002       211560   \n",
       "1              0.020800    0.1200   0.7440  116.883       216319   \n",
       "2              0.000000    0.0971   0.2400  148.114       222200   \n",
       "3              0.000000    0.1800   0.6710  168.766       155973   \n",
       "4              0.000003    0.1120   0.6870  102.052       174118   \n",
       "...                 ...       ...      ...      ...          ...   \n",
       "13745          0.033400    0.0946   0.6110   91.584       194227   \n",
       "13746          0.000002    0.2690   0.5370  165.080       212880   \n",
       "13747          0.000000    0.8510   0.5070  172.021       179773   \n",
       "13748          0.000000    0.2080   0.6860  130.050       241320   \n",
       "13749          0.811000    0.0924   0.0405  177.936       315987   \n",
       "\n",
       "       time_signature  cluster  \n",
       "0                   4        1  \n",
       "1                   4        1  \n",
       "2                   4        1  \n",
       "3                   4       25  \n",
       "4                   4       14  \n",
       "...               ...      ...  \n",
       "13745               4        7  \n",
       "13746               4        1  \n",
       "13747               4       14  \n",
       "13748               4        8  \n",
       "13749               4       22  \n",
       "\n",
       "[13750 rows x 14 columns]"
      ]
     },
     "execution_count": 254,
     "metadata": {},
     "output_type": "execute_result"
    }
   ],
   "source": [
    "all_df_4_copy"
   ]
  },
  {
   "cell_type": "markdown",
   "id": "0daa9a6b",
   "metadata": {},
   "source": [
    "### Visually explore the clusters"
   ]
  },
  {
   "cell_type": "code",
   "execution_count": 255,
   "id": "1a2b250e",
   "metadata": {},
   "outputs": [
    {
     "data": {
      "text/plain": [
       "<AxesSubplot:xlabel='energy', ylabel='liveness'>"
      ]
     },
     "execution_count": 255,
     "metadata": {},
     "output_type": "execute_result"
    },
    {
     "data": {
      "image/png": "[encoded data removed]",
      "text/plain": [
       "<Figure size 432x288 with 1 Axes>"
      ]
     },
     "metadata": {
      "needs_background": "light"
     },
     "output_type": "display_data"
    }
   ],
   "source": [
    "import seaborn as sns\n",
    "\n",
    "sns.scatterplot(data=all_df_4_copy, x=\"energy\", y=\"liveness\",hue='cluster')"
   ]
  },
  {
   "cell_type": "markdown",
   "id": "5910583f",
   "metadata": {},
   "source": [
    "### 3-D plotting with plotly "
   ]
  },
  {
   "cell_type": "code",
   "execution_count": 256,
   "id": "7dde9085",
   "metadata": {},
   "outputs": [],
   "source": [
    "markersize= all_df_4_copy['tempo']\n",
    "markercolour= all_df_4_copy['cluster']\n",
    "\n",
    "fig1=go.Scatter3d(x=all_df_4_copy['danceability'],\n",
    "                  y=all_df_4_copy['energy'],\n",
    "                  z=all_df_4_copy['acousticness'],\n",
    "                 marker=dict (size=markersize,\n",
    "                              color=markercolour,\n",
    "                              opacity=0.9,\n",
    "                              colorscale='Blues'),\n",
    "                 line=dict (width=0.2),\n",
    "                 mode='markers')\n",
    "#make layout \n",
    "mylayout=go.Layout(scene=dict(xaxis=dict(title=\"danceability\"),\n",
    "                              yaxis=dict(title='energy'),\n",
    "                              zaxis=dict(title='acousticness')))"
   ]
  },
  {
   "cell_type": "code",
   "execution_count": 257,
   "id": "d3377cad",
   "metadata": {},
   "outputs": [
    {
     "data": {
      "text/plain": [
       "'5Dplot.html'"
      ]
     },
     "execution_count": 257,
     "metadata": {},
     "output_type": "execute_result"
    }
   ],
   "source": [
    "plotly.offline.plot({\"data\":[fig1],\n",
    "                    \"layout\":mylayout},\n",
    "                   auto_open=True,\n",
    "                   filename=(\"5Dplot.html\"))"
   ]
  },
  {
   "cell_type": "markdown",
   "id": "8dddc5ff",
   "metadata": {},
   "source": [
    "# FINAL DF (cluster and features)"
   ]
  },
  {
   "cell_type": "code",
   "execution_count": 258,
   "id": "04cbb14b",
   "metadata": {},
   "outputs": [
    {
     "data": {
      "text/html": [
       "<div>\n",
       "<style scoped>\n",
       "    .dataframe tbody tr th:only-of-type {\n",
       "        vertical-align: middle;\n",
       "    }\n",
       "\n",
       "    .dataframe tbody tr th {\n",
       "        vertical-align: top;\n",
       "    }\n",
       "\n",
       "    .dataframe thead th {\n",
       "        text-align: right;\n",
       "    }\n",
       "</style>\n",
       "<table border=\"1\" class=\"dataframe\">\n",
       "  <thead>\n",
       "    <tr style=\"text-align: right;\">\n",
       "      <th></th>\n",
       "      <th>danceability</th>\n",
       "      <th>energy</th>\n",
       "      <th>key</th>\n",
       "      <th>loudness</th>\n",
       "      <th>mode</th>\n",
       "      <th>speechiness</th>\n",
       "      <th>acousticness</th>\n",
       "      <th>instrumentalness</th>\n",
       "      <th>liveness</th>\n",
       "      <th>valence</th>\n",
       "      <th>tempo</th>\n",
       "      <th>duration_ms</th>\n",
       "      <th>time_signature</th>\n",
       "      <th>cluster</th>\n",
       "    </tr>\n",
       "  </thead>\n",
       "  <tbody>\n",
       "    <tr>\n",
       "      <th>0</th>\n",
       "      <td>0.714</td>\n",
       "      <td>0.800</td>\n",
       "      <td>11</td>\n",
       "      <td>-4.808</td>\n",
       "      <td>0</td>\n",
       "      <td>0.0504</td>\n",
       "      <td>0.127000</td>\n",
       "      <td>0.000000</td>\n",
       "      <td>0.3590</td>\n",
       "      <td>0.5890</td>\n",
       "      <td>134.002</td>\n",
       "      <td>211560</td>\n",
       "      <td>4</td>\n",
       "      <td>1</td>\n",
       "    </tr>\n",
       "    <tr>\n",
       "      <th>1</th>\n",
       "      <td>0.640</td>\n",
       "      <td>0.755</td>\n",
       "      <td>1</td>\n",
       "      <td>-4.077</td>\n",
       "      <td>0</td>\n",
       "      <td>0.0287</td>\n",
       "      <td>0.013800</td>\n",
       "      <td>0.020800</td>\n",
       "      <td>0.1200</td>\n",
       "      <td>0.7440</td>\n",
       "      <td>116.883</td>\n",
       "      <td>216319</td>\n",
       "      <td>4</td>\n",
       "      <td>1</td>\n",
       "    </tr>\n",
       "    <tr>\n",
       "      <th>2</th>\n",
       "      <td>0.355</td>\n",
       "      <td>0.918</td>\n",
       "      <td>1</td>\n",
       "      <td>-4.360</td>\n",
       "      <td>1</td>\n",
       "      <td>0.0746</td>\n",
       "      <td>0.001190</td>\n",
       "      <td>0.000000</td>\n",
       "      <td>0.0971</td>\n",
       "      <td>0.2400</td>\n",
       "      <td>148.114</td>\n",
       "      <td>222200</td>\n",
       "      <td>4</td>\n",
       "      <td>1</td>\n",
       "    </tr>\n",
       "    <tr>\n",
       "      <th>3</th>\n",
       "      <td>0.462</td>\n",
       "      <td>0.836</td>\n",
       "      <td>11</td>\n",
       "      <td>-5.766</td>\n",
       "      <td>0</td>\n",
       "      <td>0.0621</td>\n",
       "      <td>0.005170</td>\n",
       "      <td>0.000000</td>\n",
       "      <td>0.1800</td>\n",
       "      <td>0.6710</td>\n",
       "      <td>168.766</td>\n",
       "      <td>155973</td>\n",
       "      <td>4</td>\n",
       "      <td>25</td>\n",
       "    </tr>\n",
       "    <tr>\n",
       "      <th>4</th>\n",
       "      <td>0.808</td>\n",
       "      <td>0.381</td>\n",
       "      <td>1</td>\n",
       "      <td>-9.758</td>\n",
       "      <td>1</td>\n",
       "      <td>0.0584</td>\n",
       "      <td>0.344000</td>\n",
       "      <td>0.000003</td>\n",
       "      <td>0.1120</td>\n",
       "      <td>0.6870</td>\n",
       "      <td>102.052</td>\n",
       "      <td>174118</td>\n",
       "      <td>4</td>\n",
       "      <td>14</td>\n",
       "    </tr>\n",
       "    <tr>\n",
       "      <th>...</th>\n",
       "      <td>...</td>\n",
       "      <td>...</td>\n",
       "      <td>...</td>\n",
       "      <td>...</td>\n",
       "      <td>...</td>\n",
       "      <td>...</td>\n",
       "      <td>...</td>\n",
       "      <td>...</td>\n",
       "      <td>...</td>\n",
       "      <td>...</td>\n",
       "      <td>...</td>\n",
       "      <td>...</td>\n",
       "      <td>...</td>\n",
       "      <td>...</td>\n",
       "    </tr>\n",
       "    <tr>\n",
       "      <th>13745</th>\n",
       "      <td>0.615</td>\n",
       "      <td>0.476</td>\n",
       "      <td>2</td>\n",
       "      <td>-12.205</td>\n",
       "      <td>0</td>\n",
       "      <td>0.0337</td>\n",
       "      <td>0.161000</td>\n",
       "      <td>0.033400</td>\n",
       "      <td>0.0946</td>\n",
       "      <td>0.6110</td>\n",
       "      <td>91.584</td>\n",
       "      <td>194227</td>\n",
       "      <td>4</td>\n",
       "      <td>7</td>\n",
       "    </tr>\n",
       "    <tr>\n",
       "      <th>13746</th>\n",
       "      <td>0.562</td>\n",
       "      <td>0.931</td>\n",
       "      <td>9</td>\n",
       "      <td>-4.809</td>\n",
       "      <td>1</td>\n",
       "      <td>0.0469</td>\n",
       "      <td>0.085900</td>\n",
       "      <td>0.000002</td>\n",
       "      <td>0.2690</td>\n",
       "      <td>0.5370</td>\n",
       "      <td>165.080</td>\n",
       "      <td>212880</td>\n",
       "      <td>4</td>\n",
       "      <td>1</td>\n",
       "    </tr>\n",
       "    <tr>\n",
       "      <th>13747</th>\n",
       "      <td>0.620</td>\n",
       "      <td>0.919</td>\n",
       "      <td>0</td>\n",
       "      <td>-4.475</td>\n",
       "      <td>1</td>\n",
       "      <td>0.3570</td>\n",
       "      <td>0.039700</td>\n",
       "      <td>0.000000</td>\n",
       "      <td>0.8510</td>\n",
       "      <td>0.5070</td>\n",
       "      <td>172.021</td>\n",
       "      <td>179773</td>\n",
       "      <td>4</td>\n",
       "      <td>14</td>\n",
       "    </tr>\n",
       "    <tr>\n",
       "      <th>13748</th>\n",
       "      <td>0.488</td>\n",
       "      <td>0.615</td>\n",
       "      <td>9</td>\n",
       "      <td>-4.377</td>\n",
       "      <td>1</td>\n",
       "      <td>0.0295</td>\n",
       "      <td>0.034000</td>\n",
       "      <td>0.000000</td>\n",
       "      <td>0.2080</td>\n",
       "      <td>0.6860</td>\n",
       "      <td>130.050</td>\n",
       "      <td>241320</td>\n",
       "      <td>4</td>\n",
       "      <td>8</td>\n",
       "    </tr>\n",
       "    <tr>\n",
       "      <th>13749</th>\n",
       "      <td>0.300</td>\n",
       "      <td>0.564</td>\n",
       "      <td>10</td>\n",
       "      <td>-10.163</td>\n",
       "      <td>0</td>\n",
       "      <td>0.0341</td>\n",
       "      <td>0.000906</td>\n",
       "      <td>0.811000</td>\n",
       "      <td>0.0924</td>\n",
       "      <td>0.0405</td>\n",
       "      <td>177.936</td>\n",
       "      <td>315987</td>\n",
       "      <td>4</td>\n",
       "      <td>22</td>\n",
       "    </tr>\n",
       "  </tbody>\n",
       "</table>\n",
       "<p>13750 rows × 14 columns</p>\n",
       "</div>"
      ],
      "text/plain": [
       "       danceability  energy  key  loudness  mode  speechiness  acousticness  \\\n",
       "0             0.714   0.800   11    -4.808     0       0.0504      0.127000   \n",
       "1             0.640   0.755    1    -4.077     0       0.0287      0.013800   \n",
       "2             0.355   0.918    1    -4.360     1       0.0746      0.001190   \n",
       "3             0.462   0.836   11    -5.766     0       0.0621      0.005170   \n",
       "4             0.808   0.381    1    -9.758     1       0.0584      0.344000   \n",
       "...             ...     ...  ...       ...   ...          ...           ...   \n",
       "13745         0.615   0.476    2   -12.205     0       0.0337      0.161000   \n",
       "13746         0.562   0.931    9    -4.809     1       0.0469      0.085900   \n",
       "13747         0.620   0.919    0    -4.475     1       0.3570      0.039700   \n",
       "13748         0.488   0.615    9    -4.377     1       0.0295      0.034000   \n",
       "13749         0.300   0.564   10   -10.163     0       0.0341      0.000906   \n",
       "\n",
       "       instrumentalness  liveness  valence    tempo  duration_ms  \\\n",
       "0              0.000000    0.3590   0.5890  134.002       211560   \n",
       "1              0.020800    0.1200   0.7440  116.883       216319   \n",
       "2              0.000000    0.0971   0.2400  148.114       222200   \n",
       "3              0.000000    0.1800   0.6710  168.766       155973   \n",
       "4              0.000003    0.1120   0.6870  102.052       174118   \n",
       "...                 ...       ...      ...      ...          ...   \n",
       "13745          0.033400    0.0946   0.6110   91.584       194227   \n",
       "13746          0.000002    0.2690   0.5370  165.080       212880   \n",
       "13747          0.000000    0.8510   0.5070  172.021       179773   \n",
       "13748          0.000000    0.2080   0.6860  130.050       241320   \n",
       "13749          0.811000    0.0924   0.0405  177.936       315987   \n",
       "\n",
       "       time_signature  cluster  \n",
       "0                   4        1  \n",
       "1                   4        1  \n",
       "2                   4        1  \n",
       "3                   4       25  \n",
       "4                   4       14  \n",
       "...               ...      ...  \n",
       "13745               4        7  \n",
       "13746               4        1  \n",
       "13747               4       14  \n",
       "13748               4        8  \n",
       "13749               4       22  \n",
       "\n",
       "[13750 rows x 14 columns]"
      ]
     },
     "execution_count": 258,
     "metadata": {},
     "output_type": "execute_result"
    }
   ],
   "source": [
    "all_df_4_copy"
   ]
  },
  {
   "cell_type": "code",
   "execution_count": 259,
   "id": "6f50a664",
   "metadata": {},
   "outputs": [],
   "source": [
    "cluster_column = all_df_4_copy['cluster'].to_list()\n",
    "song_name = big_df['song_name'].to_list()\n",
    "song_artist = big_df['song_artist'].to_list()\n",
    "songid_column = big_df['song_ID'].to_list()\n",
    "Genre_column = big_df['Genre'].to_list()\n",
    "\n",
    "final_df=pd.DataFrame({'song_name':song_name, 'song_ID':songid_column, \n",
    "                       'song_artist':song_artist, 'Genre':Genre_column, 'cluster':cluster_column})\n",
    "\n"
   ]
  },
  {
   "cell_type": "code",
   "execution_count": 260,
   "id": "32f1781b",
   "metadata": {
    "scrolled": true
   },
   "outputs": [
    {
     "data": {
      "text/html": [
       "<div>\n",
       "<style scoped>\n",
       "    .dataframe tbody tr th:only-of-type {\n",
       "        vertical-align: middle;\n",
       "    }\n",
       "\n",
       "    .dataframe tbody tr th {\n",
       "        vertical-align: top;\n",
       "    }\n",
       "\n",
       "    .dataframe thead th {\n",
       "        text-align: right;\n",
       "    }\n",
       "</style>\n",
       "<table border=\"1\" class=\"dataframe\">\n",
       "  <thead>\n",
       "    <tr style=\"text-align: right;\">\n",
       "      <th></th>\n",
       "      <th>song_name</th>\n",
       "      <th>song_ID</th>\n",
       "      <th>song_artist</th>\n",
       "      <th>Genre</th>\n",
       "      <th>cluster</th>\n",
       "    </tr>\n",
       "  </thead>\n",
       "  <tbody>\n",
       "    <tr>\n",
       "      <th>0</th>\n",
       "      <td>Beggin'</td>\n",
       "      <td>3Wrjm47oTz2sjIgck11l5e</td>\n",
       "      <td>Måneskin</td>\n",
       "      <td>Indie</td>\n",
       "      <td>1</td>\n",
       "    </tr>\n",
       "    <tr>\n",
       "      <th>1</th>\n",
       "      <td>The Less I Know The Better</td>\n",
       "      <td>4g3Ax56IslQkI6XVfYKVc5</td>\n",
       "      <td>Tame Impala</td>\n",
       "      <td>Indie</td>\n",
       "      <td>1</td>\n",
       "    </tr>\n",
       "    <tr>\n",
       "      <th>2</th>\n",
       "      <td>Mr. Brightside</td>\n",
       "      <td>3n3Ppam7vgaVa1iaRUc9Lp</td>\n",
       "      <td>The Killers</td>\n",
       "      <td>Indie</td>\n",
       "      <td>1</td>\n",
       "    </tr>\n",
       "    <tr>\n",
       "      <th>3</th>\n",
       "      <td>Boys Don't Cry</td>\n",
       "      <td>1QFh8OH1e78dGd3VyJZCAC</td>\n",
       "      <td>The Cure</td>\n",
       "      <td>Indie</td>\n",
       "      <td>25</td>\n",
       "    </tr>\n",
       "    <tr>\n",
       "      <th>4</th>\n",
       "      <td>wake me up</td>\n",
       "      <td>1H6A86dQ7BMdbxofxpQvcK</td>\n",
       "      <td>Ruby</td>\n",
       "      <td>Indie</td>\n",
       "      <td>14</td>\n",
       "    </tr>\n",
       "    <tr>\n",
       "      <th>...</th>\n",
       "      <td>...</td>\n",
       "      <td>...</td>\n",
       "      <td>...</td>\n",
       "      <td>...</td>\n",
       "      <td>...</td>\n",
       "    </tr>\n",
       "    <tr>\n",
       "      <th>13745</th>\n",
       "      <td>Summer Skin</td>\n",
       "      <td>5vFKQF10Jhyysg3JUbfBUd</td>\n",
       "      <td>Death Cab for Cutie</td>\n",
       "      <td>Other</td>\n",
       "      <td>7</td>\n",
       "    </tr>\n",
       "    <tr>\n",
       "      <th>13746</th>\n",
       "      <td>Take on Me</td>\n",
       "      <td>6IVJFZI4fejlJ9XTa3CG5G</td>\n",
       "      <td>A1</td>\n",
       "      <td>Other</td>\n",
       "      <td>1</td>\n",
       "    </tr>\n",
       "    <tr>\n",
       "      <th>13747</th>\n",
       "      <td>Shiver</td>\n",
       "      <td>0Yb0L5qlyMDyAZor9d57iS</td>\n",
       "      <td>Maroon 5</td>\n",
       "      <td>Other</td>\n",
       "      <td>14</td>\n",
       "    </tr>\n",
       "    <tr>\n",
       "      <th>13748</th>\n",
       "      <td>Matkustaja</td>\n",
       "      <td>5esJb63Nbi1LeG0v4NyKTt</td>\n",
       "      <td>Egotrippi</td>\n",
       "      <td>Other</td>\n",
       "      <td>8</td>\n",
       "    </tr>\n",
       "    <tr>\n",
       "      <th>13749</th>\n",
       "      <td>Special Needs</td>\n",
       "      <td>63Cg39cB5xAmjObaKPAd9z</td>\n",
       "      <td>Placebo</td>\n",
       "      <td>Other</td>\n",
       "      <td>22</td>\n",
       "    </tr>\n",
       "  </tbody>\n",
       "</table>\n",
       "<p>13750 rows × 5 columns</p>\n",
       "</div>"
      ],
      "text/plain": [
       "                        song_name                 song_ID  \\\n",
       "0                         Beggin'  3Wrjm47oTz2sjIgck11l5e   \n",
       "1      The Less I Know The Better  4g3Ax56IslQkI6XVfYKVc5   \n",
       "2                  Mr. Brightside  3n3Ppam7vgaVa1iaRUc9Lp   \n",
       "3                  Boys Don't Cry  1QFh8OH1e78dGd3VyJZCAC   \n",
       "4                      wake me up  1H6A86dQ7BMdbxofxpQvcK   \n",
       "...                           ...                     ...   \n",
       "13745                 Summer Skin  5vFKQF10Jhyysg3JUbfBUd   \n",
       "13746                  Take on Me  6IVJFZI4fejlJ9XTa3CG5G   \n",
       "13747                      Shiver  0Yb0L5qlyMDyAZor9d57iS   \n",
       "13748                  Matkustaja  5esJb63Nbi1LeG0v4NyKTt   \n",
       "13749               Special Needs  63Cg39cB5xAmjObaKPAd9z   \n",
       "\n",
       "               song_artist  Genre  cluster  \n",
       "0                 Måneskin  Indie        1  \n",
       "1              Tame Impala  Indie        1  \n",
       "2              The Killers  Indie        1  \n",
       "3                 The Cure  Indie       25  \n",
       "4                     Ruby  Indie       14  \n",
       "...                    ...    ...      ...  \n",
       "13745  Death Cab for Cutie  Other        7  \n",
       "13746                   A1  Other        1  \n",
       "13747             Maroon 5  Other       14  \n",
       "13748            Egotrippi  Other        8  \n",
       "13749              Placebo  Other       22  \n",
       "\n",
       "[13750 rows x 5 columns]"
      ]
     },
     "execution_count": 260,
     "metadata": {},
     "output_type": "execute_result"
    }
   ],
   "source": [
    "final_df"
   ]
  },
  {
   "cell_type": "markdown",
   "id": "78dab6ab",
   "metadata": {},
   "source": [
    "# TESTING THE PRODUCT"
   ]
  },
  {
   "cell_type": "markdown",
   "id": "6914437f",
   "metadata": {},
   "source": [
    "## Testing if the song is on top100 hot playlist"
   ]
  },
  {
   "cell_type": "code",
   "execution_count": 261,
   "id": "ffec653f",
   "metadata": {},
   "outputs": [
    {
     "name": "stdout",
     "output_type": "stream",
     "text": [
      "Give us a song name to get a recommendation!: stay\n",
      "Do you mean Stay by The Kid LAROI & Justin Bieber?yes\n",
      "Nice! This is a hot song! You might also like Knowing You by Kenny Chesney\n"
     ]
    }
   ],
   "source": [
    "song= input(\"Give us a song name to get a recommendation!: \")\n",
    "\n",
    "check = songs_top100[songs_top100['Title'].str.lower().str.replace(\" \",\" \").str.contains(song)]\n",
    "index = check.index.tolist()\n",
    "\n",
    "if len(index) == 0:\n",
    "    print(\"This song is not on the Top 100 hot playlist! \")\n",
    "    \n",
    "else:\n",
    "    answer = input(\"Do you mean \" + songs_top100.Title[index].values[0] + \" by \" + songs_top100.Artist[index].values[0] + \"?\")\n",
    "\n",
    "    if answer.lower() == 'yes':\n",
    "        suggestion = songs_top100.sample().index.tolist()\n",
    "        print(\"Nice! This is a hot song! You might also like \" + songs_top100['Title'][suggestion].item() + \" by \" + songs_top100['Artist'][suggestion].item())\n",
    "\n",
    "    else:\n",
    "        print(\"that song is not in the playlist, try another song!\")\n",
    "        \n",
    "        "
   ]
  },
  {
   "cell_type": "markdown",
   "id": "38a0b9f0",
   "metadata": {},
   "source": [
    "## Testing if the song is in Spotify (if it's not on the top100 hot playlist)"
   ]
  },
  {
   "cell_type": "code",
   "execution_count": 287,
   "id": "bf978564",
   "metadata": {
    "scrolled": true
   },
   "outputs": [
    {
     "name": "stdout",
     "output_type": "stream",
     "text": [
      "Give us a song name to get a recommendation!: amarillo\n",
      "This song is not on the Top 100 hot playlist! Let me check on Spotify \n",
      "The song you want is Amarillo'by'J Balvin? (Yes/No)yes\n",
      "Nice! You might also like: Busted'by'The Black Keys\n"
     ]
    },
    {
     "data": {
      "text/html": [
       "\n",
       "        <iframe\n",
       "            width=\"320\"\n",
       "            height=\"80\"\n",
       "            src=\"https://open.spotify.com/embed/track/6vYJgpJnTPCxSroWp9RTNj?allow=encreypted-media\"\n",
       "            frameborder=\"0\"\n",
       "            allowfullscreen\n",
       "        ></iframe>\n",
       "        "
      ],
      "text/plain": [
       "<IPython.lib.display.IFrame at 0x7fc949900af0>"
      ]
     },
     "metadata": {},
     "output_type": "display_data"
    }
   ],
   "source": [
    "song= input(\"Give us a song name to get a recommendation!: \")\n",
    "\n",
    "check = songs_top100[songs_top100['Title'].str.lower().str.replace(\" \",\" \").str.contains(song)]\n",
    "index = check.index.tolist()\n",
    "\n",
    "# checking if its on top100 \n",
    "\n",
    "if len(index) == 0:\n",
    "    print(\"This song is not on the Top 100 hot playlist! Let me check on Spotify \")\n",
    "    \n",
    "# if its on the top100\n",
    "\n",
    "else:\n",
    "    suggestion = songs_top100.sample().index.tolist()\n",
    "    print(\"Nice! This is a hot song! You might also like \" + songs_top100['Title'][suggestion].item() + \n",
    "          \" by \" + songs_top100['Artist'][suggestion].item())    \n",
    "\n",
    "# if its not on top100 go to Spotify \n",
    "\n",
    "check_1 = final_df[final_df['song_name'].str.lower().str.replace(\" \",\" \").str.contains(song)]\n",
    "index_1 = check_1.index.tolist()\n",
    "\n",
    "# suggest another song of spotify\n",
    "\n",
    "if len(index_1) == 0:\n",
    "    print(\"Dont know that song, try another one!\")\n",
    "    \n",
    "else:\n",
    "    answer = input(\"The song you want is \"+final_df.song_name[index_1].values[0] +\"'by'\"+ final_df.song_artist[index_1].values[0]+\"? (Yes/No)\")\n",
    "    \n",
    "    if answer.lower() == 'yes':\n",
    "        song_cluster = final_df.cluster[index_1].values[0]\n",
    "        suggestion = final_df[final_df['cluster'] == song_cluster].sample().index.tolist()\n",
    "        print('Nice! You might also like: '+ final_df['song_name']\n",
    "              [suggestion].item()+ \"'by'\"+ final_df['song_artist'][suggestion].item()) \n",
    "        \n",
    "        song_id = str((final_df.loc[final_df.song_name == final_df['song_name'][suggestion].item(), \n",
    "                                    'song_ID'].values[0]))\n",
    "        display(IFrame(src=f\"https://open.spotify.com/embed/track/{song_id}\",\n",
    "                      width = '320', height = '80',allow = 'encreypted-media'))\n",
    "    else:\n",
    "        print('Dont know that song, try another one!')\n"
   ]
  },
  {
   "cell_type": "markdown",
   "id": "53f637f2",
   "metadata": {},
   "source": [
    "### Playing a song from Spotify"
   ]
  },
  {
   "cell_type": "code",
   "execution_count": 263,
   "id": "bb3a19d3",
   "metadata": {},
   "outputs": [],
   "source": [
    "from IPython.core.display import display\n",
    "from IPython.display import IFrame\n",
    "\n",
    "def recommend(song_id):\n",
    "    display(IFrame(src=f\"https://open.spotify.com/embed/track/{song_id}\",\n",
    "               width=\"320\",\n",
    "               height=\"80\",\n",
    "               frameborder=\"0\",\n",
    "               allowtransparency=\"true\",\n",
    "               allow=\"encrypted-media\",\n",
    "            ))"
   ]
  },
  {
   "cell_type": "code",
   "execution_count": 264,
   "id": "b8579030",
   "metadata": {
    "scrolled": true
   },
   "outputs": [
    {
     "data": {
      "text/html": [
       "\n",
       "        <iframe\n",
       "            width=\"320\"\n",
       "            height=\"80\"\n",
       "            src=\"https://open.spotify.com/embed/track/6IVJFZI4fejlJ9XTa3CG5G?frameborder=0&allowtransparency=true&allow=encrypted-media\"\n",
       "            frameborder=\"0\"\n",
       "            allowfullscreen\n",
       "        ></iframe>\n",
       "        "
      ],
      "text/plain": [
       "<IPython.lib.display.IFrame at 0x7fc94c2199d0>"
      ]
     },
     "execution_count": 264,
     "metadata": {},
     "output_type": "execute_result"
    }
   ],
   "source": [
    "song_id= '6IVJFZI4fejlJ9XTa3CG5G'\n",
    "IFrame(src=f\"https://open.spotify.com/embed/track/{song_id}\",\n",
    "               width=\"320\",\n",
    "               height=\"80\",\n",
    "               frameborder=\"0\",\n",
    "               allowtransparency=\"true\",\n",
    "               allow=\"encrypted-media\",\n",
    "        )"
   ]
  },
  {
   "cell_type": "markdown",
   "id": "121f5db8",
   "metadata": {},
   "source": [
    "### Verify if value is in the df and cluster"
   ]
  },
  {
   "cell_type": "code",
   "execution_count": 265,
   "id": "96c8cea2",
   "metadata": {},
   "outputs": [
    {
     "data": {
      "text/html": [
       "<div>\n",
       "<style scoped>\n",
       "    .dataframe tbody tr th:only-of-type {\n",
       "        vertical-align: middle;\n",
       "    }\n",
       "\n",
       "    .dataframe tbody tr th {\n",
       "        vertical-align: top;\n",
       "    }\n",
       "\n",
       "    .dataframe thead th {\n",
       "        text-align: right;\n",
       "    }\n",
       "</style>\n",
       "<table border=\"1\" class=\"dataframe\">\n",
       "  <thead>\n",
       "    <tr style=\"text-align: right;\">\n",
       "      <th></th>\n",
       "      <th>song_name</th>\n",
       "      <th>song_ID</th>\n",
       "      <th>song_artist</th>\n",
       "      <th>Genre</th>\n",
       "      <th>cluster</th>\n",
       "    </tr>\n",
       "  </thead>\n",
       "  <tbody>\n",
       "  </tbody>\n",
       "</table>\n",
       "</div>"
      ],
      "text/plain": [
       "Empty DataFrame\n",
       "Columns: [song_name, song_ID, song_artist, Genre, cluster]\n",
       "Index: []"
      ]
     },
     "execution_count": 265,
     "metadata": {},
     "output_type": "execute_result"
    }
   ],
   "source": [
    "final_df.loc[final_df['song_name'] == \"The beach\"]"
   ]
  },
  {
   "cell_type": "code",
   "execution_count": 266,
   "id": "fb7e9f02",
   "metadata": {},
   "outputs": [
    {
     "data": {
      "text/html": [
       "<div>\n",
       "<style scoped>\n",
       "    .dataframe tbody tr th:only-of-type {\n",
       "        vertical-align: middle;\n",
       "    }\n",
       "\n",
       "    .dataframe tbody tr th {\n",
       "        vertical-align: top;\n",
       "    }\n",
       "\n",
       "    .dataframe thead th {\n",
       "        text-align: right;\n",
       "    }\n",
       "</style>\n",
       "<table border=\"1\" class=\"dataframe\">\n",
       "  <thead>\n",
       "    <tr style=\"text-align: right;\">\n",
       "      <th></th>\n",
       "      <th>song_name</th>\n",
       "      <th>song_ID</th>\n",
       "      <th>song_artist</th>\n",
       "      <th>Genre</th>\n",
       "      <th>cluster</th>\n",
       "    </tr>\n",
       "  </thead>\n",
       "  <tbody>\n",
       "    <tr>\n",
       "      <th>345</th>\n",
       "      <td>Don't Say Goodnight</td>\n",
       "      <td>5KpBYmEiClvljtwbjEhIJq</td>\n",
       "      <td>Hot Chelle Rae</td>\n",
       "      <td>Pop</td>\n",
       "      <td>1</td>\n",
       "    </tr>\n",
       "  </tbody>\n",
       "</table>\n",
       "</div>"
      ],
      "text/plain": [
       "               song_name                 song_ID     song_artist Genre  \\\n",
       "345  Don't Say Goodnight  5KpBYmEiClvljtwbjEhIJq  Hot Chelle Rae   Pop   \n",
       "\n",
       "     cluster  \n",
       "345        1  "
      ]
     },
     "execution_count": 266,
     "metadata": {},
     "output_type": "execute_result"
    }
   ],
   "source": [
    "final_df.loc[final_df['song_name'] == \"Don't Say Goodnight\"]"
   ]
  },
  {
   "cell_type": "markdown",
   "id": "d3d520b6",
   "metadata": {},
   "source": [
    "I put into \"Raw NBConvert\" some lines to make the notebook easily to read"
   ]
  }
 ],
 "metadata": {
  "kernelspec": {
   "display_name": "Python 3",
   "language": "python",
   "name": "python3"
  },
  "language_info": {
   "codemirror_mode": {
    "name": "ipython",
    "version": 3
   },
   "file_extension": ".py",
   "mimetype": "text/x-python",
   "name": "python",
   "nbconvert_exporter": "python",
   "pygments_lexer": "ipython3",
   "version": "3.8.8"
  },
  "toc": {
   "base_numbering": 1,
   "nav_menu": {},
   "number_sections": true,
   "sideBar": true,
   "skip_h1_title": false,
   "title_cell": "Table of Contents",
   "title_sidebar": "Contents",
   "toc_cell": false,
   "toc_position": {
    "height": "calc(100% - 180px)",
    "left": "10px",
    "top": "150px",
    "width": "285px"
   },
   "toc_section_display": true,
   "toc_window_display": true
  }
 },
 "nbformat": 4,
 "nbformat_minor": 5
}
